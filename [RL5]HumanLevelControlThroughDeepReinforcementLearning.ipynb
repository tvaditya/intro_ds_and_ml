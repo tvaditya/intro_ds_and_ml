{
  "nbformat": 4,
  "nbformat_minor": 0,
  "metadata": {
    "colab": {
      "provenance": [],
      "authorship_tag": "ABX9TyMjQlkPdm4C1iMWvrvbjiRk",
      "include_colab_link": true
    },
    "kernelspec": {
      "name": "python3",
      "display_name": "Python 3"
    },
    "language_info": {
      "name": "python"
    }
  },
  "cells": [
    {
      "cell_type": "markdown",
      "metadata": {
        "id": "view-in-github",
        "colab_type": "text"
      },
      "source": [
        "<a href=\"https://colab.research.google.com/github/tvaditya/intro_ds_and_ml/blob/main/%5BRL5%5DHumanLevelControlThroughDeepReinforcementLearning.ipynb\" target=\"_parent\"><img src=\"https://colab.research.google.com/assets/colab-badge.svg\" alt=\"Open In Colab\"/></a>"
      ]
    },
    {
      "cell_type": "code",
      "execution_count": null,
      "metadata": {
        "id": "X2JtKUwCMrfK"
      },
      "outputs": [],
      "source": [
        "import gym\n",
        "import numpy as np\n",
        "import torch.nn as nn\n",
        "import torch.nn.functional as F\n",
        "import torch.optim as optim\n",
        "import torch as T"
      ]
    },
    {
      "cell_type": "code",
      "source": [
        "class LinearDeepQNetwork(nn.Module):\n",
        "  def __init__(self, lr, n_actions, input_dims):\n",
        "    super(LinearDeepQNetwork, self).__init__()\n",
        "\n",
        "    self.fc1 = nn.Linear(*input_dims, 128)\n",
        "    self.fc2 = nn.Linear(128, n_actions)\n",
        "\n",
        "    self.optimizer = optim.Adam(self.parameters(), lr=lr)\n",
        "    self.loss = nn.MSELoss()\n",
        "    self.device = T.device('cuda:0' if T.cuda.is_available() else 'cpu')\n",
        "    self.to(self.device)\n",
        "\n",
        "  def forward(self, state):\n",
        "    layer1 = F.relu(self.fc1(state))\n",
        "    actions = self.fc2(layer1)\n",
        "\n",
        "    return actions"
      ],
      "metadata": {
        "id": "v01JgUd5NHqZ"
      },
      "execution_count": null,
      "outputs": []
    },
    {
      "cell_type": "code",
      "source": [
        "# Code the agent class\n",
        "\n",
        "class Agent():\n",
        "  def __init__(self, input_dims, n_actions, lr, gamma=0.99,\n",
        "               epsilon=1.0, eps_dec=1e-5, eps_min=0.01):\n",
        "    \n",
        "    self.lr = lr\n",
        "    self.input_dims = input_dims\n",
        "    self.n_actions = n_actions\n",
        "    self.gamma = gamma\n",
        "    self.eps_dec = eps_dec \n",
        "    self.eps_min = eps_min\n",
        "    self.epsilon = epsilon\n",
        "    self.action_space = [i for i in range(self.n_actions)]\n",
        "\n",
        "    self.Q = LinearDeepQNetwork(self.lr, self.n_actions, self.input_dims)\n",
        "\n",
        "  def choose_action(self, observation):\n",
        "    if np.random.random() > self.epsilon:\n",
        "      state = T.tensor(observation, dtype=T.float).to(self.Q.device)\n",
        "      actions = self.Q.forward(state)\n",
        "      action = T.argmax(actions).item()\n",
        "    else:\n",
        "      action = np.random.choice(self.action_space)\n",
        "\n",
        "    return action\n",
        "\n",
        "  def decrement_epsilon(self):\n",
        "    self.epsilon = self.epsilon - self.eps_dec if self.epsilon > self.eps_min \\\n",
        "                    else self.eps_min\n",
        "\n",
        "  def learn(self, state, action, reward, state_):\n",
        "    self.Q.optimizer.zero_grad()\n",
        "    states = T.tensor(state, dtype=T.float).to(self.Q.device)\n",
        "    actions = T.tensor(action).to(self.Q.device)\n",
        "    rewards = T.tensor(reward).to(self.Q.device)\n",
        "    states_ = T.tensor(state_, dtype=T.float).to(self.Q.device)\n",
        "\n",
        "    q_pred = self.Q.forward(states)[actions]\n",
        "\n",
        "    q_next = self.Q.forward(states_).max()\n",
        "\n",
        "    q_target = reward + self.gamma*q_next\n",
        "\n",
        "    loss = self.Q.loss(q_target, q_pred).to(self.Q.device)\n",
        "    loss.backward()\n",
        "    self.Q.optimizer.step()\n",
        "    self.decrement_epsilon()\n"
      ],
      "metadata": {
        "id": "2MJasl7mPQC9"
      },
      "execution_count": null,
      "outputs": []
    },
    {
      "cell_type": "code",
      "source": [
        "import collections\n",
        "import cv2\n",
        "\n",
        "import numpy as np\n",
        "import matplotlib.pyplot as plt\n",
        "\n",
        "def plot_learning_curve(x, scores, epsilons, filename):\n",
        "  fig = plt.figure()\n",
        "  ax = fig.add_subplot(111, label=\"1\")\n",
        "  ax2 = fig.add_subplot(111, label=\"2\", frame_on=False)\n",
        "\n",
        "  ax.plot(x, epsilons, color=\"C0\")\n",
        "  ax.set_xlabel(\"Training Steps\", color=\"C0\")\n",
        "  ax.set_ylabel(\"Epsilon\", color=\"C0\")\n",
        "  ax.tick_params(axis='x', colors=\"C0\")\n",
        "  ax.tick_params(axis='y', color=\"C0\")\n",
        "\n",
        "  N = len(scores)\n",
        "  running_avg = np.empty(N)\n",
        "  for t in range(N):\n",
        "    running_avg[t] = np.mean(scores[max(0, t-100):(t+1)])\n",
        "\n",
        "  ax2.scatter(x, running_avg, color=\"C1\")\n",
        "  ax2.axes.get_xaxis().set_visible(False)\n",
        "  ax2.yaxis.tick_right()\n",
        "  ax2.set_ylabel('Score', color='C1')\n",
        "  ax2.yaxis.set_label_position('right')\n",
        "  ax2.tick_params(axis='y', color=\"C1\")\n",
        "\n",
        "  plt.savefig(filename)\n",
        "\n",
        "class RepeatActionAndMaxFrame(gym.Wrapper):\n",
        "  def __init__(self, env=None, repeat=4):\n",
        "    super(RepeatActionAndMaxFrame, self).__init__(env)\n",
        "    self.repeat = repeat\n",
        "    self.shape = env.observation_space.low.shape\n",
        "    self.frame_buffer = np.zeros_like((2, self.shape))\n",
        "\n",
        "  def step(self, action):\n",
        "    t_reward = 0.0\n",
        "    done = False\n",
        "    for i in range(self.repeat):\n",
        "      obs, reward, done, info = self.env.step(action)\n",
        "      t_reward += reward\n",
        "      idx = i%2\n",
        "      self.frame_buffer[idx] = obs\n",
        "      if done:\n",
        "        break\n",
        "\n",
        "    max_frame = np.maximum(self.frame_buffer[0], self.frame_buffer[1])\n",
        "    return max_frame, t_reward, done, info\n",
        "\n",
        "  def reset(self):\n",
        "    obs = self.env.reset()\n",
        "    self.frame_buffer = np.zeros_like((2, self.shape))\n",
        "    self.frame_buffer[0] = obs\n",
        "\n",
        "    return obs  \n",
        "\n",
        "  "
      ],
      "metadata": {
        "id": "Kj7qOgytiUCb"
      },
      "execution_count": null,
      "outputs": []
    },
    {
      "cell_type": "code",
      "source": [
        "class PreprocessFrame(gym.ObservationWrapper):\n",
        "  def __init__(self, shape, env=None):\n",
        "    super(PreprocessFrame, self).__init__(env)\n",
        "    self.shape = (shape[2], shape[0], shape[1])\n",
        "    self.observation_space = gym.spaces.Box(low=0.0, high=1.0,\n",
        "                                            shape=self.shape, dtype=np.float32)\n",
        "    \n",
        "  def observation(self, obs):\n",
        "    new_frame = cv2.cvtColor(obs, cv2.COLOR_RGB2GRAY)\n",
        "    resized_screen = cv2.resize(new_frame, self.shape[1:],\n",
        "                                interpolation=cv2.INTER_AREA)\n",
        "    new_obs = np.array(resized_screen, dtype=np.uint8).reshape(self.shape)\n",
        "    new_obs = new_obs / 255.0\n",
        "\n",
        "    return new_obs"
      ],
      "metadata": {
        "id": "vtcBjc0JbgpN"
      },
      "execution_count": null,
      "outputs": []
    },
    {
      "cell_type": "code",
      "source": [
        "class StackFrames(gym.ObservationWrapper):\n",
        "  def __init__(self, env, repeat):\n",
        "    super(StackFrames, self).__init__(env)\n",
        "    self.observation_space = gym.spaces.Box(\n",
        "        env.observation_space.low.repeat(repeat, axis=0),\n",
        "        env.observation_space.high.repeat(repeat, axis=0),\n",
        "        dtype=np.float32\n",
        "    )\n",
        "    self.stack = collections.deque(maxlen=repeat)\n",
        "\n",
        "  def reset(self):\n",
        "    self.stack.clear()\n",
        "    observation = self.env.reset()\n",
        "    for _ in range(self.stack.maxlen):\n",
        "      self.stack.append(observation)\n",
        "\n",
        "    return np.array(self.stack).reshape(self.observation_space.low.shape)\n",
        "\n",
        "  def observation(self, observation):\n",
        "      self.stack.append(observation)\n",
        "\n",
        "      return np.array(self.stack).reshape(self.observation_space.low.shape)"
      ],
      "metadata": {
        "id": "3j4SwEj8xvvj"
      },
      "execution_count": null,
      "outputs": []
    },
    {
      "cell_type": "code",
      "source": [
        "# # initialize our main loop\n",
        "\n",
        "# if __name__ == '__main__':\n",
        "#   env = gym.make('CartPole-v1')\n",
        "#   n_games = 10000\n",
        "#   scores = []\n",
        "#   eps_history = []\n",
        "\n",
        "#   agent = Agent(input_dims=env.observation_space.shape,\n",
        "#                 n_actions=env.action_space.n, lr=0.0001)\n",
        "  \n",
        "#   for i in range(n_games):\n",
        "#     score = 0\n",
        "#     done = False\n",
        "#     obs = env.reset()\n",
        "\n",
        "#     while not done:\n",
        "#       action = agent.choose_action(obs)\n",
        "#       obs_, reward, done, info = env.step(action)\n",
        "#       score += reward\n",
        "#       agent.learn(obs, action, reward, obs_)\n",
        "#       obs = obs_\n",
        "#     scores.append(score)\n",
        "#     eps_history.append(agent.epsilon)\n",
        "\n",
        "#     if i%100 == 0:\n",
        "#       avg_score = np.mean(scores[-100:])\n",
        "#       print('episode ', i, 'score %.1f avg score %.1f epsilon %.2f' % (score, avg_score, agent.epsilon))\n",
        "  \n",
        "#   filename = 'cartpole_naive_dqn.png'\n",
        "#   x = [i+1 for i in range(n_games)]\n",
        "#   plot_learning_curve(x, scores, eps_history, filename)\n",
        "\n",
        "    "
      ],
      "metadata": {
        "id": "ak4XqHJVakxo"
      },
      "execution_count": null,
      "outputs": []
    },
    {
      "cell_type": "code",
      "source": [],
      "metadata": {
        "id": "OHjpganaelmW"
      },
      "execution_count": null,
      "outputs": []
    }
  ]
}