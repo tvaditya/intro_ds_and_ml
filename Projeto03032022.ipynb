{
  "nbformat": 4,
  "nbformat_minor": 0,
  "metadata": {
    "colab": {
      "name": "Projeto03032022.ipynb",
      "provenance": [],
      "collapsed_sections": [],
      "authorship_tag": "ABX9TyMuK6zU2Y60FxM3srCUAK+h",
      "include_colab_link": true
    },
    "kernelspec": {
      "name": "python3",
      "display_name": "Python 3"
    },
    "language_info": {
      "name": "python"
    }
  },
  "cells": [
    {
      "cell_type": "markdown",
      "metadata": {
        "id": "view-in-github",
        "colab_type": "text"
      },
      "source": [
        "<a href=\"https://colab.research.google.com/github/tvaditya/intro_ds_and_ml/blob/main/Projeto03032022.ipynb\" target=\"_parent\"><img src=\"https://colab.research.google.com/assets/colab-badge.svg\" alt=\"Open In Colab\"/></a>"
      ]
    },
    {
      "cell_type": "code",
      "execution_count": 2,
      "metadata": {
        "id": "s5nB0PJAFJ1Q"
      },
      "outputs": [],
      "source": [
        "# Resolver um problema de classificação"
      ]
    },
    {
      "cell_type": "code",
      "source": [
        "# Primeiro usar o pycaret para gerar o modelo base ( Auto ML)"
      ],
      "metadata": {
        "id": "-zGk4qF1FOxM"
      },
      "execution_count": 3,
      "outputs": []
    },
    {
      "cell_type": "code",
      "source": [
        "# Feito isso, tentar melhorar o modelo base usando os algoritmos que vcs ja conhecem ( XGBoost(obrigatorio), CatBoost, SVM, LightGBM),\n",
        "# alem do algoritmo de baseline dado pelo Pycaret"
      ],
      "metadata": {
        "id": "xpizLAcUFVRj"
      },
      "execution_count": 4,
      "outputs": []
    },
    {
      "cell_type": "code",
      "source": [
        "# Escolham 3 algoritmos , entenda os hiperparametros , o crie o gridsearch em cima deles."
      ],
      "metadata": {
        "id": "kzS74e86FpFU"
      },
      "execution_count": 5,
      "outputs": []
    },
    {
      "cell_type": "code",
      "source": [
        "# Usem dois notebooks, um vai estar sendo compartilhado ( lemebrem-se de por uma random seed, nos dados)\n",
        "# alem do algoritmo de baseline dado pelo Pycaret"
      ],
      "metadata": {
        "id": "gxW7G-5mF5gr"
      },
      "execution_count": 6,
      "outputs": []
    },
    {
      "cell_type": "code",
      "source": [
        "# SObre as equipes, quem vai pesqusiar as coisas , é o que vai apresentar Serão as pessoas que escolheram Data Science."
      ],
      "metadata": {
        "id": "3RWx7m6WIk2_"
      },
      "execution_count": null,
      "outputs": []
    },
    {
      "cell_type": "markdown",
      "source": [
        "Apresentar e pesquisar( entender os hiperparametros): Ana , Rennan, Rayana, Gustavo Tamiosso, Gabriel Pereira  ( Lider ) \n",
        "\n",
        "notebooks: (Sergio Luis, Johnatan), (Luiz, Luis), (Joao Vithor, Hyuri), (Raian, Eric) , ( Joao Victor, Iago)\n",
        "\n",
        "Estudar algoritmos e orientar(olhar notebooks do nosso Github): \n",
        "(Gabriel Portero, MAteus), (Tulio, Joao Paulo), (Felipe Lin, Julio), ( Helder, HUmberto) , ( Luiza, Joao Paulo)"
      ],
      "metadata": {
        "id": "lYiYNBb2JKhC"
      }
    },
    {
      "cell_type": "code",
      "source": [
        "## lembrando que são dos datasets\n",
        "# vao ter que explicar os resultados dos 2 datasets\n",
        "#RS e CS, eles são importantes? Se não quais são os mais importantes para sua analise. E explicar a razão."
      ],
      "metadata": {
        "id": "fqG57GY0LK3F"
      },
      "execution_count": null,
      "outputs": []
    }
  ]
}