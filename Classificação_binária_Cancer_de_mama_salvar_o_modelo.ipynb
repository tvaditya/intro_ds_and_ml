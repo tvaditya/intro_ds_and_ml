{
  "nbformat": 4,
  "nbformat_minor": 0,
  "metadata": {
    "colab": {
      "name": " Classificação binária: Cancer de mama- salvar o modelo.ipynb",
      "provenance": [],
      "collapsed_sections": [],
      "include_colab_link": true
    },
    "kernelspec": {
      "name": "python3",
      "display_name": "Python 3"
    },
    "accelerator": "GPU"
  },
  "cells": [
    {
      "cell_type": "markdown",
      "metadata": {
        "id": "view-in-github",
        "colab_type": "text"
      },
      "source": [
        "<a href=\"https://colab.research.google.com/github/tvaditya/intro_ds_and_ml/blob/main/Classifica%C3%A7%C3%A3o_bin%C3%A1ria_Cancer_de_mama_salvar_o_modelo.ipynb\" target=\"_parent\"><img src=\"https://colab.research.google.com/assets/colab-badge.svg\" alt=\"Open In Colab\"/></a>"
      ]
    },
    {
      "cell_type": "markdown",
      "metadata": {
        "id": "rD_RSER5Lkb5"
      },
      "source": [
        "# Projeto 4: Classificação binária brest cancer - classificar somente um registro e salvar o classificador"
      ]
    },
    {
      "cell_type": "markdown",
      "metadata": {
        "id": "5tP2BcEILoLB"
      },
      "source": [
        "## Etapa 1: Importação das bibliotecas"
      ]
    },
    {
      "cell_type": "code",
      "metadata": {
        "id": "Yf0FpJ35Lf-Z",
        "colab": {
          "base_uri": "https://localhost:8080/",
          "height": 35
        },
        "outputId": "10fdd698-09d8-42e6-a722-8c4064740ad3"
      },
      "source": [
        "import pandas as pd\n",
        "from sklearn.model_selection import train_test_split\n",
        "import numpy as np\n",
        "import seaborn as sns\n",
        "from sklearn.metrics import confusion_matrix, accuracy_score\n",
        "import torch\n",
        "import torch.nn as nn\n",
        "torch.__version__"
      ],
      "execution_count": 47,
      "outputs": [
        {
          "output_type": "execute_result",
          "data": {
            "application/vnd.google.colaboratory.intrinsic+json": {
              "type": "string"
            },
            "text/plain": [
              "'1.10.0+cu111'"
            ]
          },
          "metadata": {},
          "execution_count": 47
        }
      ]
    },
    {
      "cell_type": "markdown",
      "metadata": {
        "id": "C0SD4dJ4MDMN"
      },
      "source": [
        "## Etapa 2: Base de dados"
      ]
    },
    {
      "cell_type": "code",
      "metadata": {
        "id": "J9aIu62WMGo8",
        "colab": {
          "base_uri": "https://localhost:8080/"
        },
        "outputId": "ddd30dbe-aa6c-4942-af4d-74c48718f635"
      },
      "source": [
        "np.random.seed(123)\n",
        "torch.manual_seed(123)"
      ],
      "execution_count": 48,
      "outputs": [
        {
          "output_type": "execute_result",
          "data": {
            "text/plain": [
              "<torch._C.Generator at 0x7f745d127810>"
            ]
          },
          "metadata": {},
          "execution_count": 48
        }
      ]
    },
    {
      "cell_type": "code",
      "metadata": {
        "id": "u49yuDE9MJs6"
      },
      "source": [
        "previsores = pd.read_csv('entradas_breast.csv')\n",
        "classe = pd.read_csv('saidas_breast.csv')"
      ],
      "execution_count": 49,
      "outputs": []
    },
    {
      "cell_type": "code",
      "metadata": {
        "id": "9FpRPDPysaAR"
      },
      "source": [
        "previsores = torch.tensor(np.array(previsores), dtype = torch.float)\n",
        "classe = torch.tensor(np.array(classe), dtype = torch.float)"
      ],
      "execution_count": 50,
      "outputs": []
    },
    {
      "cell_type": "code",
      "metadata": {
        "id": "jNvzT-k0f2rh",
        "colab": {
          "base_uri": "https://localhost:8080/"
        },
        "outputId": "02bbd659-2e32-4124-f981-f95dfa44a1b7"
      },
      "source": [
        "type(previsores)"
      ],
      "execution_count": 51,
      "outputs": [
        {
          "output_type": "execute_result",
          "data": {
            "text/plain": [
              "torch.Tensor"
            ]
          },
          "metadata": {},
          "execution_count": 51
        }
      ]
    },
    {
      "cell_type": "markdown",
      "metadata": {
        "id": "72uvlxJrOuWd"
      },
      "source": [
        "## Etapa 3: Transformação dos dados para tensores\n"
      ]
    },
    {
      "cell_type": "code",
      "metadata": {
        "id": "dtRWhopTQh0a"
      },
      "source": [
        "train_loader = torch.utils.data.DataLoader(torch.utils.data.TensorDataset(previsores, classe), batch_size = 10, shuffle = True)"
      ],
      "execution_count": 52,
      "outputs": []
    },
    {
      "cell_type": "markdown",
      "metadata": {
        "id": "QGDLesyDQpIb"
      },
      "source": [
        "## Etapa 4: Construção do modelo"
      ]
    },
    {
      "cell_type": "code",
      "metadata": {
        "id": "K9SHCjuqQuax"
      },
      "source": [
        "class classificador_torch(nn.Module):\n",
        "    def __init__(self):\n",
        "        super().__init__() \n",
        "        self.dense0 = nn.Linear(30, 16)\n",
        "        # Mesmos parâmetors usados pelo kernel initializer do Keras [https://keras.io/initializers/, ver sessão RandomNormal]\n",
        "        torch.nn.init.normal_(self.dense0.weight, mean = 0.0, std= 0.05)\n",
        "        self.dense1 = nn.Linear(16, 16)\n",
        "        torch.nn.init.normal_(self.dense1.weight, mean = 0.0, std= 0.05)\n",
        "        self.dense2 = nn.Linear(16, 1)\n",
        "        self.activation = nn.ReLU()\n",
        "        self.dropout = nn.Dropout(0.2)\n",
        "        self.output = nn.Sigmoid()\n",
        "        \n",
        "    def forward(self, X):\n",
        "        X = self.dense0(X)\n",
        "        X = self.activation(X)\n",
        "        X = self.dropout(X)\n",
        "        X = self.dense1(X)\n",
        "        X = self.activation(X)\n",
        "        X = self.dropout(X)\n",
        "        X = self.dense2(X)\n",
        "        X = self.output(X)\n",
        "        return X"
      ],
      "execution_count": 53,
      "outputs": []
    },
    {
      "cell_type": "code",
      "metadata": {
        "id": "Q_7v8RZPs85E"
      },
      "source": [
        "classificador = classificador_torch()"
      ],
      "execution_count": 54,
      "outputs": []
    },
    {
      "cell_type": "code",
      "metadata": {
        "id": "6fm4mbCotCSf"
      },
      "source": [
        "criterion = nn.BCELoss()\n",
        "optimizer = torch.optim.Adam(classificador.parameters(), lr = 0.001, \n",
        "                             weight_decay = 0.0001)"
      ],
      "execution_count": 55,
      "outputs": []
    },
    {
      "cell_type": "markdown",
      "metadata": {
        "id": "appMwDHtRTN5"
      },
      "source": [
        "## Etapa 5: Treinamento do modelo"
      ]
    },
    {
      "cell_type": "code",
      "metadata": {
        "id": "hLi-Elc8RVSJ",
        "colab": {
          "base_uri": "https://localhost:8080/"
        },
        "outputId": "9e34febf-1c46-433f-91ca-3483b22a517c"
      },
      "source": [
        "for epoch in range(100):\n",
        "    running_loss = 0.\n",
        "    \n",
        "    for data in train_loader:\n",
        "        inputs, labels = data\n",
        "        optimizer.zero_grad()        \n",
        "\n",
        "        outputs = classificador(inputs)\n",
        "        loss = criterion(outputs, labels)\n",
        "        loss.backward()    \n",
        "        optimizer.step()\n",
        "\n",
        "        running_loss += loss.item()\n",
        "\n",
        "    print('Época %3d: perda %.5f' % (epoch+1, running_loss/len(train_loader)))"
      ],
      "execution_count": 56,
      "outputs": [
        {
          "output_type": "stream",
          "name": "stdout",
          "text": [
            "Época   1: perda 1.66508\n",
            "Época   2: perda 0.64733\n",
            "Época   3: perda 0.55915\n",
            "Época   4: perda 0.53001\n",
            "Época   5: perda 0.52182\n",
            "Época   6: perda 0.50078\n",
            "Época   7: perda 0.45254\n",
            "Época   8: perda 0.45964\n",
            "Época   9: perda 0.40986\n",
            "Época  10: perda 0.44895\n",
            "Época  11: perda 0.37685\n",
            "Época  12: perda 0.38053\n",
            "Época  13: perda 0.37975\n",
            "Época  14: perda 0.37394\n",
            "Época  15: perda 0.35440\n",
            "Época  16: perda 0.36778\n",
            "Época  17: perda 0.38368\n",
            "Época  18: perda 0.34948\n",
            "Época  19: perda 0.35325\n",
            "Época  20: perda 0.35367\n",
            "Época  21: perda 0.33867\n",
            "Época  22: perda 0.31282\n",
            "Época  23: perda 0.31103\n",
            "Época  24: perda 0.33322\n",
            "Época  25: perda 0.33423\n",
            "Época  26: perda 0.34129\n",
            "Época  27: perda 0.33922\n",
            "Época  28: perda 0.30796\n",
            "Época  29: perda 0.31137\n",
            "Época  30: perda 0.32861\n",
            "Época  31: perda 0.31127\n",
            "Época  32: perda 0.32796\n",
            "Época  33: perda 0.30930\n",
            "Época  34: perda 0.33830\n",
            "Época  35: perda 0.26008\n",
            "Época  36: perda 0.34178\n",
            "Época  37: perda 0.27992\n",
            "Época  38: perda 0.31531\n",
            "Época  39: perda 0.31947\n",
            "Época  40: perda 0.28741\n",
            "Época  41: perda 0.29948\n",
            "Época  42: perda 0.28824\n",
            "Época  43: perda 0.29664\n",
            "Época  44: perda 0.26728\n",
            "Época  45: perda 0.26586\n",
            "Época  46: perda 0.27276\n",
            "Época  47: perda 0.32761\n",
            "Época  48: perda 0.32972\n",
            "Época  49: perda 0.32644\n",
            "Época  50: perda 0.28444\n",
            "Época  51: perda 0.27548\n",
            "Época  52: perda 0.26606\n",
            "Época  53: perda 0.27520\n",
            "Época  54: perda 0.27644\n",
            "Época  55: perda 0.32793\n",
            "Época  56: perda 0.28389\n",
            "Época  57: perda 0.30103\n",
            "Época  58: perda 0.31513\n",
            "Época  59: perda 0.30194\n",
            "Época  60: perda 0.28169\n",
            "Época  61: perda 0.27577\n",
            "Época  62: perda 0.29595\n",
            "Época  63: perda 0.31284\n",
            "Época  64: perda 0.25715\n",
            "Época  65: perda 0.26764\n",
            "Época  66: perda 0.29245\n",
            "Época  67: perda 0.25597\n",
            "Época  68: perda 0.28466\n",
            "Época  69: perda 0.25825\n",
            "Época  70: perda 0.28292\n",
            "Época  71: perda 0.27046\n",
            "Época  72: perda 0.27449\n",
            "Época  73: perda 0.25135\n",
            "Época  74: perda 0.28378\n",
            "Época  75: perda 0.28779\n",
            "Época  76: perda 0.26049\n",
            "Época  77: perda 0.27256\n",
            "Época  78: perda 0.28902\n",
            "Época  79: perda 0.26663\n",
            "Época  80: perda 0.27081\n",
            "Época  81: perda 0.27727\n",
            "Época  82: perda 0.27569\n",
            "Época  83: perda 0.30451\n",
            "Época  84: perda 0.32011\n",
            "Época  85: perda 0.30383\n",
            "Época  86: perda 0.30708\n",
            "Época  87: perda 0.29619\n",
            "Época  88: perda 0.27858\n",
            "Época  89: perda 0.28295\n",
            "Época  90: perda 0.26099\n",
            "Época  91: perda 0.26764\n",
            "Época  92: perda 0.24239\n",
            "Época  93: perda 0.26784\n",
            "Época  94: perda 0.25155\n",
            "Época  95: perda 0.26393\n",
            "Época  96: perda 0.25018\n",
            "Época  97: perda 0.25733\n",
            "Época  98: perda 0.25968\n",
            "Época  99: perda 0.26652\n",
            "Época 100: perda 0.28065\n"
          ]
        }
      ]
    },
    {
      "cell_type": "markdown",
      "metadata": {
        "id": "ITUtUdQNSJcs"
      },
      "source": [
        "## Etapa 6: Classificar somente um registro"
      ]
    },
    {
      "cell_type": "code",
      "metadata": {
        "id": "Ov6lKERhSDNS"
      },
      "source": [
        "novo = torch.tensor([[15.80, 8.34, 118, 900, 0.10, 0.26, 0.08, 0.134, 0.178,\n",
        "                  0.20, 0.05, 1098, 0.87, 4500, 145.2, 0.005, 0.04, 0.05, 0.015,\n",
        "                  0.03, 0.007, 23.15, 16.64, 178.5, 2018, 0.14, 0.185,\n",
        "                  0.84, 158, 0.363]], dtype = torch.float)"
      ],
      "execution_count": 57,
      "outputs": []
    },
    {
      "cell_type": "code",
      "metadata": {
        "id": "5EAN_Xd7hHZb",
        "colab": {
          "base_uri": "https://localhost:8080/"
        },
        "outputId": "257acbc1-68d2-441d-d60a-98e1a759357c"
      },
      "source": [
        "classificador.eval()"
      ],
      "execution_count": 58,
      "outputs": [
        {
          "output_type": "execute_result",
          "data": {
            "text/plain": [
              "classificador_torch(\n",
              "  (dense0): Linear(in_features=30, out_features=16, bias=True)\n",
              "  (dense1): Linear(in_features=16, out_features=16, bias=True)\n",
              "  (dense2): Linear(in_features=16, out_features=1, bias=True)\n",
              "  (activation): ReLU()\n",
              "  (dropout): Dropout(p=0.2, inplace=False)\n",
              "  (output): Sigmoid()\n",
              ")"
            ]
          },
          "metadata": {},
          "execution_count": 58
        }
      ]
    },
    {
      "cell_type": "code",
      "metadata": {
        "id": "cPR2UpABhMPh"
      },
      "source": [
        "previsao = classificador(novo)"
      ],
      "execution_count": 59,
      "outputs": []
    },
    {
      "cell_type": "code",
      "metadata": {
        "id": "UkGgtU2RhQIk",
        "colab": {
          "base_uri": "https://localhost:8080/"
        },
        "outputId": "20e9e911-76a5-4524-ddd7-1c011821b011"
      },
      "source": [
        "previsao"
      ],
      "execution_count": 60,
      "outputs": [
        {
          "output_type": "execute_result",
          "data": {
            "text/plain": [
              "tensor([[1.0000]], grad_fn=<SigmoidBackward0>)"
            ]
          },
          "metadata": {},
          "execution_count": 60
        }
      ]
    },
    {
      "cell_type": "code",
      "metadata": {
        "id": "Tp8Tn8L1hT6B"
      },
      "source": [
        "previsao = previsao.detach()"
      ],
      "execution_count": 61,
      "outputs": []
    },
    {
      "cell_type": "code",
      "metadata": {
        "id": "xkBUV6KghXX9",
        "colab": {
          "base_uri": "https://localhost:8080/"
        },
        "outputId": "83824685-8b3f-4b75-f923-7c75035afa66"
      },
      "source": [
        "previsao"
      ],
      "execution_count": 62,
      "outputs": [
        {
          "output_type": "execute_result",
          "data": {
            "text/plain": [
              "tensor([[1.0000]])"
            ]
          },
          "metadata": {},
          "execution_count": 62
        }
      ]
    },
    {
      "cell_type": "code",
      "metadata": {
        "id": "wnJc7h96hd_6"
      },
      "source": [
        "# Para ter um valor que não seja um tensor\n",
        "previsao = previsao.numpy()"
      ],
      "execution_count": 63,
      "outputs": []
    },
    {
      "cell_type": "code",
      "metadata": {
        "id": "ahiBhejchiUt",
        "colab": {
          "base_uri": "https://localhost:8080/"
        },
        "outputId": "9075cad9-3d33-4102-863b-c2c5859f21da"
      },
      "source": [
        "type(previsao)"
      ],
      "execution_count": 64,
      "outputs": [
        {
          "output_type": "execute_result",
          "data": {
            "text/plain": [
              "numpy.ndarray"
            ]
          },
          "metadata": {},
          "execution_count": 64
        }
      ]
    },
    {
      "cell_type": "code",
      "metadata": {
        "id": "6CxG9EOIhk0l",
        "colab": {
          "base_uri": "https://localhost:8080/"
        },
        "outputId": "8d7b5593-b263-4b2e-deb6-11a21fe163bb"
      },
      "source": [
        "previsao"
      ],
      "execution_count": 65,
      "outputs": [
        {
          "output_type": "execute_result",
          "data": {
            "text/plain": [
              "array([[0.9999733]], dtype=float32)"
            ]
          },
          "metadata": {},
          "execution_count": 65
        }
      ]
    },
    {
      "cell_type": "code",
      "metadata": {
        "id": "jN9LBKYZhnuy",
        "colab": {
          "base_uri": "https://localhost:8080/"
        },
        "outputId": "96bd0950-6a3a-4551-854d-f0b2af944de4"
      },
      "source": [
        "previsao = (previsao > 0.5)\n",
        "previsao"
      ],
      "execution_count": 66,
      "outputs": [
        {
          "output_type": "execute_result",
          "data": {
            "text/plain": [
              "array([[ True]])"
            ]
          },
          "metadata": {},
          "execution_count": 66
        }
      ]
    },
    {
      "cell_type": "markdown",
      "metadata": {
        "id": "z19bhpjius1H"
      },
      "source": [
        "# Etapa 7: Salvar o classificador"
      ]
    },
    {
      "cell_type": "code",
      "metadata": {
        "id": "m1-lxFHAcHsT"
      },
      "source": [
        "# Quando salvar, você precisa chamar classificador.state_dict() (com os parêntese no final), \n",
        "# ao invés de classificador.state_dict, possui informações sobre os pesos de cada camada"
      ],
      "execution_count": 67,
      "outputs": []
    },
    {
      "cell_type": "code",
      "metadata": {
        "id": "5tIub9reh0Vv"
      },
      "source": [
        "# classificador.state_dict()"
      ],
      "execution_count": 68,
      "outputs": []
    },
    {
      "cell_type": "code",
      "metadata": {
        "id": "pR7iIF2hh_V9"
      },
      "source": [
        "# Para salvar o classificador com a versão 1.5.0 do PyTorch, use o código abaixo\n",
        "\n",
        "torch.save(classificador.state_dict(), 'checkpoint.pth')"
      ],
      "execution_count": 69,
      "outputs": []
    },
    {
      "cell_type": "markdown",
      "source": [
        "# Load Model"
      ],
      "metadata": {
        "id": "ShmtrFpw4-y2"
      }
    },
    {
      "cell_type": "code",
      "source": [
        "import pandas as pd\n",
        "import numpy as np\n",
        "import torch\n",
        "import torch.nn as nn\n",
        "import torch.nn.functional as F\n",
        "from sklearn.metrics import accuracy_score\n",
        "torch.__version__"
      ],
      "metadata": {
        "colab": {
          "base_uri": "https://localhost:8080/",
          "height": 35
        },
        "id": "iK_43nn75qcA",
        "outputId": "dd9f1c02-7ec3-4ffc-bccd-abe8bbd8882c"
      },
      "execution_count": 76,
      "outputs": [
        {
          "output_type": "execute_result",
          "data": {
            "application/vnd.google.colaboratory.intrinsic+json": {
              "type": "string"
            },
            "text/plain": [
              "'1.10.0+cu111'"
            ]
          },
          "metadata": {},
          "execution_count": 76
        }
      ]
    },
    {
      "cell_type": "code",
      "source": [
        "class classificador_torch(nn.Module):\n",
        "    def __init__(self):\n",
        "        super().__init__() \n",
        "        self.dense0 = nn.Linear(30, 16)\n",
        "        # Mesmos parâmetors usados pelo kernel initializer do Keras [https://keras.io/initializers/, ver sessão RandomNormal]\n",
        "        torch.nn.init.normal_(self.dense0.weight, mean = 0.0, std= 0.05)\n",
        "        self.dense1 = nn.Linear(16, 16)\n",
        "        torch.nn.init.normal_(self.dense1.weight, mean = 0.0, std= 0.05)\n",
        "        self.dense2 = nn.Linear(16, 1)\n",
        "        self.activation = nn.ReLU()\n",
        "        self.dropout = nn.Dropout(0.2)\n",
        "        self.output = nn.Sigmoid()\n",
        "        \n",
        "    def forward(self, X):\n",
        "        X = self.dense0(X)\n",
        "        X = self.activation(X)\n",
        "        X = self.dropout(X)\n",
        "        X = self.dense1(X)\n",
        "        X = self.activation(X)\n",
        "        X = self.dropout(X)\n",
        "        X = self.dense2(X)\n",
        "        X = self.output(X)\n",
        "        return X"
      ],
      "metadata": {
        "id": "MUm_wuhL487H"
      },
      "execution_count": 77,
      "outputs": []
    },
    {
      "cell_type": "code",
      "source": [
        "classificador = classificador_torch()"
      ],
      "metadata": {
        "id": "M95-_dAb5QKH"
      },
      "execution_count": 78,
      "outputs": []
    },
    {
      "cell_type": "code",
      "source": [
        "state_dict = torch.load('/content/checkpoint.pth')"
      ],
      "metadata": {
        "id": "PvqOpEOU5Z9l"
      },
      "execution_count": 79,
      "outputs": []
    },
    {
      "cell_type": "code",
      "source": [
        "state_dict"
      ],
      "metadata": {
        "colab": {
          "base_uri": "https://localhost:8080/"
        },
        "id": "z4XhWVFF5cKU",
        "outputId": "f4590fe7-43f5-4a67-b3e8-6f6c8ba5fd17"
      },
      "execution_count": 80,
      "outputs": [
        {
          "output_type": "execute_result",
          "data": {
            "text/plain": [
              "OrderedDict([('dense0.weight',\n",
              "              tensor([[ 6.0988e-02,  2.7366e-01,  2.6954e-01,  1.0958e-02, -1.6898e-01,\n",
              "                       -6.4578e-02, -1.4541e-01,  1.7019e-01,  2.8645e-01,  3.0500e-01,\n",
              "                        2.8659e-02, -9.6251e-02, -2.7989e-02,  4.0410e-02,  3.5745e-03,\n",
              "                       -3.3540e-02,  1.2066e-01,  2.7935e-01,  1.1087e-01,  2.6153e-03,\n",
              "                        1.0095e-01,  2.3742e-01,  1.0516e-01, -6.4800e-02, -1.0049e-01,\n",
              "                       -1.8869e-02, -3.3261e-02, -6.7347e-02,  1.3307e-01, -5.1373e-02],\n",
              "                      [ 1.1007e-01,  1.7923e-01,  3.9027e-01,  5.6854e-02, -1.7357e-01,\n",
              "                       -2.0041e-01,  1.4577e-02,  8.4380e-02,  2.6528e-02,  2.8121e-01,\n",
              "                       -1.9251e-01, -9.9850e-02,  1.2540e-03, -3.3471e-01,  2.6606e-03,\n",
              "                       -3.8310e-02,  7.9879e-02,  1.9506e-01,  5.8244e-01, -8.0416e-04,\n",
              "                        1.9718e-01,  3.3930e-02,  1.9907e-01, -1.1949e-01,  7.6358e-02,\n",
              "                        1.6036e-02, -7.2232e-04, -3.7547e-02, -3.4391e-02, -7.7782e-02],\n",
              "                      [-4.9624e-02, -4.5258e-02, -6.5398e-02, -3.7024e-02,  3.4228e-03,\n",
              "                        1.0978e-02,  7.9800e-03,  3.6603e-03, -3.8159e-02, -1.3683e-39,\n",
              "                        4.9819e-02, -1.2057e-01, -2.5049e-02, -8.3002e-02,  4.5728e-40,\n",
              "                        3.7525e-39, -6.5290e-32,  1.6853e-07,  1.0204e-39,  3.6576e-39,\n",
              "                        2.5767e-02, -2.5737e-02,  3.0624e-02,  1.6358e-02,  2.4736e-02,\n",
              "                       -1.3215e-02,  3.3345e-02,  3.5076e-03,  4.4932e-02, -5.2387e-39],\n",
              "                      [-9.6271e-03, -2.8375e-02,  2.5470e-02, -2.0469e-02, -1.1351e-01,\n",
              "                       -5.7980e-02, -5.6268e-02,  5.6782e-02,  2.2235e-02,  4.9836e-02,\n",
              "                       -4.1358e-02,  3.7877e-02, -4.4031e-02, -5.3093e-03,  2.6343e-04,\n",
              "                        1.0093e-01, -7.3556e-02,  8.4093e-04, -1.9145e-01, -2.5364e-02,\n",
              "                       -6.2153e-02, -1.2975e-01, -8.1073e-02, -2.8986e-02, -8.2317e-02,\n",
              "                        5.7948e-03, -4.1635e-02,  7.1380e-02, -1.1509e-02, -7.9983e-02],\n",
              "                      [ 5.4135e-02,  3.7562e-02,  3.9736e-02, -4.2743e-02,  2.3342e-03,\n",
              "                       -3.2082e-02,  9.9130e-03,  4.5239e-02, -7.7841e-02,  1.5990e-01,\n",
              "                       -1.2820e-02, -5.0068e-02, -8.1642e-02,  6.5466e-02,  1.8914e-05,\n",
              "                        6.3610e-06,  5.3062e-03,  8.5201e-02,  2.8338e-05,  1.2108e-05,\n",
              "                        1.3716e-01, -1.0632e-02,  8.2402e-02, -2.8405e-02, -1.0013e-02,\n",
              "                        8.6967e-02,  1.2048e-01, -7.8439e-02,  1.7114e-04,  1.5862e-03],\n",
              "                      [-9.9953e-02, -2.1757e-02,  5.6707e-02, -7.4881e-02,  7.0286e-03,\n",
              "                        6.3011e-02,  4.5876e-02,  2.8295e-02,  1.1613e-01, -7.4629e-04,\n",
              "                       -1.0102e-01, -3.0337e-02, -9.5402e-03, -5.2465e-02,  3.4540e-04,\n",
              "                        8.2278e-04,  1.4186e-04,  4.4167e-04, -7.6934e-03,  7.0825e-04,\n",
              "                       -7.7040e-02, -1.3433e-02, -6.1530e-02, -9.0997e-02, -1.0848e-02,\n",
              "                        1.2140e-01,  1.1980e-01,  4.2725e-02, -1.6260e-02,  1.4399e-02],\n",
              "                      [-4.2789e-02, -9.5694e-04, -4.0151e-02, -1.0355e-01, -2.4723e-07,\n",
              "                       -2.7516e-02, -1.6867e-04, -1.0594e-02,  6.4658e-02, -3.2806e-14,\n",
              "                       -2.9924e-02,  1.5109e-02, -2.2853e-02, -9.1931e-02,  1.6885e-39,\n",
              "                       -2.9384e-09, -6.6052e-40,  1.0847e-39, -1.8446e-27, -1.9363e-39,\n",
              "                       -4.6572e-02, -1.8179e-02, -4.0943e-02, -6.1181e-02,  1.8425e-03,\n",
              "                        3.6636e-02, -7.6776e-02, -8.5887e-07,  5.0021e-03, -1.7901e-02],\n",
              "                      [-4.5033e-01, -4.4133e-02, -3.3666e-01, -1.1633e-01,  9.3126e-02,\n",
              "                       -1.2916e-02,  5.1211e-02, -2.9013e-02,  2.7410e-02,  9.0767e-02,\n",
              "                        9.2486e-03,  1.2361e-03,  1.4592e-03, -2.1471e-02,  1.8891e-02,\n",
              "                        9.6443e-02, -2.9847e-01, -1.2717e-01,  3.1935e-02,  5.0108e-01,\n",
              "                       -3.2754e-01,  3.6064e-02, -1.9459e-01,  1.7096e-01,  1.1390e-02,\n",
              "                        3.3216e-02,  1.6423e-02,  3.7065e-03,  5.3834e-03,  4.5550e-01],\n",
              "                      [ 3.4867e-02,  1.5117e-01,  2.2436e-01, -2.4655e-02, -3.4437e-02,\n",
              "                       -1.3778e-01,  1.0370e-01,  2.2043e-01,  3.7633e-01, -2.0657e-01,\n",
              "                       -8.4296e-02,  6.0502e-02, -1.9196e-03, -2.0447e-01,  1.5897e-03,\n",
              "                        2.9562e-01,  1.4344e-02, -6.1832e-03, -1.1916e-02, -1.6480e-01,\n",
              "                        1.0072e-01,  7.7651e-02,  1.5584e-01, -1.5443e-01, -1.7009e-01,\n",
              "                        7.3407e-02, -1.5768e-01,  1.5367e-01,  8.2036e-03, -1.4726e-01],\n",
              "                      [-1.3010e-01, -7.5900e-02, -5.1513e-02, -1.7397e-03,  2.0650e-02,\n",
              "                        2.4465e-01,  2.3979e-02,  1.5919e-01, -2.6595e-02, -4.2086e-02,\n",
              "                       -1.1270e-01, -3.5634e-02, -5.6417e-02,  1.9215e-02, -3.4659e-03,\n",
              "                        6.5990e-03,  1.2215e-02, -6.8826e-02, -2.0475e-03, -1.1449e-03,\n",
              "                       -2.9613e-02, -7.0137e-02, -3.7135e-02,  2.5774e-02, -2.1807e-02,\n",
              "                       -7.0593e-02, -1.1395e-01,  2.8892e-02,  2.1148e-02, -1.7688e-03],\n",
              "                      [-2.1527e-01, -2.5896e-01, -1.5895e-01, -2.3437e-02,  8.8499e-02,\n",
              "                        1.3462e-01,  1.5203e-01, -3.1184e-01, -7.5238e-02,  1.5790e-01,\n",
              "                        2.9726e-02, -2.7445e-04, -8.1502e-02, -5.6308e-03, -1.8048e-03,\n",
              "                       -1.8892e-01,  4.0444e-02, -2.2061e-01,  2.6377e-01,  1.6422e-03,\n",
              "                       -2.3554e-01, -3.0300e-01, -8.6105e-02,  8.6649e-02, -1.0140e-01,\n",
              "                       -1.2530e-01, -1.6803e-01,  1.1445e-01, -2.6461e-02,  1.4179e-01],\n",
              "                      [ 5.2858e-02,  1.3574e-01,  1.8792e-01, -2.4598e-02, -8.1288e-02,\n",
              "                        2.6219e-02, -7.8794e-02,  3.6441e-01,  3.1727e-01, -3.5551e-01,\n",
              "                       -1.0310e-02,  4.1511e-02, -1.6391e-02, -2.4415e-02,  3.1768e-03,\n",
              "                        5.0979e-01,  7.4728e-02, -2.5988e-02, -2.1952e-01, -1.4636e-01,\n",
              "                        1.0113e-01,  2.1301e-02,  1.4946e-01, -7.0271e-02, -1.8970e-01,\n",
              "                        8.5462e-02, -8.3022e-02, -7.1637e-02,  5.8510e-03, -1.4871e-01],\n",
              "                      [-6.0351e-02, -7.9820e-02, -1.1835e-01, -1.0120e-01, -5.2764e-02,\n",
              "                       -1.1920e-01,  3.2745e-02, -4.0360e-02,  1.2906e-01, -2.5969e-01,\n",
              "                       -8.2117e-02,  1.3668e-02, -1.2139e-02,  4.8206e-02, -3.2225e-13,\n",
              "                        6.8766e-02,  1.3375e-02, -4.5143e-06, -1.4732e-02, -6.6030e-03,\n",
              "                       -1.1314e-02, -4.3692e-02, -3.9516e-02, -5.1473e-02, -1.0450e-01,\n",
              "                        3.3043e-02, -3.4314e-02, -2.6949e-02, -7.7140e-02, -9.7839e-02],\n",
              "                      [ 3.1702e-02, -4.3900e-02,  1.2205e-02, -1.3809e-01, -1.0683e-02,\n",
              "                       -1.0599e-08,  8.1240e-03,  1.0056e-07, -6.2044e-02,  1.1517e-06,\n",
              "                       -6.3450e-05,  7.3064e-03, -1.1938e-01, -3.3697e-02, -7.7747e-08,\n",
              "                        5.3997e-07, -1.9869e-02, -5.1527e-08, -2.6433e-03,  1.1673e-07,\n",
              "                        1.8725e-02, -2.3278e-02, -7.3980e-03, -5.2462e-02, -2.7721e-02,\n",
              "                        8.5601e-03, -3.5693e-02, -3.8643e-04, -7.3343e-04, -1.5113e-06],\n",
              "                      [ 6.2712e-02, -1.5752e-02,  3.7062e-02, -1.0938e-02, -2.1621e-02,\n",
              "                        9.7639e-03,  1.1072e-03,  7.0408e-03, -8.9429e-03,  1.1587e-01,\n",
              "                       -5.3842e-02, -2.6972e-03, -8.9874e-02, -4.0184e-02,  1.4122e-07,\n",
              "                        8.7927e-06,  6.7024e-08,  6.5538e-08, -1.6944e-02,  5.9504e-08,\n",
              "                        2.3019e-02, -1.7382e-03, -7.5703e-02, -2.4048e-02,  7.9694e-03,\n",
              "                       -7.0032e-03,  4.6976e-02,  3.2932e-02, -2.9037e-02,  1.4498e-02],\n",
              "                      [ 3.0054e-02,  6.4446e-02, -5.4566e-02, -6.0684e-03, -1.3075e-40,\n",
              "                        3.2297e-03,  2.5976e-02, -1.5174e-39, -2.0083e-02,  8.5311e-42,\n",
              "                       -4.8446e-02, -3.5466e-02, -2.5982e-02, -4.2124e-02, -5.2035e-39,\n",
              "                        1.2387e-39,  7.8584e-03,  4.1294e-04, -7.2649e-04,  1.4563e-39,\n",
              "                       -3.9374e-02, -2.4491e-02,  1.4924e-01, -5.1084e-02,  5.7686e-03,\n",
              "                        1.3502e-01, -1.3305e-02, -1.8753e-02, -5.9246e-04, -4.6797e-40]])),\n",
              "             ('dense0.bias',\n",
              "              tensor([ 3.9616e-01,  3.9903e-01, -2.4778e-05,  1.1175e-01, -6.4358e-03,\n",
              "                      -3.1401e-02, -1.2805e-02, -5.5468e-01,  3.9082e-01, -5.9397e-02,\n",
              "                      -3.3516e-01,  3.1010e-01,  1.8573e-02, -5.3339e-03, -3.4226e-03,\n",
              "                      -1.4305e-05])),\n",
              "             ('dense1.weight',\n",
              "              tensor([[ 4.3006e-02,  1.4720e-01,  2.4030e-02,  9.0646e-02,  2.2399e-02,\n",
              "                       -5.1665e-02, -4.4654e-02,  5.0080e-04,  5.2532e-02, -3.0334e-02,\n",
              "                       -5.6202e-02, -7.0816e-02,  5.1312e-02,  8.0517e-02,  5.8611e-02,\n",
              "                       -5.7093e-03],\n",
              "                      [ 1.2387e-01,  1.6933e-01, -7.4556e-03, -2.8791e-02,  3.4574e-02,\n",
              "                       -2.7808e-02,  5.3557e-02, -1.6196e-01,  2.7890e-02, -2.5096e-02,\n",
              "                       -8.0449e-02,  5.2478e-02,  6.5236e-02,  8.1738e-03,  5.4650e-02,\n",
              "                       -1.1125e-02],\n",
              "                      [ 1.1622e-02,  4.6938e-03,  3.8495e-02, -5.4343e-02,  2.6600e-02,\n",
              "                        4.4005e-02,  3.2300e-03,  1.4197e-01,  2.5742e-03,  4.3741e-02,\n",
              "                        5.7463e-02,  7.1448e-03, -3.6523e-03, -3.9043e-02, -1.4378e-02,\n",
              "                       -2.1983e-02],\n",
              "                      [ 6.7434e-02,  1.1240e-01,  2.9208e-02,  2.5601e-02,  6.3861e-02,\n",
              "                       -6.2007e-02,  2.9773e-02, -4.4160e-02,  3.4041e-02, -2.0678e-02,\n",
              "                       -6.9208e-02,  2.9552e-02,  4.6574e-02,  2.9714e-02,  1.1213e-01,\n",
              "                        8.1650e-02],\n",
              "                      [-5.2376e-02, -3.6901e-03,  2.3456e-02,  1.1596e-02, -3.0703e-02,\n",
              "                        7.3366e-03,  5.4907e-02, -1.1282e-01, -7.3518e-02,  1.2307e-02,\n",
              "                       -1.6729e-02, -2.1574e-02,  7.0821e-03, -4.8433e-03, -2.8145e-02,\n",
              "                        2.6080e-02],\n",
              "                      [-1.2523e-02, -5.5003e-02,  2.7517e-02,  3.3530e-02, -1.1955e-02,\n",
              "                        9.3650e-02, -9.2696e-02,  8.2400e-02, -7.4937e-02,  6.8023e-02,\n",
              "                       -1.5936e-02,  8.9763e-03, -1.7099e-02, -1.8114e-03, -2.8119e-02,\n",
              "                        1.3114e-02],\n",
              "                      [ 9.2801e-04,  9.9428e-03,  3.4877e-02, -6.6452e-02, -5.5081e-03,\n",
              "                        7.6658e-03, -6.0405e-03,  8.7633e-02, -2.1011e-02, -3.8070e-03,\n",
              "                        1.0943e-02, -4.0421e-02, -7.2492e-03, -2.8092e-02, -4.2620e-02,\n",
              "                       -1.4410e-02],\n",
              "                      [ 9.6960e-02,  1.7964e-01, -1.4925e-02,  1.8476e-02,  6.0924e-02,\n",
              "                       -4.2499e-02, -1.6310e-02, -1.2755e-01,  5.3882e-02, -5.2538e-02,\n",
              "                       -5.5061e-02,  5.2776e-02,  7.8823e-02,  3.5728e-02,  3.0661e-02,\n",
              "                        1.8337e-03],\n",
              "                      [-6.0268e-02, -3.7837e-03,  3.9609e-02,  2.3009e-02,  4.9274e-03,\n",
              "                       -8.0385e-02,  2.1202e-02,  9.1902e-02, -6.1127e-02,  5.3491e-02,\n",
              "                        9.0258e-02,  2.0320e-02, -4.9355e-02, -3.5060e-02, -1.1277e-01,\n",
              "                       -1.0919e-02],\n",
              "                      [ 2.1501e-01,  2.5263e-01, -6.4529e-03,  3.3613e-02,  7.1015e-02,\n",
              "                       -4.1476e-02,  8.9090e-02, -1.6626e-01,  8.2791e-02, -1.3983e-02,\n",
              "                       -1.2784e-02, -7.1738e-02,  9.0557e-02,  1.2446e-01, -9.0266e-02,\n",
              "                        2.1295e-02],\n",
              "                      [ 1.8376e-01,  3.0937e-01,  7.5002e-40,  2.6048e-02,  5.5224e-02,\n",
              "                       -5.7412e-02,  3.1257e-02, -3.0384e-01,  1.1664e-01,  8.4748e-03,\n",
              "                        1.0159e-02,  1.1600e-01,  1.3527e-01,  6.6582e-02, -1.7301e-02,\n",
              "                        1.4260e-02],\n",
              "                      [-1.3926e-02, -2.1439e-02,  2.3300e-02,  2.8911e-02, -1.0801e-02,\n",
              "                        4.2828e-03,  1.3923e-01,  6.6099e-02, -3.6447e-03,  8.4286e-04,\n",
              "                        6.8935e-02, -1.3167e-02, -3.1177e-02,  6.8053e-02, -4.5252e-02,\n",
              "                       -4.1361e-02],\n",
              "                      [ 7.2824e-02,  7.7077e-02, -3.4305e-02,  2.1447e-02,  1.0017e-02,\n",
              "                       -3.8184e-02, -3.4245e-02, -1.1685e-02,  3.8568e-02,  3.8507e-03,\n",
              "                       -5.7425e-02,  2.9514e-02,  4.4624e-02,  1.1119e-01, -4.7797e-02,\n",
              "                       -3.8718e-02],\n",
              "                      [-4.6027e-03,  1.0477e-02,  2.9699e-02, -4.2975e-02,  4.2996e-02,\n",
              "                        1.1019e-01,  9.9791e-02,  1.7359e-01,  9.1800e-03, -2.5475e-02,\n",
              "                        7.2084e-02, -8.0539e-02,  4.3861e-02, -1.2306e-07, -1.8156e-03,\n",
              "                        1.7307e-02],\n",
              "                      [ 9.2252e-02,  1.1515e-01, -6.5772e-02,  6.6589e-03, -2.1859e-02,\n",
              "                       -3.1488e-02,  3.4366e-03, -1.2992e-02,  3.1224e-02, -7.5641e-02,\n",
              "                       -3.1194e-02,  2.1527e-02,  6.1217e-02,  5.6232e-02,  1.3578e-02,\n",
              "                       -5.9319e-03],\n",
              "                      [ 8.4843e-02, -2.6805e-02,  2.0885e-02, -5.2252e-02,  8.8191e-02,\n",
              "                       -3.8202e-02,  6.7337e-03, -7.6587e-02,  1.1403e-02, -5.6958e-02,\n",
              "                       -5.9644e-02,  5.8430e-02,  6.2403e-02,  3.9875e-02,  1.0611e-02,\n",
              "                        1.2943e-02]])),\n",
              "             ('dense1.bias',\n",
              "              tensor([ 2.5762e-01, -3.0963e-03, -7.7891e-01,  3.5232e-01, -2.7640e-01,\n",
              "                      -3.4899e-01, -6.0610e-01,  4.9937e-01, -7.6874e-01, -4.9727e-05,\n",
              "                       1.0892e-02, -4.7845e-01,  1.9357e-01, -6.3378e-01,  3.7740e-01,\n",
              "                      -1.8876e-03])),\n",
              "             ('dense2.weight',\n",
              "              tensor([[ 0.0910,  0.2065, -0.1514,  0.1640, -0.1919, -0.1922, -0.3091,  0.1346,\n",
              "                       -0.2849,  0.1269,  0.1120, -0.2178,  0.1969, -0.1500,  0.1753,  0.2140]])),\n",
              "             ('dense2.bias', tensor([0.4022]))])"
            ]
          },
          "metadata": {},
          "execution_count": 80
        }
      ]
    },
    {
      "cell_type": "code",
      "source": [
        "classificador.load_state_dict(state_dict)"
      ],
      "metadata": {
        "colab": {
          "base_uri": "https://localhost:8080/"
        },
        "id": "u1Sjzyey5fed",
        "outputId": "05c66e96-3670-43d1-e193-d82ddc1d6a9a"
      },
      "execution_count": 81,
      "outputs": [
        {
          "output_type": "execute_result",
          "data": {
            "text/plain": [
              "<All keys matched successfully>"
            ]
          },
          "metadata": {},
          "execution_count": 81
        }
      ]
    },
    {
      "cell_type": "code",
      "source": [
        "novo = torch.tensor([[15.80, 8.34, 118, 900, 0.10, 0.26, 0.08, 0.134, 0.178,\n",
        "                      0.20, 0.05, 1098, 0.87, 4500, 145.2, 0.005, 0.04, 0.05, 0.015,\n",
        "                      0.03, 0.007, 23.15, 16.64, 178.5, 2018, 0.14, 0.185,\n",
        "                      0.84, 158, 0.363]])"
      ],
      "metadata": {
        "id": "Y8UCpwCR5k9Z"
      },
      "execution_count": 83,
      "outputs": []
    },
    {
      "cell_type": "code",
      "source": [
        "classificador.eval()\n",
        "previsao = classificador(novo)\n",
        "previsao = (previsao.detach().numpy() > 0.5)\n",
        "previsao"
      ],
      "metadata": {
        "colab": {
          "base_uri": "https://localhost:8080/"
        },
        "id": "CRQdIj6R5mLD",
        "outputId": "4af66fdb-da6f-4c37-9d7c-939e35c1c5f3"
      },
      "execution_count": 84,
      "outputs": [
        {
          "output_type": "execute_result",
          "data": {
            "text/plain": [
              "array([[ True]])"
            ]
          },
          "metadata": {},
          "execution_count": 84
        }
      ]
    },
    {
      "cell_type": "code",
      "source": [
        "previsores = pd.read_csv('entradas_breast.csv')\n",
        "classe = pd.read_csv('saidas_breast.csv')"
      ],
      "metadata": {
        "id": "tDTm62YX59eC"
      },
      "execution_count": 85,
      "outputs": []
    },
    {
      "cell_type": "code",
      "source": [
        "previsores = torch.tensor(np.array(previsores), dtype = torch.float)\n",
        "classe = torch.tensor(np.array(classe), dtype = torch.float)"
      ],
      "metadata": {
        "id": "XztiXBoa6BYT"
      },
      "execution_count": 86,
      "outputs": []
    },
    {
      "cell_type": "code",
      "source": [
        "previsoes = classificador.forward(previsores).detach()"
      ],
      "metadata": {
        "id": "2uPzXbVg6EV9"
      },
      "execution_count": 87,
      "outputs": []
    },
    {
      "cell_type": "code",
      "source": [
        "previsoes"
      ],
      "metadata": {
        "colab": {
          "base_uri": "https://localhost:8080/"
        },
        "id": "p7WQnnRl6GOr",
        "outputId": "8d09ae87-2bd2-40a7-83b4-62e4363050d2"
      },
      "execution_count": 88,
      "outputs": [
        {
          "output_type": "execute_result",
          "data": {
            "text/plain": [
              "tensor([[5.7493e-09],\n",
              "        [1.9278e-05],\n",
              "        [5.0140e-04],\n",
              "        [8.3125e-05],\n",
              "        [5.4147e-03],\n",
              "        [3.2701e-01],\n",
              "        [6.8382e-06],\n",
              "        [7.6171e-02],\n",
              "        [1.3481e-01],\n",
              "        [3.9855e-05],\n",
              "        [3.1114e-02],\n",
              "        [1.2291e-03],\n",
              "        [9.7506e-02],\n",
              "        [6.5839e-01],\n",
              "        [6.5839e-01],\n",
              "        [1.9841e-01],\n",
              "        [5.7210e-03],\n",
              "        [3.0082e-04],\n",
              "        [1.3265e-10],\n",
              "        [9.5545e-01],\n",
              "        [6.5839e-01],\n",
              "        [1.0000e+00],\n",
              "        [2.1743e-01],\n",
              "        [7.4527e-11],\n",
              "        [4.4244e-11],\n",
              "        [3.3947e-05],\n",
              "        [3.1030e-01],\n",
              "        [9.0055e-03],\n",
              "        [5.4735e-05],\n",
              "        [1.2439e-01],\n",
              "        [1.3931e-04],\n",
              "        [1.0066e-02],\n",
              "        [2.9152e-03],\n",
              "        [2.1897e-06],\n",
              "        [8.5700e-04],\n",
              "        [3.3864e-02],\n",
              "        [6.2787e-01],\n",
              "        [9.9993e-01],\n",
              "        [6.5839e-01],\n",
              "        [2.4901e-01],\n",
              "        [4.7507e-01],\n",
              "        [9.5795e-01],\n",
              "        [4.9318e-05],\n",
              "        [4.3626e-02],\n",
              "        [6.6540e-01],\n",
              "        [1.3964e-04],\n",
              "        [1.0000e+00],\n",
              "        [5.0461e-01],\n",
              "        [8.8232e-01],\n",
              "        [6.7772e-01],\n",
              "        [9.4018e-01],\n",
              "        [9.5522e-01],\n",
              "        [9.9433e-01],\n",
              "        [7.1631e-02],\n",
              "        [8.4909e-02],\n",
              "        [9.9722e-01],\n",
              "        [1.6291e-08],\n",
              "        [1.3638e-02],\n",
              "        [6.5839e-01],\n",
              "        [1.0000e+00],\n",
              "        [9.5898e-01],\n",
              "        [1.0000e+00],\n",
              "        [5.3412e-02],\n",
              "        [1.0000e+00],\n",
              "        [2.4066e-02],\n",
              "        [1.5913e-01],\n",
              "        [1.0000e+00],\n",
              "        [9.9536e-01],\n",
              "        [1.0000e+00],\n",
              "        [9.9919e-01],\n",
              "        [2.4261e-06],\n",
              "        [1.0000e+00],\n",
              "        [8.4272e-06],\n",
              "        [2.6535e-03],\n",
              "        [9.9945e-01],\n",
              "        [2.2410e-02],\n",
              "        [6.5839e-01],\n",
              "        [1.6476e-04],\n",
              "        [5.2024e-03],\n",
              "        [6.5839e-01],\n",
              "        [9.9878e-01],\n",
              "        [6.5839e-01],\n",
              "        [2.0985e-06],\n",
              "        [3.1766e-01],\n",
              "        [8.3374e-01],\n",
              "        [3.7241e-04],\n",
              "        [6.3529e-01],\n",
              "        [5.8580e-04],\n",
              "        [9.9993e-01],\n",
              "        [6.5663e-01],\n",
              "        [6.5773e-01],\n",
              "        [6.5308e-01],\n",
              "        [1.2718e-01],\n",
              "        [6.4216e-01],\n",
              "        [9.5174e-02],\n",
              "        [4.7138e-04],\n",
              "        [9.5050e-01],\n",
              "        [1.0000e+00],\n",
              "        [9.9846e-01],\n",
              "        [6.4484e-01],\n",
              "        [8.2968e-02],\n",
              "        [1.0000e+00],\n",
              "        [9.7985e-01],\n",
              "        [1.0000e+00],\n",
              "        [9.0795e-01],\n",
              "        [8.4858e-02],\n",
              "        [9.7399e-01],\n",
              "        [1.0000e+00],\n",
              "        [3.1593e-10],\n",
              "        [9.3940e-01],\n",
              "        [1.0000e+00],\n",
              "        [9.9759e-01],\n",
              "        [9.6725e-01],\n",
              "        [9.8765e-01],\n",
              "        [1.0000e+00],\n",
              "        [9.5278e-01],\n",
              "        [1.0000e+00],\n",
              "        [7.9201e-04],\n",
              "        [1.0251e-03],\n",
              "        [8.1528e-02],\n",
              "        [9.7467e-01],\n",
              "        [1.0702e-03],\n",
              "        [1.0407e-03],\n",
              "        [6.5839e-01],\n",
              "        [9.7260e-01],\n",
              "        [8.9037e-01],\n",
              "        [1.6286e-03],\n",
              "        [3.9885e-03],\n",
              "        [6.1801e-01],\n",
              "        [6.5521e-03],\n",
              "        [9.9867e-01],\n",
              "        [1.3985e-02],\n",
              "        [1.5177e-02],\n",
              "        [6.4741e-01],\n",
              "        [4.8873e-04],\n",
              "        [8.5324e-01],\n",
              "        [9.9960e-01],\n",
              "        [9.9636e-01],\n",
              "        [1.4436e-02],\n",
              "        [9.5654e-01],\n",
              "        [1.0000e+00],\n",
              "        [6.0311e-03],\n",
              "        [9.9615e-01],\n",
              "        [9.1275e-01],\n",
              "        [9.3217e-01],\n",
              "        [9.6718e-01],\n",
              "        [6.4029e-03],\n",
              "        [6.4380e-01],\n",
              "        [8.3580e-01],\n",
              "        [6.5839e-01],\n",
              "        [9.9991e-01],\n",
              "        [1.0000e+00],\n",
              "        [1.0000e+00],\n",
              "        [9.9997e-01],\n",
              "        [6.5839e-01],\n",
              "        [9.9990e-01],\n",
              "        [5.4985e-03],\n",
              "        [4.9167e-01],\n",
              "        [9.9964e-01],\n",
              "        [9.2941e-01],\n",
              "        [9.2969e-01],\n",
              "        [1.5178e-02],\n",
              "        [5.3747e-10],\n",
              "        [9.7468e-01],\n",
              "        [1.4032e-06],\n",
              "        [6.5839e-01],\n",
              "        [9.9994e-01],\n",
              "        [5.5269e-03],\n",
              "        [1.1445e-09],\n",
              "        [9.9204e-01],\n",
              "        [9.8438e-01],\n",
              "        [8.3136e-03],\n",
              "        [2.9133e-05],\n",
              "        [9.9853e-01],\n",
              "        [9.9866e-01],\n",
              "        [1.0000e+00],\n",
              "        [1.0000e+00],\n",
              "        [6.5165e-01],\n",
              "        [7.4832e-01],\n",
              "        [9.5033e-01],\n",
              "        [2.7671e-11],\n",
              "        [5.4240e-07],\n",
              "        [1.8463e-03],\n",
              "        [9.3955e-01],\n",
              "        [1.5090e-01],\n",
              "        [9.9225e-01],\n",
              "        [1.9024e-02],\n",
              "        [9.6203e-01],\n",
              "        [9.9861e-01],\n",
              "        [9.7440e-01],\n",
              "        [6.5617e-01],\n",
              "        [8.8694e-01],\n",
              "        [1.0000e+00],\n",
              "        [2.3113e-01],\n",
              "        [6.5839e-01],\n",
              "        [9.5631e-01],\n",
              "        [5.0454e-01],\n",
              "        [1.5945e-01],\n",
              "        [4.0628e-04],\n",
              "        [5.2953e-03],\n",
              "        [7.3352e-01],\n",
              "        [3.2402e-02],\n",
              "        [2.6765e-02],\n",
              "        [7.8874e-04],\n",
              "        [5.7914e-01],\n",
              "        [2.2625e-01],\n",
              "        [1.0000e+00],\n",
              "        [6.7518e-02],\n",
              "        [9.9982e-01],\n",
              "        [4.9561e-01],\n",
              "        [5.7850e-04],\n",
              "        [9.1559e-01],\n",
              "        [1.9042e-06],\n",
              "        [6.5839e-01],\n",
              "        [5.9679e-01],\n",
              "        [1.9636e-01],\n",
              "        [9.6240e-01],\n",
              "        [9.9770e-01],\n",
              "        [8.0446e-07],\n",
              "        [5.5702e-11],\n",
              "        [9.9833e-01],\n",
              "        [8.9794e-01],\n",
              "        [1.0000e+00],\n",
              "        [1.3421e-02],\n",
              "        [7.1111e-01],\n",
              "        [2.2485e-01],\n",
              "        [9.8012e-01],\n",
              "        [8.9910e-01],\n",
              "        [7.6174e-01],\n",
              "        [6.0377e-01],\n",
              "        [5.9188e-02],\n",
              "        [1.0000e+00],\n",
              "        [9.9448e-01],\n",
              "        [6.9433e-05],\n",
              "        [1.0000e+00],\n",
              "        [7.5092e-01],\n",
              "        [1.9316e-13],\n",
              "        [1.2145e-03],\n",
              "        [9.9093e-01],\n",
              "        [2.3531e-03],\n",
              "        [6.5839e-01],\n",
              "        [1.0000e+00],\n",
              "        [9.8656e-01],\n",
              "        [6.5839e-01],\n",
              "        [7.5893e-02],\n",
              "        [9.9992e-01],\n",
              "        [9.4639e-01],\n",
              "        [9.5164e-01],\n",
              "        [9.8752e-01],\n",
              "        [7.3292e-01],\n",
              "        [7.3875e-06],\n",
              "        [6.8197e-01],\n",
              "        [6.2376e-05],\n",
              "        [1.1045e-01],\n",
              "        [9.7453e-07],\n",
              "        [3.5549e-01],\n",
              "        [5.7963e-06],\n",
              "        [4.7036e-01],\n",
              "        [8.1311e-05],\n",
              "        [1.7090e-01],\n",
              "        [1.6782e-04],\n",
              "        [7.4621e-02],\n",
              "        [1.7856e-02],\n",
              "        [2.7464e-01],\n",
              "        [1.2144e-03],\n",
              "        [3.3452e-19],\n",
              "        [9.8831e-01],\n",
              "        [9.2674e-01],\n",
              "        [9.9979e-01],\n",
              "        [9.9987e-01],\n",
              "        [9.8356e-01],\n",
              "        [9.7255e-01],\n",
              "        [1.1224e-08],\n",
              "        [1.0000e+00],\n",
              "        [2.4590e-02],\n",
              "        [9.9760e-01],\n",
              "        [9.6968e-01],\n",
              "        [2.6730e-01],\n",
              "        [5.3548e-01],\n",
              "        [1.0000e+00],\n",
              "        [3.5221e-05],\n",
              "        [7.8936e-01],\n",
              "        [1.1570e-03],\n",
              "        [4.2427e-01],\n",
              "        [7.7596e-01],\n",
              "        [9.4740e-01],\n",
              "        [9.6652e-01],\n",
              "        [6.5839e-01],\n",
              "        [9.9536e-01],\n",
              "        [9.9842e-01],\n",
              "        [7.5236e-01],\n",
              "        [6.0246e-01],\n",
              "        [1.0000e+00],\n",
              "        [8.8096e-01],\n",
              "        [9.9997e-01],\n",
              "        [9.8865e-01],\n",
              "        [9.1900e-01],\n",
              "        [6.0084e-01],\n",
              "        [6.0485e-01],\n",
              "        [9.3584e-01],\n",
              "        [1.7327e-08],\n",
              "        [9.8965e-01],\n",
              "        [1.1780e-04],\n",
              "        [9.8388e-01],\n",
              "        [7.2368e-01],\n",
              "        [9.9512e-01],\n",
              "        [9.1751e-01],\n",
              "        [1.0000e+00],\n",
              "        [8.0056e-01],\n",
              "        [6.8517e-01],\n",
              "        [9.8139e-01],\n",
              "        [5.2027e-01],\n",
              "        [8.8353e-01],\n",
              "        [1.0000e+00],\n",
              "        [1.0000e+00],\n",
              "        [9.7282e-01],\n",
              "        [9.7258e-01],\n",
              "        [1.3528e-03],\n",
              "        [1.0000e+00],\n",
              "        [9.5878e-01],\n",
              "        [9.9855e-01],\n",
              "        [5.7798e-03],\n",
              "        [7.3678e-01],\n",
              "        [4.0622e-06],\n",
              "        [9.1345e-01],\n",
              "        [9.5768e-01],\n",
              "        [6.3539e-01],\n",
              "        [9.6156e-01],\n",
              "        [2.8287e-04],\n",
              "        [6.3539e-01],\n",
              "        [1.9536e-01],\n",
              "        [9.4283e-01],\n",
              "        [1.0000e+00],\n",
              "        [9.9216e-01],\n",
              "        [9.4020e-01],\n",
              "        [1.0327e-03],\n",
              "        [9.8364e-01],\n",
              "        [1.1489e-06],\n",
              "        [1.0000e+00],\n",
              "        [4.0073e-11],\n",
              "        [4.8270e-01],\n",
              "        [1.0000e+00],\n",
              "        [9.9157e-01],\n",
              "        [1.2894e-02],\n",
              "        [6.7316e-01],\n",
              "        [9.9653e-01],\n",
              "        [6.9550e-01],\n",
              "        [5.5211e-01],\n",
              "        [9.9526e-01],\n",
              "        [6.5839e-01],\n",
              "        [8.7111e-01],\n",
              "        [4.2837e-03],\n",
              "        [8.4196e-12],\n",
              "        [3.4234e-02],\n",
              "        [1.0000e+00],\n",
              "        [9.2964e-01],\n",
              "        [9.9321e-01],\n",
              "        [6.6512e-01],\n",
              "        [1.0000e+00],\n",
              "        [1.0000e+00],\n",
              "        [9.0010e-01],\n",
              "        [6.5839e-01],\n",
              "        [8.2749e-01],\n",
              "        [5.8327e-01],\n",
              "        [9.9958e-01],\n",
              "        [7.3049e-04],\n",
              "        [1.4782e-03],\n",
              "        [7.6996e-01],\n",
              "        [1.1304e-15],\n",
              "        [5.8087e-07],\n",
              "        [6.1518e-02],\n",
              "        [8.4401e-01],\n",
              "        [1.6491e-01],\n",
              "        [4.3876e-05],\n",
              "        [9.5278e-01],\n",
              "        [9.7793e-01],\n",
              "        [1.0000e+00],\n",
              "        [9.8965e-01],\n",
              "        [9.6705e-01],\n",
              "        [7.6617e-01],\n",
              "        [9.9763e-01],\n",
              "        [8.7547e-01],\n",
              "        [1.0000e+00],\n",
              "        [6.5839e-01],\n",
              "        [9.6313e-01],\n",
              "        [6.5839e-01],\n",
              "        [9.6923e-01],\n",
              "        [7.4102e-01],\n",
              "        [9.9950e-01],\n",
              "        [1.9882e-01],\n",
              "        [9.8461e-01],\n",
              "        [1.0000e+00],\n",
              "        [1.6888e-05],\n",
              "        [1.8661e-06],\n",
              "        [9.7196e-01],\n",
              "        [9.4426e-01],\n",
              "        [9.3847e-01],\n",
              "        [6.6690e-01],\n",
              "        [9.2899e-01],\n",
              "        [8.6872e-01],\n",
              "        [1.7810e-02],\n",
              "        [6.5113e-01],\n",
              "        [6.8199e-01],\n",
              "        [6.5839e-01],\n",
              "        [9.4044e-01],\n",
              "        [9.8363e-01],\n",
              "        [8.0692e-01],\n",
              "        [9.9960e-01],\n",
              "        [2.1874e-02],\n",
              "        [7.3937e-01],\n",
              "        [9.9043e-01],\n",
              "        [9.7363e-01],\n",
              "        [1.0000e+00],\n",
              "        [6.4681e-01],\n",
              "        [3.5719e-01],\n",
              "        [9.6573e-01],\n",
              "        [1.0000e+00],\n",
              "        [1.4408e-08],\n",
              "        [9.5760e-01],\n",
              "        [9.9230e-01],\n",
              "        [9.4598e-01],\n",
              "        [6.1447e-01],\n",
              "        [9.8911e-01],\n",
              "        [6.4354e-01],\n",
              "        [1.0000e+00],\n",
              "        [9.9998e-01],\n",
              "        [8.6310e-01],\n",
              "        [9.9784e-01],\n",
              "        [1.0000e+00],\n",
              "        [9.3951e-01],\n",
              "        [1.6501e-01],\n",
              "        [9.9877e-01],\n",
              "        [1.6594e-01],\n",
              "        [5.1588e-04],\n",
              "        [9.0143e-01],\n",
              "        [1.0459e-01],\n",
              "        [9.0828e-01],\n",
              "        [6.5839e-01],\n",
              "        [6.7071e-01],\n",
              "        [9.3192e-01],\n",
              "        [9.3179e-01],\n",
              "        [2.0990e-02],\n",
              "        [8.0874e-01],\n",
              "        [9.9999e-01],\n",
              "        [1.0020e-02],\n",
              "        [9.9949e-01],\n",
              "        [2.9870e-03],\n",
              "        [6.7802e-01],\n",
              "        [6.3594e-01],\n",
              "        [1.3818e-05],\n",
              "        [8.9786e-01],\n",
              "        [1.5051e-01],\n",
              "        [9.9220e-01],\n",
              "        [7.3277e-01],\n",
              "        [9.7849e-01],\n",
              "        [9.4699e-01],\n",
              "        [9.9997e-01],\n",
              "        [9.4961e-01],\n",
              "        [6.8290e-01],\n",
              "        [1.0000e+00],\n",
              "        [8.1451e-06],\n",
              "        [6.8954e-26],\n",
              "        [9.6238e-01],\n",
              "        [9.7345e-01],\n",
              "        [6.5839e-01],\n",
              "        [4.4584e-01],\n",
              "        [8.2845e-01],\n",
              "        [1.0000e+00],\n",
              "        [2.1395e-03],\n",
              "        [9.7004e-01],\n",
              "        [1.0000e+00],\n",
              "        [9.9904e-01],\n",
              "        [4.8606e-01],\n",
              "        [1.0000e+00],\n",
              "        [1.0000e+00],\n",
              "        [9.8128e-01],\n",
              "        [5.1862e-01],\n",
              "        [9.1087e-01],\n",
              "        [9.7908e-01],\n",
              "        [5.8443e-01],\n",
              "        [9.6407e-01],\n",
              "        [4.2313e-01],\n",
              "        [9.3105e-01],\n",
              "        [8.9093e-01],\n",
              "        [6.5839e-01],\n",
              "        [6.5839e-01],\n",
              "        [6.2784e-01],\n",
              "        [1.2036e-04],\n",
              "        [6.5839e-01],\n",
              "        [1.5590e-01],\n",
              "        [6.4468e-01],\n",
              "        [1.7348e-01],\n",
              "        [1.4207e-03],\n",
              "        [9.3201e-01],\n",
              "        [7.7296e-01],\n",
              "        [7.6057e-01],\n",
              "        [8.1726e-01],\n",
              "        [6.5839e-01],\n",
              "        [2.9122e-04],\n",
              "        [1.4520e-03],\n",
              "        [6.1790e-01],\n",
              "        [5.7743e-01],\n",
              "        [6.5839e-01],\n",
              "        [6.1957e-11],\n",
              "        [1.0000e+00],\n",
              "        [1.0000e+00],\n",
              "        [9.9792e-01],\n",
              "        [9.9670e-01],\n",
              "        [7.3465e-01],\n",
              "        [2.7847e-01],\n",
              "        [9.8409e-01],\n",
              "        [9.0797e-01],\n",
              "        [2.0488e-01],\n",
              "        [5.4865e-01],\n",
              "        [1.4935e-02],\n",
              "        [9.7741e-01],\n",
              "        [1.7860e-03],\n",
              "        [4.6915e-03],\n",
              "        [6.2518e-01],\n",
              "        [9.9768e-01],\n",
              "        [1.0000e+00],\n",
              "        [6.2241e-13],\n",
              "        [1.0000e+00],\n",
              "        [6.5839e-01],\n",
              "        [1.0000e+00],\n",
              "        [1.0000e+00],\n",
              "        [8.3957e-01],\n",
              "        [1.0000e+00],\n",
              "        [9.9763e-01],\n",
              "        [6.5839e-01],\n",
              "        [9.8980e-01],\n",
              "        [9.9310e-01],\n",
              "        [6.0712e-01],\n",
              "        [6.9166e-03],\n",
              "        [9.9956e-01],\n",
              "        [5.3218e-04],\n",
              "        [6.5839e-01],\n",
              "        [9.9798e-01],\n",
              "        [1.0000e+00],\n",
              "        [1.0000e+00],\n",
              "        [9.9066e-01],\n",
              "        [5.9270e-01],\n",
              "        [9.1168e-01],\n",
              "        [9.4786e-01],\n",
              "        [9.6083e-01],\n",
              "        [6.1426e-01],\n",
              "        [8.9867e-01],\n",
              "        [1.0000e+00],\n",
              "        [1.0000e+00],\n",
              "        [9.8106e-01],\n",
              "        [9.5713e-01],\n",
              "        [9.9999e-01],\n",
              "        [8.8514e-01],\n",
              "        [1.0000e+00],\n",
              "        [9.8284e-01],\n",
              "        [9.9998e-01],\n",
              "        [9.8716e-01],\n",
              "        [1.0000e+00],\n",
              "        [6.5839e-01],\n",
              "        [9.9889e-01],\n",
              "        [6.8220e-01],\n",
              "        [1.0000e+00],\n",
              "        [2.5049e-01],\n",
              "        [6.8551e-04],\n",
              "        [2.1149e-06],\n",
              "        [2.1934e-04],\n",
              "        [9.3483e-02],\n",
              "        [1.4265e-07],\n",
              "        [1.0000e+00]])"
            ]
          },
          "metadata": {},
          "execution_count": 88
        }
      ]
    },
    {
      "cell_type": "code",
      "source": [
        "F.binary_cross_entropy(previsoes, classe).numpy()"
      ],
      "metadata": {
        "colab": {
          "base_uri": "https://localhost:8080/"
        },
        "id": "PkcxRHlF6LJF",
        "outputId": "b39328db-3a42-4e49-8364-5d890bc626c8"
      },
      "execution_count": 89,
      "outputs": [
        {
          "output_type": "execute_result",
          "data": {
            "text/plain": [
              "array(0.16279869, dtype=float32)"
            ]
          },
          "metadata": {},
          "execution_count": 89
        }
      ]
    },
    {
      "cell_type": "code",
      "source": [
        "accuracy_score(classe.numpy(), (previsoes > 0.5).numpy())"
      ],
      "metadata": {
        "colab": {
          "base_uri": "https://localhost:8080/"
        },
        "id": "72TcZh0z6Lwn",
        "outputId": "e405aaff-a83e-41cb-c329-d71c379d6b57"
      },
      "execution_count": 90,
      "outputs": [
        {
          "output_type": "execute_result",
          "data": {
            "text/plain": [
              "0.9402460456942003"
            ]
          },
          "metadata": {},
          "execution_count": 90
        }
      ]
    },
    {
      "cell_type": "code",
      "source": [
        ""
      ],
      "metadata": {
        "id": "SQ3wFVg86NmS"
      },
      "execution_count": null,
      "outputs": []
    }
  ]
}