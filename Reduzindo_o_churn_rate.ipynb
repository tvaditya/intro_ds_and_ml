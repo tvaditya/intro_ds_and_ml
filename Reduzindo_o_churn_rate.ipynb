{
  "nbformat": 4,
  "nbformat_minor": 0,
  "metadata": {
    "colab": {
      "name": "Reduzindo o churn rate.ipynb",
      "provenance": [],
      "collapsed_sections": [],
      "authorship_tag": "ABX9TyPccjIDRPG2wcAi5klPGhue",
      "include_colab_link": true
    },
    "kernelspec": {
      "name": "python3",
      "display_name": "Python 3"
    },
    "language_info": {
      "name": "python"
    }
  },
  "cells": [
    {
      "cell_type": "markdown",
      "metadata": {
        "id": "view-in-github",
        "colab_type": "text"
      },
      "source": [
        "<a href=\"https://colab.research.google.com/github/tvaditya/intro_ds_and_ml/blob/main/Reduzindo_o_churn_rate.ipynb\" target=\"_parent\"><img src=\"https://colab.research.google.com/assets/colab-badge.svg\" alt=\"Open In Colab\"/></a>"
      ]
    },
    {
      "cell_type": "code",
      "metadata": {
        "id": "w8jlVFPE7gO5"
      },
      "source": [
        "import pandas as pd\n",
        "import matplotlib.pyplot as plt\n",
        "import numpy as np\n",
        "import seaborn as sn"
      ],
      "execution_count": 1,
      "outputs": []
    },
    {
      "cell_type": "code",
      "metadata": {
        "id": "qz7t_QjX8grM"
      },
      "source": [
        "df = pd.read_csv('https://raw.githubusercontent.com/tvaditya/intro_ds_and_ml/main/churn_data.csv')"
      ],
      "execution_count": 2,
      "outputs": []
    },
    {
      "cell_type": "code",
      "metadata": {
        "colab": {
          "base_uri": "https://localhost:8080/",
          "height": 226
        },
        "id": "upIMGLaC9AwN",
        "outputId": "21ef3ff6-cd0c-4570-f2fc-56bbbfa03cbb"
      },
      "source": [
        "df.head()"
      ],
      "execution_count": 3,
      "outputs": [
        {
          "output_type": "execute_result",
          "data": {
            "text/html": [
              "<div>\n",
              "<style scoped>\n",
              "    .dataframe tbody tr th:only-of-type {\n",
              "        vertical-align: middle;\n",
              "    }\n",
              "\n",
              "    .dataframe tbody tr th {\n",
              "        vertical-align: top;\n",
              "    }\n",
              "\n",
              "    .dataframe thead th {\n",
              "        text-align: right;\n",
              "    }\n",
              "</style>\n",
              "<table border=\"1\" class=\"dataframe\">\n",
              "  <thead>\n",
              "    <tr style=\"text-align: right;\">\n",
              "      <th></th>\n",
              "      <th>user</th>\n",
              "      <th>churn</th>\n",
              "      <th>age</th>\n",
              "      <th>housing</th>\n",
              "      <th>credit_score</th>\n",
              "      <th>deposits</th>\n",
              "      <th>withdrawal</th>\n",
              "      <th>purchases_partners</th>\n",
              "      <th>purchases</th>\n",
              "      <th>cc_taken</th>\n",
              "      <th>cc_recommended</th>\n",
              "      <th>cc_disliked</th>\n",
              "      <th>cc_liked</th>\n",
              "      <th>cc_application_begin</th>\n",
              "      <th>app_downloaded</th>\n",
              "      <th>web_user</th>\n",
              "      <th>app_web_user</th>\n",
              "      <th>ios_user</th>\n",
              "      <th>android_user</th>\n",
              "      <th>registered_phones</th>\n",
              "      <th>payment_type</th>\n",
              "      <th>waiting_4_loan</th>\n",
              "      <th>cancelled_loan</th>\n",
              "      <th>received_loan</th>\n",
              "      <th>rejected_loan</th>\n",
              "      <th>zodiac_sign</th>\n",
              "      <th>left_for_two_month_plus</th>\n",
              "      <th>left_for_one_month</th>\n",
              "      <th>rewards_earned</th>\n",
              "      <th>reward_rate</th>\n",
              "      <th>is_referred</th>\n",
              "    </tr>\n",
              "  </thead>\n",
              "  <tbody>\n",
              "    <tr>\n",
              "      <th>0</th>\n",
              "      <td>55409</td>\n",
              "      <td>0</td>\n",
              "      <td>37.0</td>\n",
              "      <td>na</td>\n",
              "      <td>NaN</td>\n",
              "      <td>0</td>\n",
              "      <td>0</td>\n",
              "      <td>0</td>\n",
              "      <td>0</td>\n",
              "      <td>0</td>\n",
              "      <td>0</td>\n",
              "      <td>0</td>\n",
              "      <td>0</td>\n",
              "      <td>0</td>\n",
              "      <td>1</td>\n",
              "      <td>1</td>\n",
              "      <td>1</td>\n",
              "      <td>1</td>\n",
              "      <td>0</td>\n",
              "      <td>0</td>\n",
              "      <td>Bi-Weekly</td>\n",
              "      <td>0</td>\n",
              "      <td>0</td>\n",
              "      <td>0</td>\n",
              "      <td>0</td>\n",
              "      <td>Leo</td>\n",
              "      <td>1</td>\n",
              "      <td>0</td>\n",
              "      <td>NaN</td>\n",
              "      <td>0.00</td>\n",
              "      <td>0</td>\n",
              "    </tr>\n",
              "    <tr>\n",
              "      <th>1</th>\n",
              "      <td>23547</td>\n",
              "      <td>0</td>\n",
              "      <td>28.0</td>\n",
              "      <td>R</td>\n",
              "      <td>486.0</td>\n",
              "      <td>0</td>\n",
              "      <td>0</td>\n",
              "      <td>1</td>\n",
              "      <td>0</td>\n",
              "      <td>0</td>\n",
              "      <td>96</td>\n",
              "      <td>0</td>\n",
              "      <td>0</td>\n",
              "      <td>5</td>\n",
              "      <td>1</td>\n",
              "      <td>1</td>\n",
              "      <td>1</td>\n",
              "      <td>1</td>\n",
              "      <td>0</td>\n",
              "      <td>0</td>\n",
              "      <td>Weekly</td>\n",
              "      <td>0</td>\n",
              "      <td>0</td>\n",
              "      <td>0</td>\n",
              "      <td>0</td>\n",
              "      <td>Leo</td>\n",
              "      <td>0</td>\n",
              "      <td>0</td>\n",
              "      <td>44.0</td>\n",
              "      <td>1.47</td>\n",
              "      <td>1</td>\n",
              "    </tr>\n",
              "    <tr>\n",
              "      <th>2</th>\n",
              "      <td>58313</td>\n",
              "      <td>0</td>\n",
              "      <td>35.0</td>\n",
              "      <td>R</td>\n",
              "      <td>561.0</td>\n",
              "      <td>47</td>\n",
              "      <td>2</td>\n",
              "      <td>86</td>\n",
              "      <td>47</td>\n",
              "      <td>0</td>\n",
              "      <td>285</td>\n",
              "      <td>0</td>\n",
              "      <td>0</td>\n",
              "      <td>9</td>\n",
              "      <td>1</td>\n",
              "      <td>0</td>\n",
              "      <td>0</td>\n",
              "      <td>0</td>\n",
              "      <td>1</td>\n",
              "      <td>2</td>\n",
              "      <td>Semi-Monthly</td>\n",
              "      <td>0</td>\n",
              "      <td>0</td>\n",
              "      <td>0</td>\n",
              "      <td>0</td>\n",
              "      <td>Capricorn</td>\n",
              "      <td>1</td>\n",
              "      <td>0</td>\n",
              "      <td>65.0</td>\n",
              "      <td>2.17</td>\n",
              "      <td>0</td>\n",
              "    </tr>\n",
              "    <tr>\n",
              "      <th>3</th>\n",
              "      <td>8095</td>\n",
              "      <td>0</td>\n",
              "      <td>26.0</td>\n",
              "      <td>R</td>\n",
              "      <td>567.0</td>\n",
              "      <td>26</td>\n",
              "      <td>3</td>\n",
              "      <td>38</td>\n",
              "      <td>25</td>\n",
              "      <td>0</td>\n",
              "      <td>74</td>\n",
              "      <td>0</td>\n",
              "      <td>0</td>\n",
              "      <td>26</td>\n",
              "      <td>1</td>\n",
              "      <td>0</td>\n",
              "      <td>0</td>\n",
              "      <td>0</td>\n",
              "      <td>1</td>\n",
              "      <td>0</td>\n",
              "      <td>Bi-Weekly</td>\n",
              "      <td>0</td>\n",
              "      <td>0</td>\n",
              "      <td>0</td>\n",
              "      <td>0</td>\n",
              "      <td>Capricorn</td>\n",
              "      <td>0</td>\n",
              "      <td>0</td>\n",
              "      <td>33.0</td>\n",
              "      <td>1.10</td>\n",
              "      <td>1</td>\n",
              "    </tr>\n",
              "    <tr>\n",
              "      <th>4</th>\n",
              "      <td>61353</td>\n",
              "      <td>1</td>\n",
              "      <td>27.0</td>\n",
              "      <td>na</td>\n",
              "      <td>NaN</td>\n",
              "      <td>0</td>\n",
              "      <td>0</td>\n",
              "      <td>2</td>\n",
              "      <td>0</td>\n",
              "      <td>0</td>\n",
              "      <td>0</td>\n",
              "      <td>0</td>\n",
              "      <td>0</td>\n",
              "      <td>0</td>\n",
              "      <td>1</td>\n",
              "      <td>1</td>\n",
              "      <td>1</td>\n",
              "      <td>0</td>\n",
              "      <td>1</td>\n",
              "      <td>0</td>\n",
              "      <td>Bi-Weekly</td>\n",
              "      <td>0</td>\n",
              "      <td>0</td>\n",
              "      <td>0</td>\n",
              "      <td>0</td>\n",
              "      <td>Aries</td>\n",
              "      <td>1</td>\n",
              "      <td>0</td>\n",
              "      <td>1.0</td>\n",
              "      <td>0.03</td>\n",
              "      <td>0</td>\n",
              "    </tr>\n",
              "  </tbody>\n",
              "</table>\n",
              "</div>"
            ],
            "text/plain": [
              "    user  churn   age  ... rewards_earned  reward_rate  is_referred\n",
              "0  55409      0  37.0  ...            NaN         0.00            0\n",
              "1  23547      0  28.0  ...           44.0         1.47            1\n",
              "2  58313      0  35.0  ...           65.0         2.17            0\n",
              "3   8095      0  26.0  ...           33.0         1.10            1\n",
              "4  61353      1  27.0  ...            1.0         0.03            0\n",
              "\n",
              "[5 rows x 31 columns]"
            ]
          },
          "metadata": {},
          "execution_count": 3
        }
      ]
    },
    {
      "cell_type": "code",
      "metadata": {
        "colab": {
          "base_uri": "https://localhost:8080/"
        },
        "id": "xyjy8FMz9EEI",
        "outputId": "0f26929f-e15d-4582-e781-458cc1aeaeda"
      },
      "source": [
        "df.shape"
      ],
      "execution_count": 4,
      "outputs": [
        {
          "output_type": "execute_result",
          "data": {
            "text/plain": [
              "(27000, 31)"
            ]
          },
          "metadata": {},
          "execution_count": 4
        }
      ]
    },
    {
      "cell_type": "code",
      "metadata": {
        "colab": {
          "base_uri": "https://localhost:8080/"
        },
        "id": "ywX77ePM9GEj",
        "outputId": "91f36966-090a-4df3-a483-240cf19b89c2"
      },
      "source": [
        "df.dtypes"
      ],
      "execution_count": 5,
      "outputs": [
        {
          "output_type": "execute_result",
          "data": {
            "text/plain": [
              "user                         int64\n",
              "churn                        int64\n",
              "age                        float64\n",
              "housing                     object\n",
              "credit_score               float64\n",
              "deposits                     int64\n",
              "withdrawal                   int64\n",
              "purchases_partners           int64\n",
              "purchases                    int64\n",
              "cc_taken                     int64\n",
              "cc_recommended               int64\n",
              "cc_disliked                  int64\n",
              "cc_liked                     int64\n",
              "cc_application_begin         int64\n",
              "app_downloaded               int64\n",
              "web_user                     int64\n",
              "app_web_user                 int64\n",
              "ios_user                     int64\n",
              "android_user                 int64\n",
              "registered_phones            int64\n",
              "payment_type                object\n",
              "waiting_4_loan               int64\n",
              "cancelled_loan               int64\n",
              "received_loan                int64\n",
              "rejected_loan                int64\n",
              "zodiac_sign                 object\n",
              "left_for_two_month_plus      int64\n",
              "left_for_one_month           int64\n",
              "rewards_earned             float64\n",
              "reward_rate                float64\n",
              "is_referred                  int64\n",
              "dtype: object"
            ]
          },
          "metadata": {},
          "execution_count": 5
        }
      ]
    },
    {
      "cell_type": "code",
      "metadata": {
        "colab": {
          "base_uri": "https://localhost:8080/",
          "height": 320
        },
        "id": "dpkKp9G-9Y7A",
        "outputId": "b81c0961-8476-4f01-8f90-5f2a023877ca"
      },
      "source": [
        "df.describe()"
      ],
      "execution_count": 6,
      "outputs": [
        {
          "output_type": "execute_result",
          "data": {
            "text/html": [
              "<div>\n",
              "<style scoped>\n",
              "    .dataframe tbody tr th:only-of-type {\n",
              "        vertical-align: middle;\n",
              "    }\n",
              "\n",
              "    .dataframe tbody tr th {\n",
              "        vertical-align: top;\n",
              "    }\n",
              "\n",
              "    .dataframe thead th {\n",
              "        text-align: right;\n",
              "    }\n",
              "</style>\n",
              "<table border=\"1\" class=\"dataframe\">\n",
              "  <thead>\n",
              "    <tr style=\"text-align: right;\">\n",
              "      <th></th>\n",
              "      <th>user</th>\n",
              "      <th>churn</th>\n",
              "      <th>age</th>\n",
              "      <th>credit_score</th>\n",
              "      <th>deposits</th>\n",
              "      <th>withdrawal</th>\n",
              "      <th>purchases_partners</th>\n",
              "      <th>purchases</th>\n",
              "      <th>cc_taken</th>\n",
              "      <th>cc_recommended</th>\n",
              "      <th>cc_disliked</th>\n",
              "      <th>cc_liked</th>\n",
              "      <th>cc_application_begin</th>\n",
              "      <th>app_downloaded</th>\n",
              "      <th>web_user</th>\n",
              "      <th>app_web_user</th>\n",
              "      <th>ios_user</th>\n",
              "      <th>android_user</th>\n",
              "      <th>registered_phones</th>\n",
              "      <th>waiting_4_loan</th>\n",
              "      <th>cancelled_loan</th>\n",
              "      <th>received_loan</th>\n",
              "      <th>rejected_loan</th>\n",
              "      <th>left_for_two_month_plus</th>\n",
              "      <th>left_for_one_month</th>\n",
              "      <th>rewards_earned</th>\n",
              "      <th>reward_rate</th>\n",
              "      <th>is_referred</th>\n",
              "    </tr>\n",
              "  </thead>\n",
              "  <tbody>\n",
              "    <tr>\n",
              "      <th>count</th>\n",
              "      <td>27000.000000</td>\n",
              "      <td>27000.000000</td>\n",
              "      <td>26996.000000</td>\n",
              "      <td>18969.000000</td>\n",
              "      <td>27000.000000</td>\n",
              "      <td>27000.000000</td>\n",
              "      <td>27000.000000</td>\n",
              "      <td>27000.000000</td>\n",
              "      <td>27000.000000</td>\n",
              "      <td>27000.000000</td>\n",
              "      <td>27000.000000</td>\n",
              "      <td>27000.000000</td>\n",
              "      <td>27000.000000</td>\n",
              "      <td>27000.000000</td>\n",
              "      <td>27000.000000</td>\n",
              "      <td>27000.000000</td>\n",
              "      <td>27000.000000</td>\n",
              "      <td>27000.000000</td>\n",
              "      <td>27000.000000</td>\n",
              "      <td>27000.000000</td>\n",
              "      <td>27000.000000</td>\n",
              "      <td>27000.000000</td>\n",
              "      <td>27000.000000</td>\n",
              "      <td>27000.000000</td>\n",
              "      <td>27000.000000</td>\n",
              "      <td>23773.000000</td>\n",
              "      <td>27000.000000</td>\n",
              "      <td>27000.000000</td>\n",
              "    </tr>\n",
              "    <tr>\n",
              "      <th>mean</th>\n",
              "      <td>35422.702519</td>\n",
              "      <td>0.413852</td>\n",
              "      <td>32.219921</td>\n",
              "      <td>542.944225</td>\n",
              "      <td>3.341556</td>\n",
              "      <td>0.307000</td>\n",
              "      <td>28.062519</td>\n",
              "      <td>3.273481</td>\n",
              "      <td>0.073778</td>\n",
              "      <td>92.625778</td>\n",
              "      <td>0.050630</td>\n",
              "      <td>0.013111</td>\n",
              "      <td>8.197852</td>\n",
              "      <td>0.952481</td>\n",
              "      <td>0.606074</td>\n",
              "      <td>0.561741</td>\n",
              "      <td>0.393926</td>\n",
              "      <td>0.587259</td>\n",
              "      <td>0.420926</td>\n",
              "      <td>0.001296</td>\n",
              "      <td>0.018815</td>\n",
              "      <td>0.018185</td>\n",
              "      <td>0.004889</td>\n",
              "      <td>0.173444</td>\n",
              "      <td>0.018074</td>\n",
              "      <td>29.110125</td>\n",
              "      <td>0.907684</td>\n",
              "      <td>0.318037</td>\n",
              "    </tr>\n",
              "    <tr>\n",
              "      <th>std</th>\n",
              "      <td>20321.006678</td>\n",
              "      <td>0.492532</td>\n",
              "      <td>9.964838</td>\n",
              "      <td>61.059315</td>\n",
              "      <td>9.131406</td>\n",
              "      <td>1.055416</td>\n",
              "      <td>42.219686</td>\n",
              "      <td>8.953077</td>\n",
              "      <td>0.437299</td>\n",
              "      <td>88.869343</td>\n",
              "      <td>0.871366</td>\n",
              "      <td>0.238158</td>\n",
              "      <td>12.497243</td>\n",
              "      <td>0.212749</td>\n",
              "      <td>0.488628</td>\n",
              "      <td>0.496183</td>\n",
              "      <td>0.488628</td>\n",
              "      <td>0.492336</td>\n",
              "      <td>0.912831</td>\n",
              "      <td>0.035981</td>\n",
              "      <td>0.135873</td>\n",
              "      <td>0.133623</td>\n",
              "      <td>0.069751</td>\n",
              "      <td>0.378638</td>\n",
              "      <td>0.133222</td>\n",
              "      <td>21.973478</td>\n",
              "      <td>0.752016</td>\n",
              "      <td>0.465723</td>\n",
              "    </tr>\n",
              "    <tr>\n",
              "      <th>min</th>\n",
              "      <td>1.000000</td>\n",
              "      <td>0.000000</td>\n",
              "      <td>17.000000</td>\n",
              "      <td>2.000000</td>\n",
              "      <td>0.000000</td>\n",
              "      <td>0.000000</td>\n",
              "      <td>0.000000</td>\n",
              "      <td>0.000000</td>\n",
              "      <td>0.000000</td>\n",
              "      <td>0.000000</td>\n",
              "      <td>0.000000</td>\n",
              "      <td>0.000000</td>\n",
              "      <td>0.000000</td>\n",
              "      <td>0.000000</td>\n",
              "      <td>0.000000</td>\n",
              "      <td>0.000000</td>\n",
              "      <td>0.000000</td>\n",
              "      <td>0.000000</td>\n",
              "      <td>0.000000</td>\n",
              "      <td>0.000000</td>\n",
              "      <td>0.000000</td>\n",
              "      <td>0.000000</td>\n",
              "      <td>0.000000</td>\n",
              "      <td>0.000000</td>\n",
              "      <td>0.000000</td>\n",
              "      <td>1.000000</td>\n",
              "      <td>0.000000</td>\n",
              "      <td>0.000000</td>\n",
              "    </tr>\n",
              "    <tr>\n",
              "      <th>25%</th>\n",
              "      <td>17810.500000</td>\n",
              "      <td>0.000000</td>\n",
              "      <td>25.000000</td>\n",
              "      <td>507.000000</td>\n",
              "      <td>0.000000</td>\n",
              "      <td>0.000000</td>\n",
              "      <td>0.000000</td>\n",
              "      <td>0.000000</td>\n",
              "      <td>0.000000</td>\n",
              "      <td>10.000000</td>\n",
              "      <td>0.000000</td>\n",
              "      <td>0.000000</td>\n",
              "      <td>0.000000</td>\n",
              "      <td>1.000000</td>\n",
              "      <td>0.000000</td>\n",
              "      <td>0.000000</td>\n",
              "      <td>0.000000</td>\n",
              "      <td>0.000000</td>\n",
              "      <td>0.000000</td>\n",
              "      <td>0.000000</td>\n",
              "      <td>0.000000</td>\n",
              "      <td>0.000000</td>\n",
              "      <td>0.000000</td>\n",
              "      <td>0.000000</td>\n",
              "      <td>0.000000</td>\n",
              "      <td>9.000000</td>\n",
              "      <td>0.200000</td>\n",
              "      <td>0.000000</td>\n",
              "    </tr>\n",
              "    <tr>\n",
              "      <th>50%</th>\n",
              "      <td>35749.000000</td>\n",
              "      <td>0.000000</td>\n",
              "      <td>30.000000</td>\n",
              "      <td>542.000000</td>\n",
              "      <td>0.000000</td>\n",
              "      <td>0.000000</td>\n",
              "      <td>9.000000</td>\n",
              "      <td>0.000000</td>\n",
              "      <td>0.000000</td>\n",
              "      <td>65.000000</td>\n",
              "      <td>0.000000</td>\n",
              "      <td>0.000000</td>\n",
              "      <td>4.000000</td>\n",
              "      <td>1.000000</td>\n",
              "      <td>1.000000</td>\n",
              "      <td>1.000000</td>\n",
              "      <td>0.000000</td>\n",
              "      <td>1.000000</td>\n",
              "      <td>0.000000</td>\n",
              "      <td>0.000000</td>\n",
              "      <td>0.000000</td>\n",
              "      <td>0.000000</td>\n",
              "      <td>0.000000</td>\n",
              "      <td>0.000000</td>\n",
              "      <td>0.000000</td>\n",
              "      <td>25.000000</td>\n",
              "      <td>0.780000</td>\n",
              "      <td>0.000000</td>\n",
              "    </tr>\n",
              "    <tr>\n",
              "      <th>75%</th>\n",
              "      <td>53244.250000</td>\n",
              "      <td>1.000000</td>\n",
              "      <td>37.000000</td>\n",
              "      <td>578.000000</td>\n",
              "      <td>1.000000</td>\n",
              "      <td>0.000000</td>\n",
              "      <td>43.000000</td>\n",
              "      <td>1.000000</td>\n",
              "      <td>0.000000</td>\n",
              "      <td>164.000000</td>\n",
              "      <td>0.000000</td>\n",
              "      <td>0.000000</td>\n",
              "      <td>11.000000</td>\n",
              "      <td>1.000000</td>\n",
              "      <td>1.000000</td>\n",
              "      <td>1.000000</td>\n",
              "      <td>1.000000</td>\n",
              "      <td>1.000000</td>\n",
              "      <td>0.000000</td>\n",
              "      <td>0.000000</td>\n",
              "      <td>0.000000</td>\n",
              "      <td>0.000000</td>\n",
              "      <td>0.000000</td>\n",
              "      <td>0.000000</td>\n",
              "      <td>0.000000</td>\n",
              "      <td>48.000000</td>\n",
              "      <td>1.530000</td>\n",
              "      <td>1.000000</td>\n",
              "    </tr>\n",
              "    <tr>\n",
              "      <th>max</th>\n",
              "      <td>69658.000000</td>\n",
              "      <td>1.000000</td>\n",
              "      <td>91.000000</td>\n",
              "      <td>838.000000</td>\n",
              "      <td>65.000000</td>\n",
              "      <td>29.000000</td>\n",
              "      <td>1067.000000</td>\n",
              "      <td>63.000000</td>\n",
              "      <td>29.000000</td>\n",
              "      <td>522.000000</td>\n",
              "      <td>65.000000</td>\n",
              "      <td>27.000000</td>\n",
              "      <td>263.000000</td>\n",
              "      <td>1.000000</td>\n",
              "      <td>1.000000</td>\n",
              "      <td>1.000000</td>\n",
              "      <td>1.000000</td>\n",
              "      <td>1.000000</td>\n",
              "      <td>5.000000</td>\n",
              "      <td>1.000000</td>\n",
              "      <td>1.000000</td>\n",
              "      <td>1.000000</td>\n",
              "      <td>1.000000</td>\n",
              "      <td>1.000000</td>\n",
              "      <td>1.000000</td>\n",
              "      <td>114.000000</td>\n",
              "      <td>4.000000</td>\n",
              "      <td>1.000000</td>\n",
              "    </tr>\n",
              "  </tbody>\n",
              "</table>\n",
              "</div>"
            ],
            "text/plain": [
              "               user         churn  ...   reward_rate   is_referred\n",
              "count  27000.000000  27000.000000  ...  27000.000000  27000.000000\n",
              "mean   35422.702519      0.413852  ...      0.907684      0.318037\n",
              "std    20321.006678      0.492532  ...      0.752016      0.465723\n",
              "min        1.000000      0.000000  ...      0.000000      0.000000\n",
              "25%    17810.500000      0.000000  ...      0.200000      0.000000\n",
              "50%    35749.000000      0.000000  ...      0.780000      0.000000\n",
              "75%    53244.250000      1.000000  ...      1.530000      1.000000\n",
              "max    69658.000000      1.000000  ...      4.000000      1.000000\n",
              "\n",
              "[8 rows x 28 columns]"
            ]
          },
          "metadata": {},
          "execution_count": 6
        }
      ]
    },
    {
      "cell_type": "code",
      "metadata": {
        "colab": {
          "base_uri": "https://localhost:8080/"
        },
        "id": "wHSCixfs9bYx",
        "outputId": "789d6e20-a2a5-4f00-8d12-0b23e057ef61"
      },
      "source": [
        "df.isna().any()"
      ],
      "execution_count": 7,
      "outputs": [
        {
          "output_type": "execute_result",
          "data": {
            "text/plain": [
              "user                       False\n",
              "churn                      False\n",
              "age                         True\n",
              "housing                    False\n",
              "credit_score                True\n",
              "deposits                   False\n",
              "withdrawal                 False\n",
              "purchases_partners         False\n",
              "purchases                  False\n",
              "cc_taken                   False\n",
              "cc_recommended             False\n",
              "cc_disliked                False\n",
              "cc_liked                   False\n",
              "cc_application_begin       False\n",
              "app_downloaded             False\n",
              "web_user                   False\n",
              "app_web_user               False\n",
              "ios_user                   False\n",
              "android_user               False\n",
              "registered_phones          False\n",
              "payment_type               False\n",
              "waiting_4_loan             False\n",
              "cancelled_loan             False\n",
              "received_loan              False\n",
              "rejected_loan              False\n",
              "zodiac_sign                False\n",
              "left_for_two_month_plus    False\n",
              "left_for_one_month         False\n",
              "rewards_earned              True\n",
              "reward_rate                False\n",
              "is_referred                False\n",
              "dtype: bool"
            ]
          },
          "metadata": {},
          "execution_count": 7
        }
      ]
    },
    {
      "cell_type": "code",
      "metadata": {
        "colab": {
          "base_uri": "https://localhost:8080/"
        },
        "id": "o1a3kQk99hxR",
        "outputId": "341604df-e268-442f-939c-3e13cc65af8f"
      },
      "source": [
        "df.isna().sum()"
      ],
      "execution_count": 8,
      "outputs": [
        {
          "output_type": "execute_result",
          "data": {
            "text/plain": [
              "user                          0\n",
              "churn                         0\n",
              "age                           4\n",
              "housing                       0\n",
              "credit_score               8031\n",
              "deposits                      0\n",
              "withdrawal                    0\n",
              "purchases_partners            0\n",
              "purchases                     0\n",
              "cc_taken                      0\n",
              "cc_recommended                0\n",
              "cc_disliked                   0\n",
              "cc_liked                      0\n",
              "cc_application_begin          0\n",
              "app_downloaded                0\n",
              "web_user                      0\n",
              "app_web_user                  0\n",
              "ios_user                      0\n",
              "android_user                  0\n",
              "registered_phones             0\n",
              "payment_type                  0\n",
              "waiting_4_loan                0\n",
              "cancelled_loan                0\n",
              "received_loan                 0\n",
              "rejected_loan                 0\n",
              "zodiac_sign                   0\n",
              "left_for_two_month_plus       0\n",
              "left_for_one_month            0\n",
              "rewards_earned             3227\n",
              "reward_rate                   0\n",
              "is_referred                   0\n",
              "dtype: int64"
            ]
          },
          "metadata": {},
          "execution_count": 8
        }
      ]
    },
    {
      "cell_type": "code",
      "metadata": {
        "id": "94SF1caT9kvy"
      },
      "source": [
        "df = df.drop(columns=['credit_score', 'rewards_earned'])"
      ],
      "execution_count": 9,
      "outputs": []
    },
    {
      "cell_type": "code",
      "metadata": {
        "colab": {
          "base_uri": "https://localhost:8080/",
          "height": 841
        },
        "id": "xXVx6Wqs_Hnz",
        "outputId": "2e436768-1229-4bbb-d9f0-a077deeba9cc"
      },
      "source": [
        "df2 = df.drop(columns = ['user', 'churn'])\n",
        "fig = plt.figure(figsize=(15, 12))\n",
        "plt.suptitle('Histograms of Numerical Columns', fontsize=20)\n",
        "for i in range(1, df2.shape[1] + 1):\n",
        "    plt.subplot(6, 5, i)\n",
        "    f = plt.gca()\n",
        "    f.axes.get_yaxis().set_visible(False)\n",
        "    f.set_title(df2.columns.values[i - 1])\n",
        "\n",
        "    vals = np.size(df2.iloc[:, i - 1].unique())\n",
        "    plt.hist(df2.iloc[:, i - 1], bins=vals, color='#3F5D7D')\n",
        "plt.tight_layout(rect=[0, 0.03, 1, 0.95])"
      ],
      "execution_count": 10,
      "outputs": [
        {
          "output_type": "display_data",
          "data": {
            "image/png": "[encoded data removed]",
            "text/plain": [
              "<Figure size 1080x864 with 27 Axes>"
            ]
          },
          "metadata": {
            "needs_background": "light"
          }
        }
      ]
    },
    {
      "cell_type": "code",
      "metadata": {
        "colab": {
          "base_uri": "https://localhost:8080/"
        },
        "id": "Dvb8vWg8__77",
        "outputId": "58cf660a-6652-4b0f-f56c-c73b7df43d5d"
      },
      "source": [
        "# explorando os features desbalanceados\n",
        "print(df[df2.waiting_4_loan == 1].churn.value_counts())\n",
        "print(df[df2.cancelled_loan == 1].churn.value_counts())\n",
        "print(df[df2.received_loan == 1].churn.value_counts())\n",
        "print(df[df2.rejected_loan == 1].churn.value_counts())\n",
        "print(df[df2.left_for_one_month == 1].churn.value_counts())"
      ],
      "execution_count": 11,
      "outputs": [
        {
          "output_type": "stream",
          "text": [
            "0    27\n",
            "1     8\n",
            "Name: churn, dtype: int64\n",
            "1    274\n",
            "0    234\n",
            "Name: churn, dtype: int64\n",
            "1    292\n",
            "0    199\n",
            "Name: churn, dtype: int64\n",
            "1    107\n",
            "0     25\n",
            "Name: churn, dtype: int64\n",
            "1    266\n",
            "0    222\n",
            "Name: churn, dtype: int64\n"
          ],
          "name": "stdout"
        }
      ]
    },
    {
      "cell_type": "code",
      "metadata": {
        "colab": {
          "base_uri": "https://localhost:8080/",
          "height": 755
        },
        "id": "zU7mJt2iGszt",
        "outputId": "d821b2a1-b0b4-4e99-e637-c40feee2234e"
      },
      "source": [
        "# Correlação com a variável resposta\n",
        "df2.drop(columns = ['housing', 'payment_type',\n",
        "                         'registered_phones', 'zodiac_sign']\n",
        "    ).corrwith(df.churn).plot.bar(figsize=(20,10),\n",
        "              title = 'Correlation with Response variable',\n",
        "              fontsize = 15, rot = 45,\n",
        "              grid = True)\n"
      ],
      "execution_count": 12,
      "outputs": [
        {
          "output_type": "execute_result",
          "data": {
            "text/plain": [
              "<matplotlib.axes._subplots.AxesSubplot at 0x7fe227295710>"
            ]
          },
          "metadata": {},
          "execution_count": 12
        },
        {
          "output_type": "display_data",
          "data": {
            "image/png": "[encoded data removed]",
            "text/plain": [
              "<Figure size 1440x720 with 1 Axes>"
            ]
          },
          "metadata": {
            "needs_background": "light"
          }
        }
      ]
    },
    {
      "cell_type": "code",
      "metadata": {
        "colab": {
          "base_uri": "https://localhost:8080/",
          "height": 980
        },
        "id": "0mBS8D1EG-WZ",
        "outputId": "d94e49c0-e774-47b3-e6c9-62dae02e5457"
      },
      "source": [
        "# Compute the correlation matrix\n",
        "corr = df.drop(columns = ['user', 'churn']).corr()\n",
        "\n",
        "mask = np.zeros_like(corr, dtype=np.bool)\n",
        "mask[np.triu_indices_from(mask)] = True\n",
        "\n",
        "f, ax = plt.subplots(figsize=(18, 15))\n",
        "\n",
        "cmap = sn.diverging_palette(250, 10, as_cmap=True)\n",
        "\n",
        "sn.heatmap(corr, mask=mask, cmap=cmap, vmax=.3, center=0,\n",
        "            square=True, linewidths=.5, cbar_kws={\"shrink\": .5})"
      ],
      "execution_count": 13,
      "outputs": [
        {
          "output_type": "execute_result",
          "data": {
            "text/plain": [
              "<matplotlib.axes._subplots.AxesSubplot at 0x7fe2272018d0>"
            ]
          },
          "metadata": {},
          "execution_count": 13
        },
        {
          "output_type": "display_data",
          "data": {
            "image/png": "[encoded data removed]",
            "text/plain": [
              "<Figure size 1296x1080 with 2 Axes>"
            ]
          },
          "metadata": {
            "needs_background": "light"
          }
        }
      ]
    },
    {
      "cell_type": "code",
      "metadata": {
        "id": "wwpLQ3dOImd-"
      },
      "source": [
        "df = df.drop(columns = ['app_web_user'])"
      ],
      "execution_count": 14,
      "outputs": []
    },
    {
      "cell_type": "code",
      "metadata": {
        "id": "WDRpQM23LnYB"
      },
      "source": [
        "df.to_csv('new_churn_data.csv', index = False)"
      ],
      "execution_count": 15,
      "outputs": []
    },
    {
      "cell_type": "code",
      "metadata": {
        "colab": {
          "base_uri": "https://localhost:8080/",
          "height": 226
        },
        "id": "Taps4RBJh9Vl",
        "outputId": "29b4b10c-af70-40c2-9ece-670b85f5705c"
      },
      "source": [
        "df.head()"
      ],
      "execution_count": 16,
      "outputs": [
        {
          "output_type": "execute_result",
          "data": {
            "text/html": [
              "<div>\n",
              "<style scoped>\n",
              "    .dataframe tbody tr th:only-of-type {\n",
              "        vertical-align: middle;\n",
              "    }\n",
              "\n",
              "    .dataframe tbody tr th {\n",
              "        vertical-align: top;\n",
              "    }\n",
              "\n",
              "    .dataframe thead th {\n",
              "        text-align: right;\n",
              "    }\n",
              "</style>\n",
              "<table border=\"1\" class=\"dataframe\">\n",
              "  <thead>\n",
              "    <tr style=\"text-align: right;\">\n",
              "      <th></th>\n",
              "      <th>user</th>\n",
              "      <th>churn</th>\n",
              "      <th>age</th>\n",
              "      <th>housing</th>\n",
              "      <th>deposits</th>\n",
              "      <th>withdrawal</th>\n",
              "      <th>purchases_partners</th>\n",
              "      <th>purchases</th>\n",
              "      <th>cc_taken</th>\n",
              "      <th>cc_recommended</th>\n",
              "      <th>cc_disliked</th>\n",
              "      <th>cc_liked</th>\n",
              "      <th>cc_application_begin</th>\n",
              "      <th>app_downloaded</th>\n",
              "      <th>web_user</th>\n",
              "      <th>ios_user</th>\n",
              "      <th>android_user</th>\n",
              "      <th>registered_phones</th>\n",
              "      <th>payment_type</th>\n",
              "      <th>waiting_4_loan</th>\n",
              "      <th>cancelled_loan</th>\n",
              "      <th>received_loan</th>\n",
              "      <th>rejected_loan</th>\n",
              "      <th>zodiac_sign</th>\n",
              "      <th>left_for_two_month_plus</th>\n",
              "      <th>left_for_one_month</th>\n",
              "      <th>reward_rate</th>\n",
              "      <th>is_referred</th>\n",
              "    </tr>\n",
              "  </thead>\n",
              "  <tbody>\n",
              "    <tr>\n",
              "      <th>0</th>\n",
              "      <td>55409</td>\n",
              "      <td>0</td>\n",
              "      <td>37.0</td>\n",
              "      <td>na</td>\n",
              "      <td>0</td>\n",
              "      <td>0</td>\n",
              "      <td>0</td>\n",
              "      <td>0</td>\n",
              "      <td>0</td>\n",
              "      <td>0</td>\n",
              "      <td>0</td>\n",
              "      <td>0</td>\n",
              "      <td>0</td>\n",
              "      <td>1</td>\n",
              "      <td>1</td>\n",
              "      <td>1</td>\n",
              "      <td>0</td>\n",
              "      <td>0</td>\n",
              "      <td>Bi-Weekly</td>\n",
              "      <td>0</td>\n",
              "      <td>0</td>\n",
              "      <td>0</td>\n",
              "      <td>0</td>\n",
              "      <td>Leo</td>\n",
              "      <td>1</td>\n",
              "      <td>0</td>\n",
              "      <td>0.00</td>\n",
              "      <td>0</td>\n",
              "    </tr>\n",
              "    <tr>\n",
              "      <th>1</th>\n",
              "      <td>23547</td>\n",
              "      <td>0</td>\n",
              "      <td>28.0</td>\n",
              "      <td>R</td>\n",
              "      <td>0</td>\n",
              "      <td>0</td>\n",
              "      <td>1</td>\n",
              "      <td>0</td>\n",
              "      <td>0</td>\n",
              "      <td>96</td>\n",
              "      <td>0</td>\n",
              "      <td>0</td>\n",
              "      <td>5</td>\n",
              "      <td>1</td>\n",
              "      <td>1</td>\n",
              "      <td>1</td>\n",
              "      <td>0</td>\n",
              "      <td>0</td>\n",
              "      <td>Weekly</td>\n",
              "      <td>0</td>\n",
              "      <td>0</td>\n",
              "      <td>0</td>\n",
              "      <td>0</td>\n",
              "      <td>Leo</td>\n",
              "      <td>0</td>\n",
              "      <td>0</td>\n",
              "      <td>1.47</td>\n",
              "      <td>1</td>\n",
              "    </tr>\n",
              "    <tr>\n",
              "      <th>2</th>\n",
              "      <td>58313</td>\n",
              "      <td>0</td>\n",
              "      <td>35.0</td>\n",
              "      <td>R</td>\n",
              "      <td>47</td>\n",
              "      <td>2</td>\n",
              "      <td>86</td>\n",
              "      <td>47</td>\n",
              "      <td>0</td>\n",
              "      <td>285</td>\n",
              "      <td>0</td>\n",
              "      <td>0</td>\n",
              "      <td>9</td>\n",
              "      <td>1</td>\n",
              "      <td>0</td>\n",
              "      <td>0</td>\n",
              "      <td>1</td>\n",
              "      <td>2</td>\n",
              "      <td>Semi-Monthly</td>\n",
              "      <td>0</td>\n",
              "      <td>0</td>\n",
              "      <td>0</td>\n",
              "      <td>0</td>\n",
              "      <td>Capricorn</td>\n",
              "      <td>1</td>\n",
              "      <td>0</td>\n",
              "      <td>2.17</td>\n",
              "      <td>0</td>\n",
              "    </tr>\n",
              "    <tr>\n",
              "      <th>3</th>\n",
              "      <td>8095</td>\n",
              "      <td>0</td>\n",
              "      <td>26.0</td>\n",
              "      <td>R</td>\n",
              "      <td>26</td>\n",
              "      <td>3</td>\n",
              "      <td>38</td>\n",
              "      <td>25</td>\n",
              "      <td>0</td>\n",
              "      <td>74</td>\n",
              "      <td>0</td>\n",
              "      <td>0</td>\n",
              "      <td>26</td>\n",
              "      <td>1</td>\n",
              "      <td>0</td>\n",
              "      <td>0</td>\n",
              "      <td>1</td>\n",
              "      <td>0</td>\n",
              "      <td>Bi-Weekly</td>\n",
              "      <td>0</td>\n",
              "      <td>0</td>\n",
              "      <td>0</td>\n",
              "      <td>0</td>\n",
              "      <td>Capricorn</td>\n",
              "      <td>0</td>\n",
              "      <td>0</td>\n",
              "      <td>1.10</td>\n",
              "      <td>1</td>\n",
              "    </tr>\n",
              "    <tr>\n",
              "      <th>4</th>\n",
              "      <td>61353</td>\n",
              "      <td>1</td>\n",
              "      <td>27.0</td>\n",
              "      <td>na</td>\n",
              "      <td>0</td>\n",
              "      <td>0</td>\n",
              "      <td>2</td>\n",
              "      <td>0</td>\n",
              "      <td>0</td>\n",
              "      <td>0</td>\n",
              "      <td>0</td>\n",
              "      <td>0</td>\n",
              "      <td>0</td>\n",
              "      <td>1</td>\n",
              "      <td>1</td>\n",
              "      <td>0</td>\n",
              "      <td>1</td>\n",
              "      <td>0</td>\n",
              "      <td>Bi-Weekly</td>\n",
              "      <td>0</td>\n",
              "      <td>0</td>\n",
              "      <td>0</td>\n",
              "      <td>0</td>\n",
              "      <td>Aries</td>\n",
              "      <td>1</td>\n",
              "      <td>0</td>\n",
              "      <td>0.03</td>\n",
              "      <td>0</td>\n",
              "    </tr>\n",
              "  </tbody>\n",
              "</table>\n",
              "</div>"
            ],
            "text/plain": [
              "    user  churn   age  ... left_for_one_month  reward_rate  is_referred\n",
              "0  55409      0  37.0  ...                  0         0.00            0\n",
              "1  23547      0  28.0  ...                  0         1.47            1\n",
              "2  58313      0  35.0  ...                  0         2.17            0\n",
              "3   8095      0  26.0  ...                  0         1.10            1\n",
              "4  61353      1  27.0  ...                  0         0.03            0\n",
              "\n",
              "[5 rows x 28 columns]"
            ]
          },
          "metadata": {},
          "execution_count": 16
        }
      ]
    },
    {
      "cell_type": "code",
      "metadata": {
        "id": "YD0h2_DdLxHI"
      },
      "source": [
        "# Model\n",
        "dataset = df.copy()"
      ],
      "execution_count": 17,
      "outputs": []
    },
    {
      "cell_type": "code",
      "metadata": {
        "colab": {
          "base_uri": "https://localhost:8080/",
          "height": 226
        },
        "id": "PmKghH1GfggR",
        "outputId": "d51cf0fe-73c6-4b42-dcdb-daeabe369f16"
      },
      "source": [
        "dataset.head()"
      ],
      "execution_count": 18,
      "outputs": [
        {
          "output_type": "execute_result",
          "data": {
            "text/html": [
              "<div>\n",
              "<style scoped>\n",
              "    .dataframe tbody tr th:only-of-type {\n",
              "        vertical-align: middle;\n",
              "    }\n",
              "\n",
              "    .dataframe tbody tr th {\n",
              "        vertical-align: top;\n",
              "    }\n",
              "\n",
              "    .dataframe thead th {\n",
              "        text-align: right;\n",
              "    }\n",
              "</style>\n",
              "<table border=\"1\" class=\"dataframe\">\n",
              "  <thead>\n",
              "    <tr style=\"text-align: right;\">\n",
              "      <th></th>\n",
              "      <th>user</th>\n",
              "      <th>churn</th>\n",
              "      <th>age</th>\n",
              "      <th>housing</th>\n",
              "      <th>deposits</th>\n",
              "      <th>withdrawal</th>\n",
              "      <th>purchases_partners</th>\n",
              "      <th>purchases</th>\n",
              "      <th>cc_taken</th>\n",
              "      <th>cc_recommended</th>\n",
              "      <th>cc_disliked</th>\n",
              "      <th>cc_liked</th>\n",
              "      <th>cc_application_begin</th>\n",
              "      <th>app_downloaded</th>\n",
              "      <th>web_user</th>\n",
              "      <th>ios_user</th>\n",
              "      <th>android_user</th>\n",
              "      <th>registered_phones</th>\n",
              "      <th>payment_type</th>\n",
              "      <th>waiting_4_loan</th>\n",
              "      <th>cancelled_loan</th>\n",
              "      <th>received_loan</th>\n",
              "      <th>rejected_loan</th>\n",
              "      <th>zodiac_sign</th>\n",
              "      <th>left_for_two_month_plus</th>\n",
              "      <th>left_for_one_month</th>\n",
              "      <th>reward_rate</th>\n",
              "      <th>is_referred</th>\n",
              "    </tr>\n",
              "  </thead>\n",
              "  <tbody>\n",
              "    <tr>\n",
              "      <th>0</th>\n",
              "      <td>55409</td>\n",
              "      <td>0</td>\n",
              "      <td>37.0</td>\n",
              "      <td>na</td>\n",
              "      <td>0</td>\n",
              "      <td>0</td>\n",
              "      <td>0</td>\n",
              "      <td>0</td>\n",
              "      <td>0</td>\n",
              "      <td>0</td>\n",
              "      <td>0</td>\n",
              "      <td>0</td>\n",
              "      <td>0</td>\n",
              "      <td>1</td>\n",
              "      <td>1</td>\n",
              "      <td>1</td>\n",
              "      <td>0</td>\n",
              "      <td>0</td>\n",
              "      <td>Bi-Weekly</td>\n",
              "      <td>0</td>\n",
              "      <td>0</td>\n",
              "      <td>0</td>\n",
              "      <td>0</td>\n",
              "      <td>Leo</td>\n",
              "      <td>1</td>\n",
              "      <td>0</td>\n",
              "      <td>0.00</td>\n",
              "      <td>0</td>\n",
              "    </tr>\n",
              "    <tr>\n",
              "      <th>1</th>\n",
              "      <td>23547</td>\n",
              "      <td>0</td>\n",
              "      <td>28.0</td>\n",
              "      <td>R</td>\n",
              "      <td>0</td>\n",
              "      <td>0</td>\n",
              "      <td>1</td>\n",
              "      <td>0</td>\n",
              "      <td>0</td>\n",
              "      <td>96</td>\n",
              "      <td>0</td>\n",
              "      <td>0</td>\n",
              "      <td>5</td>\n",
              "      <td>1</td>\n",
              "      <td>1</td>\n",
              "      <td>1</td>\n",
              "      <td>0</td>\n",
              "      <td>0</td>\n",
              "      <td>Weekly</td>\n",
              "      <td>0</td>\n",
              "      <td>0</td>\n",
              "      <td>0</td>\n",
              "      <td>0</td>\n",
              "      <td>Leo</td>\n",
              "      <td>0</td>\n",
              "      <td>0</td>\n",
              "      <td>1.47</td>\n",
              "      <td>1</td>\n",
              "    </tr>\n",
              "    <tr>\n",
              "      <th>2</th>\n",
              "      <td>58313</td>\n",
              "      <td>0</td>\n",
              "      <td>35.0</td>\n",
              "      <td>R</td>\n",
              "      <td>47</td>\n",
              "      <td>2</td>\n",
              "      <td>86</td>\n",
              "      <td>47</td>\n",
              "      <td>0</td>\n",
              "      <td>285</td>\n",
              "      <td>0</td>\n",
              "      <td>0</td>\n",
              "      <td>9</td>\n",
              "      <td>1</td>\n",
              "      <td>0</td>\n",
              "      <td>0</td>\n",
              "      <td>1</td>\n",
              "      <td>2</td>\n",
              "      <td>Semi-Monthly</td>\n",
              "      <td>0</td>\n",
              "      <td>0</td>\n",
              "      <td>0</td>\n",
              "      <td>0</td>\n",
              "      <td>Capricorn</td>\n",
              "      <td>1</td>\n",
              "      <td>0</td>\n",
              "      <td>2.17</td>\n",
              "      <td>0</td>\n",
              "    </tr>\n",
              "    <tr>\n",
              "      <th>3</th>\n",
              "      <td>8095</td>\n",
              "      <td>0</td>\n",
              "      <td>26.0</td>\n",
              "      <td>R</td>\n",
              "      <td>26</td>\n",
              "      <td>3</td>\n",
              "      <td>38</td>\n",
              "      <td>25</td>\n",
              "      <td>0</td>\n",
              "      <td>74</td>\n",
              "      <td>0</td>\n",
              "      <td>0</td>\n",
              "      <td>26</td>\n",
              "      <td>1</td>\n",
              "      <td>0</td>\n",
              "      <td>0</td>\n",
              "      <td>1</td>\n",
              "      <td>0</td>\n",
              "      <td>Bi-Weekly</td>\n",
              "      <td>0</td>\n",
              "      <td>0</td>\n",
              "      <td>0</td>\n",
              "      <td>0</td>\n",
              "      <td>Capricorn</td>\n",
              "      <td>0</td>\n",
              "      <td>0</td>\n",
              "      <td>1.10</td>\n",
              "      <td>1</td>\n",
              "    </tr>\n",
              "    <tr>\n",
              "      <th>4</th>\n",
              "      <td>61353</td>\n",
              "      <td>1</td>\n",
              "      <td>27.0</td>\n",
              "      <td>na</td>\n",
              "      <td>0</td>\n",
              "      <td>0</td>\n",
              "      <td>2</td>\n",
              "      <td>0</td>\n",
              "      <td>0</td>\n",
              "      <td>0</td>\n",
              "      <td>0</td>\n",
              "      <td>0</td>\n",
              "      <td>0</td>\n",
              "      <td>1</td>\n",
              "      <td>1</td>\n",
              "      <td>0</td>\n",
              "      <td>1</td>\n",
              "      <td>0</td>\n",
              "      <td>Bi-Weekly</td>\n",
              "      <td>0</td>\n",
              "      <td>0</td>\n",
              "      <td>0</td>\n",
              "      <td>0</td>\n",
              "      <td>Aries</td>\n",
              "      <td>1</td>\n",
              "      <td>0</td>\n",
              "      <td>0.03</td>\n",
              "      <td>0</td>\n",
              "    </tr>\n",
              "  </tbody>\n",
              "</table>\n",
              "</div>"
            ],
            "text/plain": [
              "    user  churn   age  ... left_for_one_month  reward_rate  is_referred\n",
              "0  55409      0  37.0  ...                  0         0.00            0\n",
              "1  23547      0  28.0  ...                  0         1.47            1\n",
              "2  58313      0  35.0  ...                  0         2.17            0\n",
              "3   8095      0  26.0  ...                  0         1.10            1\n",
              "4  61353      1  27.0  ...                  0         0.03            0\n",
              "\n",
              "[5 rows x 28 columns]"
            ]
          },
          "metadata": {},
          "execution_count": 18
        }
      ]
    },
    {
      "cell_type": "code",
      "metadata": {
        "id": "CMg0fOacfjGL"
      },
      "source": [
        "user_id = dataset['user']\n",
        "dataset = dataset.drop(columns=['user'])"
      ],
      "execution_count": 19,
      "outputs": []
    },
    {
      "cell_type": "code",
      "metadata": {
        "colab": {
          "base_uri": "https://localhost:8080/"
        },
        "id": "s6FlYGteft8j",
        "outputId": "5c6cb0d8-ee0a-4596-d35a-43ec0e3585cb"
      },
      "source": [
        "dataset.housing.value_counts()"
      ],
      "execution_count": 20,
      "outputs": [
        {
          "output_type": "execute_result",
          "data": {
            "text/plain": [
              "na    13860\n",
              "R     10969\n",
              "O      2171\n",
              "Name: housing, dtype: int64"
            ]
          },
          "metadata": {},
          "execution_count": 20
        }
      ]
    },
    {
      "cell_type": "code",
      "metadata": {
        "colab": {
          "base_uri": "https://localhost:8080/",
          "height": 143
        },
        "id": "DXy9PbkAiR6t",
        "outputId": "2de2d434-cd13-4bed-ab3c-d82a6f73d159"
      },
      "source": [
        "dataset.groupby('housing')['churn'].nunique().reset_index()"
      ],
      "execution_count": 21,
      "outputs": [
        {
          "output_type": "execute_result",
          "data": {
            "text/html": [
              "<div>\n",
              "<style scoped>\n",
              "    .dataframe tbody tr th:only-of-type {\n",
              "        vertical-align: middle;\n",
              "    }\n",
              "\n",
              "    .dataframe tbody tr th {\n",
              "        vertical-align: top;\n",
              "    }\n",
              "\n",
              "    .dataframe thead th {\n",
              "        text-align: right;\n",
              "    }\n",
              "</style>\n",
              "<table border=\"1\" class=\"dataframe\">\n",
              "  <thead>\n",
              "    <tr style=\"text-align: right;\">\n",
              "      <th></th>\n",
              "      <th>housing</th>\n",
              "      <th>churn</th>\n",
              "    </tr>\n",
              "  </thead>\n",
              "  <tbody>\n",
              "    <tr>\n",
              "      <th>0</th>\n",
              "      <td>O</td>\n",
              "      <td>2</td>\n",
              "    </tr>\n",
              "    <tr>\n",
              "      <th>1</th>\n",
              "      <td>R</td>\n",
              "      <td>2</td>\n",
              "    </tr>\n",
              "    <tr>\n",
              "      <th>2</th>\n",
              "      <td>na</td>\n",
              "      <td>2</td>\n",
              "    </tr>\n",
              "  </tbody>\n",
              "</table>\n",
              "</div>"
            ],
            "text/plain": [
              "  housing  churn\n",
              "0       O      2\n",
              "1       R      2\n",
              "2      na      2"
            ]
          },
          "metadata": {},
          "execution_count": 21
        }
      ]
    },
    {
      "cell_type": "code",
      "metadata": {
        "id": "0SOg1qVHic5W"
      },
      "source": [
        "dataset = pd.get_dummies(dataset)"
      ],
      "execution_count": 22,
      "outputs": []
    },
    {
      "cell_type": "code",
      "metadata": {
        "colab": {
          "base_uri": "https://localhost:8080/"
        },
        "id": "hFASiLrFitXd",
        "outputId": "b46227d9-3359-47c8-ade4-6f40938cb96a"
      },
      "source": [
        "dataset.dtypes"
      ],
      "execution_count": 23,
      "outputs": [
        {
          "output_type": "execute_result",
          "data": {
            "text/plain": [
              "churn                          int64\n",
              "age                          float64\n",
              "deposits                       int64\n",
              "withdrawal                     int64\n",
              "purchases_partners             int64\n",
              "purchases                      int64\n",
              "cc_taken                       int64\n",
              "cc_recommended                 int64\n",
              "cc_disliked                    int64\n",
              "cc_liked                       int64\n",
              "cc_application_begin           int64\n",
              "app_downloaded                 int64\n",
              "web_user                       int64\n",
              "ios_user                       int64\n",
              "android_user                   int64\n",
              "registered_phones              int64\n",
              "waiting_4_loan                 int64\n",
              "cancelled_loan                 int64\n",
              "received_loan                  int64\n",
              "rejected_loan                  int64\n",
              "left_for_two_month_plus        int64\n",
              "left_for_one_month             int64\n",
              "reward_rate                  float64\n",
              "is_referred                    int64\n",
              "housing_O                      uint8\n",
              "housing_R                      uint8\n",
              "housing_na                     uint8\n",
              "payment_type_Bi-Weekly         uint8\n",
              "payment_type_Monthly           uint8\n",
              "payment_type_Semi-Monthly      uint8\n",
              "payment_type_Weekly            uint8\n",
              "payment_type_na                uint8\n",
              "zodiac_sign_Aquarius           uint8\n",
              "zodiac_sign_Aries              uint8\n",
              "zodiac_sign_Cancer             uint8\n",
              "zodiac_sign_Capricorn          uint8\n",
              "zodiac_sign_Gemini             uint8\n",
              "zodiac_sign_Leo                uint8\n",
              "zodiac_sign_Libra              uint8\n",
              "zodiac_sign_Pisces             uint8\n",
              "zodiac_sign_Sagittarius        uint8\n",
              "zodiac_sign_Scorpio            uint8\n",
              "zodiac_sign_Taurus             uint8\n",
              "zodiac_sign_Virgo              uint8\n",
              "zodiac_sign_na                 uint8\n",
              "dtype: object"
            ]
          },
          "metadata": {},
          "execution_count": 23
        }
      ]
    },
    {
      "cell_type": "code",
      "metadata": {
        "colab": {
          "base_uri": "https://localhost:8080/"
        },
        "id": "r8vtTMCnixoq",
        "outputId": "c042b718-f8c1-40fc-f1e4-fde2c47527b5"
      },
      "source": [
        "dataset = dataset.drop(columns = ['housing_na', 'zodiac_sign_na', 'payment_type_na'])\n",
        "dataset.isna().sum()"
      ],
      "execution_count": 24,
      "outputs": [
        {
          "output_type": "execute_result",
          "data": {
            "text/plain": [
              "churn                        0\n",
              "age                          4\n",
              "deposits                     0\n",
              "withdrawal                   0\n",
              "purchases_partners           0\n",
              "purchases                    0\n",
              "cc_taken                     0\n",
              "cc_recommended               0\n",
              "cc_disliked                  0\n",
              "cc_liked                     0\n",
              "cc_application_begin         0\n",
              "app_downloaded               0\n",
              "web_user                     0\n",
              "ios_user                     0\n",
              "android_user                 0\n",
              "registered_phones            0\n",
              "waiting_4_loan               0\n",
              "cancelled_loan               0\n",
              "received_loan                0\n",
              "rejected_loan                0\n",
              "left_for_two_month_plus      0\n",
              "left_for_one_month           0\n",
              "reward_rate                  0\n",
              "is_referred                  0\n",
              "housing_O                    0\n",
              "housing_R                    0\n",
              "payment_type_Bi-Weekly       0\n",
              "payment_type_Monthly         0\n",
              "payment_type_Semi-Monthly    0\n",
              "payment_type_Weekly          0\n",
              "zodiac_sign_Aquarius         0\n",
              "zodiac_sign_Aries            0\n",
              "zodiac_sign_Cancer           0\n",
              "zodiac_sign_Capricorn        0\n",
              "zodiac_sign_Gemini           0\n",
              "zodiac_sign_Leo              0\n",
              "zodiac_sign_Libra            0\n",
              "zodiac_sign_Pisces           0\n",
              "zodiac_sign_Sagittarius      0\n",
              "zodiac_sign_Scorpio          0\n",
              "zodiac_sign_Taurus           0\n",
              "zodiac_sign_Virgo            0\n",
              "dtype: int64"
            ]
          },
          "metadata": {},
          "execution_count": 24
        }
      ]
    },
    {
      "cell_type": "code",
      "metadata": {
        "colab": {
          "base_uri": "https://localhost:8080/"
        },
        "id": "_D5y6gllm72b",
        "outputId": "939aea1f-7eb1-4790-d28c-48afab3798f4"
      },
      "source": [
        "dataset.dropna(inplace=True)\n",
        "dataset.isna().sum()"
      ],
      "execution_count": 25,
      "outputs": [
        {
          "output_type": "execute_result",
          "data": {
            "text/plain": [
              "churn                        0\n",
              "age                          0\n",
              "deposits                     0\n",
              "withdrawal                   0\n",
              "purchases_partners           0\n",
              "purchases                    0\n",
              "cc_taken                     0\n",
              "cc_recommended               0\n",
              "cc_disliked                  0\n",
              "cc_liked                     0\n",
              "cc_application_begin         0\n",
              "app_downloaded               0\n",
              "web_user                     0\n",
              "ios_user                     0\n",
              "android_user                 0\n",
              "registered_phones            0\n",
              "waiting_4_loan               0\n",
              "cancelled_loan               0\n",
              "received_loan                0\n",
              "rejected_loan                0\n",
              "left_for_two_month_plus      0\n",
              "left_for_one_month           0\n",
              "reward_rate                  0\n",
              "is_referred                  0\n",
              "housing_O                    0\n",
              "housing_R                    0\n",
              "payment_type_Bi-Weekly       0\n",
              "payment_type_Monthly         0\n",
              "payment_type_Semi-Monthly    0\n",
              "payment_type_Weekly          0\n",
              "zodiac_sign_Aquarius         0\n",
              "zodiac_sign_Aries            0\n",
              "zodiac_sign_Cancer           0\n",
              "zodiac_sign_Capricorn        0\n",
              "zodiac_sign_Gemini           0\n",
              "zodiac_sign_Leo              0\n",
              "zodiac_sign_Libra            0\n",
              "zodiac_sign_Pisces           0\n",
              "zodiac_sign_Sagittarius      0\n",
              "zodiac_sign_Scorpio          0\n",
              "zodiac_sign_Taurus           0\n",
              "zodiac_sign_Virgo            0\n",
              "dtype: int64"
            ]
          },
          "metadata": {},
          "execution_count": 25
        }
      ]
    },
    {
      "cell_type": "code",
      "metadata": {
        "id": "N-dProDUi5YR"
      },
      "source": [
        "from sklearn.model_selection import train_test_split\n",
        "X_train, X_test, y_train, y_test = train_test_split(dataset.drop(columns = 'churn'), dataset['churn'],\n",
        "                                                    test_size = 0.2,\n",
        "                                                    random_state = 2021)"
      ],
      "execution_count": 26,
      "outputs": []
    },
    {
      "cell_type": "code",
      "metadata": {
        "id": "BNXzQdySjE5D"
      },
      "source": [
        "# Feature Scaling\n",
        "from sklearn.preprocessing import StandardScaler\n",
        "sc_X = StandardScaler()\n",
        "X_train2 = pd.DataFrame(sc_X.fit_transform(X_train))\n",
        "X_test2 = pd.DataFrame(sc_X.transform(X_test))\n",
        "X_train2.columns = X_train.columns.values\n",
        "X_test2.columns = X_test.columns.values\n",
        "X_train2.index = X_train.index.values\n",
        "X_test2.index = X_test.index.values\n",
        "X_train = X_train2\n",
        "X_test = X_test2"
      ],
      "execution_count": 27,
      "outputs": []
    },
    {
      "cell_type": "code",
      "metadata": {
        "colab": {
          "base_uri": "https://localhost:8080/"
        },
        "id": "RoDFTVcejZgI",
        "outputId": "3e33f0bc-935f-44e6-cc3d-b6d4a95715fd"
      },
      "source": [
        "y_train.value_counts()"
      ],
      "execution_count": 28,
      "outputs": [
        {
          "output_type": "execute_result",
          "data": {
            "text/plain": [
              "0    12729\n",
              "1     8867\n",
              "Name: churn, dtype: int64"
            ]
          },
          "metadata": {},
          "execution_count": 28
        }
      ]
    },
    {
      "cell_type": "code",
      "metadata": {
        "id": "v6CJ7MiQkhQS"
      },
      "source": [
        "pos_index = y_train[y_train.values == 1].index\n",
        "neg_index = y_train[y_train.values == 0].index"
      ],
      "execution_count": 29,
      "outputs": []
    },
    {
      "cell_type": "code",
      "metadata": {
        "id": "DAs2RmMwkkjc"
      },
      "source": [
        "if len(pos_index) > len(neg_index):\n",
        "    higher = pos_index\n",
        "    lower = neg_index\n",
        "else:\n",
        "    higher = neg_index\n",
        "    lower = pos_index"
      ],
      "execution_count": 30,
      "outputs": []
    },
    {
      "cell_type": "code",
      "metadata": {
        "colab": {
          "base_uri": "https://localhost:8080/"
        },
        "id": "R3-lS9e9knTz",
        "outputId": "cafcf24c-cfa5-412a-8608-a617bde7e4e0"
      },
      "source": [
        "import random\n",
        "\n",
        "random.seed(0)\n",
        "higher = np.random.choice(higher, size=len(lower))\n",
        "lower = np.asarray(lower)\n",
        "new_indexes = np.concatenate((lower, higher))\n",
        "print(new_indexes)"
      ],
      "execution_count": 31,
      "outputs": [
        {
          "output_type": "stream",
          "text": [
            "[  458  4811  9023 ...  1513 18143  8317]\n"
          ],
          "name": "stdout"
        }
      ]
    },
    {
      "cell_type": "code",
      "metadata": {
        "id": "8PfbuJszlAzn"
      },
      "source": [
        "X_train = X_train.loc[new_indexes,]\n",
        "y_train = y_train[new_indexes]"
      ],
      "execution_count": 32,
      "outputs": []
    },
    {
      "cell_type": "code",
      "metadata": {
        "id": "52ajsU_5lHAP"
      },
      "source": [
        "# Feature Scaling\n",
        "from sklearn.preprocessing import StandardScaler\n",
        "sc_X = StandardScaler()\n",
        "X_train2 = pd.DataFrame(sc_X.fit_transform(X_train))\n",
        "X_test2 = pd.DataFrame(sc_X.transform(X_test))\n",
        "X_train2.columns = X_train.columns.values\n",
        "X_test2.columns = X_test.columns.values\n",
        "X_train2.index = X_train.index.values\n",
        "X_test2.index = X_test.index.values\n",
        "X_train = X_train2\n",
        "X_test = X_test2"
      ],
      "execution_count": 33,
      "outputs": []
    },
    {
      "cell_type": "code",
      "metadata": {
        "colab": {
          "base_uri": "https://localhost:8080/"
        },
        "id": "ZHVQ3kzqmQQk",
        "outputId": "299c5957-bb87-4d9d-d436-39a5cffd5b3c"
      },
      "source": [
        "y_train.isna().sum()"
      ],
      "execution_count": 34,
      "outputs": [
        {
          "output_type": "execute_result",
          "data": {
            "text/plain": [
              "0"
            ]
          },
          "metadata": {},
          "execution_count": 34
        }
      ]
    },
    {
      "cell_type": "code",
      "metadata": {
        "colab": {
          "base_uri": "https://localhost:8080/"
        },
        "id": "HeEkyhg9lKeD",
        "outputId": "4735d14c-9c73-4b4f-d758-1fc6ae55bbd9"
      },
      "source": [
        "from sklearn.linear_model import LogisticRegression\n",
        "classifier = LogisticRegression(random_state = 0)\n",
        "classifier.fit(X_train, y_train)"
      ],
      "execution_count": 35,
      "outputs": [
        {
          "output_type": "execute_result",
          "data": {
            "text/plain": [
              "LogisticRegression(C=1.0, class_weight=None, dual=False, fit_intercept=True,\n",
              "                   intercept_scaling=1, l1_ratio=None, max_iter=100,\n",
              "                   multi_class='auto', n_jobs=None, penalty='l2',\n",
              "                   random_state=0, solver='lbfgs', tol=0.0001, verbose=0,\n",
              "                   warm_start=False)"
            ]
          },
          "metadata": {},
          "execution_count": 35
        }
      ]
    },
    {
      "cell_type": "code",
      "metadata": {
        "id": "C0DPaLALnVSx"
      },
      "source": [
        "# Predicting Test Set\n",
        "y_pred = classifier.predict(X_test)"
      ],
      "execution_count": 36,
      "outputs": []
    },
    {
      "cell_type": "code",
      "metadata": {
        "id": "-iiD811-nk2r"
      },
      "source": [
        "from sklearn.metrics import confusion_matrix, accuracy_score, f1_score, precision_score, recall_score"
      ],
      "execution_count": 37,
      "outputs": []
    },
    {
      "cell_type": "code",
      "metadata": {
        "id": "G-H4T-xJnmVx"
      },
      "source": [
        "cm = confusion_matrix(y_test, y_pred)"
      ],
      "execution_count": 38,
      "outputs": []
    },
    {
      "cell_type": "code",
      "metadata": {
        "colab": {
          "base_uri": "https://localhost:8080/"
        },
        "id": "k59k3FfMnrfY",
        "outputId": "87fad4f5-b5e3-4537-8b4c-b92c422963f5"
      },
      "source": [
        "print(accuracy_score(y_test, y_pred))\n",
        "print(precision_score(y_test, y_pred)) # tp / (tp + fp)\n",
        "print(recall_score(y_test, y_pred)) # tp / (tp + fn)\n",
        "print(f1_score(y_test, y_pred))"
      ],
      "execution_count": 39,
      "outputs": [
        {
          "output_type": "stream",
          "text": [
            "0.6270370370370371\n",
            "0.5459968602825745\n",
            "0.7537928045080191\n",
            "0.6332847778587035\n"
          ],
          "name": "stdout"
        }
      ]
    },
    {
      "cell_type": "code",
      "metadata": {
        "colab": {
          "base_uri": "https://localhost:8080/",
          "height": 453
        },
        "id": "N2-C5qHGn6Od",
        "outputId": "93f1a6c9-597d-4926-a95f-b62c86a3c06c"
      },
      "source": [
        "df_cm = pd.DataFrame(cm, index = (0, 1), columns = (0, 1))\n",
        "plt.figure(figsize = (10,7))\n",
        "sn.set(font_scale=1.4)\n",
        "sn.heatmap(df_cm, annot=True, fmt='g')\n",
        "print(f\"Test Data Accuracy: {accuracy_score(y_test, y_pred): .3f}\")"
      ],
      "execution_count": 40,
      "outputs": [
        {
          "output_type": "stream",
          "text": [
            "Test Data Accuracy:  0.627\n"
          ],
          "name": "stdout"
        },
        {
          "output_type": "display_data",
          "data": {
            "image/png": "[encoded data removed]",
            "text/plain": [
              "<Figure size 720x504 with 2 Axes>"
            ]
          },
          "metadata": {
            "needs_background": "light"
          }
        }
      ]
    },
    {
      "cell_type": "code",
      "metadata": {
        "id": "SV1YAdgGotpx"
      },
      "source": [
        ""
      ],
      "execution_count": 40,
      "outputs": []
    },
    {
      "cell_type": "code",
      "metadata": {
        "colab": {
          "base_uri": "https://localhost:8080/",
          "height": 1000
        },
        "id": "uG82EAo5qQoJ",
        "outputId": "ff8f1d8d-ca7b-46bd-d90f-7d046a634999"
      },
      "source": [
        "pd.concat([pd.DataFrame(X_train.columns, columns = [\"features\"]),\n",
        "           pd.DataFrame(np.transpose(classifier.coef_), columns = [\"coef\"])\n",
        "           ],axis = 1)"
      ],
      "execution_count": 41,
      "outputs": [
        {
          "output_type": "execute_result",
          "data": {
            "text/html": [
              "<div>\n",
              "<style scoped>\n",
              "    .dataframe tbody tr th:only-of-type {\n",
              "        vertical-align: middle;\n",
              "    }\n",
              "\n",
              "    .dataframe tbody tr th {\n",
              "        vertical-align: top;\n",
              "    }\n",
              "\n",
              "    .dataframe thead th {\n",
              "        text-align: right;\n",
              "    }\n",
              "</style>\n",
              "<table border=\"1\" class=\"dataframe\">\n",
              "  <thead>\n",
              "    <tr style=\"text-align: right;\">\n",
              "      <th></th>\n",
              "      <th>features</th>\n",
              "      <th>coef</th>\n",
              "    </tr>\n",
              "  </thead>\n",
              "  <tbody>\n",
              "    <tr>\n",
              "      <th>0</th>\n",
              "      <td>age</td>\n",
              "      <td>-0.159781</td>\n",
              "    </tr>\n",
              "    <tr>\n",
              "      <th>1</th>\n",
              "      <td>deposits</td>\n",
              "      <td>0.294520</td>\n",
              "    </tr>\n",
              "    <tr>\n",
              "      <th>2</th>\n",
              "      <td>withdrawal</td>\n",
              "      <td>0.043705</td>\n",
              "    </tr>\n",
              "    <tr>\n",
              "      <th>3</th>\n",
              "      <td>purchases_partners</td>\n",
              "      <td>-0.745205</td>\n",
              "    </tr>\n",
              "    <tr>\n",
              "      <th>4</th>\n",
              "      <td>purchases</td>\n",
              "      <td>-0.413527</td>\n",
              "    </tr>\n",
              "    <tr>\n",
              "      <th>5</th>\n",
              "      <td>cc_taken</td>\n",
              "      <td>0.060990</td>\n",
              "    </tr>\n",
              "    <tr>\n",
              "      <th>6</th>\n",
              "      <td>cc_recommended</td>\n",
              "      <td>0.032562</td>\n",
              "    </tr>\n",
              "    <tr>\n",
              "      <th>7</th>\n",
              "      <td>cc_disliked</td>\n",
              "      <td>-0.014089</td>\n",
              "    </tr>\n",
              "    <tr>\n",
              "      <th>8</th>\n",
              "      <td>cc_liked</td>\n",
              "      <td>0.005024</td>\n",
              "    </tr>\n",
              "    <tr>\n",
              "      <th>9</th>\n",
              "      <td>cc_application_begin</td>\n",
              "      <td>0.025432</td>\n",
              "    </tr>\n",
              "    <tr>\n",
              "      <th>10</th>\n",
              "      <td>app_downloaded</td>\n",
              "      <td>0.006900</td>\n",
              "    </tr>\n",
              "    <tr>\n",
              "      <th>11</th>\n",
              "      <td>web_user</td>\n",
              "      <td>0.126102</td>\n",
              "    </tr>\n",
              "    <tr>\n",
              "      <th>12</th>\n",
              "      <td>ios_user</td>\n",
              "      <td>0.010979</td>\n",
              "    </tr>\n",
              "    <tr>\n",
              "      <th>13</th>\n",
              "      <td>android_user</td>\n",
              "      <td>-0.038159</td>\n",
              "    </tr>\n",
              "    <tr>\n",
              "      <th>14</th>\n",
              "      <td>registered_phones</td>\n",
              "      <td>0.119564</td>\n",
              "    </tr>\n",
              "    <tr>\n",
              "      <th>15</th>\n",
              "      <td>waiting_4_loan</td>\n",
              "      <td>-0.016057</td>\n",
              "    </tr>\n",
              "    <tr>\n",
              "      <th>16</th>\n",
              "      <td>cancelled_loan</td>\n",
              "      <td>0.108279</td>\n",
              "    </tr>\n",
              "    <tr>\n",
              "      <th>17</th>\n",
              "      <td>received_loan</td>\n",
              "      <td>0.070366</td>\n",
              "    </tr>\n",
              "    <tr>\n",
              "      <th>18</th>\n",
              "      <td>rejected_loan</td>\n",
              "      <td>0.100889</td>\n",
              "    </tr>\n",
              "    <tr>\n",
              "      <th>19</th>\n",
              "      <td>left_for_two_month_plus</td>\n",
              "      <td>0.056560</td>\n",
              "    </tr>\n",
              "    <tr>\n",
              "      <th>20</th>\n",
              "      <td>left_for_one_month</td>\n",
              "      <td>0.061077</td>\n",
              "    </tr>\n",
              "    <tr>\n",
              "      <th>21</th>\n",
              "      <td>reward_rate</td>\n",
              "      <td>-0.156847</td>\n",
              "    </tr>\n",
              "    <tr>\n",
              "      <th>22</th>\n",
              "      <td>is_referred</td>\n",
              "      <td>0.016128</td>\n",
              "    </tr>\n",
              "    <tr>\n",
              "      <th>23</th>\n",
              "      <td>housing_O</td>\n",
              "      <td>-0.039254</td>\n",
              "    </tr>\n",
              "    <tr>\n",
              "      <th>24</th>\n",
              "      <td>housing_R</td>\n",
              "      <td>0.046879</td>\n",
              "    </tr>\n",
              "    <tr>\n",
              "      <th>25</th>\n",
              "      <td>payment_type_Bi-Weekly</td>\n",
              "      <td>-0.052312</td>\n",
              "    </tr>\n",
              "    <tr>\n",
              "      <th>26</th>\n",
              "      <td>payment_type_Monthly</td>\n",
              "      <td>-0.022535</td>\n",
              "    </tr>\n",
              "    <tr>\n",
              "      <th>27</th>\n",
              "      <td>payment_type_Semi-Monthly</td>\n",
              "      <td>-0.004077</td>\n",
              "    </tr>\n",
              "    <tr>\n",
              "      <th>28</th>\n",
              "      <td>payment_type_Weekly</td>\n",
              "      <td>0.045318</td>\n",
              "    </tr>\n",
              "    <tr>\n",
              "      <th>29</th>\n",
              "      <td>zodiac_sign_Aquarius</td>\n",
              "      <td>-0.053715</td>\n",
              "    </tr>\n",
              "    <tr>\n",
              "      <th>30</th>\n",
              "      <td>zodiac_sign_Aries</td>\n",
              "      <td>0.000596</td>\n",
              "    </tr>\n",
              "    <tr>\n",
              "      <th>31</th>\n",
              "      <td>zodiac_sign_Cancer</td>\n",
              "      <td>0.005078</td>\n",
              "    </tr>\n",
              "    <tr>\n",
              "      <th>32</th>\n",
              "      <td>zodiac_sign_Capricorn</td>\n",
              "      <td>0.015441</td>\n",
              "    </tr>\n",
              "    <tr>\n",
              "      <th>33</th>\n",
              "      <td>zodiac_sign_Gemini</td>\n",
              "      <td>-0.036055</td>\n",
              "    </tr>\n",
              "    <tr>\n",
              "      <th>34</th>\n",
              "      <td>zodiac_sign_Leo</td>\n",
              "      <td>-0.003116</td>\n",
              "    </tr>\n",
              "    <tr>\n",
              "      <th>35</th>\n",
              "      <td>zodiac_sign_Libra</td>\n",
              "      <td>-0.013214</td>\n",
              "    </tr>\n",
              "    <tr>\n",
              "      <th>36</th>\n",
              "      <td>zodiac_sign_Pisces</td>\n",
              "      <td>0.026327</td>\n",
              "    </tr>\n",
              "    <tr>\n",
              "      <th>37</th>\n",
              "      <td>zodiac_sign_Sagittarius</td>\n",
              "      <td>-0.002444</td>\n",
              "    </tr>\n",
              "    <tr>\n",
              "      <th>38</th>\n",
              "      <td>zodiac_sign_Scorpio</td>\n",
              "      <td>-0.009780</td>\n",
              "    </tr>\n",
              "    <tr>\n",
              "      <th>39</th>\n",
              "      <td>zodiac_sign_Taurus</td>\n",
              "      <td>-0.025748</td>\n",
              "    </tr>\n",
              "    <tr>\n",
              "      <th>40</th>\n",
              "      <td>zodiac_sign_Virgo</td>\n",
              "      <td>-0.002569</td>\n",
              "    </tr>\n",
              "  </tbody>\n",
              "</table>\n",
              "</div>"
            ],
            "text/plain": [
              "                     features      coef\n",
              "0                         age -0.159781\n",
              "1                    deposits  0.294520\n",
              "2                  withdrawal  0.043705\n",
              "3          purchases_partners -0.745205\n",
              "4                   purchases -0.413527\n",
              "5                    cc_taken  0.060990\n",
              "6              cc_recommended  0.032562\n",
              "7                 cc_disliked -0.014089\n",
              "8                    cc_liked  0.005024\n",
              "9        cc_application_begin  0.025432\n",
              "10             app_downloaded  0.006900\n",
              "11                   web_user  0.126102\n",
              "12                   ios_user  0.010979\n",
              "13               android_user -0.038159\n",
              "14          registered_phones  0.119564\n",
              "15             waiting_4_loan -0.016057\n",
              "16             cancelled_loan  0.108279\n",
              "17              received_loan  0.070366\n",
              "18              rejected_loan  0.100889\n",
              "19    left_for_two_month_plus  0.056560\n",
              "20         left_for_one_month  0.061077\n",
              "21                reward_rate -0.156847\n",
              "22                is_referred  0.016128\n",
              "23                  housing_O -0.039254\n",
              "24                  housing_R  0.046879\n",
              "25     payment_type_Bi-Weekly -0.052312\n",
              "26       payment_type_Monthly -0.022535\n",
              "27  payment_type_Semi-Monthly -0.004077\n",
              "28        payment_type_Weekly  0.045318\n",
              "29       zodiac_sign_Aquarius -0.053715\n",
              "30          zodiac_sign_Aries  0.000596\n",
              "31         zodiac_sign_Cancer  0.005078\n",
              "32      zodiac_sign_Capricorn  0.015441\n",
              "33         zodiac_sign_Gemini -0.036055\n",
              "34            zodiac_sign_Leo -0.003116\n",
              "35          zodiac_sign_Libra -0.013214\n",
              "36         zodiac_sign_Pisces  0.026327\n",
              "37    zodiac_sign_Sagittarius -0.002444\n",
              "38        zodiac_sign_Scorpio -0.009780\n",
              "39         zodiac_sign_Taurus -0.025748\n",
              "40          zodiac_sign_Virgo -0.002569"
            ]
          },
          "metadata": {},
          "execution_count": 41
        }
      ]
    },
    {
      "cell_type": "code",
      "metadata": {
        "id": "BeNwG83-q7Bm"
      },
      "source": [
        "from sklearn.feature_selection import RFE\n",
        "from sklearn.linear_model import LogisticRegression"
      ],
      "execution_count": 42,
      "outputs": []
    },
    {
      "cell_type": "code",
      "metadata": {
        "colab": {
          "base_uri": "https://localhost:8080/"
        },
        "id": "JUUSkiH1rNJv",
        "outputId": "544753f7-1596-4168-b7ba-0afbd00f8d70"
      },
      "source": [
        "classifier = LogisticRegression()\n",
        "rfe = RFE(classifier, 20)\n",
        "rfe = rfe.fit(X_train, y_train)\n",
        "print(rfe.support_)\n",
        "print(rfe.ranking_)"
      ],
      "execution_count": 43,
      "outputs": [
        {
          "output_type": "stream",
          "text": [
            "[ True  True  True  True  True  True  True False False False False  True\n",
            " False  True  True False  True  True  True  True  True  True False False\n",
            "  True  True False False  True  True False False False False False False\n",
            " False False False False False]\n",
            "[ 1  1  1  1  1  1  1 12 17  5 15  1  6  1  1 11  1  1  1  1  1  1 10  2\n",
            "  1  1  8 18  1  1 22 16  9  3 19 13  4 21 14  7 20]\n"
          ],
          "name": "stdout"
        }
      ]
    },
    {
      "cell_type": "code",
      "metadata": {
        "colab": {
          "base_uri": "https://localhost:8080/"
        },
        "id": "4o_Vkva7rRM-",
        "outputId": "642555b4-a7ac-475c-c22a-cc82fbee3397"
      },
      "source": [
        "X_train.columns[rfe.support_]\n"
      ],
      "execution_count": 44,
      "outputs": [
        {
          "output_type": "execute_result",
          "data": {
            "text/plain": [
              "Index(['age', 'deposits', 'withdrawal', 'purchases_partners', 'purchases',\n",
              "       'cc_taken', 'cc_recommended', 'web_user', 'android_user',\n",
              "       'registered_phones', 'cancelled_loan', 'received_loan', 'rejected_loan',\n",
              "       'left_for_two_month_plus', 'left_for_one_month', 'reward_rate',\n",
              "       'housing_R', 'payment_type_Bi-Weekly', 'payment_type_Weekly',\n",
              "       'zodiac_sign_Aquarius'],\n",
              "      dtype='object')"
            ]
          },
          "metadata": {},
          "execution_count": 44
        }
      ]
    },
    {
      "cell_type": "code",
      "metadata": {
        "id": "KTAMji-itHEK"
      },
      "source": [
        "corr = X_train[X_train.columns[rfe.support_]].corr()"
      ],
      "execution_count": 45,
      "outputs": []
    },
    {
      "cell_type": "code",
      "metadata": {
        "id": "VJKpKIiUtKHs"
      },
      "source": [
        "# Máscara que retira o triângulo superior\n",
        "mask = np.zeros_like(corr, dtype=np.bool)\n",
        "mask[np.triu_indices_from(mask)] = True"
      ],
      "execution_count": 46,
      "outputs": []
    },
    {
      "cell_type": "code",
      "metadata": {
        "colab": {
          "base_uri": "https://localhost:8080/",
          "height": 1000
        },
        "id": "H7s_Ir9KtWuN",
        "outputId": "c7142813-35b0-4844-87e7-11c0910a0a98"
      },
      "source": [
        "f, ax = plt.subplots(figsize=(18, 15))\n",
        "\n",
        "cmap = sn.diverging_palette(250, 10, as_cmap=True)\n",
        "\n",
        "sn.heatmap(corr, mask=mask, cmap=cmap, vmax=.3, center=0,\n",
        "            square=True, linewidths=.5, cbar_kws={\"shrink\": .5})"
      ],
      "execution_count": 47,
      "outputs": [
        {
          "output_type": "execute_result",
          "data": {
            "text/plain": [
              "<matplotlib.axes._subplots.AxesSubplot at 0x7fe22188b290>"
            ]
          },
          "metadata": {},
          "execution_count": 47
        },
        {
          "output_type": "display_data",
          "data": {
            "image/png": "[encoded data removed]",
            "text/plain": [
              "<Figure size 1296x1080 with 2 Axes>"
            ]
          },
          "metadata": {}
        }
      ]
    },
    {
      "cell_type": "code",
      "metadata": {
        "colab": {
          "base_uri": "https://localhost:8080/"
        },
        "id": "BNYx906kuD9y",
        "outputId": "31a651a7-0afb-4be7-cbd9-2a645e7b9b66"
      },
      "source": [
        "classifier = LogisticRegression()\n",
        "classifier.fit(X_train[X_train.columns[rfe.support_]], y_train)"
      ],
      "execution_count": 48,
      "outputs": [
        {
          "output_type": "execute_result",
          "data": {
            "text/plain": [
              "LogisticRegression(C=1.0, class_weight=None, dual=False, fit_intercept=True,\n",
              "                   intercept_scaling=1, l1_ratio=None, max_iter=100,\n",
              "                   multi_class='auto', n_jobs=None, penalty='l2',\n",
              "                   random_state=None, solver='lbfgs', tol=0.0001, verbose=0,\n",
              "                   warm_start=False)"
            ]
          },
          "metadata": {},
          "execution_count": 48
        }
      ]
    },
    {
      "cell_type": "code",
      "metadata": {
        "id": "mimIrazptiJ8"
      },
      "source": [
        "y_pred = classifier.predict(X_test[X_train.columns[rfe.support_]])"
      ],
      "execution_count": 49,
      "outputs": []
    },
    {
      "cell_type": "code",
      "metadata": {
        "colab": {
          "base_uri": "https://localhost:8080/"
        },
        "id": "3lNRBoiYuRke",
        "outputId": "b7862965-3083-49b3-fca3-15c43b2ae381"
      },
      "source": [
        "cm = confusion_matrix(y_test, y_pred)\n",
        "print(accuracy_score(y_test, y_pred))\n",
        "print(precision_score(y_test, y_pred)) # tp / (tp + fp)\n",
        "print(recall_score(y_test, y_pred)) # tp / (tp + fn)\n",
        "print(f1_score(y_test, y_pred))"
      ],
      "execution_count": 50,
      "outputs": [
        {
          "output_type": "stream",
          "text": [
            "0.6222222222222222\n",
            "0.5416536661466459\n",
            "0.7524924143909839\n",
            "0.629898403483309\n"
          ],
          "name": "stdout"
        }
      ]
    },
    {
      "cell_type": "code",
      "metadata": {
        "colab": {
          "base_uri": "https://localhost:8080/",
          "height": 677
        },
        "id": "e5PPGTxKueFC",
        "outputId": "8b062485-3af1-4708-f4e7-09ddea647918"
      },
      "source": [
        "pd.concat([pd.DataFrame(X_train[X_train.columns[rfe.support_]].columns, columns = [\"features\"]),\n",
        "           pd.DataFrame(np.transpose(classifier.coef_), columns = [\"coef\"])\n",
        "           ],axis = 1)"
      ],
      "execution_count": 51,
      "outputs": [
        {
          "output_type": "execute_result",
          "data": {
            "text/html": [
              "<div>\n",
              "<style scoped>\n",
              "    .dataframe tbody tr th:only-of-type {\n",
              "        vertical-align: middle;\n",
              "    }\n",
              "\n",
              "    .dataframe tbody tr th {\n",
              "        vertical-align: top;\n",
              "    }\n",
              "\n",
              "    .dataframe thead th {\n",
              "        text-align: right;\n",
              "    }\n",
              "</style>\n",
              "<table border=\"1\" class=\"dataframe\">\n",
              "  <thead>\n",
              "    <tr style=\"text-align: right;\">\n",
              "      <th></th>\n",
              "      <th>features</th>\n",
              "      <th>coef</th>\n",
              "    </tr>\n",
              "  </thead>\n",
              "  <tbody>\n",
              "    <tr>\n",
              "      <th>0</th>\n",
              "      <td>age</td>\n",
              "      <td>-0.162808</td>\n",
              "    </tr>\n",
              "    <tr>\n",
              "      <th>1</th>\n",
              "      <td>deposits</td>\n",
              "      <td>0.295325</td>\n",
              "    </tr>\n",
              "    <tr>\n",
              "      <th>2</th>\n",
              "      <td>withdrawal</td>\n",
              "      <td>0.047138</td>\n",
              "    </tr>\n",
              "    <tr>\n",
              "      <th>3</th>\n",
              "      <td>purchases_partners</td>\n",
              "      <td>-0.737524</td>\n",
              "    </tr>\n",
              "    <tr>\n",
              "      <th>4</th>\n",
              "      <td>purchases</td>\n",
              "      <td>-0.407967</td>\n",
              "    </tr>\n",
              "    <tr>\n",
              "      <th>5</th>\n",
              "      <td>cc_taken</td>\n",
              "      <td>0.063149</td>\n",
              "    </tr>\n",
              "    <tr>\n",
              "      <th>6</th>\n",
              "      <td>cc_recommended</td>\n",
              "      <td>0.043232</td>\n",
              "    </tr>\n",
              "    <tr>\n",
              "      <th>7</th>\n",
              "      <td>web_user</td>\n",
              "      <td>0.124244</td>\n",
              "    </tr>\n",
              "    <tr>\n",
              "      <th>8</th>\n",
              "      <td>android_user</td>\n",
              "      <td>-0.047696</td>\n",
              "    </tr>\n",
              "    <tr>\n",
              "      <th>9</th>\n",
              "      <td>registered_phones</td>\n",
              "      <td>0.122150</td>\n",
              "    </tr>\n",
              "    <tr>\n",
              "      <th>10</th>\n",
              "      <td>cancelled_loan</td>\n",
              "      <td>0.108690</td>\n",
              "    </tr>\n",
              "    <tr>\n",
              "      <th>11</th>\n",
              "      <td>received_loan</td>\n",
              "      <td>0.069148</td>\n",
              "    </tr>\n",
              "    <tr>\n",
              "      <th>12</th>\n",
              "      <td>rejected_loan</td>\n",
              "      <td>0.100861</td>\n",
              "    </tr>\n",
              "    <tr>\n",
              "      <th>13</th>\n",
              "      <td>left_for_two_month_plus</td>\n",
              "      <td>0.056224</td>\n",
              "    </tr>\n",
              "    <tr>\n",
              "      <th>14</th>\n",
              "      <td>left_for_one_month</td>\n",
              "      <td>0.058127</td>\n",
              "    </tr>\n",
              "    <tr>\n",
              "      <th>15</th>\n",
              "      <td>reward_rate</td>\n",
              "      <td>-0.161260</td>\n",
              "    </tr>\n",
              "    <tr>\n",
              "      <th>16</th>\n",
              "      <td>housing_R</td>\n",
              "      <td>0.062768</td>\n",
              "    </tr>\n",
              "    <tr>\n",
              "      <th>17</th>\n",
              "      <td>payment_type_Bi-Weekly</td>\n",
              "      <td>-0.038017</td>\n",
              "    </tr>\n",
              "    <tr>\n",
              "      <th>18</th>\n",
              "      <td>payment_type_Weekly</td>\n",
              "      <td>0.056634</td>\n",
              "    </tr>\n",
              "    <tr>\n",
              "      <th>19</th>\n",
              "      <td>zodiac_sign_Aquarius</td>\n",
              "      <td>-0.048746</td>\n",
              "    </tr>\n",
              "  </tbody>\n",
              "</table>\n",
              "</div>"
            ],
            "text/plain": [
              "                   features      coef\n",
              "0                       age -0.162808\n",
              "1                  deposits  0.295325\n",
              "2                withdrawal  0.047138\n",
              "3        purchases_partners -0.737524\n",
              "4                 purchases -0.407967\n",
              "5                  cc_taken  0.063149\n",
              "6            cc_recommended  0.043232\n",
              "7                  web_user  0.124244\n",
              "8              android_user -0.047696\n",
              "9         registered_phones  0.122150\n",
              "10           cancelled_loan  0.108690\n",
              "11            received_loan  0.069148\n",
              "12            rejected_loan  0.100861\n",
              "13  left_for_two_month_plus  0.056224\n",
              "14       left_for_one_month  0.058127\n",
              "15              reward_rate -0.161260\n",
              "16                housing_R  0.062768\n",
              "17   payment_type_Bi-Weekly -0.038017\n",
              "18      payment_type_Weekly  0.056634\n",
              "19     zodiac_sign_Aquarius -0.048746"
            ]
          },
          "metadata": {},
          "execution_count": 51
        }
      ]
    },
    {
      "cell_type": "code",
      "metadata": {
        "id": "_mMFYJ9zu_Xa"
      },
      "source": [
        "final_results = pd.concat([y_test, user_id], axis = 1).dropna()\n",
        "final_results['predicted_churn'] = y_pred\n",
        "final_results = final_results[['user', 'churn', 'predicted_churn']].reset_index(drop=True)"
      ],
      "execution_count": 54,
      "outputs": []
    },
    {
      "cell_type": "code",
      "metadata": {
        "colab": {
          "base_uri": "https://localhost:8080/",
          "height": 424
        },
        "id": "XCOa5W9kvDvZ",
        "outputId": "7831fb47-e46b-4ec4-f54f-f81f909c84ac"
      },
      "source": [
        "final_results"
      ],
      "execution_count": 55,
      "outputs": [
        {
          "output_type": "execute_result",
          "data": {
            "text/html": [
              "<div>\n",
              "<style scoped>\n",
              "    .dataframe tbody tr th:only-of-type {\n",
              "        vertical-align: middle;\n",
              "    }\n",
              "\n",
              "    .dataframe tbody tr th {\n",
              "        vertical-align: top;\n",
              "    }\n",
              "\n",
              "    .dataframe thead th {\n",
              "        text-align: right;\n",
              "    }\n",
              "</style>\n",
              "<table border=\"1\" class=\"dataframe\">\n",
              "  <thead>\n",
              "    <tr style=\"text-align: right;\">\n",
              "      <th></th>\n",
              "      <th>user</th>\n",
              "      <th>churn</th>\n",
              "      <th>predicted_churn</th>\n",
              "    </tr>\n",
              "  </thead>\n",
              "  <tbody>\n",
              "    <tr>\n",
              "      <th>0</th>\n",
              "      <td>23547</td>\n",
              "      <td>0.0</td>\n",
              "      <td>1</td>\n",
              "    </tr>\n",
              "    <tr>\n",
              "      <th>1</th>\n",
              "      <td>41406</td>\n",
              "      <td>0.0</td>\n",
              "      <td>1</td>\n",
              "    </tr>\n",
              "    <tr>\n",
              "      <th>2</th>\n",
              "      <td>65427</td>\n",
              "      <td>1.0</td>\n",
              "      <td>1</td>\n",
              "    </tr>\n",
              "    <tr>\n",
              "      <th>3</th>\n",
              "      <td>25997</td>\n",
              "      <td>0.0</td>\n",
              "      <td>1</td>\n",
              "    </tr>\n",
              "    <tr>\n",
              "      <th>4</th>\n",
              "      <td>13813</td>\n",
              "      <td>1.0</td>\n",
              "      <td>1</td>\n",
              "    </tr>\n",
              "    <tr>\n",
              "      <th>...</th>\n",
              "      <td>...</td>\n",
              "      <td>...</td>\n",
              "      <td>...</td>\n",
              "    </tr>\n",
              "    <tr>\n",
              "      <th>5395</th>\n",
              "      <td>47206</td>\n",
              "      <td>0.0</td>\n",
              "      <td>0</td>\n",
              "    </tr>\n",
              "    <tr>\n",
              "      <th>5396</th>\n",
              "      <td>22377</td>\n",
              "      <td>0.0</td>\n",
              "      <td>0</td>\n",
              "    </tr>\n",
              "    <tr>\n",
              "      <th>5397</th>\n",
              "      <td>65830</td>\n",
              "      <td>1.0</td>\n",
              "      <td>0</td>\n",
              "    </tr>\n",
              "    <tr>\n",
              "      <th>5398</th>\n",
              "      <td>47663</td>\n",
              "      <td>1.0</td>\n",
              "      <td>1</td>\n",
              "    </tr>\n",
              "    <tr>\n",
              "      <th>5399</th>\n",
              "      <td>52752</td>\n",
              "      <td>1.0</td>\n",
              "      <td>0</td>\n",
              "    </tr>\n",
              "  </tbody>\n",
              "</table>\n",
              "<p>5400 rows × 3 columns</p>\n",
              "</div>"
            ],
            "text/plain": [
              "       user  churn  predicted_churn\n",
              "0     23547    0.0                1\n",
              "1     41406    0.0                1\n",
              "2     65427    1.0                1\n",
              "3     25997    0.0                1\n",
              "4     13813    1.0                1\n",
              "...     ...    ...              ...\n",
              "5395  47206    0.0                0\n",
              "5396  22377    0.0                0\n",
              "5397  65830    1.0                0\n",
              "5398  47663    1.0                1\n",
              "5399  52752    1.0                0\n",
              "\n",
              "[5400 rows x 3 columns]"
            ]
          },
          "metadata": {},
          "execution_count": 55
        }
      ]
    },
    {
      "cell_type": "code",
      "metadata": {
        "id": "pYZoSmpSwDfl"
      },
      "source": [
        "import joblib"
      ],
      "execution_count": 56,
      "outputs": []
    },
    {
      "cell_type": "code",
      "metadata": {
        "colab": {
          "base_uri": "https://localhost:8080/"
        },
        "id": "2Ey0f5-zv4l0",
        "outputId": "6c14d951-6ca0-4056-c53b-b11c00effa2d"
      },
      "source": [
        "filename='churn_classifier.sav'\n",
        "joblib.dump(classifier, filename)"
      ],
      "execution_count": 58,
      "outputs": [
        {
          "output_type": "execute_result",
          "data": {
            "text/plain": [
              "['churn_classifier.sav']"
            ]
          },
          "metadata": {},
          "execution_count": 58
        }
      ]
    },
    {
      "cell_type": "code",
      "metadata": {
        "id": "bE42VWo_wPl6"
      },
      "source": [
        "loaded_classifier = joblib.load(filename)"
      ],
      "execution_count": 60,
      "outputs": []
    },
    {
      "cell_type": "code",
      "metadata": {
        "id": "KXi4sQ_zwXIQ"
      },
      "source": [
        "y_pred_new = loaded_classifier.predict(X_test[X_train.columns[rfe.support_]])"
      ],
      "execution_count": 63,
      "outputs": []
    },
    {
      "cell_type": "code",
      "metadata": {
        "colab": {
          "base_uri": "https://localhost:8080/"
        },
        "id": "s7GicOi2wi9D",
        "outputId": "6196b418-1a88-489c-8621-7d2a375f7ca5"
      },
      "source": [
        "print(accuracy_score(y_test, y_pred_new))\n",
        "print(precision_score(y_test, y_pred_new)) # tp / (tp + fp)\n",
        "print(recall_score(y_test, y_pred_new)) # tp / (tp + fn)\n",
        "print(f1_score(y_test, y_pred_new))"
      ],
      "execution_count": 64,
      "outputs": [
        {
          "output_type": "stream",
          "text": [
            "0.6222222222222222\n",
            "0.5416536661466459\n",
            "0.7524924143909839\n",
            "0.629898403483309\n"
          ],
          "name": "stdout"
        }
      ]
    },
    {
      "cell_type": "code",
      "metadata": {
        "id": "JyaP6i1kxL7S"
      },
      "source": [
        "import pickle"
      ],
      "execution_count": 65,
      "outputs": []
    },
    {
      "cell_type": "code",
      "metadata": {
        "id": "Td9RvSRlxUFe"
      },
      "source": [
        "filename='churn_classifier_pkl.sav'\n",
        "pickle.dump(classifier, open(filename, 'wb'))"
      ],
      "execution_count": 66,
      "outputs": []
    },
    {
      "cell_type": "code",
      "metadata": {
        "id": "rW3RjyUJxjV3"
      },
      "source": [
        "loaded_classifier = pickle.load(open(filename, 'rb'))"
      ],
      "execution_count": 68,
      "outputs": []
    },
    {
      "cell_type": "code",
      "metadata": {
        "id": "iWIsHuFNxpcY"
      },
      "source": [
        "y_pred_new = loaded_classifier.predict(X_test[X_train.columns[rfe.support_]])"
      ],
      "execution_count": 69,
      "outputs": []
    },
    {
      "cell_type": "code",
      "metadata": {
        "colab": {
          "base_uri": "https://localhost:8080/"
        },
        "id": "vZKQmng9xxEX",
        "outputId": "f392f8ce-ba6b-4109-aaf8-fd83945eda7c"
      },
      "source": [
        "print(accuracy_score(y_test, y_pred_new))\n",
        "print(precision_score(y_test, y_pred_new)) # tp / (tp + fp)\n",
        "print(recall_score(y_test, y_pred_new)) # tp / (tp + fn)\n",
        "print(f1_score(y_test, y_pred_new))"
      ],
      "execution_count": 70,
      "outputs": [
        {
          "output_type": "stream",
          "text": [
            "0.6222222222222222\n",
            "0.5416536661466459\n",
            "0.7524924143909839\n",
            "0.629898403483309\n"
          ],
          "name": "stdout"
        }
      ]
    }
  ]
}