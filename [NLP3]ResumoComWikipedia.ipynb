{
  "nbformat": 4,
  "nbformat_minor": 0,
  "metadata": {
    "colab": {
      "name": "[NLP3]ResumoComWikipedia.ipynb",
      "provenance": [],
      "collapsed_sections": [],
      "include_colab_link": true
    },
    "kernelspec": {
      "name": "python3",
      "display_name": "Python 3"
    },
    "accelerator": "GPU"
  },
  "cells": [
    {
      "cell_type": "markdown",
      "metadata": {
        "id": "view-in-github",
        "colab_type": "text"
      },
      "source": [
        "<a href=\"https://colab.research.google.com/github/tvaditya/intro_ds_and_ml/blob/main/%5BNLP3%5DResumoComWikipedia.ipynb\" target=\"_parent\"><img src=\"https://colab.research.google.com/assets/colab-badge.svg\" alt=\"Open In Colab\"/></a>"
      ]
    },
    {
      "cell_type": "markdown",
      "metadata": {
        "id": "3Ob6Jc07nKjZ"
      },
      "source": [
        "##<font color=\"#fd79a8\">Sumários gerados por extração <br><font color=\"#48dbfb\">Scraping de artigo de Wikipedia para gerar resumos"
      ]
    },
    {
      "cell_type": "code",
      "metadata": {
        "id": "L80gVJiZ1fvJ",
        "colab": {
          "base_uri": "https://localhost:8080/"
        },
        "outputId": "2936b31c-1d1c-4c20-a5ab-86a739fdc583"
      },
      "source": [
        "import bs4 as bs\n",
        "import urllib.request\n",
        "import re\n",
        "import nltk\n",
        "nltk.download('punkt')\n",
        "import sys\n",
        "import csv \n",
        "\n",
        "#persian cuisine\n",
        "scraped_data = urllib.request.urlopen('https://pt.wikipedia.org/wiki/Cart%C3%A3o_private_label')\n",
        "article = scraped_data.read()\n",
        "\n",
        "parsed_article = bs.BeautifulSoup(article,'lxml')\n",
        "\n",
        "paragraphs = parsed_article.find_all('p')\n",
        "\n",
        "article_text = \"\"\n",
        "\n",
        "for p in paragraphs:\n",
        "    article_text += p.text"
      ],
      "execution_count": 1,
      "outputs": [
        {
          "output_type": "stream",
          "name": "stdout",
          "text": [
            "[nltk_data] Downloading package punkt to /root/nltk_data...\n",
            "[nltk_data]   Unzipping tokenizers/punkt.zip.\n"
          ]
        }
      ]
    },
    {
      "cell_type": "code",
      "metadata": {
        "id": "i_4EmP8l1tLi"
      },
      "source": [
        "# Removing Square Brackets and Extra Spaces\n",
        "article_text = re.sub(r'\\[[0-9]*\\]', ' ', article_text)\n",
        "#any whitespace character \\s+\n",
        "article_text = re.sub(r'\\s+', ' ', article_text)"
      ],
      "execution_count": 2,
      "outputs": []
    },
    {
      "cell_type": "code",
      "metadata": {
        "id": "u-AKwDkc15h6"
      },
      "source": [
        "# Removing special characters and digits\n",
        "formatted_article_text = re.sub('[^a-zA-Z]', ' ', article_text )\n",
        "#any whitespace character \\s+\n",
        "formatted_article_text = re.sub(r'\\s+', ' ', formatted_article_text)"
      ],
      "execution_count": 3,
      "outputs": []
    },
    {
      "cell_type": "markdown",
      "metadata": {
        "id": "c3dlAgyRvLa4"
      },
      "source": [
        "##<font color=\"#fd79a8\">Converter paragrafos em sentenças"
      ]
    },
    {
      "cell_type": "code",
      "metadata": {
        "id": "Q1BxJpQx15ss"
      },
      "source": [
        "sentence_list = nltk.sent_tokenize(article_text)"
      ],
      "execution_count": 4,
      "outputs": []
    },
    {
      "cell_type": "code",
      "metadata": {
        "id": "jGWRc5NY2g8J",
        "colab": {
          "base_uri": "https://localhost:8080/"
        },
        "outputId": "2b5b6ef8-c0ba-4998-fef8-06a36cc074dd"
      },
      "source": [
        "nltk.download('stopwords')\n",
        "stopwords = nltk.corpus.stopwords.words('portuguese')"
      ],
      "execution_count": 5,
      "outputs": [
        {
          "output_type": "stream",
          "name": "stdout",
          "text": [
            "[nltk_data] Downloading package stopwords to /root/nltk_data...\n",
            "[nltk_data]   Unzipping corpora/stopwords.zip.\n"
          ]
        }
      ]
    },
    {
      "cell_type": "markdown",
      "metadata": {
        "id": "eZ-LlCwBwE7J"
      },
      "source": [
        "###<font color=\"#fd79a8\"> Calcular a frequencia das palavras. <br>Tokenize as sentenças <br>Se não for uma stopword e não estiver incluido nas lista de palavras , adicione e conte"
      ]
    },
    {
      "cell_type": "code",
      "metadata": {
        "id": "fA4mWOgK2X6Y"
      },
      "source": [
        "# stopwords = nltk.corpus.stopwords.words('english')\n",
        "\n",
        "word_frequencies = {}\n",
        "for word in nltk.word_tokenize(formatted_article_text):\n",
        "    if word not in stopwords:\n",
        "        if word not in word_frequencies.keys():\n",
        "            word_frequencies[word] = 1\n",
        "        else:\n",
        "            word_frequencies[word] += 1\n"
      ],
      "execution_count": 6,
      "outputs": []
    },
    {
      "cell_type": "code",
      "source": [
        "word_frequencies"
      ],
      "metadata": {
        "colab": {
          "base_uri": "https://localhost:8080/"
        },
        "id": "gfxkyWFLYpGU",
        "outputId": "dff5f6b0-537c-4a06-edf8-11cb48f1de92"
      },
      "execution_count": 7,
      "outputs": [
        {
          "output_type": "execute_result",
          "data": {
            "text/plain": [
              "{'A': 2,\n",
              " 'ABECS': 1,\n",
              " 'American': 1,\n",
              " 'Associa': 1,\n",
              " 'Aumento': 1,\n",
              " 'Brasil': 3,\n",
              " 'Brasileira': 1,\n",
              " 'CPF': 1,\n",
              " 'Cart': 2,\n",
              " 'Co': 1,\n",
              " 'Com': 1,\n",
              " 'Cr': 2,\n",
              " 'De': 1,\n",
              " 'Desburocratiza': 1,\n",
              " 'Dinners': 1,\n",
              " 'E': 1,\n",
              " 'Empresas': 1,\n",
              " 'Esta': 1,\n",
              " 'Express': 1,\n",
              " 'Fideliza': 1,\n",
              " 'Ganha': 1,\n",
              " 'Label': 2,\n",
              " 'Mappin': 1,\n",
              " 'Mastercard': 1,\n",
              " 'Mesbla': 1,\n",
              " 'N': 1,\n",
              " 'No': 1,\n",
              " 'O': 2,\n",
              " 'Obter': 1,\n",
              " 'P': 1,\n",
              " 'Para': 2,\n",
              " 'Parcerias': 1,\n",
              " 'Por': 1,\n",
              " 'Private': 2,\n",
              " 'Servi': 1,\n",
              " 'Seu': 1,\n",
              " 'Tamb': 1,\n",
              " 'Visa': 1,\n",
              " 'aceita': 2,\n",
              " 'acordo': 1,\n",
              " 'adquirentes': 1,\n",
              " 'afiliadas': 1,\n",
              " 'afinal': 1,\n",
              " 'al': 1,\n",
              " 'alvo': 1,\n",
              " 'an': 1,\n",
              " 'apenas': 2,\n",
              " 'apresentar': 1,\n",
              " 'ar': 1,\n",
              " 'assertividade': 1,\n",
              " 'aumenta': 1,\n",
              " 'autoriza': 1,\n",
              " 'aux': 1,\n",
              " 'banc': 1,\n",
              " 'banco': 1,\n",
              " 'bandeira': 2,\n",
              " 'bandeirado': 1,\n",
              " 'bandeiras': 2,\n",
              " 'basta': 1,\n",
              " 'blico': 1,\n",
              " 'branded': 1,\n",
              " 'cada': 1,\n",
              " 'cadastro': 1,\n",
              " 'cadeia': 1,\n",
              " 'caracter': 1,\n",
              " 'cart': 14,\n",
              " 'certamente': 1,\n",
              " 'certeiro': 1,\n",
              " 'chamado': 1,\n",
              " 'cia': 1,\n",
              " 'cias': 1,\n",
              " 'cio': 1,\n",
              " 'cliente': 6,\n",
              " 'clientes': 1,\n",
              " 'colabora': 1,\n",
              " 'compra': 1,\n",
              " 'comprar': 1,\n",
              " 'compras': 2,\n",
              " 'comprovantes': 1,\n",
              " 'conceito': 1,\n",
              " 'conectados': 1,\n",
              " 'consumidor': 1,\n",
              " 'conta': 1,\n",
              " 'contratar': 1,\n",
              " 'controle': 1,\n",
              " 'cr': 4,\n",
              " 'credenciamento': 1,\n",
              " 'd': 1,\n",
              " 'dados': 1,\n",
              " 'daquela': 1,\n",
              " 'dar': 1,\n",
              " 'depender': 1,\n",
              " 'desburocratizada': 1,\n",
              " 'descontos': 1,\n",
              " 'desses': 1,\n",
              " 'deste': 2,\n",
              " 'determinar': 1,\n",
              " 'diferenciados': 1,\n",
              " 'diferente': 1,\n",
              " 'direcionado': 1,\n",
              " 'dito': 6,\n",
              " 'documento': 1,\n",
              " 'editores': 1,\n",
              " 'efetiva': 1,\n",
              " 'efetuar': 1,\n",
              " 'efic': 1,\n",
              " 'emissor': 1,\n",
              " 'emitido': 3,\n",
              " 'es': 5,\n",
              " 'espec': 1,\n",
              " 'est': 1,\n",
              " 'estabelecer': 1,\n",
              " 'estabelecimento': 2,\n",
              " 'estabelecimentos': 3,\n",
              " 'eventuais': 1,\n",
              " 'exemplo': 1,\n",
              " 'exigem': 1,\n",
              " 'existiam': 1,\n",
              " 'extintos': 1,\n",
              " 'facilitado': 1,\n",
              " 'farm': 1,\n",
              " 'fato': 1,\n",
              " 'fico': 1,\n",
              " 'financeiro': 1,\n",
              " 'financiamentos': 1,\n",
              " 'frequentar': 1,\n",
              " 'ganha': 1,\n",
              " 'gest': 1,\n",
              " 'ginas': 1,\n",
              " 'grandes': 1,\n",
              " 'h': 1,\n",
              " 'habilitado': 1,\n",
              " 'hist': 1,\n",
              " 'importante': 1,\n",
              " 'interessante': 1,\n",
              " 'j': 1,\n",
              " 'juros': 1,\n",
              " 'label': 6,\n",
              " 'lido': 1,\n",
              " 'limitada': 1,\n",
              " 'limite': 1,\n",
              " 'limites': 1,\n",
              " 'lio': 1,\n",
              " 'lises': 1,\n",
              " 'loja': 4,\n",
              " 'lojas': 2,\n",
              " 'lojista': 1,\n",
              " 'm': 3,\n",
              " 'maioria': 2,\n",
              " 'menos': 1,\n",
              " 'mensura': 1,\n",
              " 'mero': 1,\n",
              " 'mexer': 1,\n",
              " 'milh': 1,\n",
              " 'modalidade': 1,\n",
              " 'momento': 1,\n",
              " 'n': 4,\n",
              " 'ncia': 1,\n",
              " 'necess': 1,\n",
              " 'necessidade': 1,\n",
              " 'neg': 1,\n",
              " 'nica': 1,\n",
              " 'nome': 2,\n",
              " 'obten': 1,\n",
              " 'oferecidas': 1,\n",
              " 'operar': 1,\n",
              " 'outras': 2,\n",
              " 'outros': 1,\n",
              " 'p': 1,\n",
              " 'pagamento': 1,\n",
              " 'parcelar': 1,\n",
              " 'parcerias': 1,\n",
              " 'passa': 1,\n",
              " 'permite': 1,\n",
              " 'pida': 1,\n",
              " 'poder': 1,\n",
              " 'pois': 2,\n",
              " 'popula': 1,\n",
              " 'possui': 1,\n",
              " 'poucas': 1,\n",
              " 'prazos': 1,\n",
              " 'precisar': 1,\n",
              " 'precursores': 1,\n",
              " 'preocupar': 1,\n",
              " 'principais': 1,\n",
              " 'private': 6,\n",
              " 'probabilidade': 1,\n",
              " 'propriedade': 1,\n",
              " 'qualquer': 1,\n",
              " 'quer': 2,\n",
              " 'r': 1,\n",
              " 'rcio': 1,\n",
              " 'realiza': 1,\n",
              " 'realizar': 1,\n",
              " 'refor': 1,\n",
              " 'rela': 1,\n",
              " 'remonta': 1,\n",
              " 'renda': 1,\n",
              " 'resid': 1,\n",
              " 'restaurantes': 1,\n",
              " 'resultados': 1,\n",
              " 'rico': 1,\n",
              " 'rio': 2,\n",
              " 's': 1,\n",
              " 'saiba': 1,\n",
              " 'ser': 2,\n",
              " 'servi': 1,\n",
              " 'significa': 1,\n",
              " 'sistema': 2,\n",
              " 'sticas': 1,\n",
              " 'surgimento': 1,\n",
              " 'tais': 1,\n",
              " 'tamb': 1,\n",
              " 'ter': 3,\n",
              " 'tipo': 1,\n",
              " 'todo': 1,\n",
              " 'totalmente': 1,\n",
              " 'trabalhar': 1,\n",
              " 'universais': 1,\n",
              " 'universal': 3,\n",
              " 'universo': 1,\n",
              " 'uso': 1,\n",
              " 'usualmente': 1,\n",
              " 'usufruir': 1,\n",
              " 'v': 1,\n",
              " 'vai': 1,\n",
              " 'vantagem': 1,\n",
              " 'vantagens': 2,\n",
              " 'varejista': 3,\n",
              " 'varejistas': 1,\n",
              " 'varejo': 1,\n",
              " 'vendas': 1,\n",
              " 'vezes': 2,\n",
              " 'visto': 1,\n",
              " 'voc': 1,\n",
              " 'volume': 1}"
            ]
          },
          "metadata": {},
          "execution_count": 7
        }
      ]
    },
    {
      "cell_type": "markdown",
      "metadata": {
        "id": "OzSatUTS8WK7"
      },
      "source": [
        "###<font color=\"#48dbfb\">Calcular o weighted frequency de ocorrencia"
      ]
    },
    {
      "cell_type": "code",
      "metadata": {
        "id": "D34gqm-42lBq"
      },
      "source": [
        "maximum_frequncy = max(word_frequencies.values())\n",
        "\n",
        "for word in word_frequencies.keys():\n",
        "    word_frequencies[word] = (word_frequencies[word]/maximum_frequncy)"
      ],
      "execution_count": 8,
      "outputs": []
    },
    {
      "cell_type": "markdown",
      "metadata": {
        "id": "p2LMj2pa8L0k"
      },
      "source": [
        "###<font color=\"#48dbfb\">Substituir as palavras pelo weighted frequency nas sentenças"
      ]
    },
    {
      "cell_type": "code",
      "metadata": {
        "id": "fNUVxbcD2lOD"
      },
      "source": [
        "sentence_scores = {}\n",
        "for sent in sentence_list:\n",
        "    for word in nltk.word_tokenize(sent.lower()):\n",
        "        if word in word_frequencies.keys():\n",
        "            if len(sent.split(' ')) < 30:\n",
        "                if sent not in sentence_scores.keys():\n",
        "                    sentence_scores[sent] = word_frequencies[word]\n",
        "                else:\n",
        "                    sentence_scores[sent] += word_frequencies[word]"
      ],
      "execution_count": 9,
      "outputs": []
    },
    {
      "cell_type": "code",
      "source": [
        "sentence_scores"
      ],
      "metadata": {
        "colab": {
          "base_uri": "https://localhost:8080/"
        },
        "id": "jqOEpQEvX2-P",
        "outputId": "e3211737-15f2-4d50-ace8-679fa1ca1431"
      },
      "execution_count": 10,
      "outputs": [
        {
          "output_type": "execute_result",
          "data": {
            "text/plain": [
              "{'A efetivação de qualquer negócio será entre lojista e cliente.': 0.5714285714285714,\n",
              " 'Aumento certeiro em número de clientes e volume de vendas.': 0.2857142857142857,\n",
              " 'Com o cartão private label ele poderá parcelar as compras, contratar financiamentos com juros e prazos diferenciados e sem a autorização do sistema financeiro.': 1.6428571428571426,\n",
              " 'Desburocratização A obtenção do cartão private label é rápida e totalmente desburocratizada.': 0.9999999999999999,\n",
              " 'E mais interessante em se trabalhar com esta modalidade: não é necessário que o cliente tenha conta em banco, o que significa operar num universo de 40% da população.': 0.9999999999999998,\n",
              " 'Ganha seu cliente, ganha você.': 0.5714285714285714,\n",
              " 'No momento de realizar este controle, é importante ter o auxílio de um sistema de gestão, afinal a mensuração de resultados se dará com muito mais eficácia e assertividade.': 0.857142857142857,\n",
              " 'Não há a necessidade de grandes análises de cadastro.': 0.21428571428571427,\n",
              " 'Obter vantagens em farmácias e restaurantes, por exemplo, vai depender apenas do credenciamento, desses, ao varejo emissor do cartão.': 0.857142857142857,\n",
              " 'Para ter um, na maioria dos estabelecimentos, basta apresentar CPF e um documento com nome.': 0.9285714285714284,\n",
              " 'Parcerias O cartão private label também permite estabelecer e reforçar parcerias com outros estabelecimentos.': 1.4285714285714284,\n",
              " 'Seu surgimento no Brasil remonta à década de 1970 com os extintos cartões Mappin e Mesbla, precursores do conceito no Brasil.': 0.3571428571428571,\n",
              " 'Também são poucas as lojas que exigem comprovantes de residência e de renda.': 0.4285714285714285,\n",
              " 'É diferente dos cartões de crédito de uso universal, pois não tem uma bandeira de aceitação universal em todo o comércio, tais como as bandeiras Mastercard,American Express,Visa e Dinners.': 1.1428571428571428}"
            ]
          },
          "metadata": {},
          "execution_count": 10
        }
      ]
    },
    {
      "cell_type": "markdown",
      "metadata": {
        "id": "W0mMnhCX8lLJ"
      },
      "source": [
        "####<font color=\"#fd79a8\">Heap queue Pegar as 5 maiores frases pelo score gerado<br><font color=\"#0abde3\">heapq.nlargest(n, iterable, key=None)"
      ]
    },
    {
      "cell_type": "code",
      "metadata": {
        "id": "ThhA39562rxN",
        "colab": {
          "base_uri": "https://localhost:8080/",
          "height": 122
        },
        "outputId": "52c654a4-1bf1-4f73-d382-6589d884664d"
      },
      "source": [
        "import heapq\n",
        "summary_sentences = heapq.nlargest(5, sentence_scores, key=sentence_scores.get)\n",
        "\n",
        "summary = ' '.join(summary_sentences)\n",
        "summary"
      ],
      "execution_count": 11,
      "outputs": [
        {
          "output_type": "execute_result",
          "data": {
            "text/plain": [
              "'Com o cartão private label ele poderá parcelar as compras, contratar financiamentos com juros e prazos diferenciados e sem a autorização do sistema financeiro. Parcerias O cartão private label também permite estabelecer e reforçar parcerias com outros estabelecimentos. É diferente dos cartões de crédito de uso universal, pois não tem uma bandeira de aceitação universal em todo o comércio, tais como as bandeiras Mastercard,American Express,Visa e Dinners. Desburocratização A obtenção do cartão private label é rápida e totalmente desburocratizada. E mais interessante em se trabalhar com esta modalidade: não é necessário que o cliente tenha conta em banco, o que significa operar num universo de 40% da população.'"
            ],
            "application/vnd.google.colaboratory.intrinsic+json": {
              "type": "string"
            }
          },
          "metadata": {},
          "execution_count": 11
        }
      ]
    },
    {
      "cell_type": "code",
      "source": [
        "# Entrar em outro wikipedia (artigo)\n",
        "# Aumentar o numero de frases"
      ],
      "metadata": {
        "id": "x4da2TxYxqXU"
      },
      "execution_count": null,
      "outputs": []
    }
  ]
}