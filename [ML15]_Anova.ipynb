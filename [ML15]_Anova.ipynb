{
  "cells": [
    {
      "cell_type": "markdown",
      "metadata": {
        "id": "view-in-github",
        "colab_type": "text"
      },
      "source": [
        "<a href=\"https://colab.research.google.com/github/tvaditya/intro_ds_and_ml/blob/main/%5BML15%5D_Anova.ipynb\" target=\"_parent\"><img src=\"https://colab.research.google.com/assets/colab-badge.svg\" alt=\"Open In Colab\"/></a>"
      ]
    },
    {
      "cell_type": "markdown",
      "metadata": {
        "id": "HfTWwKcatwDl"
      },
      "source": [
        "## Univariate feature selection\n",
        "\n",
        "Univariate feature selection works by selecting the best features based on univariate statistical tests (ANOVA). The methods estimate the degree of linear dependency between two random variables. In this case, any of the predictor variables and the target. \n",
        "\n",
        "ANOVA assumes a linear relationship between the feature and the target and that the variables follow a Gaussian distribution. If this is not true, the result of this test may not be useful.\n",
        "\n",
        "In other words if samples with the same mean that are independent, normally distributed and with homogeneous of variance \n",
        "\n",
        "These may not always be the case for the variables in your dataset, so if looking to implement these procedure, you will need to corroborate these assumptions.\n",
        "\n",
        "I will demonstrate how to select features based on univariate tests using sklearn with a regression and classification dataset.\n",
        "\n",
        "For the sake of the demonstration, I will assume that the variables show a linear relationship with the target and that they are normally distributed."
      ]
    },
    {
      "cell_type": "code",
      "execution_count": null,
      "metadata": {
        "id": "bnfShpRKtwDs"
      },
      "outputs": [],
      "source": [
        "import pandas as pd\n",
        "import numpy as np\n",
        "\n",
        "import matplotlib.pyplot as plt\n",
        "\n",
        "from sklearn.model_selection import train_test_split\n",
        "\n",
        "# to determine the p-values with anova\n",
        "from sklearn.feature_selection import f_classif, f_regression\n",
        "\n",
        "# to select features\n",
        "from sklearn.feature_selection import SelectKBest, SelectPercentile"
      ]
    },
    {
      "cell_type": "markdown",
      "metadata": {
        "id": "5aX3zBYWtwDu"
      },
      "source": [
        "## Classification"
      ]
    },
    {
      "cell_type": "code",
      "execution_count": null,
      "metadata": {
        "id": "Eldti6zHtwDv",
        "outputId": "c183ae15-ef8f-408d-a212-6a0252cf90a2"
      },
      "outputs": [
        {
          "data": {
            "text/plain": [
              "(50000, 109)"
            ]
          },
          "execution_count": 2,
          "metadata": {},
          "output_type": "execute_result"
        }
      ],
      "source": [
        "# load dataset\n",
        "data = pd.read_csv('../dataset_2.csv')\n",
        "data.shape"
      ]
    },
    {
      "cell_type": "code",
      "execution_count": null,
      "metadata": {
        "id": "72pjKrYbtwDx",
        "outputId": "dc089f8b-5027-4f2e-ec1a-f9b67cea71d8"
      },
      "outputs": [
        {
          "data": {
            "text/html": [
              "<div>\n",
              "<style scoped>\n",
              "    .dataframe tbody tr th:only-of-type {\n",
              "        vertical-align: middle;\n",
              "    }\n",
              "\n",
              "    .dataframe tbody tr th {\n",
              "        vertical-align: top;\n",
              "    }\n",
              "\n",
              "    .dataframe thead th {\n",
              "        text-align: right;\n",
              "    }\n",
              "</style>\n",
              "<table border=\"1\" class=\"dataframe\">\n",
              "  <thead>\n",
              "    <tr style=\"text-align: right;\">\n",
              "      <th></th>\n",
              "      <th>var_1</th>\n",
              "      <th>var_2</th>\n",
              "      <th>var_3</th>\n",
              "      <th>var_4</th>\n",
              "      <th>var_5</th>\n",
              "      <th>var_6</th>\n",
              "      <th>var_7</th>\n",
              "      <th>var_8</th>\n",
              "      <th>var_9</th>\n",
              "      <th>var_10</th>\n",
              "      <th>...</th>\n",
              "      <th>var_100</th>\n",
              "      <th>var_101</th>\n",
              "      <th>var_102</th>\n",
              "      <th>var_103</th>\n",
              "      <th>var_104</th>\n",
              "      <th>var_105</th>\n",
              "      <th>var_106</th>\n",
              "      <th>var_107</th>\n",
              "      <th>var_108</th>\n",
              "      <th>var_109</th>\n",
              "    </tr>\n",
              "  </thead>\n",
              "  <tbody>\n",
              "    <tr>\n",
              "      <th>0</th>\n",
              "      <td>4.532710</td>\n",
              "      <td>3.280834</td>\n",
              "      <td>17.982476</td>\n",
              "      <td>4.404259</td>\n",
              "      <td>2.349910</td>\n",
              "      <td>0.603264</td>\n",
              "      <td>2.784655</td>\n",
              "      <td>0.323146</td>\n",
              "      <td>12.009691</td>\n",
              "      <td>0.139346</td>\n",
              "      <td>...</td>\n",
              "      <td>2.079066</td>\n",
              "      <td>6.748819</td>\n",
              "      <td>2.941445</td>\n",
              "      <td>18.360496</td>\n",
              "      <td>17.726613</td>\n",
              "      <td>7.774031</td>\n",
              "      <td>1.473441</td>\n",
              "      <td>1.973832</td>\n",
              "      <td>0.976806</td>\n",
              "      <td>2.541417</td>\n",
              "    </tr>\n",
              "    <tr>\n",
              "      <th>1</th>\n",
              "      <td>5.821374</td>\n",
              "      <td>12.098722</td>\n",
              "      <td>13.309151</td>\n",
              "      <td>4.125599</td>\n",
              "      <td>1.045386</td>\n",
              "      <td>1.832035</td>\n",
              "      <td>1.833494</td>\n",
              "      <td>0.709090</td>\n",
              "      <td>8.652883</td>\n",
              "      <td>0.102757</td>\n",
              "      <td>...</td>\n",
              "      <td>2.479789</td>\n",
              "      <td>7.795290</td>\n",
              "      <td>3.557890</td>\n",
              "      <td>17.383378</td>\n",
              "      <td>15.193423</td>\n",
              "      <td>8.263673</td>\n",
              "      <td>1.878108</td>\n",
              "      <td>0.567939</td>\n",
              "      <td>1.018818</td>\n",
              "      <td>1.416433</td>\n",
              "    </tr>\n",
              "    <tr>\n",
              "      <th>2</th>\n",
              "      <td>1.938776</td>\n",
              "      <td>7.952752</td>\n",
              "      <td>0.972671</td>\n",
              "      <td>3.459267</td>\n",
              "      <td>1.935782</td>\n",
              "      <td>0.621463</td>\n",
              "      <td>2.338139</td>\n",
              "      <td>0.344948</td>\n",
              "      <td>9.937850</td>\n",
              "      <td>11.691283</td>\n",
              "      <td>...</td>\n",
              "      <td>1.861487</td>\n",
              "      <td>6.130886</td>\n",
              "      <td>3.401064</td>\n",
              "      <td>15.850471</td>\n",
              "      <td>14.620599</td>\n",
              "      <td>6.849776</td>\n",
              "      <td>1.098210</td>\n",
              "      <td>1.959183</td>\n",
              "      <td>1.575493</td>\n",
              "      <td>1.857893</td>\n",
              "    </tr>\n",
              "    <tr>\n",
              "      <th>3</th>\n",
              "      <td>6.020690</td>\n",
              "      <td>9.900544</td>\n",
              "      <td>17.869637</td>\n",
              "      <td>4.366715</td>\n",
              "      <td>1.973693</td>\n",
              "      <td>2.026012</td>\n",
              "      <td>2.853025</td>\n",
              "      <td>0.674847</td>\n",
              "      <td>11.816859</td>\n",
              "      <td>0.011151</td>\n",
              "      <td>...</td>\n",
              "      <td>1.340944</td>\n",
              "      <td>7.240058</td>\n",
              "      <td>2.417235</td>\n",
              "      <td>15.194609</td>\n",
              "      <td>13.553772</td>\n",
              "      <td>7.229971</td>\n",
              "      <td>0.835158</td>\n",
              "      <td>2.234482</td>\n",
              "      <td>0.946170</td>\n",
              "      <td>2.700606</td>\n",
              "    </tr>\n",
              "    <tr>\n",
              "      <th>4</th>\n",
              "      <td>3.909506</td>\n",
              "      <td>10.576516</td>\n",
              "      <td>0.934191</td>\n",
              "      <td>3.419572</td>\n",
              "      <td>1.871438</td>\n",
              "      <td>3.340811</td>\n",
              "      <td>1.868282</td>\n",
              "      <td>0.439865</td>\n",
              "      <td>13.585620</td>\n",
              "      <td>1.153366</td>\n",
              "      <td>...</td>\n",
              "      <td>2.738095</td>\n",
              "      <td>6.565509</td>\n",
              "      <td>4.341414</td>\n",
              "      <td>15.893832</td>\n",
              "      <td>11.929787</td>\n",
              "      <td>6.954033</td>\n",
              "      <td>1.853364</td>\n",
              "      <td>0.511027</td>\n",
              "      <td>2.599562</td>\n",
              "      <td>0.811364</td>\n",
              "    </tr>\n",
              "  </tbody>\n",
              "</table>\n",
              "<p>5 rows × 109 columns</p>\n",
              "</div>"
            ],
            "text/plain": [
              "      var_1      var_2      var_3     var_4     var_5     var_6     var_7  \\\n",
              "0  4.532710   3.280834  17.982476  4.404259  2.349910  0.603264  2.784655   \n",
              "1  5.821374  12.098722  13.309151  4.125599  1.045386  1.832035  1.833494   \n",
              "2  1.938776   7.952752   0.972671  3.459267  1.935782  0.621463  2.338139   \n",
              "3  6.020690   9.900544  17.869637  4.366715  1.973693  2.026012  2.853025   \n",
              "4  3.909506  10.576516   0.934191  3.419572  1.871438  3.340811  1.868282   \n",
              "\n",
              "      var_8      var_9     var_10  ...   var_100   var_101   var_102  \\\n",
              "0  0.323146  12.009691   0.139346  ...  2.079066  6.748819  2.941445   \n",
              "1  0.709090   8.652883   0.102757  ...  2.479789  7.795290  3.557890   \n",
              "2  0.344948   9.937850  11.691283  ...  1.861487  6.130886  3.401064   \n",
              "3  0.674847  11.816859   0.011151  ...  1.340944  7.240058  2.417235   \n",
              "4  0.439865  13.585620   1.153366  ...  2.738095  6.565509  4.341414   \n",
              "\n",
              "     var_103    var_104   var_105   var_106   var_107   var_108   var_109  \n",
              "0  18.360496  17.726613  7.774031  1.473441  1.973832  0.976806  2.541417  \n",
              "1  17.383378  15.193423  8.263673  1.878108  0.567939  1.018818  1.416433  \n",
              "2  15.850471  14.620599  6.849776  1.098210  1.959183  1.575493  1.857893  \n",
              "3  15.194609  13.553772  7.229971  0.835158  2.234482  0.946170  2.700606  \n",
              "4  15.893832  11.929787  6.954033  1.853364  0.511027  2.599562  0.811364  \n",
              "\n",
              "[5 rows x 109 columns]"
            ]
          },
          "execution_count": 3,
          "metadata": {},
          "output_type": "execute_result"
        }
      ],
      "source": [
        "data.head()"
      ]
    },
    {
      "cell_type": "markdown",
      "metadata": {
        "id": "Ag-xqxeOtwDx"
      },
      "source": [
        "**Important**\n",
        "\n",
        "In all feature selection procedures, it is good practice to select the features by examining only the training set. And this is to avoid overfit."
      ]
    },
    {
      "cell_type": "code",
      "execution_count": null,
      "metadata": {
        "id": "Lc7XFUz9twDy",
        "outputId": "db193b8b-82d9-4fdb-b68f-a81c95bfd0d1"
      },
      "outputs": [
        {
          "data": {
            "text/plain": [
              "((35000, 108), (15000, 108))"
            ]
          },
          "execution_count": 4,
          "metadata": {},
          "output_type": "execute_result"
        }
      ],
      "source": [
        "# separate train and test sets\n",
        "X_train, X_test, y_train, y_test = train_test_split(\n",
        "    data.drop(labels=['target'], axis=1),\n",
        "    data['target'],\n",
        "    test_size=0.3,\n",
        "    random_state=0)\n",
        "\n",
        "X_train.shape, X_test.shape"
      ]
    },
    {
      "cell_type": "markdown",
      "metadata": {
        "id": "k7CmSHH_twD0"
      },
      "source": [
        "### Perform univariate anova"
      ]
    },
    {
      "cell_type": "code",
      "execution_count": null,
      "metadata": {
        "scrolled": true,
        "id": "vahewhJStwD1",
        "outputId": "1dbc5a1b-01ea-4def-8ff9-a2f331e218af"
      },
      "outputs": [
        {
          "data": {
            "text/plain": [
              "(array([2.92073990e-01, 3.67738039e+01, 1.30411853e+01, 1.17574360e+01,\n",
              "        1.41563181e+01, 3.06381672e+01, 2.02234060e+01, 2.96271569e+00,\n",
              "        2.29045228e-01, 3.77443721e+00, 2.90430896e+00, 1.91250548e+01,\n",
              "        5.05376700e+01, 1.19013857e+01, 2.07311280e+01, 7.33476852e+02,\n",
              "        4.27044609e+01, 1.27667244e+01, 6.44432030e+00, 1.19060034e+01,\n",
              "        2.73829670e+02, 3.90587287e+00, 1.12131044e+01, 3.51833011e+00,\n",
              "        7.22171922e-01, 4.33080273e+01, 1.11696498e+00, 1.35149019e+01,\n",
              "        7.04378672e-01, 7.82273154e+01, 1.07853079e+01, 5.07871810e+00,\n",
              "        1.88154600e+00, 5.39927733e+02, 3.35223341e-02, 7.88844093e+00,\n",
              "        2.39605100e+01, 2.36349439e+01, 5.53456743e+00, 2.23455847e-04,\n",
              "        1.62264425e+00, 2.64838234e+00, 7.22501472e+00, 1.25555915e+00,\n",
              "        1.32941890e+01, 3.83273241e+00, 3.27938257e+00, 1.98713697e+02,\n",
              "        2.76343404e-02, 9.87511329e+00, 1.15466653e+01, 7.89411872e+00,\n",
              "        2.45008055e+00, 2.00266136e+00, 2.16675637e+03, 1.26459962e+01,\n",
              "        2.11590217e+01, 3.09655364e+01, 1.66566824e+01, 3.41394883e+01,\n",
              "        3.67423371e+00, 3.63858074e+01, 2.97353473e+01, 1.27324365e+01,\n",
              "        3.97551392e+00, 4.46523549e+00, 5.42482298e+00, 2.98152486e+02,\n",
              "        1.73200477e+02, 2.05572030e+00, 1.00332971e+01, 1.90251279e+01,\n",
              "        2.80236636e+00, 1.18308570e+01, 3.33921673e+00, 9.15047933e+00,\n",
              "        2.83685566e-02, 3.86263842e+01, 1.24909009e+01, 2.01871053e+00,\n",
              "        4.18625543e-03, 1.28152231e+01, 4.30746687e+01, 4.73154924e+00,\n",
              "        3.35420311e+01, 2.44364581e+00, 2.41009145e+01, 3.09488281e+00,\n",
              "        3.20397408e+00, 1.07893592e+02, 1.31775730e-01, 6.52110911e-04,\n",
              "        4.37703471e+00, 2.78625862e+00, 1.42459940e+02, 3.14364579e+01,\n",
              "        2.24989447e+01, 2.62738306e-05, 2.03271850e+01, 1.89499631e-03,\n",
              "        1.48141952e+01, 3.41611839e+00, 1.47663471e+01, 2.21074345e-01,\n",
              "        1.63215251e+01, 7.42280408e+00, 7.25720547e+02, 1.11102347e+01]),\n",
              " array([5.88897963e-001, 1.34017256e-009, 3.05141021e-004, 6.06704427e-004,\n",
              "        1.68505435e-004, 3.13142776e-008, 6.91258213e-006, 8.52135611e-002,\n",
              "        6.32235673e-001, 5.20494143e-002, 8.83519856e-002, 1.22780230e-005,\n",
              "        1.19134737e-012, 5.61582815e-004, 5.30277214e-006, 7.02611551e-160,\n",
              "        6.45400148e-011, 3.53314015e-004, 1.11350566e-002, 5.60192854e-004,\n",
              "        2.84034488e-061, 4.81254650e-002, 8.13073929e-004, 6.07018873e-002,\n",
              "        3.95438215e-001, 4.74253858e-011, 2.90580208e-001, 2.37030138e-004,\n",
              "        4.01322029e-001, 9.60436850e-019, 1.02409281e-003, 2.42274333e-002,\n",
              "        1.70167331e-001, 1.54761600e-118, 8.54727635e-001, 4.97792919e-003,\n",
              "        9.87691978e-007, 1.16957734e-006, 1.86498793e-002, 9.88073400e-001,\n",
              "        2.02731938e-001, 1.03664331e-001, 7.19285882e-003, 2.62501048e-001,\n",
              "        2.66615664e-004, 5.02688683e-002, 7.01638875e-002, 5.29421160e-045,\n",
              "        8.67972349e-001, 1.67669012e-003, 6.79464614e-004, 4.96233051e-003,\n",
              "        1.17527879e-001, 1.57032192e-001, 0.00000000e+000, 3.76867399e-004,\n",
              "        4.24186104e-006, 2.64570691e-008, 4.48915299e-005, 5.17531301e-009,\n",
              "        5.52677832e-002, 1.63498761e-009, 4.98580251e-008, 3.59848258e-004,\n",
              "        4.61741100e-002, 3.45983806e-002, 1.98581093e-002, 1.57161517e-066,\n",
              "        1.83659843e-039, 1.51644464e-001, 1.53867639e-003, 1.29376718e-005,\n",
              "        9.41342307e-002, 5.83250511e-004, 6.76553149e-002, 2.48833276e-003,\n",
              "        8.66246235e-001, 5.18982518e-010, 4.09466157e-004, 1.55379943e-001,\n",
              "        9.48412214e-001, 3.44275418e-004, 5.34249892e-011, 2.96208698e-002,\n",
              "        7.03361744e-009, 1.18010723e-001, 9.18279050e-007, 7.85475438e-002,\n",
              "        7.34682081e-002, 3.08614107e-025, 7.16600152e-001, 9.79627211e-001,\n",
              "        3.64335025e-002, 9.50849151e-002, 8.93270587e-033, 2.07625905e-008,\n",
              "        2.11087114e-006, 9.95910250e-001, 6.54781860e-006, 9.65278059e-001,\n",
              "        1.18849791e-004, 6.45710824e-002, 1.21902715e-004, 6.38225468e-001,\n",
              "        5.35673276e-005, 6.44343455e-003, 3.15381291e-158, 8.59416366e-004]))"
            ]
          },
          "execution_count": 5,
          "metadata": {},
          "output_type": "execute_result"
        }
      ],
      "source": [
        "# calculate the univariate statistical measure between\n",
        "# each of the variables and the target\n",
        "\n",
        "# similarly to chi2, the output is one array with f-scores\n",
        "# and one array with the pvalues\n",
        "\n",
        "univariate = f_classif(X_train, y_train)\n",
        "\n",
        "univariate"
      ]
    },
    {
      "cell_type": "code",
      "execution_count": null,
      "metadata": {
        "scrolled": false,
        "id": "z1B23moatwD4",
        "outputId": "4a58071e-73e7-424f-d34b-a41f7afda48b"
      },
      "outputs": [
        {
          "data": {
            "text/plain": [
              "<matplotlib.axes._subplots.AxesSubplot at 0x30d98e9040>"
            ]
          },
          "execution_count": 6,
          "metadata": {},
          "output_type": "execute_result"
        },
        {
          "data": {
            "image/png": "[encoded data removed]",
            "text/plain": [
              "<Figure size 1440x432 with 1 Axes>"
            ]
          },
          "metadata": {
            "needs_background": "light"
          },
          "output_type": "display_data"
        }
      ],
      "source": [
        "# 1) let's capture the pvalues in a pandas series\n",
        "# 2) add the variable names in the index\n",
        "# 3) sort the features based on their anova pvalues\n",
        "# 4) and make a var plot\n",
        "\n",
        "univariate = pd.Series(univariate[1])\n",
        "univariate.index = X_train.columns\n",
        "univariate.sort_values(ascending=False).plot.bar(figsize=(20, 6))"
      ]
    },
    {
      "cell_type": "markdown",
      "metadata": {
        "id": "sllmWsMhtwD5"
      },
      "source": [
        "The smaller the p_value the more predictive the feature is.\n",
        "\n",
        "Features on the left of the plot are very bad at predicting the target. The most predictive features are on the right of the plot.\n",
        "\n",
        "**How can we select features based on the anova p-values?**\n",
        "\n",
        "There are a few ways in which this can be done:\n",
        "\n",
        "- Select top k features, where k is an arbitrary number of features\n",
        "\n",
        "- Select features in the top n percentile, where n is again an arbitrary number\n",
        "\n",
        "- Select all features below a certain threshold, arbitrarily decided.\n",
        "\n",
        "Scikit-learn transformer **SelectKBest**, allows us to automatically select the top k features, based of any statistical value, including Anova. It will select those with the lowest pvalues.\n",
        "\n",
        "Sklearn's **SelectPercentile** allows us to select the features in the top percentile of any statistical value, including the anova.\n",
        "\n",
        "Alternatively, if we want to select features based on a pvalue threshold, we can do it manually.\n",
        "\n",
        "### Select top 10 features based of univariate anova"
      ]
    },
    {
      "cell_type": "code",
      "execution_count": null,
      "metadata": {
        "id": "y93UNJq-twD6",
        "outputId": "b5a86e75-e89d-44e6-c25c-7656ebe602d6"
      },
      "outputs": [
        {
          "data": {
            "text/plain": [
              "Index(['var_16', 'var_21', 'var_34', 'var_48', 'var_55', 'var_69', 'var_70',\n",
              "       'var_91', 'var_96', 'var_108'],\n",
              "      dtype='object')"
            ]
          },
          "execution_count": 7,
          "metadata": {},
          "output_type": "execute_result"
        }
      ],
      "source": [
        "# select the top 10 features\n",
        "sel_ = SelectKBest(f_classif, k=10).fit(X_train, y_train)\n",
        "\n",
        "# display selected feature names\n",
        "X_train.columns[sel_.get_support()]"
      ]
    },
    {
      "cell_type": "code",
      "execution_count": null,
      "metadata": {
        "id": "HxTM76SUtwD6",
        "outputId": "2e6be1b5-dbc7-4234-9942-57e24e2809d1"
      },
      "outputs": [
        {
          "data": {
            "text/plain": [
              "(35000, 10)"
            ]
          },
          "execution_count": 8,
          "metadata": {},
          "output_type": "execute_result"
        }
      ],
      "source": [
        "# remove unwanted features from the dataset\n",
        "\n",
        "X_train = sel_.transform(X_train)\n",
        "\n",
        "X_train.shape"
      ]
    },
    {
      "cell_type": "markdown",
      "metadata": {
        "id": "bn9yvMuItwD7"
      },
      "source": [
        "## Regression"
      ]
    },
    {
      "cell_type": "code",
      "execution_count": null,
      "metadata": {
        "id": "EDVyTCJftwD7",
        "outputId": "d1dd8f4e-0185-48ae-edf7-95e71265b488"
      },
      "outputs": [
        {
          "data": {
            "text/plain": [
              "(1460, 81)"
            ]
          },
          "execution_count": 9,
          "metadata": {},
          "output_type": "execute_result"
        }
      ],
      "source": [
        "# load dataset\n",
        "data = pd.read_csv('../houseprice.csv')\n",
        "data.shape"
      ]
    },
    {
      "cell_type": "code",
      "execution_count": null,
      "metadata": {
        "id": "fQI41BtjtwD8",
        "outputId": "96c741c8-4d5d-493c-8c58-b0bd0011b7f6"
      },
      "outputs": [
        {
          "data": {
            "text/plain": [
              "(1460, 38)"
            ]
          },
          "execution_count": 10,
          "metadata": {},
          "output_type": "execute_result"
        }
      ],
      "source": [
        "# In practice, feature selection should be done after data pre-processing,\n",
        "# so ideally, all the categorical variables are encoded into numbers,\n",
        "# and then you can assess how deterministic they are of the target\n",
        "\n",
        "# here for simplicity I will use only numerical variables\n",
        "# select numerical columns:\n",
        "\n",
        "numerics = ['int16', 'int32', 'int64', 'float16', 'float32', 'float64']\n",
        "numerical_vars = list(data.select_dtypes(include=numerics).columns)\n",
        "data = data[numerical_vars]\n",
        "data.shape"
      ]
    },
    {
      "cell_type": "code",
      "execution_count": null,
      "metadata": {
        "id": "JwS3PsKTtwD9",
        "outputId": "3a924303-2b74-43e0-90e5-c3609dd38e57"
      },
      "outputs": [
        {
          "data": {
            "text/plain": [
              "((1022, 37), (438, 37))"
            ]
          },
          "execution_count": 11,
          "metadata": {},
          "output_type": "execute_result"
        }
      ],
      "source": [
        "# separate train and test sets\n",
        "X_train, X_test, y_train, y_test = train_test_split(\n",
        "    data.drop(labels=['SalePrice'], axis=1),\n",
        "    data['SalePrice'],\n",
        "    test_size=0.3,\n",
        "    random_state=0)\n",
        "\n",
        "X_train.shape, X_test.shape"
      ]
    },
    {
      "cell_type": "markdown",
      "metadata": {
        "id": "rU5YHFTPtwD-"
      },
      "source": [
        "### Perform univariate anova"
      ]
    },
    {
      "cell_type": "code",
      "execution_count": null,
      "metadata": {
        "scrolled": false,
        "id": "MKXFDKkztwD-",
        "outputId": "1e0d33e2-6a96-4a73-bd28-2ce507a4f98f"
      },
      "outputs": [
        {
          "data": {
            "text/plain": [
              "<matplotlib.axes._subplots.AxesSubplot at 0x30dbb19fa0>"
            ]
          },
          "execution_count": 12,
          "metadata": {},
          "output_type": "execute_result"
        },
        {
          "data": {
            "image/png": "[encoded data removed]",
            "text/plain": [
              "<Figure size 1440x432 with 1 Axes>"
            ]
          },
          "metadata": {
            "needs_background": "light"
          },
          "output_type": "display_data"
        }
      ],
      "source": [
        "# univariate anova\n",
        "univariate = f_regression(X_train.fillna(0), y_train)\n",
        "\n",
        "# plot values\n",
        "univariate = pd.Series(univariate[1])\n",
        "univariate.index = X_train.columns\n",
        "univariate.sort_values(ascending=False).plot.bar(figsize=(20,6))"
      ]
    },
    {
      "cell_type": "markdown",
      "metadata": {
        "id": "8ADOmO47twD-"
      },
      "source": [
        "### Select features in top 10th percentile"
      ]
    },
    {
      "cell_type": "code",
      "execution_count": null,
      "metadata": {
        "id": "J4YDqxXUtwD_",
        "outputId": "fdfa813d-de2a-4742-fc79-9574d2e4a850"
      },
      "outputs": [
        {
          "data": {
            "text/plain": [
              "Index(['OverallQual', 'GrLivArea', 'GarageCars', 'GarageArea'], dtype='object')"
            ]
          },
          "execution_count": 13,
          "metadata": {},
          "output_type": "execute_result"
        }
      ],
      "source": [
        "# select features in top 10th percentile\n",
        "sel_ = SelectPercentile(f_regression,\n",
        "                        percentile=10).fit(X_train.fillna(0), y_train)\n",
        "\n",
        "# display selected feature names\n",
        "X_train.columns[sel_.get_support()]"
      ]
    },
    {
      "cell_type": "code",
      "execution_count": null,
      "metadata": {
        "id": "Qu-gor22twD_",
        "outputId": "1cf06178-50b2-4ae8-eee7-b40e7b899628"
      },
      "outputs": [
        {
          "data": {
            "text/plain": [
              "(1022, 4)"
            ]
          },
          "execution_count": 14,
          "metadata": {},
          "output_type": "execute_result"
        }
      ],
      "source": [
        "# select features / discard unwanted features\n",
        "\n",
        "X_train = sel_.transform(X_train.fillna(0))\n",
        "X_train.shape"
      ]
    },
    {
      "cell_type": "markdown",
      "metadata": {
        "id": "wjNEAi4xtwD_"
      },
      "source": [
        "I rarely use these methods to select features. But, I wanted to have them covered in the course so you can play aroundand see if you find them useful.\n",
        "\n",
        "That is all for this lecture, I hope you enjoyed it and see you in the next one!"
      ]
    }
  ],
  "metadata": {
    "kernelspec": {
      "display_name": "fsml",
      "language": "python",
      "name": "fsml"
    },
    "language_info": {
      "codemirror_mode": {
        "name": "ipython",
        "version": 3
      },
      "file_extension": ".py",
      "mimetype": "text/x-python",
      "name": "python",
      "nbconvert_exporter": "python",
      "pygments_lexer": "ipython3",
      "version": "3.8.2"
    },
    "toc": {
      "base_numbering": 1,
      "nav_menu": {},
      "number_sections": true,
      "sideBar": true,
      "skip_h1_title": false,
      "title_cell": "Table of Contents",
      "title_sidebar": "Contents",
      "toc_cell": false,
      "toc_position": {},
      "toc_section_display": "block",
      "toc_window_display": true
    },
    "colab": {
      "name": "[ML15] Anova.ipynb",
      "provenance": [],
      "include_colab_link": true
    }
  },
  "nbformat": 4,
  "nbformat_minor": 0
}