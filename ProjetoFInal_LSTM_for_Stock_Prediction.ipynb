{
  "nbformat": 4,
  "nbformat_minor": 0,
  "metadata": {
    "colab": {
      "name": "ProjetoFInal-LSTM_for_Stock_Prediction.ipynb",
      "provenance": [],
      "collapsed_sections": [],
      "authorship_tag": "ABX9TyPHFwWDGk6tiy3XNB5uA62W",
      "include_colab_link": true
    },
    "kernelspec": {
      "name": "python3",
      "display_name": "Python 3"
    },
    "language_info": {
      "name": "python"
    }
  },
  "cells": [
    {
      "cell_type": "markdown",
      "metadata": {
        "id": "view-in-github",
        "colab_type": "text"
      },
      "source": [
        "<a href=\"https://colab.research.google.com/github/tvaditya/intro_ds_and_ml/blob/main/ProjetoFInal_LSTM_for_Stock_Prediction.ipynb\" target=\"_parent\"><img src=\"https://colab.research.google.com/assets/colab-badge.svg\" alt=\"Open In Colab\"/></a>"
      ]
    },
    {
      "cell_type": "markdown",
      "source": [
        "# Usando LSTM para previsão de ações em bolsas de valores.\n",
        "\n",
        "Para as empresas AWS, Apple, IBM\n",
        "\n",
        "Use os ultimos 10 anos de dados.\n",
        "\n",
        "Explicar a razão de utilizar LSTMs\n",
        "\n",
        "Interpretar o que significa cada feature no dataset e explciar qual usou.\n",
        "\n",
        "Descrevam no notebook os passos tomados.\n",
        "\n",
        "Para validar as previsões , alem de gerar um grafico explica qual metrica vai utilizar e a razão da escolha.\n"
      ],
      "metadata": {
        "id": "oUj7FIu8VnT1"
      }
    },
    {
      "cell_type": "code",
      "execution_count": null,
      "metadata": {
        "id": "O9lSlsEPVf3G"
      },
      "outputs": [],
      "source": [
        ""
      ]
    }
  ]
}