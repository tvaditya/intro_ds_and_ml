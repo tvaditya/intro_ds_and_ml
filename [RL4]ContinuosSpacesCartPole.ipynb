{
  "nbformat": 4,
  "nbformat_minor": 0,
  "metadata": {
    "colab": {
      "provenance": [],
      "authorship_tag": "ABX9TyODj/z5h8IPnyHd0v6rFEB4",
      "include_colab_link": true
    },
    "kernelspec": {
      "name": "python3",
      "display_name": "Python 3"
    },
    "language_info": {
      "name": "python"
    },
    "accelerator": "GPU"
  },
  "cells": [
    {
      "cell_type": "markdown",
      "metadata": {
        "id": "view-in-github",
        "colab_type": "text"
      },
      "source": [
        "<a href=\"https://colab.research.google.com/github/tvaditya/intro_ds_and_ml/blob/main/%5BRL4%5DContinuosSpacesCartPole.ipynb\" target=\"_parent\"><img src=\"https://colab.research.google.com/assets/colab-badge.svg\" alt=\"Open In Colab\"/></a>"
      ]
    },
    {
      "cell_type": "code",
      "execution_count": null,
      "metadata": {
        "id": "X2JtKUwCMrfK"
      },
      "outputs": [],
      "source": [
        "import gym\n",
        "import numpy as np\n",
        "import torch.nn as nn\n",
        "import torch.nn.functional as F\n",
        "import torch.optim as optim\n",
        "import torch as T"
      ]
    },
    {
      "cell_type": "code",
      "source": [
        "class LinearDeepQNetwork(nn.Module):\n",
        "  def __init__(self, lr, n_actions, input_dims):\n",
        "    super(LinearDeepQNetwork, self).__init__()\n",
        "\n",
        "    self.fc1 = nn.Linear(*input_dims, 128)\n",
        "    self.fc2 = nn.Linear(128, n_actions)\n",
        "\n",
        "    self.optimizer = optim.Adam(self.parameters(), lr=lr)\n",
        "    self.loss = nn.MSELoss()\n",
        "    self.device = T.device('cuda:0' if T.cuda.is_available() else 'cpu')\n",
        "    self.to(self.device)\n",
        "\n",
        "  def forward(self, state):\n",
        "    layer1 = F.relu(self.fc1(state))\n",
        "    actions = self.fc2(layer1)\n",
        "\n",
        "    return actions"
      ],
      "metadata": {
        "id": "v01JgUd5NHqZ"
      },
      "execution_count": null,
      "outputs": []
    },
    {
      "cell_type": "code",
      "source": [
        "# Code the agent class\n",
        "\n",
        "class Agent():\n",
        "  def __init__(self, input_dims, n_actions, lr, gamma=0.99,\n",
        "               epsilon=1.0, eps_dec=1e-5, eps_min=0.01):\n",
        "    \n",
        "    self.lr = lr\n",
        "    self.input_dims = input_dims\n",
        "    self.n_actions = n_actions\n",
        "    self.gamma = gamma\n",
        "    self.eps_dec = eps_dec \n",
        "    self.eps_min = eps_min\n",
        "    self.epsilon = epsilon\n",
        "    self.action_space = [i for i in range(self.n_actions)]\n",
        "\n",
        "    self.Q = LinearDeepQNetwork(self.lr, self.n_actions, self.input_dims)\n",
        "\n",
        "  def choose_action(self, observation):\n",
        "    if np.random.random() > self.epsilon:\n",
        "      state = T.tensor(observation, dtype=T.float).to(self.Q.device)\n",
        "      actions = self.Q.forward(state)\n",
        "      action = T.argmax(actions).item()\n",
        "    else:\n",
        "      action = np.random.choice(self.action_space)\n",
        "\n",
        "    return action\n",
        "\n",
        "  def decrement_epsilon(self):\n",
        "    self.epsilon = self.epsilon - self.eps_dec if self.epsilon > self.eps_min \\\n",
        "                    else self.eps_min\n",
        "\n",
        "  def learn(self, state, action, reward, state_):\n",
        "    self.Q.optimizer.zero_grad()\n",
        "    states = T.tensor(state, dtype=T.float).to(self.Q.device)\n",
        "    actions = T.tensor(action).to(self.Q.device)\n",
        "    rewards = T.tensor(reward).to(self.Q.device)\n",
        "    states_ = T.tensor(state_, dtype=T.float).to(self.Q.device)\n",
        "\n",
        "    q_pred = self.Q.forward(states)[actions]\n",
        "\n",
        "    q_next = self.Q.forward(states_).max()\n",
        "\n",
        "    q_target = reward + self.gamma*q_next\n",
        "\n",
        "    loss = self.Q.loss(q_target, q_pred).to(self.Q.device)\n",
        "    loss.backward()\n",
        "    self.Q.optimizer.step()\n",
        "    self.decrement_epsilon()\n"
      ],
      "metadata": {
        "id": "2MJasl7mPQC9"
      },
      "execution_count": null,
      "outputs": []
    },
    {
      "cell_type": "code",
      "source": [
        "import numpy as np\n",
        "import matplotlib.pyplot as plt\n",
        "\n",
        "def plot_learning_curve(x, scores, epsilons, filename):\n",
        "  fig = plt.figure()\n",
        "  ax = fig.add_subplot(111, label=\"1\")\n",
        "  ax2 = fig.add_subplot(111, label=\"2\", frame_on=False)\n",
        "\n",
        "  ax.plot(x, epsilons, color=\"C0\")\n",
        "  ax.set_xlabel(\"Training Steps\", color=\"C0\")\n",
        "  ax.set_ylabel(\"Epsilon\", color=\"C0\")\n",
        "  ax.tick_params(axis='x', colors=\"C0\")\n",
        "  ax.tick_params(axis='y', color=\"C0\")\n",
        "\n",
        "  N = len(scores)\n",
        "  running_avg = np.empty(N)\n",
        "  for t in range(N):\n",
        "    running_avg[t] = np.mean(scores[max(0, t-100):(t+1)])\n",
        "\n",
        "  ax2.scatter(x, running_avg, color=\"C1\")\n",
        "  ax2.axes.get_xaxis().set_visible(False)\n",
        "  ax2.yaxis.tick_right()\n",
        "  ax2.set_ylabel('Score', color='C1')\n",
        "  ax2.yaxis.set_label_position('right')\n",
        "  ax2.tick_params(axis='y', color=\"C1\")\n",
        "\n",
        "  plt.savefig(filename)"
      ],
      "metadata": {
        "id": "Kj7qOgytiUCb"
      },
      "execution_count": null,
      "outputs": []
    },
    {
      "cell_type": "code",
      "source": [
        "# initialize our main loop\n",
        "\n",
        "if __name__ == '__main__':\n",
        "  env = gym.make('CartPole-v1')\n",
        "  n_games = 10000\n",
        "  scores = []\n",
        "  eps_history = []\n",
        "\n",
        "  agent = Agent(input_dims=env.observation_space.shape,\n",
        "                n_actions=env.action_space.n, lr=0.0001)\n",
        "  \n",
        "  for i in range(n_games):\n",
        "    score = 0\n",
        "    done = False\n",
        "    obs = env.reset()\n",
        "\n",
        "    while not done:\n",
        "      action = agent.choose_action(obs)\n",
        "      obs_, reward, done, info = env.step(action)\n",
        "      score += reward\n",
        "      agent.learn(obs, action, reward, obs_)\n",
        "      obs = obs_\n",
        "    scores.append(score)\n",
        "    eps_history.append(agent.epsilon)\n",
        "\n",
        "    if i%100 == 0:\n",
        "      avg_score = np.mean(scores[-100:])\n",
        "      print('episode ', i, 'score %.1f avg score %.1f epsilon %.2f' % (score, avg_score, agent.epsilon))\n",
        "  \n",
        "  filename = 'cartpole_naive_dqn.png'\n",
        "  x = [i+1 for i in range(n_games)]\n",
        "  plot_learning_curve(x, scores, eps_history, filename)\n",
        "\n",
        "    "
      ],
      "metadata": {
        "colab": {
          "base_uri": "https://localhost:8080/",
          "height": 1000
        },
        "id": "ak4XqHJVakxo",
        "outputId": "ebe12ba2-d2ae-4be7-edaf-cae2eb9afa47"
      },
      "execution_count": null,
      "outputs": [
        {
          "output_type": "stream",
          "name": "stdout",
          "text": [
            "episode  0 score 26.0 avg score 26.0 epsilon 1.00\n",
            "episode  100 score 15.0 avg score 22.7 epsilon 0.98\n",
            "episode  200 score 18.0 avg score 21.8 epsilon 0.96\n",
            "episode  300 score 13.0 avg score 23.9 epsilon 0.93\n",
            "episode  400 score 11.0 avg score 21.2 epsilon 0.91\n",
            "episode  500 score 21.0 avg score 24.1 epsilon 0.89\n",
            "episode  600 score 49.0 avg score 25.1 epsilon 0.86\n",
            "episode  700 score 34.0 avg score 22.6 epsilon 0.84\n",
            "episode  800 score 16.0 avg score 20.5 epsilon 0.82\n",
            "episode  900 score 12.0 avg score 23.9 epsilon 0.79\n",
            "episode  1000 score 14.0 avg score 23.5 epsilon 0.77\n",
            "episode  1100 score 9.0 avg score 25.5 epsilon 0.75\n",
            "episode  1200 score 20.0 avg score 25.8 epsilon 0.72\n",
            "episode  1300 score 14.0 avg score 25.6 epsilon 0.69\n",
            "episode  1400 score 21.0 avg score 26.4 epsilon 0.67\n",
            "episode  1500 score 41.0 avg score 27.0 epsilon 0.64\n",
            "episode  1600 score 22.0 avg score 31.8 epsilon 0.61\n",
            "episode  1700 score 18.0 avg score 27.9 epsilon 0.58\n",
            "episode  1800 score 25.0 avg score 31.1 epsilon 0.55\n",
            "episode  1900 score 17.0 avg score 29.0 epsilon 0.52\n",
            "episode  2000 score 13.0 avg score 28.8 epsilon 0.49\n",
            "episode  2100 score 10.0 avg score 34.4 epsilon 0.46\n",
            "episode  2200 score 13.0 avg score 33.1 epsilon 0.42\n",
            "episode  2300 score 24.0 avg score 36.8 epsilon 0.39\n",
            "episode  2400 score 47.0 avg score 36.1 epsilon 0.35\n",
            "episode  2500 score 18.0 avg score 37.4 epsilon 0.31\n",
            "episode  2600 score 25.0 avg score 31.3 epsilon 0.28\n",
            "episode  2700 score 87.0 avg score 57.9 epsilon 0.22\n",
            "episode  2800 score 15.0 avg score 81.7 epsilon 0.14\n",
            "episode  2900 score 9.0 avg score 74.3 epsilon 0.07\n",
            "episode  3000 score 197.0 avg score 93.2 epsilon 0.01\n",
            "episode  3100 score 143.0 avg score 189.4 epsilon 0.01\n",
            "episode  3200 score 18.0 avg score 88.8 epsilon 0.01\n",
            "episode  3300 score 96.0 avg score 78.8 epsilon 0.01\n",
            "episode  3400 score 65.0 avg score 133.4 epsilon 0.01\n",
            "episode  3500 score 98.0 avg score 95.6 epsilon 0.01\n",
            "episode  3600 score 303.0 avg score 188.6 epsilon 0.01\n",
            "episode  3700 score 10.0 avg score 246.9 epsilon 0.01\n",
            "episode  3800 score 10.0 avg score 9.4 epsilon 0.01\n",
            "episode  3900 score 9.0 avg score 11.3 epsilon 0.01\n",
            "episode  4000 score 9.0 avg score 9.4 epsilon 0.01\n",
            "episode  4100 score 86.0 avg score 47.5 epsilon 0.01\n",
            "episode  4200 score 78.0 avg score 78.9 epsilon 0.01\n",
            "episode  4300 score 66.0 avg score 60.5 epsilon 0.01\n",
            "episode  4400 score 43.0 avg score 42.1 epsilon 0.01\n",
            "episode  4500 score 31.0 avg score 29.8 epsilon 0.01\n",
            "episode  4600 score 26.0 avg score 26.2 epsilon 0.01\n",
            "episode  4700 score 25.0 avg score 24.3 epsilon 0.01\n",
            "episode  4800 score 20.0 avg score 24.1 epsilon 0.01\n",
            "episode  4900 score 28.0 avg score 24.6 epsilon 0.01\n",
            "episode  5000 score 24.0 avg score 24.2 epsilon 0.01\n",
            "episode  5100 score 26.0 avg score 27.2 epsilon 0.01\n",
            "episode  5200 score 36.0 avg score 28.6 epsilon 0.01\n",
            "episode  5300 score 32.0 avg score 31.6 epsilon 0.01\n",
            "episode  5400 score 33.0 avg score 34.2 epsilon 0.01\n",
            "episode  5500 score 39.0 avg score 37.8 epsilon 0.01\n",
            "episode  5600 score 59.0 avg score 42.6 epsilon 0.01\n",
            "episode  5700 score 63.0 avg score 48.9 epsilon 0.01\n",
            "episode  5800 score 64.0 avg score 52.7 epsilon 0.01\n",
            "episode  5900 score 62.0 avg score 55.6 epsilon 0.01\n",
            "episode  6000 score 52.0 avg score 55.1 epsilon 0.01\n",
            "episode  6100 score 500.0 avg score 240.9 epsilon 0.01\n",
            "episode  6200 score 22.0 avg score 185.1 epsilon 0.01\n",
            "episode  6300 score 17.0 avg score 38.8 epsilon 0.01\n",
            "episode  6400 score 15.0 avg score 20.4 epsilon 0.01\n",
            "episode  6500 score 19.0 avg score 18.5 epsilon 0.01\n",
            "episode  6600 score 20.0 avg score 16.9 epsilon 0.01\n",
            "episode  6700 score 20.0 avg score 18.7 epsilon 0.01\n",
            "episode  6800 score 15.0 avg score 18.0 epsilon 0.01\n",
            "episode  6900 score 18.0 avg score 17.8 epsilon 0.01\n",
            "episode  7000 score 16.0 avg score 21.1 epsilon 0.01\n",
            "episode  7100 score 20.0 avg score 18.1 epsilon 0.01\n",
            "episode  7200 score 23.0 avg score 17.4 epsilon 0.01\n",
            "episode  7300 score 17.0 avg score 17.5 epsilon 0.01\n",
            "episode  7400 score 18.0 avg score 17.7 epsilon 0.01\n",
            "episode  7500 score 12.0 avg score 21.7 epsilon 0.01\n",
            "episode  7600 score 15.0 avg score 13.4 epsilon 0.01\n",
            "episode  7700 score 22.0 avg score 28.4 epsilon 0.01\n",
            "episode  7800 score 14.0 avg score 13.8 epsilon 0.01\n",
            "episode  7900 score 39.0 avg score 31.7 epsilon 0.01\n",
            "episode  8000 score 10.0 avg score 16.4 epsilon 0.01\n",
            "episode  8100 score 38.0 avg score 29.4 epsilon 0.01\n",
            "episode  8200 score 18.0 avg score 34.1 epsilon 0.01\n",
            "episode  8300 score 15.0 avg score 16.7 epsilon 0.01\n",
            "episode  8400 score 26.0 avg score 37.5 epsilon 0.01\n",
            "episode  8500 score 49.0 avg score 32.7 epsilon 0.01\n",
            "episode  8600 score 36.0 avg score 32.1 epsilon 0.01\n",
            "episode  8700 score 43.0 avg score 36.1 epsilon 0.01\n",
            "episode  8800 score 52.0 avg score 40.3 epsilon 0.01\n",
            "episode  8900 score 56.0 avg score 48.1 epsilon 0.01\n",
            "episode  9000 score 105.0 avg score 73.7 epsilon 0.01\n",
            "episode  9100 score 9.0 avg score 164.0 epsilon 0.01\n",
            "episode  9200 score 8.0 avg score 9.5 epsilon 0.01\n",
            "episode  9300 score 10.0 avg score 9.4 epsilon 0.01\n",
            "episode  9400 score 11.0 avg score 9.4 epsilon 0.01\n",
            "episode  9500 score 9.0 avg score 9.4 epsilon 0.01\n",
            "episode  9600 score 500.0 avg score 225.3 epsilon 0.01\n",
            "episode  9700 score 16.0 avg score 226.9 epsilon 0.01\n",
            "episode  9800 score 11.0 avg score 12.6 epsilon 0.01\n",
            "episode  9900 score 10.0 avg score 179.5 epsilon 0.01\n"
          ]
        },
        {
          "output_type": "display_data",
          "data": {
            "text/plain": [
              "<Figure size 432x288 with 2 Axes>"
            ],
            "image/png": "[encoded data removed]"
          },
          "metadata": {
            "needs_background": "light"
          }
        }
      ]
    },
    {
      "cell_type": "code",
      "source": [],
      "metadata": {
        "id": "OHjpganaelmW"
      },
      "execution_count": null,
      "outputs": []
    }
  ]
}