{
  "nbformat": 4,
  "nbformat_minor": 0,
  "metadata": {
    "colab": {
      "provenance": [],
      "authorship_tag": "ABX9TyNAqvnqxAIbgJkMoiivKVwc",
      "include_colab_link": true
    },
    "kernelspec": {
      "name": "python3",
      "display_name": "Python 3"
    },
    "language_info": {
      "name": "python"
    }
  },
  "cells": [
    {
      "cell_type": "markdown",
      "metadata": {
        "id": "view-in-github",
        "colab_type": "text"
      },
      "source": [
        "<a href=\"https://colab.research.google.com/github/tvaditya/intro_ds_and_ml/blob/main/%5BRL3%5DCrashCourseNeuralNetwork.ipynb\" target=\"_parent\"><img src=\"https://colab.research.google.com/assets/colab-badge.svg\" alt=\"Open In Colab\"/></a>"
      ]
    },
    {
      "cell_type": "code",
      "execution_count": null,
      "metadata": {
        "id": "xFUd6u0ebQ4s"
      },
      "outputs": [],
      "source": [
        "import torch.nn as nn\n",
        "import torch.nn.functional as F\n",
        "import torch.optim as optim\n",
        "import torch as T"
      ]
    },
    {
      "cell_type": "code",
      "source": [
        "class LinearClassifier(nn.Module):\n",
        "  def __init__(self, lr, n_classes, input_dims):\n",
        "    super(LinearClassifier, self).__init__()\n",
        "\n",
        "    self.fc1 = nn.Linear(*input_dims, 128)\n",
        "    self.fc2 = nn.Linear(128, 256)\n",
        "    self.fc3 = nn.Linear(256, n_classes)\n",
        "\n",
        "    self.optimizer = optim.Adam(self.parameters(), lr=lr)\n",
        "    self.loss = nn.CrossEntropyLoss()\n",
        "    self.device = T.device('cuda:0' if T.cuda.is_available() else 'cpu')\n",
        "    self.to(self.device)\n",
        "\n",
        "\n",
        "  def forward(self, data):\n",
        "    layer1 = F.sigmoid(self.fc1(data))\n",
        "    layer2 = F.sigmoid(self.fc2(layer1))\n",
        "    layer3 = self.fc3(layer2)\n",
        "\n",
        "    return layer3\n",
        "\n",
        "\n",
        "  def learn(self, data, labels):\n",
        "    self.optimizer.zero_grad()\n",
        "    data = T.tensor(data).to(self.device)\n",
        "    labels = T.tensor(labels).to(self.device)\n",
        "\n",
        "    predictions = self.forward(data)\n",
        "\n",
        "    cost = self.loss(predictions, labels)\n",
        "\n",
        "    cost.backward()\n",
        "    self.optimizer.step()"
      ],
      "metadata": {
        "id": "LfdL-Xotgc9V"
      },
      "execution_count": null,
      "outputs": []
    }
  ]
}