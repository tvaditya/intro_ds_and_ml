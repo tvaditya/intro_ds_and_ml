{
  "nbformat": 4,
  "nbformat_minor": 0,
  "metadata": {
    "colab": {
      "name": "[Projeto] FeatureSelection_ImblancedData.ipynb",
      "provenance": [],
      "authorship_tag": "ABX9TyOLka7Gbgu+KGlpOSFbqUUb",
      "include_colab_link": true
    },
    "kernelspec": {
      "name": "python3",
      "display_name": "Python 3"
    },
    "language_info": {
      "name": "python"
    }
  },
  "cells": [
    {
      "cell_type": "markdown",
      "metadata": {
        "id": "view-in-github",
        "colab_type": "text"
      },
      "source": [
        "<a href=\"https://colab.research.google.com/github/tvaditya/intro_ds_and_ml/blob/main/%5BProjeto%5D_FeatureSelection_ImblancedData.ipynb\" target=\"_parent\"><img src=\"https://colab.research.google.com/assets/colab-badge.svg\" alt=\"Open In Colab\"/></a>"
      ]
    },
    {
      "cell_type": "markdown",
      "source": [
        ""
      ],
      "metadata": {
        "id": "dHvkdv-y6Lzf"
      }
    },
    {
      "cell_type": "markdown",
      "source": [
        "1. Entender e aplicar RandomUnderSampling ou RandomOverSampling  (ou ainda SMOTE)\n",
        "2. Feature Selection ( Correlação, Anova, Stepforward) e vão estudar um cara chi square ( chi quadrado para feature selection)\n",
        "\n",
        "\n",
        "Testar no modelo de Felicidade dos funcionarios."
      ],
      "metadata": {
        "id": "8H-c4NNE7R7C"
      }
    },
    {
      "cell_type": "code",
      "execution_count": 1,
      "metadata": {
        "id": "wkaIezXw6GGl"
      },
      "outputs": [],
      "source": [
        "\n"
      ]
    },
    {
      "cell_type": "code",
      "source": [
        ""
      ],
      "metadata": {
        "id": "V77sLYCi7NBK"
      },
      "execution_count": null,
      "outputs": []
    }
  ]
}