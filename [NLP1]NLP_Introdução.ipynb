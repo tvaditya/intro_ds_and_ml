{
  "nbformat": 4,
  "nbformat_minor": 0,
  "metadata": {
    "colab": {
      "name": "[NLP1]NLP-Introdução.ipynb",
      "provenance": [],
      "collapsed_sections": [],
      "authorship_tag": "ABX9TyNDfgPZ+0zO9V0KH/5f074U",
      "include_colab_link": true
    },
    "kernelspec": {
      "name": "python3",
      "display_name": "Python 3"
    },
    "language_info": {
      "name": "python"
    }
  },
  "cells": [
    {
      "cell_type": "markdown",
      "metadata": {
        "id": "view-in-github",
        "colab_type": "text"
      },
      "source": [
        "<a href=\"https://colab.research.google.com/github/tvaditya/intro_ds_and_ml/blob/main/%5BNLP1%5DNLP_Introdu%C3%A7%C3%A3o.ipynb\" target=\"_parent\"><img src=\"https://colab.research.google.com/assets/colab-badge.svg\" alt=\"Open In Colab\"/></a>"
      ]
    },
    {
      "cell_type": "markdown",
      "source": [
        "Texto ( Pre-processar) -> Word Embedding -> Treinar modelo -> Incializar o modelo -> Criar o modelo -> Testar -> Avaliar"
      ],
      "metadata": {
        "id": "GlyzZtVtcifM"
      }
    },
    {
      "cell_type": "code",
      "execution_count": 1,
      "metadata": {
        "id": "8YSUeIixcgfq"
      },
      "outputs": [],
      "source": [
        "# Tokenização\n",
        "import nltk \n",
        "# Outro que utilizam é o Spacy\n",
        "# Colocar palavras e/ou sentenças na linguagem de máquin\n"
      ]
    },
    {
      "cell_type": "code",
      "source": [
        "from nltk.tokenize import word_tokenize\n",
        "nltk.download(\"punkt\")"
      ],
      "metadata": {
        "colab": {
          "base_uri": "https://localhost:8080/"
        },
        "id": "yFJurBcPinxl",
        "outputId": "1e13315f-199a-4983-c33e-bf90a882fd86"
      },
      "execution_count": 2,
      "outputs": [
        {
          "output_type": "stream",
          "name": "stdout",
          "text": [
            "[nltk_data] Downloading package punkt to /root/nltk_data...\n",
            "[nltk_data]   Package punkt is already up-to-date!\n"
          ]
        },
        {
          "output_type": "execute_result",
          "data": {
            "text/plain": [
              "True"
            ]
          },
          "metadata": {},
          "execution_count": 2
        }
      ]
    },
    {
      "cell_type": "code",
      "source": [
        "frase = \"Eu gosto de trabalhar com vocês. A DM Card tem um time excelente.\""
      ],
      "metadata": {
        "id": "tpQy7LLYi02P"
      },
      "execution_count": 3,
      "outputs": []
    },
    {
      "cell_type": "code",
      "source": [
        "word_tokenize(frase)"
      ],
      "metadata": {
        "colab": {
          "base_uri": "https://localhost:8080/"
        },
        "id": "y2BMwG8Zi-7i",
        "outputId": "4b8885a4-eda1-44f0-b33e-bef40482f137"
      },
      "execution_count": 4,
      "outputs": [
        {
          "output_type": "execute_result",
          "data": {
            "text/plain": [
              "['Eu',\n",
              " 'gosto',\n",
              " 'de',\n",
              " 'trabalhar',\n",
              " 'com',\n",
              " 'vocês',\n",
              " '.',\n",
              " 'A',\n",
              " 'DM',\n",
              " 'Card',\n",
              " 'tem',\n",
              " 'um',\n",
              " 'time',\n",
              " 'excelente',\n",
              " '.']"
            ]
          },
          "metadata": {},
          "execution_count": 4
        }
      ]
    },
    {
      "cell_type": "code",
      "source": [
        "from nltk.tokenize import sent_tokenize\n"
      ],
      "metadata": {
        "id": "29AG0M-NjCJF"
      },
      "execution_count": 5,
      "outputs": []
    },
    {
      "cell_type": "code",
      "source": [
        "texto =\"A vitória magra - mais uma - por 1 a 0 sobre o Vasco é daquelas que ajuda a sintetizar a percepção após quase dois meses de trabalho do treinador. Não dá para dizer que o Flamengo jogou mal. Não dá para dizer que o Flamengo sofreu. Mas também não dá para considerar uma grande atuação um jogo de trocação por quase uma hora contra um rival consideravelmente inferior tecnicamente. \""
      ],
      "metadata": {
        "id": "mklyWcGSjWml"
      },
      "execution_count": 6,
      "outputs": []
    },
    {
      "cell_type": "code",
      "source": [
        "sent_tokenize(texto)"
      ],
      "metadata": {
        "colab": {
          "base_uri": "https://localhost:8080/"
        },
        "id": "NmbbbKgCjrWm",
        "outputId": "a86ce087-8eb4-4e00-983f-2796758b99e7"
      },
      "execution_count": 7,
      "outputs": [
        {
          "output_type": "execute_result",
          "data": {
            "text/plain": [
              "['A vitória magra - mais uma - por 1 a 0 sobre o Vasco é daquelas que ajuda a sintetizar a percepção após quase dois meses de trabalho do treinador.',\n",
              " 'Não dá para dizer que o Flamengo jogou mal.',\n",
              " 'Não dá para dizer que o Flamengo sofreu.',\n",
              " 'Mas também não dá para considerar uma grande atuação um jogo de trocação por quase uma hora contra um rival consideravelmente inferior tecnicamente.']"
            ]
          },
          "metadata": {},
          "execution_count": 7
        }
      ]
    },
    {
      "cell_type": "code",
      "source": [
        "word_tokenize(texto)"
      ],
      "metadata": {
        "colab": {
          "base_uri": "https://localhost:8080/"
        },
        "id": "HQ1sFc4vj7Nj",
        "outputId": "8bc47e33-80d3-436a-f99c-21ae553ea2cd"
      },
      "execution_count": 8,
      "outputs": [
        {
          "output_type": "execute_result",
          "data": {
            "text/plain": [
              "['A',\n",
              " 'vitória',\n",
              " 'magra',\n",
              " '-',\n",
              " 'mais',\n",
              " 'uma',\n",
              " '-',\n",
              " 'por',\n",
              " '1',\n",
              " 'a',\n",
              " '0',\n",
              " 'sobre',\n",
              " 'o',\n",
              " 'Vasco',\n",
              " 'é',\n",
              " 'daquelas',\n",
              " 'que',\n",
              " 'ajuda',\n",
              " 'a',\n",
              " 'sintetizar',\n",
              " 'a',\n",
              " 'percepção',\n",
              " 'após',\n",
              " 'quase',\n",
              " 'dois',\n",
              " 'meses',\n",
              " 'de',\n",
              " 'trabalho',\n",
              " 'do',\n",
              " 'treinador',\n",
              " '.',\n",
              " 'Não',\n",
              " 'dá',\n",
              " 'para',\n",
              " 'dizer',\n",
              " 'que',\n",
              " 'o',\n",
              " 'Flamengo',\n",
              " 'jogou',\n",
              " 'mal',\n",
              " '.',\n",
              " 'Não',\n",
              " 'dá',\n",
              " 'para',\n",
              " 'dizer',\n",
              " 'que',\n",
              " 'o',\n",
              " 'Flamengo',\n",
              " 'sofreu',\n",
              " '.',\n",
              " 'Mas',\n",
              " 'também',\n",
              " 'não',\n",
              " 'dá',\n",
              " 'para',\n",
              " 'considerar',\n",
              " 'uma',\n",
              " 'grande',\n",
              " 'atuação',\n",
              " 'um',\n",
              " 'jogo',\n",
              " 'de',\n",
              " 'trocação',\n",
              " 'por',\n",
              " 'quase',\n",
              " 'uma',\n",
              " 'hora',\n",
              " 'contra',\n",
              " 'um',\n",
              " 'rival',\n",
              " 'consideravelmente',\n",
              " 'inferior',\n",
              " 'tecnicamente',\n",
              " '.']"
            ]
          },
          "metadata": {},
          "execution_count": 8
        }
      ]
    },
    {
      "cell_type": "code",
      "source": [
        "# Qual o pŕoximo passo?\n",
        "# Stemmings\n",
        "\n",
        "# Drogaria São Luiz Limitada..\n",
        "# Farmácias XYZ S.A. 123\n",
        "\n",
        "# Farmceuticas :) - :("
      ],
      "metadata": {
        "id": "9ZNVc6TokCdU"
      },
      "execution_count": 9,
      "outputs": []
    },
    {
      "cell_type": "code",
      "source": [
        "from nltk.stem import SnowballStemmer"
      ],
      "metadata": {
        "id": "G40heOyNnv9t"
      },
      "execution_count": 10,
      "outputs": []
    },
    {
      "cell_type": "code",
      "source": [
        "snow = SnowballStemmer('portuguese')"
      ],
      "metadata": {
        "id": "fxYM0jM6n-CW"
      },
      "execution_count": 11,
      "outputs": []
    },
    {
      "cell_type": "code",
      "source": [
        "snow.stem('computação')"
      ],
      "metadata": {
        "colab": {
          "base_uri": "https://localhost:8080/",
          "height": 35
        },
        "id": "FfFyszYwoMwS",
        "outputId": "25f1cc2b-6773-43ce-906b-a82252088fbf"
      },
      "execution_count": 12,
      "outputs": [
        {
          "output_type": "execute_result",
          "data": {
            "text/plain": [
              "'comput'"
            ],
            "application/vnd.google.colaboratory.intrinsic+json": {
              "type": "string"
            }
          },
          "metadata": {},
          "execution_count": 12
        }
      ]
    },
    {
      "cell_type": "code",
      "source": [
        "snow.stem('programação')"
      ],
      "metadata": {
        "colab": {
          "base_uri": "https://localhost:8080/",
          "height": 35
        },
        "id": "sLGkyZ-DoQEj",
        "outputId": "ad29166d-16a9-4710-ac7f-94e762b1e2aa"
      },
      "execution_count": 13,
      "outputs": [
        {
          "output_type": "execute_result",
          "data": {
            "text/plain": [
              "'program'"
            ],
            "application/vnd.google.colaboratory.intrinsic+json": {
              "type": "string"
            }
          },
          "metadata": {},
          "execution_count": 13
        }
      ]
    },
    {
      "cell_type": "code",
      "source": [
        "# http://www.nilc.icmc.usp.br/nilc/download/lematizacao_versus_steming.pdf\n",
        "# https://www.nltk.org/_modules/nltk/stem/snowball.html\n",
        "\n",
        "# import spacy\n",
        "\n",
        "# nlp = spacy.load(\"pt_core_news_lg\")\n",
        "\n",
        "# text = \"\"\n",
        "# pos = \"\"\n",
        "# lemma = \"\"\n",
        "# for token in nlp(\"Estás bem ?\"):\n",
        "#     text += token.text + \"\\t\"\n",
        "#     pos += token.pos_ + \"\\t\"\n",
        "#     lemma += token.lemma_ + \"\\t\""
      ],
      "metadata": {
        "id": "uaCLhkL1oZ0E"
      },
      "execution_count": 14,
      "outputs": []
    },
    {
      "cell_type": "code",
      "source": [
        "from nltk.stem import WordNetLemmatizer\n",
        "lem = WordNetLemmatizer()"
      ],
      "metadata": {
        "id": "xWxcJRh_pOC0"
      },
      "execution_count": 15,
      "outputs": []
    },
    {
      "cell_type": "code",
      "source": [
        "nltk.download('wordnet')"
      ],
      "metadata": {
        "colab": {
          "base_uri": "https://localhost:8080/"
        },
        "id": "DBAUqdfhp2Sj",
        "outputId": "90b20a54-c462-426b-9ac9-b49c1a0d3917"
      },
      "execution_count": 16,
      "outputs": [
        {
          "output_type": "stream",
          "name": "stdout",
          "text": [
            "[nltk_data] Downloading package wordnet to /root/nltk_data...\n",
            "[nltk_data]   Package wordnet is already up-to-date!\n"
          ]
        },
        {
          "output_type": "execute_result",
          "data": {
            "text/plain": [
              "True"
            ]
          },
          "metadata": {},
          "execution_count": 16
        }
      ]
    },
    {
      "cell_type": "code",
      "source": [
        "token = \"programmers\""
      ],
      "metadata": {
        "id": "2swTEjSJpk3i"
      },
      "execution_count": 17,
      "outputs": []
    },
    {
      "cell_type": "code",
      "source": [
        "lem.lemmatize(token)"
      ],
      "metadata": {
        "colab": {
          "base_uri": "https://localhost:8080/",
          "height": 35
        },
        "id": "bGW4idPKprR-",
        "outputId": "c4fd0da5-1143-4422-cbb3-a1c0c1fdbbb3"
      },
      "execution_count": 18,
      "outputs": [
        {
          "output_type": "execute_result",
          "data": {
            "text/plain": [
              "'programmer'"
            ],
            "application/vnd.google.colaboratory.intrinsic+json": {
              "type": "string"
            }
          },
          "metadata": {},
          "execution_count": 18
        }
      ]
    },
    {
      "cell_type": "code",
      "source": [
        "token = \"programming\"\n",
        "lem.lemmatize(token)"
      ],
      "metadata": {
        "colab": {
          "base_uri": "https://localhost:8080/",
          "height": 35
        },
        "id": "cESMHbcKpu9R",
        "outputId": "b9d50f02-1850-4954-f040-e85df0f501b1"
      },
      "execution_count": 19,
      "outputs": [
        {
          "output_type": "execute_result",
          "data": {
            "text/plain": [
              "'programming'"
            ],
            "application/vnd.google.colaboratory.intrinsic+json": {
              "type": "string"
            }
          },
          "metadata": {},
          "execution_count": 19
        }
      ]
    },
    {
      "cell_type": "code",
      "source": [
        "# !pip install spacy==2.1"
      ],
      "metadata": {
        "id": "w6ybCpgAp_YJ"
      },
      "execution_count": 20,
      "outputs": []
    },
    {
      "cell_type": "code",
      "source": [
        "import spacy\n",
        "spacy.__version__"
      ],
      "metadata": {
        "colab": {
          "base_uri": "https://localhost:8080/",
          "height": 35
        },
        "id": "2Oyddvh5qrsF",
        "outputId": "e6ac5779-19dc-41ca-f6fc-b2d2ef7fc329"
      },
      "execution_count": 21,
      "outputs": [
        {
          "output_type": "execute_result",
          "data": {
            "text/plain": [
              "'2.1.0'"
            ],
            "application/vnd.google.colaboratory.intrinsic+json": {
              "type": "string"
            }
          },
          "metadata": {},
          "execution_count": 21
        }
      ]
    },
    {
      "cell_type": "code",
      "source": [
        "# !python -m spacy download pt_core_news_lg"
      ],
      "metadata": {
        "colab": {
          "base_uri": "https://localhost:8080/"
        },
        "id": "fQZhJdXorixj",
        "outputId": "d6e8e170-25ef-49d2-b1a0-d484e54ac70b"
      },
      "execution_count": 22,
      "outputs": [
        {
          "output_type": "stream",
          "name": "stdout",
          "text": [
            "\n",
            "\u001b[38;5;1m✘ No compatible model found for 'pt_core_news_lg' (spaCy v2.1.0).\u001b[0m\n",
            "\n"
          ]
        }
      ]
    },
    {
      "cell_type": "code",
      "source": [
        "import spacy\n",
        "\n",
        "nlp = spacy.load(\"pt_core_news_sm\")\n",
        "\n",
        "text = \"\"\n",
        "pos = \"\"\n",
        "lemma = \"\"\n",
        "for token in nlp(\"Estás bem ?\"):\n",
        "    text += token.text + \"\\t\"\n",
        "    pos += token.pos_ + \"\\t\"\n",
        "    lemma += token.lemma_ + \"\\t\""
      ],
      "metadata": {
        "colab": {
          "base_uri": "https://localhost:8080/",
          "height": 382
        },
        "id": "azVGBGs2qWqD",
        "outputId": "1e267c2e-67ee-41ae-f671-d8367dbb73b8"
      },
      "execution_count": 23,
      "outputs": [
        {
          "output_type": "error",
          "ename": "OSError",
          "evalue": "ignored",
          "traceback": [
            "\u001b[0;31m---------------------------------------------------------------------------\u001b[0m",
            "\u001b[0;31mOSError\u001b[0m                                   Traceback (most recent call last)",
            "\u001b[0;32m<ipython-input-23-8e68f4faee60>\u001b[0m in \u001b[0;36m<module>\u001b[0;34m()\u001b[0m\n\u001b[1;32m      1\u001b[0m \u001b[0;32mimport\u001b[0m \u001b[0mspacy\u001b[0m\u001b[0;34m\u001b[0m\u001b[0;34m\u001b[0m\u001b[0m\n\u001b[1;32m      2\u001b[0m \u001b[0;34m\u001b[0m\u001b[0m\n\u001b[0;32m----> 3\u001b[0;31m \u001b[0mnlp\u001b[0m \u001b[0;34m=\u001b[0m \u001b[0mspacy\u001b[0m\u001b[0;34m.\u001b[0m\u001b[0mload\u001b[0m\u001b[0;34m(\u001b[0m\u001b[0;34m\"pt_core_news_sm\"\u001b[0m\u001b[0;34m)\u001b[0m\u001b[0;34m\u001b[0m\u001b[0;34m\u001b[0m\u001b[0m\n\u001b[0m\u001b[1;32m      4\u001b[0m \u001b[0;34m\u001b[0m\u001b[0m\n\u001b[1;32m      5\u001b[0m \u001b[0mtext\u001b[0m \u001b[0;34m=\u001b[0m \u001b[0;34m\"\"\u001b[0m\u001b[0;34m\u001b[0m\u001b[0;34m\u001b[0m\u001b[0m\n",
            "\u001b[0;32m/usr/local/lib/python3.7/dist-packages/spacy/__init__.py\u001b[0m in \u001b[0;36mload\u001b[0;34m(name, **overrides)\u001b[0m\n\u001b[1;32m     20\u001b[0m     \u001b[0;32mif\u001b[0m \u001b[0mdepr_path\u001b[0m \u001b[0;32mnot\u001b[0m \u001b[0;32min\u001b[0m \u001b[0;34m(\u001b[0m\u001b[0;32mTrue\u001b[0m\u001b[0;34m,\u001b[0m \u001b[0;32mFalse\u001b[0m\u001b[0;34m,\u001b[0m \u001b[0;32mNone\u001b[0m\u001b[0;34m)\u001b[0m\u001b[0;34m:\u001b[0m\u001b[0;34m\u001b[0m\u001b[0;34m\u001b[0m\u001b[0m\n\u001b[1;32m     21\u001b[0m         \u001b[0mdeprecation_warning\u001b[0m\u001b[0;34m(\u001b[0m\u001b[0mWarnings\u001b[0m\u001b[0;34m.\u001b[0m\u001b[0mW001\u001b[0m\u001b[0;34m.\u001b[0m\u001b[0mformat\u001b[0m\u001b[0;34m(\u001b[0m\u001b[0mpath\u001b[0m\u001b[0;34m=\u001b[0m\u001b[0mdepr_path\u001b[0m\u001b[0;34m)\u001b[0m\u001b[0;34m)\u001b[0m\u001b[0;34m\u001b[0m\u001b[0;34m\u001b[0m\u001b[0m\n\u001b[0;32m---> 22\u001b[0;31m     \u001b[0;32mreturn\u001b[0m \u001b[0mutil\u001b[0m\u001b[0;34m.\u001b[0m\u001b[0mload_model\u001b[0m\u001b[0;34m(\u001b[0m\u001b[0mname\u001b[0m\u001b[0;34m,\u001b[0m \u001b[0;34m**\u001b[0m\u001b[0moverrides\u001b[0m\u001b[0;34m)\u001b[0m\u001b[0;34m\u001b[0m\u001b[0;34m\u001b[0m\u001b[0m\n\u001b[0m\u001b[1;32m     23\u001b[0m \u001b[0;34m\u001b[0m\u001b[0m\n\u001b[1;32m     24\u001b[0m \u001b[0;34m\u001b[0m\u001b[0m\n",
            "\u001b[0;32m/usr/local/lib/python3.7/dist-packages/spacy/util.py\u001b[0m in \u001b[0;36mload_model\u001b[0;34m(name, **overrides)\u001b[0m\n\u001b[1;32m    134\u001b[0m     \u001b[0;32melif\u001b[0m \u001b[0mhasattr\u001b[0m\u001b[0;34m(\u001b[0m\u001b[0mname\u001b[0m\u001b[0;34m,\u001b[0m \u001b[0;34m\"exists\"\u001b[0m\u001b[0;34m)\u001b[0m\u001b[0;34m:\u001b[0m  \u001b[0;31m# Path or Path-like to model data\u001b[0m\u001b[0;34m\u001b[0m\u001b[0;34m\u001b[0m\u001b[0m\n\u001b[1;32m    135\u001b[0m         \u001b[0;32mreturn\u001b[0m \u001b[0mload_model_from_path\u001b[0m\u001b[0;34m(\u001b[0m\u001b[0mname\u001b[0m\u001b[0;34m,\u001b[0m \u001b[0;34m**\u001b[0m\u001b[0moverrides\u001b[0m\u001b[0;34m)\u001b[0m\u001b[0;34m\u001b[0m\u001b[0;34m\u001b[0m\u001b[0m\n\u001b[0;32m--> 136\u001b[0;31m     \u001b[0;32mraise\u001b[0m \u001b[0mIOError\u001b[0m\u001b[0;34m(\u001b[0m\u001b[0mErrors\u001b[0m\u001b[0;34m.\u001b[0m\u001b[0mE050\u001b[0m\u001b[0;34m.\u001b[0m\u001b[0mformat\u001b[0m\u001b[0;34m(\u001b[0m\u001b[0mname\u001b[0m\u001b[0;34m=\u001b[0m\u001b[0mname\u001b[0m\u001b[0;34m)\u001b[0m\u001b[0;34m)\u001b[0m\u001b[0;34m\u001b[0m\u001b[0;34m\u001b[0m\u001b[0m\n\u001b[0m\u001b[1;32m    137\u001b[0m \u001b[0;34m\u001b[0m\u001b[0m\n\u001b[1;32m    138\u001b[0m \u001b[0;34m\u001b[0m\u001b[0m\n",
            "\u001b[0;31mOSError\u001b[0m: [E050] Can't find model 'pt_core_news_sm'. It doesn't seem to be a shortcut link, a Python package or a valid path to a data directory."
          ]
        }
      ]
    },
    {
      "cell_type": "code",
      "source": [
        "# https://spacy.io/models/pt\n",
        "\n",
        "# Agradeço muito quem tiver a paciencia de corrigir isso aqui, se não jamais terminaremos este curso legal. :) :)"
      ],
      "metadata": {
        "id": "Wk8c68vNrbcA"
      },
      "execution_count": 24,
      "outputs": []
    },
    {
      "cell_type": "code",
      "source": [
        ""
      ],
      "metadata": {
        "id": "vezwlpICsR0o"
      },
      "execution_count": null,
      "outputs": []
    }
  ]
}