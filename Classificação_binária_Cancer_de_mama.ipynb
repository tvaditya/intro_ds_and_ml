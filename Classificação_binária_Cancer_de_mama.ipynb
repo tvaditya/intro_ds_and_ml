{
  "nbformat": 4,
  "nbformat_minor": 0,
  "metadata": {
    "colab": {
      "name": "Classificação binária: Cancer de mama.ipynb",
      "provenance": [],
      "collapsed_sections": [],
      "include_colab_link": true
    },
    "kernelspec": {
      "name": "python3",
      "display_name": "Python 3"
    },
    "accelerator": "GPU"
  },
  "cells": [
    {
      "cell_type": "markdown",
      "metadata": {
        "id": "view-in-github",
        "colab_type": "text"
      },
      "source": [
        "<a href=\"https://colab.research.google.com/github/tvaditya/intro_ds_and_ml/blob/main/Classifica%C3%A7%C3%A3o_bin%C3%A1ria_Cancer_de_mama.ipynb\" target=\"_parent\"><img src=\"https://colab.research.google.com/assets/colab-badge.svg\" alt=\"Open In Colab\"/></a>"
      ]
    },
    {
      "cell_type": "markdown",
      "metadata": {
        "id": "rD_RSER5Lkb5"
      },
      "source": [
        "# Projeto 1: Classificação binária: Câncer de mama"
      ]
    },
    {
      "cell_type": "markdown",
      "metadata": {
        "id": "5tP2BcEILoLB"
      },
      "source": [
        "## Etapa 1: Importação das bibliotecas"
      ]
    },
    {
      "cell_type": "code",
      "metadata": {
        "id": "B1WlABbCcw2B"
      },
      "source": [
        "import pandas as pd\n",
        "from sklearn.model_selection import train_test_split\n",
        "import numpy as np\n",
        "import seaborn as sns\n",
        "from sklearn.metrics import confusion_matrix, accuracy_score"
      ],
      "execution_count": 6,
      "outputs": []
    },
    {
      "cell_type": "code",
      "metadata": {
        "id": "b85d_o8BdFub",
        "colab": {
          "base_uri": "https://localhost:8080/",
          "height": 35
        },
        "outputId": "bf0c7c07-a1f8-4141-a560-ba567ecf091f"
      },
      "source": [
        "import torch\n",
        "torch.__version__\n",
        "#!pip install torch==1.4.0"
      ],
      "execution_count": 7,
      "outputs": [
        {
          "output_type": "execute_result",
          "data": {
            "application/vnd.google.colaboratory.intrinsic+json": {
              "type": "string"
            },
            "text/plain": [
              "'1.10.0+cu111'"
            ]
          },
          "metadata": {},
          "execution_count": 7
        }
      ]
    },
    {
      "cell_type": "code",
      "metadata": {
        "id": "UVO3Mj3qdjru"
      },
      "source": [
        "import torch.nn as nn"
      ],
      "execution_count": 8,
      "outputs": []
    },
    {
      "cell_type": "markdown",
      "metadata": {
        "id": "C0SD4dJ4MDMN"
      },
      "source": [
        "## Etapa 2: Base de dados"
      ]
    },
    {
      "cell_type": "code",
      "metadata": {
        "id": "i81g-4ADedrN",
        "colab": {
          "base_uri": "https://localhost:8080/"
        },
        "outputId": "979f87fd-0250-44b0-c2fb-372e14bd334a"
      },
      "source": [
        "np.random.seed(123)\n",
        "torch.manual_seed(123)"
      ],
      "execution_count": 9,
      "outputs": [
        {
          "output_type": "execute_result",
          "data": {
            "text/plain": [
              "<torch._C.Generator at 0x7fc07bfa5a10>"
            ]
          },
          "metadata": {},
          "execution_count": 9
        }
      ]
    },
    {
      "cell_type": "code",
      "metadata": {
        "id": "PjbIvUYwfBH8"
      },
      "source": [
        "previsores = pd.read_csv('/content/entradas_breast.csv')\n",
        "classe = pd.read_csv('/content/saidas_breast.csv')"
      ],
      "execution_count": 10,
      "outputs": []
    },
    {
      "cell_type": "code",
      "metadata": {
        "id": "yFDDZfZTfOq5",
        "colab": {
          "base_uri": "https://localhost:8080/"
        },
        "outputId": "06d18d8f-4950-4d86-e4b2-c08ec8241a22"
      },
      "source": [
        "previsores.shape"
      ],
      "execution_count": 11,
      "outputs": [
        {
          "output_type": "execute_result",
          "data": {
            "text/plain": [
              "(569, 30)"
            ]
          },
          "metadata": {},
          "execution_count": 11
        }
      ]
    },
    {
      "cell_type": "code",
      "metadata": {
        "id": "rqiQvr3HfUc4",
        "colab": {
          "base_uri": "https://localhost:8080/",
          "height": 270
        },
        "outputId": "e2539109-003d-47ca-d84a-c7907b66c450"
      },
      "source": [
        "previsores.head()"
      ],
      "execution_count": 12,
      "outputs": [
        {
          "output_type": "execute_result",
          "data": {
            "text/html": [
              "\n",
              "  <div id=\"df-ac56236e-c907-45ca-804e-719cca90c99c\">\n",
              "    <div class=\"colab-df-container\">\n",
              "      <div>\n",
              "<style scoped>\n",
              "    .dataframe tbody tr th:only-of-type {\n",
              "        vertical-align: middle;\n",
              "    }\n",
              "\n",
              "    .dataframe tbody tr th {\n",
              "        vertical-align: top;\n",
              "    }\n",
              "\n",
              "    .dataframe thead th {\n",
              "        text-align: right;\n",
              "    }\n",
              "</style>\n",
              "<table border=\"1\" class=\"dataframe\">\n",
              "  <thead>\n",
              "    <tr style=\"text-align: right;\">\n",
              "      <th></th>\n",
              "      <th>radius_mean</th>\n",
              "      <th>texture_mean</th>\n",
              "      <th>perimeter_mean</th>\n",
              "      <th>area_mean</th>\n",
              "      <th>smoothness_mean</th>\n",
              "      <th>compactness_mean</th>\n",
              "      <th>concavity_mean</th>\n",
              "      <th>concave_points_mean</th>\n",
              "      <th>symmetry_mean</th>\n",
              "      <th>fractal_dimension_mean</th>\n",
              "      <th>radius_se</th>\n",
              "      <th>texture_se</th>\n",
              "      <th>perimeter_se</th>\n",
              "      <th>area_se</th>\n",
              "      <th>smoothness_se</th>\n",
              "      <th>compactness_se</th>\n",
              "      <th>concavity_se</th>\n",
              "      <th>concave_points_se</th>\n",
              "      <th>symmetry_se</th>\n",
              "      <th>fractal_dimension_se</th>\n",
              "      <th>radius_worst</th>\n",
              "      <th>texture_worst</th>\n",
              "      <th>perimeter_worst</th>\n",
              "      <th>area_worst</th>\n",
              "      <th>smoothness_worst</th>\n",
              "      <th>compactness_worst</th>\n",
              "      <th>concavity_worst</th>\n",
              "      <th>concave_points_worst</th>\n",
              "      <th>symmetry_worst</th>\n",
              "      <th>fractal_dimension_worst</th>\n",
              "    </tr>\n",
              "  </thead>\n",
              "  <tbody>\n",
              "    <tr>\n",
              "      <th>0</th>\n",
              "      <td>17.99</td>\n",
              "      <td>10.38</td>\n",
              "      <td>122.80</td>\n",
              "      <td>1001.0</td>\n",
              "      <td>0.11840</td>\n",
              "      <td>0.27760</td>\n",
              "      <td>0.3001</td>\n",
              "      <td>0.14710</td>\n",
              "      <td>0.2419</td>\n",
              "      <td>0.07871</td>\n",
              "      <td>1095.0000</td>\n",
              "      <td>0.9053</td>\n",
              "      <td>8589.0</td>\n",
              "      <td>153.40</td>\n",
              "      <td>0.006399</td>\n",
              "      <td>0.04904</td>\n",
              "      <td>0.05373</td>\n",
              "      <td>0.01587</td>\n",
              "      <td>0.03003</td>\n",
              "      <td>0.006193</td>\n",
              "      <td>25.38</td>\n",
              "      <td>17.33</td>\n",
              "      <td>184.60</td>\n",
              "      <td>2019.0</td>\n",
              "      <td>0.1622</td>\n",
              "      <td>0.6656</td>\n",
              "      <td>0.7119</td>\n",
              "      <td>0.2654</td>\n",
              "      <td>0.4601</td>\n",
              "      <td>0.11890</td>\n",
              "    </tr>\n",
              "    <tr>\n",
              "      <th>1</th>\n",
              "      <td>20.57</td>\n",
              "      <td>17.77</td>\n",
              "      <td>132.90</td>\n",
              "      <td>1326.0</td>\n",
              "      <td>0.08474</td>\n",
              "      <td>0.07864</td>\n",
              "      <td>0.0869</td>\n",
              "      <td>0.07017</td>\n",
              "      <td>0.1812</td>\n",
              "      <td>0.05667</td>\n",
              "      <td>0.5435</td>\n",
              "      <td>0.7339</td>\n",
              "      <td>3398.0</td>\n",
              "      <td>74.08</td>\n",
              "      <td>0.005225</td>\n",
              "      <td>0.01308</td>\n",
              "      <td>0.01860</td>\n",
              "      <td>0.01340</td>\n",
              "      <td>0.01389</td>\n",
              "      <td>0.003532</td>\n",
              "      <td>24.99</td>\n",
              "      <td>23.41</td>\n",
              "      <td>158.80</td>\n",
              "      <td>1956.0</td>\n",
              "      <td>0.1238</td>\n",
              "      <td>0.1866</td>\n",
              "      <td>0.2416</td>\n",
              "      <td>186.0000</td>\n",
              "      <td>275.0000</td>\n",
              "      <td>0.08902</td>\n",
              "    </tr>\n",
              "    <tr>\n",
              "      <th>2</th>\n",
              "      <td>19.69</td>\n",
              "      <td>21.25</td>\n",
              "      <td>130.00</td>\n",
              "      <td>1203.0</td>\n",
              "      <td>0.10960</td>\n",
              "      <td>0.15990</td>\n",
              "      <td>0.1974</td>\n",
              "      <td>0.12790</td>\n",
              "      <td>0.2069</td>\n",
              "      <td>0.05999</td>\n",
              "      <td>0.7456</td>\n",
              "      <td>0.7869</td>\n",
              "      <td>4585.0</td>\n",
              "      <td>94.03</td>\n",
              "      <td>0.006150</td>\n",
              "      <td>0.04006</td>\n",
              "      <td>0.03832</td>\n",
              "      <td>0.02058</td>\n",
              "      <td>0.02250</td>\n",
              "      <td>0.004571</td>\n",
              "      <td>23.57</td>\n",
              "      <td>25.53</td>\n",
              "      <td>152.50</td>\n",
              "      <td>1709.0</td>\n",
              "      <td>0.1444</td>\n",
              "      <td>0.4245</td>\n",
              "      <td>0.4504</td>\n",
              "      <td>243.0000</td>\n",
              "      <td>0.3613</td>\n",
              "      <td>0.08758</td>\n",
              "    </tr>\n",
              "    <tr>\n",
              "      <th>3</th>\n",
              "      <td>11.42</td>\n",
              "      <td>20.38</td>\n",
              "      <td>77.58</td>\n",
              "      <td>386.1</td>\n",
              "      <td>0.14250</td>\n",
              "      <td>0.28390</td>\n",
              "      <td>0.2414</td>\n",
              "      <td>0.10520</td>\n",
              "      <td>0.2597</td>\n",
              "      <td>0.09744</td>\n",
              "      <td>0.4956</td>\n",
              "      <td>1156.0000</td>\n",
              "      <td>3445.0</td>\n",
              "      <td>27.23</td>\n",
              "      <td>0.009110</td>\n",
              "      <td>0.07458</td>\n",
              "      <td>0.05661</td>\n",
              "      <td>0.01867</td>\n",
              "      <td>0.05963</td>\n",
              "      <td>0.009208</td>\n",
              "      <td>14.91</td>\n",
              "      <td>26.50</td>\n",
              "      <td>98.87</td>\n",
              "      <td>567.7</td>\n",
              "      <td>0.2098</td>\n",
              "      <td>0.8663</td>\n",
              "      <td>0.6869</td>\n",
              "      <td>0.2575</td>\n",
              "      <td>0.6638</td>\n",
              "      <td>173.00000</td>\n",
              "    </tr>\n",
              "    <tr>\n",
              "      <th>4</th>\n",
              "      <td>20.29</td>\n",
              "      <td>14.34</td>\n",
              "      <td>135.10</td>\n",
              "      <td>1297.0</td>\n",
              "      <td>0.10030</td>\n",
              "      <td>0.13280</td>\n",
              "      <td>198.0000</td>\n",
              "      <td>0.10430</td>\n",
              "      <td>0.1809</td>\n",
              "      <td>0.05883</td>\n",
              "      <td>0.7572</td>\n",
              "      <td>0.7813</td>\n",
              "      <td>5438.0</td>\n",
              "      <td>94.44</td>\n",
              "      <td>0.011490</td>\n",
              "      <td>0.02461</td>\n",
              "      <td>0.05688</td>\n",
              "      <td>0.01885</td>\n",
              "      <td>0.01756</td>\n",
              "      <td>0.005115</td>\n",
              "      <td>22.54</td>\n",
              "      <td>16.67</td>\n",
              "      <td>152.20</td>\n",
              "      <td>1575.0</td>\n",
              "      <td>0.1374</td>\n",
              "      <td>205.0000</td>\n",
              "      <td>0.4000</td>\n",
              "      <td>0.1625</td>\n",
              "      <td>0.2364</td>\n",
              "      <td>0.07678</td>\n",
              "    </tr>\n",
              "  </tbody>\n",
              "</table>\n",
              "</div>\n",
              "      <button class=\"colab-df-convert\" onclick=\"convertToInteractive('df-ac56236e-c907-45ca-804e-719cca90c99c')\"\n",
              "              title=\"Convert this dataframe to an interactive table.\"\n",
              "              style=\"display:none;\">\n",
              "        \n",
              "  <svg xmlns=\"http://www.w3.org/2000/svg\" height=\"24px\"viewBox=\"0 0 24 24\"\n",
              "       width=\"24px\">\n",
              "    <path d=\"M0 0h24v24H0V0z\" fill=\"none\"/>\n",
              "    <path d=\"M18.56 5.44l.94 2.06.94-2.06 2.06-.94-2.06-.94-.94-2.06-.94 2.06-2.06.94zm-11 1L8.5 8.5l.94-2.06 2.06-.94-2.06-.94L8.5 2.5l-.94 2.06-2.06.94zm10 10l.94 2.06.94-2.06 2.06-.94-2.06-.94-.94-2.06-.94 2.06-2.06.94z\"/><path d=\"M17.41 7.96l-1.37-1.37c-.4-.4-.92-.59-1.43-.59-.52 0-1.04.2-1.43.59L10.3 9.45l-7.72 7.72c-.78.78-.78 2.05 0 2.83L4 21.41c.39.39.9.59 1.41.59.51 0 1.02-.2 1.41-.59l7.78-7.78 2.81-2.81c.8-.78.8-2.07 0-2.86zM5.41 20L4 18.59l7.72-7.72 1.47 1.35L5.41 20z\"/>\n",
              "  </svg>\n",
              "      </button>\n",
              "      \n",
              "  <style>\n",
              "    .colab-df-container {\n",
              "      display:flex;\n",
              "      flex-wrap:wrap;\n",
              "      gap: 12px;\n",
              "    }\n",
              "\n",
              "    .colab-df-convert {\n",
              "      background-color: #E8F0FE;\n",
              "      border: none;\n",
              "      border-radius: 50%;\n",
              "      cursor: pointer;\n",
              "      display: none;\n",
              "      fill: #1967D2;\n",
              "      height: 32px;\n",
              "      padding: 0 0 0 0;\n",
              "      width: 32px;\n",
              "    }\n",
              "\n",
              "    .colab-df-convert:hover {\n",
              "      background-color: #E2EBFA;\n",
              "      box-shadow: 0px 1px 2px rgba(60, 64, 67, 0.3), 0px 1px 3px 1px rgba(60, 64, 67, 0.15);\n",
              "      fill: #174EA6;\n",
              "    }\n",
              "\n",
              "    [theme=dark] .colab-df-convert {\n",
              "      background-color: #3B4455;\n",
              "      fill: #D2E3FC;\n",
              "    }\n",
              "\n",
              "    [theme=dark] .colab-df-convert:hover {\n",
              "      background-color: #434B5C;\n",
              "      box-shadow: 0px 1px 3px 1px rgba(0, 0, 0, 0.15);\n",
              "      filter: drop-shadow(0px 1px 2px rgba(0, 0, 0, 0.3));\n",
              "      fill: #FFFFFF;\n",
              "    }\n",
              "  </style>\n",
              "\n",
              "      <script>\n",
              "        const buttonEl =\n",
              "          document.querySelector('#df-ac56236e-c907-45ca-804e-719cca90c99c button.colab-df-convert');\n",
              "        buttonEl.style.display =\n",
              "          google.colab.kernel.accessAllowed ? 'block' : 'none';\n",
              "\n",
              "        async function convertToInteractive(key) {\n",
              "          const element = document.querySelector('#df-ac56236e-c907-45ca-804e-719cca90c99c');\n",
              "          const dataTable =\n",
              "            await google.colab.kernel.invokeFunction('convertToInteractive',\n",
              "                                                     [key], {});\n",
              "          if (!dataTable) return;\n",
              "\n",
              "          const docLinkHtml = 'Like what you see? Visit the ' +\n",
              "            '<a target=\"_blank\" href=https://colab.research.google.com/notebooks/data_table.ipynb>data table notebook</a>'\n",
              "            + ' to learn more about interactive tables.';\n",
              "          element.innerHTML = '';\n",
              "          dataTable['output_type'] = 'display_data';\n",
              "          await google.colab.output.renderOutput(dataTable, element);\n",
              "          const docLink = document.createElement('div');\n",
              "          docLink.innerHTML = docLinkHtml;\n",
              "          element.appendChild(docLink);\n",
              "        }\n",
              "      </script>\n",
              "    </div>\n",
              "  </div>\n",
              "  "
            ],
            "text/plain": [
              "    radius_mean   texture_mean  ...   symmetry_worst   fractal_dimension_worst\n",
              "0         17.99          10.38  ...           0.4601                   0.11890\n",
              "1         20.57          17.77  ...         275.0000                   0.08902\n",
              "2         19.69          21.25  ...           0.3613                   0.08758\n",
              "3         11.42          20.38  ...           0.6638                 173.00000\n",
              "4         20.29          14.34  ...           0.2364                   0.07678\n",
              "\n",
              "[5 rows x 30 columns]"
            ]
          },
          "metadata": {},
          "execution_count": 12
        }
      ]
    },
    {
      "cell_type": "code",
      "metadata": {
        "id": "kKqSDj3bfdQB",
        "colab": {
          "base_uri": "https://localhost:8080/",
          "height": 206
        },
        "outputId": "71676d63-06d3-41aa-b1f6-241c829949d6"
      },
      "source": [
        "classe.head()"
      ],
      "execution_count": 13,
      "outputs": [
        {
          "output_type": "execute_result",
          "data": {
            "text/html": [
              "\n",
              "  <div id=\"df-74293a11-094c-4a0a-b5af-6e9c22537e6d\">\n",
              "    <div class=\"colab-df-container\">\n",
              "      <div>\n",
              "<style scoped>\n",
              "    .dataframe tbody tr th:only-of-type {\n",
              "        vertical-align: middle;\n",
              "    }\n",
              "\n",
              "    .dataframe tbody tr th {\n",
              "        vertical-align: top;\n",
              "    }\n",
              "\n",
              "    .dataframe thead th {\n",
              "        text-align: right;\n",
              "    }\n",
              "</style>\n",
              "<table border=\"1\" class=\"dataframe\">\n",
              "  <thead>\n",
              "    <tr style=\"text-align: right;\">\n",
              "      <th></th>\n",
              "      <th>0</th>\n",
              "    </tr>\n",
              "  </thead>\n",
              "  <tbody>\n",
              "    <tr>\n",
              "      <th>0</th>\n",
              "      <td>0</td>\n",
              "    </tr>\n",
              "    <tr>\n",
              "      <th>1</th>\n",
              "      <td>0</td>\n",
              "    </tr>\n",
              "    <tr>\n",
              "      <th>2</th>\n",
              "      <td>0</td>\n",
              "    </tr>\n",
              "    <tr>\n",
              "      <th>3</th>\n",
              "      <td>0</td>\n",
              "    </tr>\n",
              "    <tr>\n",
              "      <th>4</th>\n",
              "      <td>0</td>\n",
              "    </tr>\n",
              "  </tbody>\n",
              "</table>\n",
              "</div>\n",
              "      <button class=\"colab-df-convert\" onclick=\"convertToInteractive('df-74293a11-094c-4a0a-b5af-6e9c22537e6d')\"\n",
              "              title=\"Convert this dataframe to an interactive table.\"\n",
              "              style=\"display:none;\">\n",
              "        \n",
              "  <svg xmlns=\"http://www.w3.org/2000/svg\" height=\"24px\"viewBox=\"0 0 24 24\"\n",
              "       width=\"24px\">\n",
              "    <path d=\"M0 0h24v24H0V0z\" fill=\"none\"/>\n",
              "    <path d=\"M18.56 5.44l.94 2.06.94-2.06 2.06-.94-2.06-.94-.94-2.06-.94 2.06-2.06.94zm-11 1L8.5 8.5l.94-2.06 2.06-.94-2.06-.94L8.5 2.5l-.94 2.06-2.06.94zm10 10l.94 2.06.94-2.06 2.06-.94-2.06-.94-.94-2.06-.94 2.06-2.06.94z\"/><path d=\"M17.41 7.96l-1.37-1.37c-.4-.4-.92-.59-1.43-.59-.52 0-1.04.2-1.43.59L10.3 9.45l-7.72 7.72c-.78.78-.78 2.05 0 2.83L4 21.41c.39.39.9.59 1.41.59.51 0 1.02-.2 1.41-.59l7.78-7.78 2.81-2.81c.8-.78.8-2.07 0-2.86zM5.41 20L4 18.59l7.72-7.72 1.47 1.35L5.41 20z\"/>\n",
              "  </svg>\n",
              "      </button>\n",
              "      \n",
              "  <style>\n",
              "    .colab-df-container {\n",
              "      display:flex;\n",
              "      flex-wrap:wrap;\n",
              "      gap: 12px;\n",
              "    }\n",
              "\n",
              "    .colab-df-convert {\n",
              "      background-color: #E8F0FE;\n",
              "      border: none;\n",
              "      border-radius: 50%;\n",
              "      cursor: pointer;\n",
              "      display: none;\n",
              "      fill: #1967D2;\n",
              "      height: 32px;\n",
              "      padding: 0 0 0 0;\n",
              "      width: 32px;\n",
              "    }\n",
              "\n",
              "    .colab-df-convert:hover {\n",
              "      background-color: #E2EBFA;\n",
              "      box-shadow: 0px 1px 2px rgba(60, 64, 67, 0.3), 0px 1px 3px 1px rgba(60, 64, 67, 0.15);\n",
              "      fill: #174EA6;\n",
              "    }\n",
              "\n",
              "    [theme=dark] .colab-df-convert {\n",
              "      background-color: #3B4455;\n",
              "      fill: #D2E3FC;\n",
              "    }\n",
              "\n",
              "    [theme=dark] .colab-df-convert:hover {\n",
              "      background-color: #434B5C;\n",
              "      box-shadow: 0px 1px 3px 1px rgba(0, 0, 0, 0.15);\n",
              "      filter: drop-shadow(0px 1px 2px rgba(0, 0, 0, 0.3));\n",
              "      fill: #FFFFFF;\n",
              "    }\n",
              "  </style>\n",
              "\n",
              "      <script>\n",
              "        const buttonEl =\n",
              "          document.querySelector('#df-74293a11-094c-4a0a-b5af-6e9c22537e6d button.colab-df-convert');\n",
              "        buttonEl.style.display =\n",
              "          google.colab.kernel.accessAllowed ? 'block' : 'none';\n",
              "\n",
              "        async function convertToInteractive(key) {\n",
              "          const element = document.querySelector('#df-74293a11-094c-4a0a-b5af-6e9c22537e6d');\n",
              "          const dataTable =\n",
              "            await google.colab.kernel.invokeFunction('convertToInteractive',\n",
              "                                                     [key], {});\n",
              "          if (!dataTable) return;\n",
              "\n",
              "          const docLinkHtml = 'Like what you see? Visit the ' +\n",
              "            '<a target=\"_blank\" href=https://colab.research.google.com/notebooks/data_table.ipynb>data table notebook</a>'\n",
              "            + ' to learn more about interactive tables.';\n",
              "          element.innerHTML = '';\n",
              "          dataTable['output_type'] = 'display_data';\n",
              "          await google.colab.output.renderOutput(dataTable, element);\n",
              "          const docLink = document.createElement('div');\n",
              "          docLink.innerHTML = docLinkHtml;\n",
              "          element.appendChild(docLink);\n",
              "        }\n",
              "      </script>\n",
              "    </div>\n",
              "  </div>\n",
              "  "
            ],
            "text/plain": [
              "   0\n",
              "0  0\n",
              "1  0\n",
              "2  0\n",
              "3  0\n",
              "4  0"
            ]
          },
          "metadata": {},
          "execution_count": 13
        }
      ]
    },
    {
      "cell_type": "code",
      "metadata": {
        "id": "-jSqJh18fhL1",
        "colab": {
          "base_uri": "https://localhost:8080/"
        },
        "outputId": "a710eece-e2ed-4b2f-adde-351f077c9030"
      },
      "source": [
        "np.unique(classe)"
      ],
      "execution_count": 14,
      "outputs": [
        {
          "output_type": "execute_result",
          "data": {
            "text/plain": [
              "array([0, 1])"
            ]
          },
          "metadata": {},
          "execution_count": 14
        }
      ]
    },
    {
      "cell_type": "code",
      "metadata": {
        "id": "aKLO9jX0fs-3",
        "colab": {
          "base_uri": "https://localhost:8080/",
          "height": 334
        },
        "outputId": "aa12ce16-a910-4057-c7fa-7ef3a07403c1"
      },
      "source": [
        " sns.countplot(classe['0']);"
      ],
      "execution_count": 15,
      "outputs": [
        {
          "output_type": "stream",
          "name": "stderr",
          "text": [
            "/usr/local/lib/python3.7/dist-packages/seaborn/_decorators.py:43: FutureWarning: Pass the following variable as a keyword arg: x. From version 0.12, the only valid positional argument will be `data`, and passing other arguments without an explicit keyword will result in an error or misinterpretation.\n",
            "  FutureWarning\n"
          ]
        },
        {
          "output_type": "display_data",
          "data": {
            "image/png": "[encoded data removed]",
            "text/plain": [
              "<Figure size 432x288 with 1 Axes>"
            ]
          },
          "metadata": {
            "needs_background": "light"
          }
        }
      ]
    },
    {
      "cell_type": "code",
      "metadata": {
        "id": "UX9ZDhUMgBsv"
      },
      "source": [
        "previsores_treinamento, previsores_teste, classe_treinamento, classe_teste = train_test_split(previsores,\n",
        "                                                                                              classe,\n",
        "                                                                                              test_size = 0.25)"
      ],
      "execution_count": 16,
      "outputs": []
    },
    {
      "cell_type": "code",
      "metadata": {
        "id": "7SEVQyX9gR4O",
        "colab": {
          "base_uri": "https://localhost:8080/"
        },
        "outputId": "1de3b6a4-6f50-4f8e-942f-4111d960e49a"
      },
      "source": [
        "previsores_treinamento.shape"
      ],
      "execution_count": 17,
      "outputs": [
        {
          "output_type": "execute_result",
          "data": {
            "text/plain": [
              "(426, 30)"
            ]
          },
          "metadata": {},
          "execution_count": 17
        }
      ]
    },
    {
      "cell_type": "code",
      "metadata": {
        "id": "ZA6wrOMygUmg",
        "colab": {
          "base_uri": "https://localhost:8080/"
        },
        "outputId": "ff9a076b-b3f3-4f36-e0c7-a1216d831481"
      },
      "source": [
        "classe_treinamento.shape"
      ],
      "execution_count": 18,
      "outputs": [
        {
          "output_type": "execute_result",
          "data": {
            "text/plain": [
              "(426, 1)"
            ]
          },
          "metadata": {},
          "execution_count": 18
        }
      ]
    },
    {
      "cell_type": "code",
      "metadata": {
        "id": "SKyN_plmgZzH",
        "colab": {
          "base_uri": "https://localhost:8080/"
        },
        "outputId": "f62d753f-f62e-4675-8761-a51445e1c4f3"
      },
      "source": [
        "previsores_teste.shape"
      ],
      "execution_count": 19,
      "outputs": [
        {
          "output_type": "execute_result",
          "data": {
            "text/plain": [
              "(143, 30)"
            ]
          },
          "metadata": {},
          "execution_count": 19
        }
      ]
    },
    {
      "cell_type": "code",
      "metadata": {
        "id": "wN_AXcfggdWC",
        "colab": {
          "base_uri": "https://localhost:8080/"
        },
        "outputId": "2a4e0006-31fe-41f6-911a-b3c93b6bde35"
      },
      "source": [
        "classe_teste.shape"
      ],
      "execution_count": 20,
      "outputs": [
        {
          "output_type": "execute_result",
          "data": {
            "text/plain": [
              "(143, 1)"
            ]
          },
          "metadata": {},
          "execution_count": 20
        }
      ]
    },
    {
      "cell_type": "markdown",
      "metadata": {
        "id": "72uvlxJrOuWd"
      },
      "source": [
        "## Etapa 3: Transformação dos dados para tensores\n"
      ]
    },
    {
      "cell_type": "code",
      "metadata": {
        "id": "nk5Gjgb7hBCo",
        "colab": {
          "base_uri": "https://localhost:8080/"
        },
        "outputId": "6d9c251d-79d1-4f1f-93e4-61aaae44cb0a"
      },
      "source": [
        "type(previsores_treinamento)"
      ],
      "execution_count": 21,
      "outputs": [
        {
          "output_type": "execute_result",
          "data": {
            "text/plain": [
              "pandas.core.frame.DataFrame"
            ]
          },
          "metadata": {},
          "execution_count": 21
        }
      ]
    },
    {
      "cell_type": "code",
      "metadata": {
        "id": "aIzWASyMhMmy",
        "colab": {
          "base_uri": "https://localhost:8080/"
        },
        "outputId": "483f0730-6a9c-428f-8c40-ad126f5b4a92"
      },
      "source": [
        "type(np.array(previsores_treinamento))"
      ],
      "execution_count": 22,
      "outputs": [
        {
          "output_type": "execute_result",
          "data": {
            "text/plain": [
              "numpy.ndarray"
            ]
          },
          "metadata": {},
          "execution_count": 22
        }
      ]
    },
    {
      "cell_type": "code",
      "metadata": {
        "id": "hqPER9AYhTpt"
      },
      "source": [
        "previsores_treinamento = torch.tensor(np.array(previsores_treinamento), dtype=torch.float)\n",
        "classe_treinamento = torch.tensor(np.array(classe_treinamento), dtype = torch.float)"
      ],
      "execution_count": 23,
      "outputs": []
    },
    {
      "cell_type": "code",
      "metadata": {
        "id": "u-2HrvEJh5Km",
        "colab": {
          "base_uri": "https://localhost:8080/"
        },
        "outputId": "365e2d50-ee01-4e6f-a6c5-949434b3ed58"
      },
      "source": [
        "\n",
        "type(previsores_treinamento)"
      ],
      "execution_count": 24,
      "outputs": [
        {
          "output_type": "execute_result",
          "data": {
            "text/plain": [
              "torch.Tensor"
            ]
          },
          "metadata": {},
          "execution_count": 24
        }
      ]
    },
    {
      "cell_type": "code",
      "metadata": {
        "id": "lqL8ypLSh79u",
        "colab": {
          "base_uri": "https://localhost:8080/"
        },
        "outputId": "31ac2416-c3d5-4012-fa00-fb0b3d246c22"
      },
      "source": [
        "\n",
        "type(classe_treinamento)"
      ],
      "execution_count": 25,
      "outputs": [
        {
          "output_type": "execute_result",
          "data": {
            "text/plain": [
              "torch.Tensor"
            ]
          },
          "metadata": {},
          "execution_count": 25
        }
      ]
    },
    {
      "cell_type": "code",
      "metadata": {
        "id": "__6a-iZhiJVI"
      },
      "source": [
        "dataset = torch.utils.data.TensorDataset(previsores_treinamento, classe_treinamento)"
      ],
      "execution_count": 26,
      "outputs": []
    },
    {
      "cell_type": "code",
      "metadata": {
        "id": "t0sP_kvViZJl",
        "colab": {
          "base_uri": "https://localhost:8080/"
        },
        "outputId": "4af39681-c6db-40ff-8d66-51b8cc13937c"
      },
      "source": [
        "type(dataset)"
      ],
      "execution_count": 27,
      "outputs": [
        {
          "output_type": "execute_result",
          "data": {
            "text/plain": [
              "torch.utils.data.dataset.TensorDataset"
            ]
          },
          "metadata": {},
          "execution_count": 27
        }
      ]
    },
    {
      "cell_type": "code",
      "metadata": {
        "id": "5dIWzA4wihKD"
      },
      "source": [
        "train_loader = torch.utils.data.DataLoader(dataset, batch_size=10, shuffle=True)"
      ],
      "execution_count": 28,
      "outputs": []
    },
    {
      "cell_type": "markdown",
      "metadata": {
        "id": "QGDLesyDQpIb"
      },
      "source": [
        "## Etapa 4: Construção do modelo"
      ]
    },
    {
      "cell_type": "code",
      "metadata": {
        "id": "1FAFgY56jmdG"
      },
      "source": [
        " # 30 -> 16 -> 16 -> 1\n",
        "# (entradas + saida) / 2 = (30 + 1) / 2 = 16\n",
        "classificador = nn.Sequential(\n",
        "    nn.Linear(in_features=30, out_features=16),\n",
        "    nn.ReLU(),\n",
        "    nn.Linear(16, 16),\n",
        "    nn.ReLU(),\n",
        "    nn.Linear(16, 1),\n",
        "    nn.Sigmoid()\n",
        ")"
      ],
      "execution_count": 29,
      "outputs": []
    },
    {
      "cell_type": "code",
      "metadata": {
        "id": "ixwI_mhZlDVW",
        "colab": {
          "base_uri": "https://localhost:8080/"
        },
        "outputId": "c799e7e7-2bcd-42de-c848-b04e28ac7ea9"
      },
      "source": [
        "classificador.parameters"
      ],
      "execution_count": 30,
      "outputs": [
        {
          "output_type": "execute_result",
          "data": {
            "text/plain": [
              "<bound method Module.parameters of Sequential(\n",
              "  (0): Linear(in_features=30, out_features=16, bias=True)\n",
              "  (1): ReLU()\n",
              "  (2): Linear(in_features=16, out_features=16, bias=True)\n",
              "  (3): ReLU()\n",
              "  (4): Linear(in_features=16, out_features=1, bias=True)\n",
              "  (5): Sigmoid()\n",
              ")>"
            ]
          },
          "metadata": {},
          "execution_count": 30
        }
      ]
    },
    {
      "cell_type": "code",
      "metadata": {
        "id": "--bNcvlplMh9"
      },
      "source": [
        "criterion = nn.BCELoss() #Binary Cross Entropy Loss"
      ],
      "execution_count": 31,
      "outputs": []
    },
    {
      "cell_type": "code",
      "metadata": {
        "id": "Um6Tr3s_lXHK"
      },
      "source": [
        "optimizer = torch.optim.Adam(classificador.parameters(), lr=0.001, weight_decay=0.0001)"
      ],
      "execution_count": 32,
      "outputs": []
    },
    {
      "cell_type": "markdown",
      "metadata": {
        "id": "appMwDHtRTN5"
      },
      "source": [
        "## Etapa 5: Treinamento do modelo"
      ]
    },
    {
      "cell_type": "code",
      "metadata": {
        "id": "exieZFSam_eI",
        "colab": {
          "base_uri": "https://localhost:8080/"
        },
        "outputId": "e1179ff5-6b23-4592-f4c9-ce83e5b272b0"
      },
      "source": [
        "for epoch in range(100):\n",
        "  running_loss = 0.\n",
        "\n",
        "  for data in train_loader:\n",
        "    inputs, labels = data\n",
        "    #print(inputs)\n",
        "    #print('-----')\n",
        "    #print(labels)\n",
        "    optimizer.zero_grad()\n",
        "\n",
        "    outputs = classificador(inputs) # classificador.forward(inputs)\n",
        "    #print(outputs)\n",
        "    loss = criterion(outputs, labels)\n",
        "    #print(loss)\n",
        "    loss.backward()\n",
        "    optimizer.step()\n",
        "\n",
        "    running_loss += loss.item()\n",
        "  print('Época %3d: perda %.5f' % (epoch+1, running_loss/len(train_loader)))"
      ],
      "execution_count": 33,
      "outputs": [
        {
          "output_type": "stream",
          "name": "stdout",
          "text": [
            "Época   1: perda 10.78336\n",
            "Época   2: perda 2.84863\n",
            "Época   3: perda 1.67480\n",
            "Época   4: perda 1.11414\n",
            "Época   5: perda 0.63996\n",
            "Época   6: perda 0.63753\n",
            "Época   7: perda 0.58066\n",
            "Época   8: perda 0.55460\n",
            "Época   9: perda 0.55617\n",
            "Época  10: perda 0.53322\n",
            "Época  11: perda 0.55797\n",
            "Época  12: perda 0.53816\n",
            "Época  13: perda 0.52938\n",
            "Época  14: perda 0.33227\n",
            "Época  15: perda 0.51360\n",
            "Época  16: perda 0.35532\n",
            "Época  17: perda 0.49602\n",
            "Época  18: perda 0.33208\n",
            "Época  19: perda 0.29349\n",
            "Época  20: perda 0.25046\n",
            "Época  21: perda 0.29527\n",
            "Época  22: perda 0.49888\n",
            "Época  23: perda 0.47241\n",
            "Época  24: perda 0.45883\n",
            "Época  25: perda 0.27544\n",
            "Época  26: perda 0.23399\n",
            "Época  27: perda 0.26373\n",
            "Época  28: perda 0.24136\n",
            "Época  29: perda 0.28275\n",
            "Época  30: perda 0.22633\n",
            "Época  31: perda 0.19294\n",
            "Época  32: perda 0.22258\n",
            "Época  33: perda 0.20290\n",
            "Época  34: perda 0.20888\n",
            "Época  35: perda 0.20335\n",
            "Época  36: perda 0.20316\n",
            "Época  37: perda 0.18855\n",
            "Época  38: perda 0.22316\n",
            "Época  39: perda 0.23315\n",
            "Época  40: perda 0.19261\n",
            "Época  41: perda 0.17163\n",
            "Época  42: perda 0.18287\n",
            "Época  43: perda 0.17056\n",
            "Época  44: perda 0.16674\n",
            "Época  45: perda 0.18515\n",
            "Época  46: perda 0.22250\n",
            "Época  47: perda 0.17559\n",
            "Época  48: perda 0.22754\n",
            "Época  49: perda 0.19833\n",
            "Época  50: perda 0.16371\n",
            "Época  51: perda 0.16856\n",
            "Época  52: perda 0.18368\n",
            "Época  53: perda 0.17564\n",
            "Época  54: perda 0.17957\n",
            "Época  55: perda 0.18736\n",
            "Época  56: perda 0.17082\n",
            "Época  57: perda 0.16025\n",
            "Época  58: perda 0.18950\n",
            "Época  59: perda 0.14266\n",
            "Época  60: perda 0.16326\n",
            "Época  61: perda 0.16451\n",
            "Época  62: perda 0.15945\n",
            "Época  63: perda 0.13701\n",
            "Época  64: perda 0.14978\n",
            "Época  65: perda 0.15759\n",
            "Época  66: perda 0.23798\n",
            "Época  67: perda 0.16512\n",
            "Época  68: perda 0.15355\n",
            "Época  69: perda 0.13876\n",
            "Época  70: perda 0.15590\n",
            "Época  71: perda 0.14619\n",
            "Época  72: perda 0.16152\n",
            "Época  73: perda 0.12792\n",
            "Época  74: perda 0.13607\n",
            "Época  75: perda 0.13756\n",
            "Época  76: perda 0.13185\n",
            "Época  77: perda 0.12571\n",
            "Época  78: perda 0.14282\n",
            "Época  79: perda 0.20641\n",
            "Época  80: perda 0.22408\n",
            "Época  81: perda 0.22975\n",
            "Época  82: perda 0.16587\n",
            "Época  83: perda 0.11836\n",
            "Época  84: perda 0.12659\n",
            "Época  85: perda 0.12485\n",
            "Época  86: perda 0.12230\n",
            "Época  87: perda 0.15597\n",
            "Época  88: perda 0.12490\n",
            "Época  89: perda 0.15398\n",
            "Época  90: perda 0.12629\n",
            "Época  91: perda 0.15555\n",
            "Época  92: perda 0.14011\n",
            "Época  93: perda 0.10533\n",
            "Época  94: perda 0.13237\n",
            "Época  95: perda 0.10598\n",
            "Época  96: perda 0.12779\n",
            "Época  97: perda 0.13136\n",
            "Época  98: perda 0.11953\n",
            "Época  99: perda 0.13612\n",
            "Época 100: perda 0.13940\n"
          ]
        }
      ]
    },
    {
      "cell_type": "markdown",
      "metadata": {
        "id": "ITUtUdQNSJcs"
      },
      "source": [
        "## Etapa 6: Visualização dos pesos"
      ]
    },
    {
      "cell_type": "code",
      "metadata": {
        "id": "p0E2vbaGreGc"
      },
      "source": [
        "# 30 -> 16 -> 16 -> 1\n",
        "params = list(classificador.parameters())"
      ],
      "execution_count": 34,
      "outputs": []
    },
    {
      "cell_type": "code",
      "metadata": {
        "id": "y2sFTNaMroyw",
        "colab": {
          "base_uri": "https://localhost:8080/"
        },
        "outputId": "e673a74d-0353-467d-8e33-671a35569083"
      },
      "source": [
        "params"
      ],
      "execution_count": 35,
      "outputs": [
        {
          "output_type": "execute_result",
          "data": {
            "text/plain": [
              "[Parameter containing:\n",
              " tensor([[-7.0383e-02, -1.1207e-01, -1.8798e-01,  4.7441e-02, -1.5485e-01,\n",
              "           9.5234e-02, -1.3539e-01, -1.2362e-01, -2.2592e-01,  1.7398e-01,\n",
              "          -2.5586e-02,  6.2692e-02, -1.2015e-01, -1.0582e-01,  2.0913e-03,\n",
              "          -2.3384e-01, -3.8969e-01, -3.4844e-02,  9.7729e-02,  5.4830e-03,\n",
              "           1.3914e-01, -8.6065e-02, -5.0620e-02,  1.3179e-01,  4.8892e-01,\n",
              "           1.4548e-01, -1.8037e-01,  5.7787e-02,  2.9666e-01,  4.4511e-02],\n",
              "         [ 1.9552e-01,  2.0509e-01,  2.8965e-01,  1.0102e-01, -1.3337e-01,\n",
              "          -8.4264e-02, -7.1298e-02, -1.3671e-01, -2.9883e-02,  2.9008e-01,\n",
              "          -6.3485e-02, -9.0179e-02, -7.8924e-03,  1.6774e-01, -4.7917e-03,\n",
              "          -8.9527e-02, -1.1098e-02,  2.1501e-01,  7.8884e-02, -1.5008e-02,\n",
              "           9.8590e-02,  5.6942e-02,  1.9170e-01,  8.7883e-03, -1.6901e-02,\n",
              "          -2.4835e-01, -1.8176e-01, -1.6588e-02, -6.7060e-02, -1.6873e-01],\n",
              "         [-1.2614e-02, -6.0502e-02, -2.5585e-01, -1.1376e-01, -2.0406e-02,\n",
              "           4.9432e-02,  2.2920e-02,  6.4218e-03, -9.8708e-02,  2.8596e-01,\n",
              "           1.6826e-01,  8.7227e-02, -1.0356e-01,  4.5746e-02, -3.8438e-04,\n",
              "          -2.9713e-01,  2.8212e-02,  8.4174e-04,  2.5659e-01,  1.5239e-04,\n",
              "           3.6657e-02, -1.9822e-01, -8.9969e-02, -1.3301e-02, -2.6352e-01,\n",
              "          -1.2643e-01, -1.7710e-01,  1.1234e-01,  2.1271e-02, -1.6594e-02],\n",
              "         [-3.7317e-01,  3.4460e-02, -1.5399e-01,  9.0903e-02, -1.9045e-01,\n",
              "          -2.0861e-02,  3.9724e-03,  5.2567e-02,  1.3893e-01, -2.4761e-01,\n",
              "           1.9021e-01, -1.4930e-01,  3.7416e-02,  1.4523e-02,  3.5265e-03,\n",
              "           5.1122e-02,  2.2829e-02, -2.5190e-02,  1.3080e-01,  9.3842e-03,\n",
              "           5.7900e-02, -1.6485e-01, -7.7310e-02,  1.5241e-02,  2.3652e-01,\n",
              "           8.2461e-02,  2.7094e-02,  2.4607e-01,  1.0891e-01,  3.9533e-01],\n",
              "         [-4.3508e-01, -3.8370e-02, -1.3850e-01, -1.3715e-01,  3.6878e-01,\n",
              "           3.1960e-02,  1.3028e-01, -3.2015e-01, -2.8867e-01,  2.2771e-01,\n",
              "          -1.8228e-01,  2.7783e-02, -1.6565e-02,  7.1932e-02,  4.3032e-02,\n",
              "          -3.5199e-01, -3.0023e-01, -2.5903e-01,  3.4283e-01,  2.3701e-01,\n",
              "          -2.9612e-01, -7.8129e-03, -1.7086e-01,  2.4336e-01, -5.0045e-03,\n",
              "          -8.1797e-02, -4.2691e-01, -1.0886e-01,  4.1323e-03,  4.9770e-01],\n",
              "         [ 2.0916e-02, -2.6186e-02,  1.0456e-01,  1.0716e-01,  7.9045e-02,\n",
              "           4.2927e-01, -6.6046e-02,  3.1736e-01,  2.2862e-01, -8.7850e-02,\n",
              "           1.4395e-01,  1.6048e-01, -1.0696e-01,  1.3695e-01, -1.6639e-04,\n",
              "           3.4716e-01,  1.8848e-01,  1.2082e-01, -2.5931e-01, -9.1797e-02,\n",
              "           2.3766e-02, -1.9461e-01,  2.9728e-02, -2.6262e-02, -1.8447e-01,\n",
              "          -1.8080e-02, -7.2301e-02,  2.5421e-01,  6.7575e-02, -2.6181e-01],\n",
              "         [-4.7724e-03,  2.2531e-02,  3.0143e-01, -1.1834e-01, -2.3139e-01,\n",
              "          -5.3677e-01, -1.8959e-02, -3.4113e-02,  2.3365e-01,  2.1578e-02,\n",
              "          -1.0405e-01, -2.3929e-01,  6.0172e-02,  5.4171e-02, -3.5699e-03,\n",
              "          -2.5822e-02,  7.9013e-02, -8.0947e-03,  2.9393e-01, -6.2168e-03,\n",
              "           1.0731e-02, -6.9124e-02,  2.0091e-01, -9.8961e-02, -2.9150e-01,\n",
              "           1.2286e-01,  2.2048e-01, -2.0782e-01, -2.5405e-01,  5.1682e-02],\n",
              "         [-2.8560e-01, -1.1216e-02, -1.3370e-01, -1.6843e-01,  3.4088e-01,\n",
              "          -3.6058e-02, -1.2441e-02, -1.2990e-02, -4.8514e-02, -4.7762e-02,\n",
              "          -8.8669e-02, -1.0988e-01,  6.8693e-02,  1.0435e-01,  4.4931e-03,\n",
              "           2.1965e-02, -1.0721e-01,  1.4505e-02, -2.8170e-01,  8.7534e-03,\n",
              "          -2.0791e-01,  8.6035e-02, -2.9097e-01,  9.8197e-02, -4.8123e-02,\n",
              "          -2.9864e-01,  2.3198e-02,  1.3877e-01, -3.7007e-02,  5.2365e-02],\n",
              "         [ 8.6452e-02, -1.5034e-01, -3.8471e-01, -4.1756e-02,  3.7453e-01,\n",
              "           1.4232e-01, -3.9224e-01, -8.9898e-02,  1.0733e-01,  2.0587e-01,\n",
              "           1.6935e-01, -2.7264e-02,  1.1050e-01,  1.1048e-01,  6.8602e-03,\n",
              "          -1.4605e-01,  5.1929e-03, -2.9226e-01,  4.1046e-01, -1.7204e-02,\n",
              "          -2.5026e-01, -3.9692e-02, -2.9700e-01,  2.0695e-01, -4.2917e-02,\n",
              "           1.8966e-01, -7.5964e-02,  2.0481e-01,  1.0087e-01,  2.6888e-01],\n",
              "         [-2.5759e-02,  1.3903e-01,  2.8746e-01,  1.5369e-02, -3.2915e-01,\n",
              "          -1.2901e-01, -7.4212e-02,  1.8196e-01,  5.0133e-02,  1.3157e-01,\n",
              "           1.1398e-01, -1.7124e-01,  1.5250e-01, -1.7104e-01, -7.6353e-03,\n",
              "           3.0654e-02,  1.6510e-01,  1.5102e-01,  1.3532e-01, -1.9868e-01,\n",
              "           1.8676e-01, -1.5145e-01,  3.0912e-01, -7.7852e-02,  1.3066e-01,\n",
              "           4.8168e-03,  5.1687e-03, -8.8670e-02,  9.5144e-02, -1.4413e-01],\n",
              "         [-1.3562e-01, -3.1367e-02,  4.4753e-02,  1.9379e-02, -4.8889e-02,\n",
              "          -1.0130e-01, -1.5139e-01, -1.2739e-01,  2.6024e-01,  4.5222e-02,\n",
              "          -1.1497e-01,  5.5364e-02, -1.1341e-01,  1.7185e-01, -5.9630e-03,\n",
              "          -1.0512e-01, -7.2838e-02, -3.5486e-01, -1.2362e-01, -3.3540e-03,\n",
              "          -1.9725e-01, -7.7647e-02,  5.5423e-02,  1.2792e-01,  3.1162e-01,\n",
              "          -1.6743e-01,  3.1076e-01,  2.1415e-01, -1.3519e-01, -2.3464e-02],\n",
              "         [ 6.8566e-02, -1.5809e-03,  1.2835e-01,  1.4269e-01, -4.9033e-02,\n",
              "           2.2894e-01, -1.1436e-01,  2.6469e-01,  2.0318e-01, -8.9571e-02,\n",
              "           1.0834e-02,  8.8261e-02, -1.7440e-02, -3.2165e-01, -1.3891e-02,\n",
              "           3.8038e-01,  9.8336e-04,  3.4337e-01, -2.3703e-01, -1.8573e-01,\n",
              "           2.0542e-01, -3.6169e-02,  3.0218e-01, -1.3700e-01, -2.2217e-01,\n",
              "           1.8199e-01,  3.7825e-02,  7.2431e-02,  1.3914e-01, -4.5849e-01],\n",
              "         [ 1.1818e-01,  6.2075e-02, -2.5917e-01, -6.1647e-02,  1.5233e-01,\n",
              "           1.9723e-01,  2.7136e-01,  1.5148e-02, -8.9745e-02, -2.5162e-01,\n",
              "           1.2327e-01, -4.1601e-02,  1.1085e-01,  6.8346e-02, -4.1019e-03,\n",
              "          -5.2333e-02,  3.4552e-03,  2.3004e-02, -2.8193e-01,  1.5704e-01,\n",
              "           6.1684e-02,  1.5523e-01, -2.5576e-02,  4.2079e-02, -4.5138e-02,\n",
              "           1.2932e-01,  2.5061e-02, -2.5107e-01,  7.9434e-02,  1.1459e-01],\n",
              "         [ 9.0150e-02, -1.0271e-01, -1.0228e-01,  2.1633e-02,  6.2552e-02,\n",
              "           4.1507e-03, -1.2617e-01,  7.0273e-02, -4.6357e-02, -1.8880e-01,\n",
              "           1.8569e-01, -9.2176e-02, -1.6681e-01,  1.6666e-01, -4.2511e-04,\n",
              "           7.4687e-03,  1.5884e-01, -1.4094e-01,  3.7579e-01, -1.0083e-04,\n",
              "           1.2269e-01, -2.0419e-02, -8.1796e-02,  1.5660e-01, -1.6213e-02,\n",
              "          -2.3037e-01, -6.7924e-02,  1.0811e-01,  1.1006e-01,  2.6562e-02],\n",
              "         [ 5.7720e-02, -2.3591e-02,  4.5249e-02, -1.2951e-01, -1.8456e-16,\n",
              "          -6.3280e-13,  7.3984e-11, -1.0140e-39, -2.5950e-02,  2.1702e-23,\n",
              "          -6.8728e-05, -2.1424e-02, -2.5863e-02, -3.5407e-02,  2.4937e-39,\n",
              "           1.5364e-39, -1.5474e-02, -1.1175e-39,  1.9185e-39, -3.3071e-40,\n",
              "           7.1263e-02,  8.6058e-02, -1.0550e-01, -1.7020e-01, -8.6164e-13,\n",
              "          -7.3708e-04,  2.7532e-06, -2.9560e-20, -1.4370e-06, -4.0320e-18],\n",
              "         [-1.7174e-39,  8.2447e-40, -3.5543e-39,  2.7015e-39, -7.4597e-40,\n",
              "           6.0502e-39,  5.2667e-39,  3.4834e-39,  4.8591e-39, -4.4210e-39,\n",
              "           1.3333e-39, -2.7349e-12, -7.1510e-09, -4.2943e-39,  2.3305e-39,\n",
              "          -5.6563e-39, -2.6062e-39,  4.4178e-39,  3.1428e-39, -2.2020e-40,\n",
              "          -8.4651e-40,  1.2432e-39,  3.9509e-39, -1.2359e-27, -4.8249e-40,\n",
              "          -4.3487e-40,  5.2626e-40,  6.3292e-39, -3.7521e-39, -6.7897e-39]],\n",
              "        requires_grad=True), Parameter containing:\n",
              " tensor([-1.9341e-01,  2.6181e-01, -2.5404e-01, -2.5530e-01, -7.7916e-01,\n",
              "          1.8486e-01,  1.8018e-01, -2.7250e-01, -3.6496e-01,  4.2711e-01,\n",
              "         -2.6916e-01,  4.3218e-01, -2.8721e-01, -4.0475e-02, -1.1200e-03,\n",
              "         -3.8431e-39], requires_grad=True), Parameter containing:\n",
              " tensor([[-1.8813e-02, -2.5119e-02, -1.4728e-02,  4.1630e-02, -2.6735e-02,\n",
              "          -5.9168e-03, -1.8664e-02,  6.0394e-39, -1.5580e-01, -1.8339e-01,\n",
              "          -2.0228e-01,  5.6869e-02,  1.6621e-01,  2.1726e-01,  3.4539e-02,\n",
              "          -2.1995e-39],\n",
              "         [ 3.2775e-02, -1.6825e-01,  6.9561e-02,  2.2063e-03,  2.7287e-02,\n",
              "           1.3642e-01,  5.4474e-39, -1.0806e-39,  1.1399e-02, -2.7053e-01,\n",
              "          -4.9412e-02, -5.5823e-02, -1.6503e-01,  2.3137e-01,  6.1077e-39,\n",
              "           6.0359e-39],\n",
              "         [ 2.3770e-01, -4.7777e-02,  1.5771e-01,  1.5400e-01,  3.6831e-01,\n",
              "          -1.0343e-01, -4.5595e-02, -8.1411e-02,  2.3875e-01,  5.0282e-02,\n",
              "          -1.0068e-03, -4.5565e-03,  2.2214e-01,  8.7794e-02,  6.6199e-02,\n",
              "          -7.1819e-03],\n",
              "         [-1.0760e-01,  8.1691e-02,  4.1414e-02, -2.0011e-01, -4.7197e-02,\n",
              "           5.8975e-02,  2.9484e-02, -5.9404e-02,  1.9605e-01,  8.5458e-02,\n",
              "          -3.0402e-01,  2.8646e-01,  1.6312e-01,  1.3942e-01,  9.9777e-02,\n",
              "           1.0746e-02],\n",
              "         [ 1.2719e-01, -3.6964e-03, -3.9682e-04, -2.4960e-01,  6.0291e-02,\n",
              "          -4.3621e-01,  1.2729e-01,  2.5283e-01,  3.6140e-02,  1.0296e-02,\n",
              "          -2.1060e-01,  1.1386e-01, -6.7995e-02, -7.9920e-02, -8.5177e-02,\n",
              "          -2.6791e-27],\n",
              "         [ 1.0392e-01, -4.1122e-02,  4.0346e-03, -1.6217e-01, -8.4188e-02,\n",
              "           6.1457e-02, -6.6810e-40,  1.0492e-39, -8.2011e-02, -1.0803e-01,\n",
              "          -1.0270e-01,  1.3097e-01, -1.8260e-01,  8.4811e-02,  2.9123e-04,\n",
              "          -2.7880e-39],\n",
              "         [-1.3022e-01, -4.3800e-02,  5.4074e-02, -1.2417e-02,  1.7383e-01,\n",
              "           1.5241e-01,  4.7640e-02, -1.2493e-01, -1.3707e-01, -2.0590e-01,\n",
              "           9.4475e-02,  1.0357e-02,  2.1247e-01,  2.2797e-01,  5.2271e-02,\n",
              "          -6.0355e-09],\n",
              "         [ 1.0946e-01, -2.5932e-02, -1.3211e-01, -8.0099e-02, -3.0367e-01,\n",
              "           1.2754e-01, -1.6058e-01, -1.6835e-01, -6.6171e-02,  1.3763e-01,\n",
              "           7.2288e-02,  6.2016e-02, -8.8357e-02, -1.6469e-01,  1.5951e-39,\n",
              "          -2.9095e-39],\n",
              "         [-1.1968e-01,  1.8411e-01, -1.7464e-01, -9.9584e-02,  1.6897e-01,\n",
              "           1.2427e-01,  1.3458e-01,  1.2377e-01, -8.8851e-02, -1.4644e-01,\n",
              "           7.6988e-02,  8.6178e-02, -5.9482e-02,  2.0040e-01, -1.1642e-01,\n",
              "           7.2277e-10],\n",
              "         [ 1.8612e-01,  1.1685e-01, -1.3938e-01,  9.3189e-02, -1.2656e-01,\n",
              "           6.2774e-02,  1.8443e-01, -2.2732e-01, -1.1824e-01,  2.0196e-01,\n",
              "          -2.2138e-01, -3.1760e-02, -9.4143e-02, -5.3718e-02,  1.0530e-02,\n",
              "          -9.9435e-03],\n",
              "         [ 6.4049e-02, -9.0095e-02, -6.5827e-02, -4.5101e-01, -3.5725e-01,\n",
              "          -6.1063e-03,  5.5985e-03, -3.2506e-02, -3.3024e-02, -5.1167e-02,\n",
              "           1.8394e-01, -3.8401e-02,  2.0223e-01,  1.3408e-01,  2.2407e-02,\n",
              "           1.5376e-03],\n",
              "         [ 1.1265e-01, -3.9305e-02, -1.8114e-01,  1.1071e-01, -3.7659e-02,\n",
              "           1.7357e-01, -2.0028e-39, -7.0472e-39, -2.7571e-01, -6.2610e-02,\n",
              "          -7.1407e-02,  1.5813e-01, -1.2045e-01, -2.1628e-01,  4.9139e-03,\n",
              "           2.5229e-39],\n",
              "         [ 9.9727e-02, -7.9254e-02,  7.6331e-02, -1.5256e-01, -8.9564e-02,\n",
              "          -4.0112e-01,  7.0150e-02,  4.6596e-02,  1.8510e-01, -5.3529e-02,\n",
              "           1.4884e-01,  1.3485e-01,  5.2735e-02, -1.4861e-01, -1.0636e-02,\n",
              "          -2.8871e-03],\n",
              "         [-1.3480e-01,  2.4961e-01,  4.9590e-02, -6.9143e-02, -1.8351e-01,\n",
              "           5.7848e-02, -1.6298e-01,  9.4816e-02, -1.1059e-01,  3.5749e-02,\n",
              "           3.3302e-02,  9.4476e-02, -3.9479e-02,  3.6580e-02, -7.2727e-02,\n",
              "          -1.4664e-39],\n",
              "         [-9.6166e-03,  2.0299e-01,  5.1724e-02, -4.8205e-02, -1.2278e-01,\n",
              "          -6.1921e-02, -1.4862e-01, -9.2523e-03, -1.9684e-01,  1.6312e-01,\n",
              "           1.7246e-01,  2.1061e-02, -1.3042e-01, -2.3517e-01, -5.2240e-39,\n",
              "          -1.8118e-39],\n",
              "         [-1.7458e-02, -4.0691e-03,  1.1293e-02, -8.5153e-03,  5.1474e-03,\n",
              "          -1.0835e-03, -7.0239e-03, -1.1294e-02, -5.0175e-02, -4.8400e-02,\n",
              "          -1.6497e-02, -2.3168e-03, -5.8774e-02, -5.9932e-03, -5.0867e-39,\n",
              "          -2.7407e-39]], requires_grad=True), Parameter containing:\n",
              " tensor([-6.1439e-02, -2.6638e-01, -8.4273e-01,  5.2544e-01, -2.7400e-01,\n",
              "         -1.5945e-01, -1.2608e-01, -1.0810e-01,  1.0179e-01,  5.7229e-01,\n",
              "          3.4116e-01,  3.9444e-02, -5.7524e-01,  4.3212e-01,  1.9714e-01,\n",
              "          3.0164e-05], requires_grad=True), Parameter containing:\n",
              " tensor([[-0.1063, -0.1010, -0.1064,  0.1406, -0.0110, -0.0162, -0.1398, -0.0056,\n",
              "           0.1396,  0.2379,  0.1346,  0.1638, -0.0621,  0.2022,  0.0874, -0.0110]],\n",
              "        requires_grad=True), Parameter containing:\n",
              " tensor([0.7401], requires_grad=True)]"
            ]
          },
          "metadata": {},
          "execution_count": 35
        }
      ]
    },
    {
      "cell_type": "code",
      "metadata": {
        "id": "TaU6bV7lrusK",
        "colab": {
          "base_uri": "https://localhost:8080/"
        },
        "outputId": "824a8776-95c9-4f9a-f097-b7d079d560b1"
      },
      "source": [
        "# 30 -> 16 -> 16 -> 1\n",
        "pesos0 = params[0]\n",
        "pesos0.shape"
      ],
      "execution_count": 36,
      "outputs": [
        {
          "output_type": "execute_result",
          "data": {
            "text/plain": [
              "torch.Size([16, 30])"
            ]
          },
          "metadata": {},
          "execution_count": 36
        }
      ]
    },
    {
      "cell_type": "code",
      "metadata": {
        "id": "JRIKPKKgr94O",
        "colab": {
          "base_uri": "https://localhost:8080/"
        },
        "outputId": "3c5ff327-a50c-49da-ce0b-d057e710adde"
      },
      "source": [
        "print(pesos0)"
      ],
      "execution_count": 37,
      "outputs": [
        {
          "output_type": "stream",
          "name": "stdout",
          "text": [
            "Parameter containing:\n",
            "tensor([[-7.0383e-02, -1.1207e-01, -1.8798e-01,  4.7441e-02, -1.5485e-01,\n",
            "          9.5234e-02, -1.3539e-01, -1.2362e-01, -2.2592e-01,  1.7398e-01,\n",
            "         -2.5586e-02,  6.2692e-02, -1.2015e-01, -1.0582e-01,  2.0913e-03,\n",
            "         -2.3384e-01, -3.8969e-01, -3.4844e-02,  9.7729e-02,  5.4830e-03,\n",
            "          1.3914e-01, -8.6065e-02, -5.0620e-02,  1.3179e-01,  4.8892e-01,\n",
            "          1.4548e-01, -1.8037e-01,  5.7787e-02,  2.9666e-01,  4.4511e-02],\n",
            "        [ 1.9552e-01,  2.0509e-01,  2.8965e-01,  1.0102e-01, -1.3337e-01,\n",
            "         -8.4264e-02, -7.1298e-02, -1.3671e-01, -2.9883e-02,  2.9008e-01,\n",
            "         -6.3485e-02, -9.0179e-02, -7.8924e-03,  1.6774e-01, -4.7917e-03,\n",
            "         -8.9527e-02, -1.1098e-02,  2.1501e-01,  7.8884e-02, -1.5008e-02,\n",
            "          9.8590e-02,  5.6942e-02,  1.9170e-01,  8.7883e-03, -1.6901e-02,\n",
            "         -2.4835e-01, -1.8176e-01, -1.6588e-02, -6.7060e-02, -1.6873e-01],\n",
            "        [-1.2614e-02, -6.0502e-02, -2.5585e-01, -1.1376e-01, -2.0406e-02,\n",
            "          4.9432e-02,  2.2920e-02,  6.4218e-03, -9.8708e-02,  2.8596e-01,\n",
            "          1.6826e-01,  8.7227e-02, -1.0356e-01,  4.5746e-02, -3.8438e-04,\n",
            "         -2.9713e-01,  2.8212e-02,  8.4174e-04,  2.5659e-01,  1.5239e-04,\n",
            "          3.6657e-02, -1.9822e-01, -8.9969e-02, -1.3301e-02, -2.6352e-01,\n",
            "         -1.2643e-01, -1.7710e-01,  1.1234e-01,  2.1271e-02, -1.6594e-02],\n",
            "        [-3.7317e-01,  3.4460e-02, -1.5399e-01,  9.0903e-02, -1.9045e-01,\n",
            "         -2.0861e-02,  3.9724e-03,  5.2567e-02,  1.3893e-01, -2.4761e-01,\n",
            "          1.9021e-01, -1.4930e-01,  3.7416e-02,  1.4523e-02,  3.5265e-03,\n",
            "          5.1122e-02,  2.2829e-02, -2.5190e-02,  1.3080e-01,  9.3842e-03,\n",
            "          5.7900e-02, -1.6485e-01, -7.7310e-02,  1.5241e-02,  2.3652e-01,\n",
            "          8.2461e-02,  2.7094e-02,  2.4607e-01,  1.0891e-01,  3.9533e-01],\n",
            "        [-4.3508e-01, -3.8370e-02, -1.3850e-01, -1.3715e-01,  3.6878e-01,\n",
            "          3.1960e-02,  1.3028e-01, -3.2015e-01, -2.8867e-01,  2.2771e-01,\n",
            "         -1.8228e-01,  2.7783e-02, -1.6565e-02,  7.1932e-02,  4.3032e-02,\n",
            "         -3.5199e-01, -3.0023e-01, -2.5903e-01,  3.4283e-01,  2.3701e-01,\n",
            "         -2.9612e-01, -7.8129e-03, -1.7086e-01,  2.4336e-01, -5.0045e-03,\n",
            "         -8.1797e-02, -4.2691e-01, -1.0886e-01,  4.1323e-03,  4.9770e-01],\n",
            "        [ 2.0916e-02, -2.6186e-02,  1.0456e-01,  1.0716e-01,  7.9045e-02,\n",
            "          4.2927e-01, -6.6046e-02,  3.1736e-01,  2.2862e-01, -8.7850e-02,\n",
            "          1.4395e-01,  1.6048e-01, -1.0696e-01,  1.3695e-01, -1.6639e-04,\n",
            "          3.4716e-01,  1.8848e-01,  1.2082e-01, -2.5931e-01, -9.1797e-02,\n",
            "          2.3766e-02, -1.9461e-01,  2.9728e-02, -2.6262e-02, -1.8447e-01,\n",
            "         -1.8080e-02, -7.2301e-02,  2.5421e-01,  6.7575e-02, -2.6181e-01],\n",
            "        [-4.7724e-03,  2.2531e-02,  3.0143e-01, -1.1834e-01, -2.3139e-01,\n",
            "         -5.3677e-01, -1.8959e-02, -3.4113e-02,  2.3365e-01,  2.1578e-02,\n",
            "         -1.0405e-01, -2.3929e-01,  6.0172e-02,  5.4171e-02, -3.5699e-03,\n",
            "         -2.5822e-02,  7.9013e-02, -8.0947e-03,  2.9393e-01, -6.2168e-03,\n",
            "          1.0731e-02, -6.9124e-02,  2.0091e-01, -9.8961e-02, -2.9150e-01,\n",
            "          1.2286e-01,  2.2048e-01, -2.0782e-01, -2.5405e-01,  5.1682e-02],\n",
            "        [-2.8560e-01, -1.1216e-02, -1.3370e-01, -1.6843e-01,  3.4088e-01,\n",
            "         -3.6058e-02, -1.2441e-02, -1.2990e-02, -4.8514e-02, -4.7762e-02,\n",
            "         -8.8669e-02, -1.0988e-01,  6.8693e-02,  1.0435e-01,  4.4931e-03,\n",
            "          2.1965e-02, -1.0721e-01,  1.4505e-02, -2.8170e-01,  8.7534e-03,\n",
            "         -2.0791e-01,  8.6035e-02, -2.9097e-01,  9.8197e-02, -4.8123e-02,\n",
            "         -2.9864e-01,  2.3198e-02,  1.3877e-01, -3.7007e-02,  5.2365e-02],\n",
            "        [ 8.6452e-02, -1.5034e-01, -3.8471e-01, -4.1756e-02,  3.7453e-01,\n",
            "          1.4232e-01, -3.9224e-01, -8.9898e-02,  1.0733e-01,  2.0587e-01,\n",
            "          1.6935e-01, -2.7264e-02,  1.1050e-01,  1.1048e-01,  6.8602e-03,\n",
            "         -1.4605e-01,  5.1929e-03, -2.9226e-01,  4.1046e-01, -1.7204e-02,\n",
            "         -2.5026e-01, -3.9692e-02, -2.9700e-01,  2.0695e-01, -4.2917e-02,\n",
            "          1.8966e-01, -7.5964e-02,  2.0481e-01,  1.0087e-01,  2.6888e-01],\n",
            "        [-2.5759e-02,  1.3903e-01,  2.8746e-01,  1.5369e-02, -3.2915e-01,\n",
            "         -1.2901e-01, -7.4212e-02,  1.8196e-01,  5.0133e-02,  1.3157e-01,\n",
            "          1.1398e-01, -1.7124e-01,  1.5250e-01, -1.7104e-01, -7.6353e-03,\n",
            "          3.0654e-02,  1.6510e-01,  1.5102e-01,  1.3532e-01, -1.9868e-01,\n",
            "          1.8676e-01, -1.5145e-01,  3.0912e-01, -7.7852e-02,  1.3066e-01,\n",
            "          4.8168e-03,  5.1687e-03, -8.8670e-02,  9.5144e-02, -1.4413e-01],\n",
            "        [-1.3562e-01, -3.1367e-02,  4.4753e-02,  1.9379e-02, -4.8889e-02,\n",
            "         -1.0130e-01, -1.5139e-01, -1.2739e-01,  2.6024e-01,  4.5222e-02,\n",
            "         -1.1497e-01,  5.5364e-02, -1.1341e-01,  1.7185e-01, -5.9630e-03,\n",
            "         -1.0512e-01, -7.2838e-02, -3.5486e-01, -1.2362e-01, -3.3540e-03,\n",
            "         -1.9725e-01, -7.7647e-02,  5.5423e-02,  1.2792e-01,  3.1162e-01,\n",
            "         -1.6743e-01,  3.1076e-01,  2.1415e-01, -1.3519e-01, -2.3464e-02],\n",
            "        [ 6.8566e-02, -1.5809e-03,  1.2835e-01,  1.4269e-01, -4.9033e-02,\n",
            "          2.2894e-01, -1.1436e-01,  2.6469e-01,  2.0318e-01, -8.9571e-02,\n",
            "          1.0834e-02,  8.8261e-02, -1.7440e-02, -3.2165e-01, -1.3891e-02,\n",
            "          3.8038e-01,  9.8336e-04,  3.4337e-01, -2.3703e-01, -1.8573e-01,\n",
            "          2.0542e-01, -3.6169e-02,  3.0218e-01, -1.3700e-01, -2.2217e-01,\n",
            "          1.8199e-01,  3.7825e-02,  7.2431e-02,  1.3914e-01, -4.5849e-01],\n",
            "        [ 1.1818e-01,  6.2075e-02, -2.5917e-01, -6.1647e-02,  1.5233e-01,\n",
            "          1.9723e-01,  2.7136e-01,  1.5148e-02, -8.9745e-02, -2.5162e-01,\n",
            "          1.2327e-01, -4.1601e-02,  1.1085e-01,  6.8346e-02, -4.1019e-03,\n",
            "         -5.2333e-02,  3.4552e-03,  2.3004e-02, -2.8193e-01,  1.5704e-01,\n",
            "          6.1684e-02,  1.5523e-01, -2.5576e-02,  4.2079e-02, -4.5138e-02,\n",
            "          1.2932e-01,  2.5061e-02, -2.5107e-01,  7.9434e-02,  1.1459e-01],\n",
            "        [ 9.0150e-02, -1.0271e-01, -1.0228e-01,  2.1633e-02,  6.2552e-02,\n",
            "          4.1507e-03, -1.2617e-01,  7.0273e-02, -4.6357e-02, -1.8880e-01,\n",
            "          1.8569e-01, -9.2176e-02, -1.6681e-01,  1.6666e-01, -4.2511e-04,\n",
            "          7.4687e-03,  1.5884e-01, -1.4094e-01,  3.7579e-01, -1.0083e-04,\n",
            "          1.2269e-01, -2.0419e-02, -8.1796e-02,  1.5660e-01, -1.6213e-02,\n",
            "         -2.3037e-01, -6.7924e-02,  1.0811e-01,  1.1006e-01,  2.6562e-02],\n",
            "        [ 5.7720e-02, -2.3591e-02,  4.5249e-02, -1.2951e-01, -1.8456e-16,\n",
            "         -6.3280e-13,  7.3984e-11, -1.0140e-39, -2.5950e-02,  2.1702e-23,\n",
            "         -6.8728e-05, -2.1424e-02, -2.5863e-02, -3.5407e-02,  2.4937e-39,\n",
            "          1.5364e-39, -1.5474e-02, -1.1175e-39,  1.9185e-39, -3.3071e-40,\n",
            "          7.1263e-02,  8.6058e-02, -1.0550e-01, -1.7020e-01, -8.6164e-13,\n",
            "         -7.3708e-04,  2.7532e-06, -2.9560e-20, -1.4370e-06, -4.0320e-18],\n",
            "        [-1.7174e-39,  8.2447e-40, -3.5543e-39,  2.7015e-39, -7.4597e-40,\n",
            "          6.0502e-39,  5.2667e-39,  3.4834e-39,  4.8591e-39, -4.4210e-39,\n",
            "          1.3333e-39, -2.7349e-12, -7.1510e-09, -4.2943e-39,  2.3305e-39,\n",
            "         -5.6563e-39, -2.6062e-39,  4.4178e-39,  3.1428e-39, -2.2020e-40,\n",
            "         -8.4651e-40,  1.2432e-39,  3.9509e-39, -1.2359e-27, -4.8249e-40,\n",
            "         -4.3487e-40,  5.2626e-40,  6.3292e-39, -3.7521e-39, -6.7897e-39]],\n",
            "       requires_grad=True)\n"
          ]
        }
      ]
    },
    {
      "cell_type": "code",
      "metadata": {
        "id": "q42zQLHFsIWC",
        "colab": {
          "base_uri": "https://localhost:8080/"
        },
        "outputId": "937e582f-0e60-430f-c449-2321ae195ffb"
      },
      "source": [
        "# 30 -> 16 -> 16 -> 1\n",
        "bias0 = params[1]\n",
        "bias0.shape"
      ],
      "execution_count": 38,
      "outputs": [
        {
          "output_type": "execute_result",
          "data": {
            "text/plain": [
              "torch.Size([16])"
            ]
          },
          "metadata": {},
          "execution_count": 38
        }
      ]
    },
    {
      "cell_type": "code",
      "metadata": {
        "id": "3IWG8GFjsTr5",
        "colab": {
          "base_uri": "https://localhost:8080/"
        },
        "outputId": "efde6129-7c55-4a54-f6f9-b9f21d171c40"
      },
      "source": [
        "pesos1 = params[2]\n",
        "pesos1.shape"
      ],
      "execution_count": 39,
      "outputs": [
        {
          "output_type": "execute_result",
          "data": {
            "text/plain": [
              "torch.Size([16, 16])"
            ]
          },
          "metadata": {},
          "execution_count": 39
        }
      ]
    },
    {
      "cell_type": "code",
      "metadata": {
        "id": "yfgtWyWrsbbY",
        "colab": {
          "base_uri": "https://localhost:8080/"
        },
        "outputId": "a4f2bfc4-9050-4d01-b2d5-74e03c60a0e3"
      },
      "source": [
        "bias1 = params[3]\n",
        "bias1.shape"
      ],
      "execution_count": 40,
      "outputs": [
        {
          "output_type": "execute_result",
          "data": {
            "text/plain": [
              "torch.Size([16])"
            ]
          },
          "metadata": {},
          "execution_count": 40
        }
      ]
    },
    {
      "cell_type": "markdown",
      "metadata": {
        "id": "AyTjLzELSdQF"
      },
      "source": [
        "## Etapa 7: Avaliação do modelo"
      ]
    },
    {
      "cell_type": "code",
      "metadata": {
        "id": "ZafmlssFs5SG",
        "colab": {
          "base_uri": "https://localhost:8080/"
        },
        "outputId": "1dc40fdc-6082-44ee-c6ff-40992c8b1a1e"
      },
      "source": [
        "classificador.eval()"
      ],
      "execution_count": 41,
      "outputs": [
        {
          "output_type": "execute_result",
          "data": {
            "text/plain": [
              "Sequential(\n",
              "  (0): Linear(in_features=30, out_features=16, bias=True)\n",
              "  (1): ReLU()\n",
              "  (2): Linear(in_features=16, out_features=16, bias=True)\n",
              "  (3): ReLU()\n",
              "  (4): Linear(in_features=16, out_features=1, bias=True)\n",
              "  (5): Sigmoid()\n",
              ")"
            ]
          },
          "metadata": {},
          "execution_count": 41
        }
      ]
    },
    {
      "cell_type": "code",
      "metadata": {
        "id": "7C3BgZGGtJvp",
        "colab": {
          "base_uri": "https://localhost:8080/"
        },
        "outputId": "6c1abb7d-866b-44f2-f184-638c6498040b"
      },
      "source": [
        "type(previsores_teste)"
      ],
      "execution_count": 42,
      "outputs": [
        {
          "output_type": "execute_result",
          "data": {
            "text/plain": [
              "pandas.core.frame.DataFrame"
            ]
          },
          "metadata": {},
          "execution_count": 42
        }
      ]
    },
    {
      "cell_type": "code",
      "metadata": {
        "id": "PuL49MUEtOrh"
      },
      "source": [
        "previsores_teste = torch.tensor(np.array(previsores_teste), dtype=torch.float)"
      ],
      "execution_count": 43,
      "outputs": []
    },
    {
      "cell_type": "code",
      "metadata": {
        "id": "LmAqJEHHtZNC",
        "colab": {
          "base_uri": "https://localhost:8080/"
        },
        "outputId": "9bc27788-4244-4b48-dfd0-aab74fa8f3ba"
      },
      "source": [
        "type(previsores_teste)"
      ],
      "execution_count": 44,
      "outputs": [
        {
          "output_type": "execute_result",
          "data": {
            "text/plain": [
              "torch.Tensor"
            ]
          },
          "metadata": {},
          "execution_count": 44
        }
      ]
    },
    {
      "cell_type": "code",
      "metadata": {
        "id": "Fe8muTxbtc1G"
      },
      "source": [
        "previsoes = classificador.forward(previsores_teste)"
      ],
      "execution_count": 45,
      "outputs": []
    },
    {
      "cell_type": "code",
      "metadata": {
        "id": "fn0leHiAtqpx",
        "colab": {
          "base_uri": "https://localhost:8080/"
        },
        "outputId": "5a64461d-522d-4745-e5a7-d0c857c3929e"
      },
      "source": [
        "previsoes"
      ],
      "execution_count": 46,
      "outputs": [
        {
          "output_type": "execute_result",
          "data": {
            "text/plain": [
              "tensor([[9.9371e-01],\n",
              "        [1.0000e+00],\n",
              "        [3.3997e-01],\n",
              "        [9.3340e-01],\n",
              "        [9.9176e-05],\n",
              "        [8.6613e-01],\n",
              "        [9.5547e-01],\n",
              "        [9.9993e-01],\n",
              "        [7.1825e-01],\n",
              "        [5.9808e-01],\n",
              "        [9.2256e-01],\n",
              "        [9.9886e-01],\n",
              "        [6.4834e-01],\n",
              "        [9.9558e-01],\n",
              "        [9.9420e-01],\n",
              "        [8.4850e-01],\n",
              "        [9.9625e-01],\n",
              "        [1.0000e+00],\n",
              "        [3.1264e-01],\n",
              "        [9.9704e-01],\n",
              "        [2.0332e-10],\n",
              "        [6.7907e-03],\n",
              "        [5.9872e-01],\n",
              "        [1.0000e+00],\n",
              "        [9.1318e-01],\n",
              "        [4.3040e-03],\n",
              "        [7.8452e-01],\n",
              "        [9.9998e-01],\n",
              "        [1.0973e-04],\n",
              "        [9.9773e-01],\n",
              "        [5.1014e-01],\n",
              "        [9.9999e-01],\n",
              "        [9.3493e-01],\n",
              "        [9.8663e-01],\n",
              "        [3.8277e-01],\n",
              "        [9.9741e-01],\n",
              "        [6.2128e-01],\n",
              "        [9.9835e-01],\n",
              "        [9.9550e-01],\n",
              "        [3.2027e-05],\n",
              "        [5.0828e-03],\n",
              "        [9.1321e-01],\n",
              "        [3.9460e-08],\n",
              "        [4.0570e-01],\n",
              "        [4.7972e-05],\n",
              "        [7.7952e-01],\n",
              "        [1.7163e-04],\n",
              "        [5.1326e-32],\n",
              "        [7.3683e-01],\n",
              "        [2.0233e-02],\n",
              "        [9.8078e-01],\n",
              "        [2.1581e-15],\n",
              "        [9.7857e-01],\n",
              "        [9.6439e-01],\n",
              "        [9.9535e-01],\n",
              "        [6.2591e-01],\n",
              "        [9.9985e-01],\n",
              "        [5.5036e-08],\n",
              "        [3.6348e-06],\n",
              "        [9.7389e-01],\n",
              "        [1.0323e-04],\n",
              "        [9.9866e-01],\n",
              "        [9.9340e-01],\n",
              "        [9.9707e-01],\n",
              "        [7.1056e-01],\n",
              "        [2.3504e-08],\n",
              "        [1.0000e+00],\n",
              "        [1.0000e+00],\n",
              "        [1.0000e+00],\n",
              "        [7.1895e-01],\n",
              "        [1.0000e+00],\n",
              "        [9.5777e-01],\n",
              "        [1.4631e-01],\n",
              "        [9.2042e-01],\n",
              "        [5.6720e-04],\n",
              "        [9.9852e-01],\n",
              "        [9.5275e-01],\n",
              "        [2.5342e-10],\n",
              "        [4.9488e-06],\n",
              "        [5.1878e-01],\n",
              "        [9.0045e-01],\n",
              "        [7.5797e-06],\n",
              "        [2.2906e-07],\n",
              "        [9.9330e-01],\n",
              "        [1.0000e+00],\n",
              "        [1.0000e+00],\n",
              "        [1.2418e-01],\n",
              "        [9.9536e-01],\n",
              "        [1.3962e-03],\n",
              "        [8.2043e-01],\n",
              "        [1.5447e-02],\n",
              "        [9.7082e-01],\n",
              "        [9.8166e-01],\n",
              "        [4.4121e-02],\n",
              "        [9.9635e-01],\n",
              "        [9.9995e-01],\n",
              "        [9.9970e-01],\n",
              "        [9.9808e-01],\n",
              "        [1.1210e-02],\n",
              "        [1.0000e+00],\n",
              "        [9.9993e-01],\n",
              "        [1.0000e+00],\n",
              "        [9.9678e-01],\n",
              "        [9.7449e-01],\n",
              "        [9.1356e-01],\n",
              "        [1.0000e+00],\n",
              "        [1.0000e+00],\n",
              "        [9.9481e-01],\n",
              "        [1.0000e+00],\n",
              "        [9.9711e-01],\n",
              "        [1.0000e+00],\n",
              "        [9.9981e-01],\n",
              "        [8.5977e-01],\n",
              "        [6.4507e-06],\n",
              "        [9.3014e-01],\n",
              "        [2.0478e-04],\n",
              "        [9.9829e-01],\n",
              "        [5.4711e-04],\n",
              "        [9.9794e-01],\n",
              "        [9.9608e-01],\n",
              "        [9.2385e-01],\n",
              "        [7.3728e-01],\n",
              "        [9.9932e-01],\n",
              "        [9.9934e-01],\n",
              "        [1.7709e-07],\n",
              "        [9.9384e-01],\n",
              "        [1.0269e-02],\n",
              "        [3.6052e-01],\n",
              "        [1.0000e+00],\n",
              "        [9.6261e-01],\n",
              "        [6.6375e-10],\n",
              "        [9.0545e-01],\n",
              "        [1.0000e+00],\n",
              "        [1.7789e-02],\n",
              "        [1.7752e-07],\n",
              "        [9.6538e-01],\n",
              "        [9.9073e-01],\n",
              "        [9.9973e-01],\n",
              "        [6.4179e-02],\n",
              "        [1.2121e-05],\n",
              "        [6.3587e-06],\n",
              "        [9.9473e-01],\n",
              "        [9.7111e-12]], grad_fn=<SigmoidBackward0>)"
            ]
          },
          "metadata": {},
          "execution_count": 46
        }
      ]
    },
    {
      "cell_type": "code",
      "metadata": {
        "id": "MzALzgDet3Hr",
        "colab": {
          "base_uri": "https://localhost:8080/"
        },
        "outputId": "6a04324f-4abe-42da-94cc-d09145d90cb5"
      },
      "source": [
        "previsoes = np.array(previsoes > 0.5)\n",
        "previsoes"
      ],
      "execution_count": 47,
      "outputs": [
        {
          "output_type": "execute_result",
          "data": {
            "text/plain": [
              "array([[ True],\n",
              "       [ True],\n",
              "       [False],\n",
              "       [ True],\n",
              "       [False],\n",
              "       [ True],\n",
              "       [ True],\n",
              "       [ True],\n",
              "       [ True],\n",
              "       [ True],\n",
              "       [ True],\n",
              "       [ True],\n",
              "       [ True],\n",
              "       [ True],\n",
              "       [ True],\n",
              "       [ True],\n",
              "       [ True],\n",
              "       [ True],\n",
              "       [False],\n",
              "       [ True],\n",
              "       [False],\n",
              "       [False],\n",
              "       [ True],\n",
              "       [ True],\n",
              "       [ True],\n",
              "       [False],\n",
              "       [ True],\n",
              "       [ True],\n",
              "       [False],\n",
              "       [ True],\n",
              "       [ True],\n",
              "       [ True],\n",
              "       [ True],\n",
              "       [ True],\n",
              "       [False],\n",
              "       [ True],\n",
              "       [ True],\n",
              "       [ True],\n",
              "       [ True],\n",
              "       [False],\n",
              "       [False],\n",
              "       [ True],\n",
              "       [False],\n",
              "       [False],\n",
              "       [False],\n",
              "       [ True],\n",
              "       [False],\n",
              "       [False],\n",
              "       [ True],\n",
              "       [False],\n",
              "       [ True],\n",
              "       [False],\n",
              "       [ True],\n",
              "       [ True],\n",
              "       [ True],\n",
              "       [ True],\n",
              "       [ True],\n",
              "       [False],\n",
              "       [False],\n",
              "       [ True],\n",
              "       [False],\n",
              "       [ True],\n",
              "       [ True],\n",
              "       [ True],\n",
              "       [ True],\n",
              "       [False],\n",
              "       [ True],\n",
              "       [ True],\n",
              "       [ True],\n",
              "       [ True],\n",
              "       [ True],\n",
              "       [ True],\n",
              "       [False],\n",
              "       [ True],\n",
              "       [False],\n",
              "       [ True],\n",
              "       [ True],\n",
              "       [False],\n",
              "       [False],\n",
              "       [ True],\n",
              "       [ True],\n",
              "       [False],\n",
              "       [False],\n",
              "       [ True],\n",
              "       [ True],\n",
              "       [ True],\n",
              "       [False],\n",
              "       [ True],\n",
              "       [False],\n",
              "       [ True],\n",
              "       [False],\n",
              "       [ True],\n",
              "       [ True],\n",
              "       [False],\n",
              "       [ True],\n",
              "       [ True],\n",
              "       [ True],\n",
              "       [ True],\n",
              "       [False],\n",
              "       [ True],\n",
              "       [ True],\n",
              "       [ True],\n",
              "       [ True],\n",
              "       [ True],\n",
              "       [ True],\n",
              "       [ True],\n",
              "       [ True],\n",
              "       [ True],\n",
              "       [ True],\n",
              "       [ True],\n",
              "       [ True],\n",
              "       [ True],\n",
              "       [ True],\n",
              "       [False],\n",
              "       [ True],\n",
              "       [False],\n",
              "       [ True],\n",
              "       [False],\n",
              "       [ True],\n",
              "       [ True],\n",
              "       [ True],\n",
              "       [ True],\n",
              "       [ True],\n",
              "       [ True],\n",
              "       [False],\n",
              "       [ True],\n",
              "       [False],\n",
              "       [False],\n",
              "       [ True],\n",
              "       [ True],\n",
              "       [False],\n",
              "       [ True],\n",
              "       [ True],\n",
              "       [False],\n",
              "       [False],\n",
              "       [ True],\n",
              "       [ True],\n",
              "       [ True],\n",
              "       [False],\n",
              "       [False],\n",
              "       [False],\n",
              "       [ True],\n",
              "       [False]])"
            ]
          },
          "metadata": {},
          "execution_count": 47
        }
      ]
    },
    {
      "cell_type": "code",
      "metadata": {
        "id": "YVPFTbGeuSU5",
        "colab": {
          "base_uri": "https://localhost:8080/",
          "height": 424
        },
        "outputId": "9e04cf4c-2069-418b-92f9-0d5ef63a55be"
      },
      "source": [
        "classe_teste"
      ],
      "execution_count": 48,
      "outputs": [
        {
          "output_type": "execute_result",
          "data": {
            "text/html": [
              "\n",
              "  <div id=\"df-f36b9c6a-0016-42a1-a937-15f8d6a9b27d\">\n",
              "    <div class=\"colab-df-container\">\n",
              "      <div>\n",
              "<style scoped>\n",
              "    .dataframe tbody tr th:only-of-type {\n",
              "        vertical-align: middle;\n",
              "    }\n",
              "\n",
              "    .dataframe tbody tr th {\n",
              "        vertical-align: top;\n",
              "    }\n",
              "\n",
              "    .dataframe thead th {\n",
              "        text-align: right;\n",
              "    }\n",
              "</style>\n",
              "<table border=\"1\" class=\"dataframe\">\n",
              "  <thead>\n",
              "    <tr style=\"text-align: right;\">\n",
              "      <th></th>\n",
              "      <th>0</th>\n",
              "    </tr>\n",
              "  </thead>\n",
              "  <tbody>\n",
              "    <tr>\n",
              "      <th>333</th>\n",
              "      <td>1</td>\n",
              "    </tr>\n",
              "    <tr>\n",
              "      <th>273</th>\n",
              "      <td>1</td>\n",
              "    </tr>\n",
              "    <tr>\n",
              "      <th>201</th>\n",
              "      <td>0</td>\n",
              "    </tr>\n",
              "    <tr>\n",
              "      <th>178</th>\n",
              "      <td>1</td>\n",
              "    </tr>\n",
              "    <tr>\n",
              "      <th>85</th>\n",
              "      <td>0</td>\n",
              "    </tr>\n",
              "    <tr>\n",
              "      <th>...</th>\n",
              "      <td>...</td>\n",
              "    </tr>\n",
              "    <tr>\n",
              "      <th>230</th>\n",
              "      <td>0</td>\n",
              "    </tr>\n",
              "    <tr>\n",
              "      <th>282</th>\n",
              "      <td>0</td>\n",
              "    </tr>\n",
              "    <tr>\n",
              "      <th>535</th>\n",
              "      <td>0</td>\n",
              "    </tr>\n",
              "    <tr>\n",
              "      <th>436</th>\n",
              "      <td>1</td>\n",
              "    </tr>\n",
              "    <tr>\n",
              "      <th>236</th>\n",
              "      <td>0</td>\n",
              "    </tr>\n",
              "  </tbody>\n",
              "</table>\n",
              "<p>143 rows × 1 columns</p>\n",
              "</div>\n",
              "      <button class=\"colab-df-convert\" onclick=\"convertToInteractive('df-f36b9c6a-0016-42a1-a937-15f8d6a9b27d')\"\n",
              "              title=\"Convert this dataframe to an interactive table.\"\n",
              "              style=\"display:none;\">\n",
              "        \n",
              "  <svg xmlns=\"http://www.w3.org/2000/svg\" height=\"24px\"viewBox=\"0 0 24 24\"\n",
              "       width=\"24px\">\n",
              "    <path d=\"M0 0h24v24H0V0z\" fill=\"none\"/>\n",
              "    <path d=\"M18.56 5.44l.94 2.06.94-2.06 2.06-.94-2.06-.94-.94-2.06-.94 2.06-2.06.94zm-11 1L8.5 8.5l.94-2.06 2.06-.94-2.06-.94L8.5 2.5l-.94 2.06-2.06.94zm10 10l.94 2.06.94-2.06 2.06-.94-2.06-.94-.94-2.06-.94 2.06-2.06.94z\"/><path d=\"M17.41 7.96l-1.37-1.37c-.4-.4-.92-.59-1.43-.59-.52 0-1.04.2-1.43.59L10.3 9.45l-7.72 7.72c-.78.78-.78 2.05 0 2.83L4 21.41c.39.39.9.59 1.41.59.51 0 1.02-.2 1.41-.59l7.78-7.78 2.81-2.81c.8-.78.8-2.07 0-2.86zM5.41 20L4 18.59l7.72-7.72 1.47 1.35L5.41 20z\"/>\n",
              "  </svg>\n",
              "      </button>\n",
              "      \n",
              "  <style>\n",
              "    .colab-df-container {\n",
              "      display:flex;\n",
              "      flex-wrap:wrap;\n",
              "      gap: 12px;\n",
              "    }\n",
              "\n",
              "    .colab-df-convert {\n",
              "      background-color: #E8F0FE;\n",
              "      border: none;\n",
              "      border-radius: 50%;\n",
              "      cursor: pointer;\n",
              "      display: none;\n",
              "      fill: #1967D2;\n",
              "      height: 32px;\n",
              "      padding: 0 0 0 0;\n",
              "      width: 32px;\n",
              "    }\n",
              "\n",
              "    .colab-df-convert:hover {\n",
              "      background-color: #E2EBFA;\n",
              "      box-shadow: 0px 1px 2px rgba(60, 64, 67, 0.3), 0px 1px 3px 1px rgba(60, 64, 67, 0.15);\n",
              "      fill: #174EA6;\n",
              "    }\n",
              "\n",
              "    [theme=dark] .colab-df-convert {\n",
              "      background-color: #3B4455;\n",
              "      fill: #D2E3FC;\n",
              "    }\n",
              "\n",
              "    [theme=dark] .colab-df-convert:hover {\n",
              "      background-color: #434B5C;\n",
              "      box-shadow: 0px 1px 3px 1px rgba(0, 0, 0, 0.15);\n",
              "      filter: drop-shadow(0px 1px 2px rgba(0, 0, 0, 0.3));\n",
              "      fill: #FFFFFF;\n",
              "    }\n",
              "  </style>\n",
              "\n",
              "      <script>\n",
              "        const buttonEl =\n",
              "          document.querySelector('#df-f36b9c6a-0016-42a1-a937-15f8d6a9b27d button.colab-df-convert');\n",
              "        buttonEl.style.display =\n",
              "          google.colab.kernel.accessAllowed ? 'block' : 'none';\n",
              "\n",
              "        async function convertToInteractive(key) {\n",
              "          const element = document.querySelector('#df-f36b9c6a-0016-42a1-a937-15f8d6a9b27d');\n",
              "          const dataTable =\n",
              "            await google.colab.kernel.invokeFunction('convertToInteractive',\n",
              "                                                     [key], {});\n",
              "          if (!dataTable) return;\n",
              "\n",
              "          const docLinkHtml = 'Like what you see? Visit the ' +\n",
              "            '<a target=\"_blank\" href=https://colab.research.google.com/notebooks/data_table.ipynb>data table notebook</a>'\n",
              "            + ' to learn more about interactive tables.';\n",
              "          element.innerHTML = '';\n",
              "          dataTable['output_type'] = 'display_data';\n",
              "          await google.colab.output.renderOutput(dataTable, element);\n",
              "          const docLink = document.createElement('div');\n",
              "          docLink.innerHTML = docLinkHtml;\n",
              "          element.appendChild(docLink);\n",
              "        }\n",
              "      </script>\n",
              "    </div>\n",
              "  </div>\n",
              "  "
            ],
            "text/plain": [
              "     0\n",
              "333  1\n",
              "273  1\n",
              "201  0\n",
              "178  1\n",
              "85   0\n",
              "..  ..\n",
              "230  0\n",
              "282  0\n",
              "535  0\n",
              "436  1\n",
              "236  0\n",
              "\n",
              "[143 rows x 1 columns]"
            ]
          },
          "metadata": {},
          "execution_count": 48
        }
      ]
    },
    {
      "cell_type": "code",
      "metadata": {
        "id": "U7jfnFtZuNVn",
        "colab": {
          "base_uri": "https://localhost:8080/"
        },
        "outputId": "0c299523-55f3-4808-966f-f3445f07fb77"
      },
      "source": [
        "taxa_acerto = accuracy_score(classe_teste, previsoes)\n",
        "taxa_acerto"
      ],
      "execution_count": 49,
      "outputs": [
        {
          "output_type": "execute_result",
          "data": {
            "text/plain": [
              "0.8951048951048951"
            ]
          },
          "metadata": {},
          "execution_count": 49
        }
      ]
    },
    {
      "cell_type": "code",
      "metadata": {
        "id": "g0Z3LgbcutQD",
        "colab": {
          "base_uri": "https://localhost:8080/"
        },
        "outputId": "cdde6f79-91db-4ef8-c0a4-dc804c70d320"
      },
      "source": [
        "matriz = confusion_matrix(classe_teste, previsoes)\n",
        "matriz"
      ],
      "execution_count": 50,
      "outputs": [
        {
          "output_type": "execute_result",
          "data": {
            "text/plain": [
              "array([[42, 12],\n",
              "       [ 3, 86]])"
            ]
          },
          "metadata": {},
          "execution_count": 50
        }
      ]
    },
    {
      "cell_type": "code",
      "metadata": {
        "id": "BlaTftH_uzpv",
        "colab": {
          "base_uri": "https://localhost:8080/",
          "height": 265
        },
        "outputId": "e9f4c0ad-e4b5-4fc6-c5df-54f12e4f4f1a"
      },
      "source": [
        "sns.heatmap(matriz, annot=True);"
      ],
      "execution_count": 51,
      "outputs": [
        {
          "output_type": "display_data",
          "data": {
            "image/png": "[encoded data removed]",
            "text/plain": [
              "<Figure size 432x288 with 2 Axes>"
            ]
          },
          "metadata": {
            "needs_background": "light"
          }
        }
      ]
    }
  ]
}