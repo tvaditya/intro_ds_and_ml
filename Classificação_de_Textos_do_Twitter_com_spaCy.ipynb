{
  "nbformat": 4,
  "nbformat_minor": 0,
  "metadata": {
    "colab": {
      "name": "Classificação de Textos do Twitter com spaCy.ipynb",
      "provenance": [],
      "collapsed_sections": [],
      "include_colab_link": true
    },
    "kernelspec": {
      "name": "python3",
      "display_name": "Python 3"
    },
    "accelerator": "GPU"
  },
  "cells": [
    {
      "cell_type": "markdown",
      "metadata": {
        "id": "view-in-github",
        "colab_type": "text"
      },
      "source": [
        "<a href=\"https://colab.research.google.com/github/tvaditya/intro_ds_and_ml/blob/main/Classifica%C3%A7%C3%A3o_de_Textos_do_Twitter_com_spaCy.ipynb\" target=\"_parent\"><img src=\"https://colab.research.google.com/assets/colab-badge.svg\" alt=\"Open In Colab\"/></a>"
      ]
    },
    {
      "cell_type": "markdown",
      "metadata": {
        "id": "AGgw36kc8udU"
      },
      "source": [
        "# Classificação de textos do Twitter com spaCy"
      ]
    },
    {
      "cell_type": "markdown",
      "metadata": {
        "id": "JtJGnXGi8zt9"
      },
      "source": [
        "# Etapa 1: Importação e instalação das bibliotecas"
      ]
    },
    {
      "cell_type": "code",
      "metadata": {
        "id": "Xh86jT1k_299",
        "colab": {
          "base_uri": "https://localhost:8080/"
        },
        "outputId": "5d9d14b7-31db-4f0e-b6c0-815ed13690d3"
      },
      "source": [
        "#!pip install spacy --upgrade\n",
        "!pip install -q spacy==2.2.3 #Atualizado: 02/05/2021 Obs: utilizar esta versão."
      ],
      "execution_count": null,
      "outputs": [
        {
          "output_type": "stream",
          "text": [
            "\u001b[K     |████████████████████████████████| 10.4MB 6.1MB/s \n",
            "\u001b[K     |████████████████████████████████| 2.2MB 41.1MB/s \n",
            "\u001b[?25h"
          ],
          "name": "stdout"
        }
      ]
    },
    {
      "cell_type": "code",
      "metadata": {
        "id": "T1ZYK4Svri9a",
        "colab": {
          "base_uri": "https://localhost:8080/",
          "height": 35
        },
        "outputId": "6c64b81f-f652-418a-a951-9d8cd026a14c"
      },
      "source": [
        "import spacy\n",
        "spacy.__version__"
      ],
      "execution_count": null,
      "outputs": [
        {
          "output_type": "execute_result",
          "data": {
            "application/vnd.google.colaboratory.intrinsic+json": {
              "type": "string"
            },
            "text/plain": [
              "'2.2.3'"
            ]
          },
          "metadata": {
            "tags": []
          },
          "execution_count": 2
        }
      ]
    },
    {
      "cell_type": "code",
      "metadata": {
        "id": "BbXiQKovAAy_",
        "colab": {
          "base_uri": "https://localhost:8080/"
        },
        "outputId": "1c159c12-c425-4002-a825-a36ae126a8e1"
      },
      "source": [
        "!python3 -m spacy download pt"
      ],
      "execution_count": null,
      "outputs": [
        {
          "output_type": "stream",
          "text": [
            "Collecting pt_core_news_sm==2.2.5\n",
            "\u001b[?25l  Downloading https://github.com/explosion/spacy-models/releases/download/pt_core_news_sm-2.2.5/pt_core_news_sm-2.2.5.tar.gz (21.2MB)\n",
            "\u001b[K     |████████████████████████████████| 21.2MB 1.3MB/s \n",
            "\u001b[?25hRequirement already satisfied: spacy>=2.2.2 in /usr/local/lib/python3.7/dist-packages (from pt_core_news_sm==2.2.5) (2.2.3)\n",
            "Requirement already satisfied: plac<1.2.0,>=0.9.6 in /usr/local/lib/python3.7/dist-packages (from spacy>=2.2.2->pt_core_news_sm==2.2.5) (1.1.3)\n",
            "Requirement already satisfied: murmurhash<1.1.0,>=0.28.0 in /usr/local/lib/python3.7/dist-packages (from spacy>=2.2.2->pt_core_news_sm==2.2.5) (1.0.5)\n",
            "Requirement already satisfied: srsly<1.1.0,>=0.1.0 in /usr/local/lib/python3.7/dist-packages (from spacy>=2.2.2->pt_core_news_sm==2.2.5) (1.0.5)\n",
            "Requirement already satisfied: catalogue<1.1.0,>=0.0.7 in /usr/local/lib/python3.7/dist-packages (from spacy>=2.2.2->pt_core_news_sm==2.2.5) (1.0.0)\n",
            "Requirement already satisfied: thinc<7.4.0,>=7.3.0 in /usr/local/lib/python3.7/dist-packages (from spacy>=2.2.2->pt_core_news_sm==2.2.5) (7.3.1)\n",
            "Requirement already satisfied: requests<3.0.0,>=2.13.0 in /usr/local/lib/python3.7/dist-packages (from spacy>=2.2.2->pt_core_news_sm==2.2.5) (2.23.0)\n",
            "Requirement already satisfied: preshed<3.1.0,>=3.0.2 in /usr/local/lib/python3.7/dist-packages (from spacy>=2.2.2->pt_core_news_sm==2.2.5) (3.0.5)\n",
            "Requirement already satisfied: setuptools in /usr/local/lib/python3.7/dist-packages (from spacy>=2.2.2->pt_core_news_sm==2.2.5) (56.0.0)\n",
            "Requirement already satisfied: numpy>=1.15.0 in /usr/local/lib/python3.7/dist-packages (from spacy>=2.2.2->pt_core_news_sm==2.2.5) (1.19.5)\n",
            "Requirement already satisfied: blis<0.5.0,>=0.4.0 in /usr/local/lib/python3.7/dist-packages (from spacy>=2.2.2->pt_core_news_sm==2.2.5) (0.4.1)\n",
            "Requirement already satisfied: cymem<2.1.0,>=2.0.2 in /usr/local/lib/python3.7/dist-packages (from spacy>=2.2.2->pt_core_news_sm==2.2.5) (2.0.5)\n",
            "Requirement already satisfied: wasabi<1.1.0,>=0.4.0 in /usr/local/lib/python3.7/dist-packages (from spacy>=2.2.2->pt_core_news_sm==2.2.5) (0.8.2)\n",
            "Requirement already satisfied: importlib-metadata>=0.20; python_version < \"3.8\" in /usr/local/lib/python3.7/dist-packages (from catalogue<1.1.0,>=0.0.7->spacy>=2.2.2->pt_core_news_sm==2.2.5) (3.10.1)\n",
            "Requirement already satisfied: tqdm<5.0.0,>=4.10.0 in /usr/local/lib/python3.7/dist-packages (from thinc<7.4.0,>=7.3.0->spacy>=2.2.2->pt_core_news_sm==2.2.5) (4.41.1)\n",
            "Requirement already satisfied: certifi>=2017.4.17 in /usr/local/lib/python3.7/dist-packages (from requests<3.0.0,>=2.13.0->spacy>=2.2.2->pt_core_news_sm==2.2.5) (2020.12.5)\n",
            "Requirement already satisfied: idna<3,>=2.5 in /usr/local/lib/python3.7/dist-packages (from requests<3.0.0,>=2.13.0->spacy>=2.2.2->pt_core_news_sm==2.2.5) (2.10)\n",
            "Requirement already satisfied: urllib3!=1.25.0,!=1.25.1,<1.26,>=1.21.1 in /usr/local/lib/python3.7/dist-packages (from requests<3.0.0,>=2.13.0->spacy>=2.2.2->pt_core_news_sm==2.2.5) (1.24.3)\n",
            "Requirement already satisfied: chardet<4,>=3.0.2 in /usr/local/lib/python3.7/dist-packages (from requests<3.0.0,>=2.13.0->spacy>=2.2.2->pt_core_news_sm==2.2.5) (3.0.4)\n",
            "Requirement already satisfied: zipp>=0.5 in /usr/local/lib/python3.7/dist-packages (from importlib-metadata>=0.20; python_version < \"3.8\"->catalogue<1.1.0,>=0.0.7->spacy>=2.2.2->pt_core_news_sm==2.2.5) (3.4.1)\n",
            "Requirement already satisfied: typing-extensions>=3.6.4; python_version < \"3.8\" in /usr/local/lib/python3.7/dist-packages (from importlib-metadata>=0.20; python_version < \"3.8\"->catalogue<1.1.0,>=0.0.7->spacy>=2.2.2->pt_core_news_sm==2.2.5) (3.7.4.3)\n",
            "Building wheels for collected packages: pt-core-news-sm\n",
            "  Building wheel for pt-core-news-sm (setup.py) ... \u001b[?25l\u001b[?25hdone\n",
            "  Created wheel for pt-core-news-sm: filename=pt_core_news_sm-2.2.5-cp37-none-any.whl size=21186283 sha256=1fd52737a7ab7021e9b9df1d87e550da073dc0c1437aaf892073003778ab7750\n",
            "  Stored in directory: /tmp/pip-ephem-wheel-cache-u14j8o8q/wheels/ea/94/74/ec9be8418e9231b471be5dc7e1b45dd670019a376a6b5bc1c0\n",
            "Successfully built pt-core-news-sm\n",
            "Installing collected packages: pt-core-news-sm\n",
            "Successfully installed pt-core-news-sm-2.2.5\n",
            "\u001b[38;5;2m✔ Download and installation successful\u001b[0m\n",
            "You can now load the model via spacy.load('pt_core_news_sm')\n",
            "\u001b[38;5;2m✔ Linking successful\u001b[0m\n",
            "/usr/local/lib/python3.7/dist-packages/pt_core_news_sm -->\n",
            "/usr/local/lib/python3.7/dist-packages/spacy/data/pt\n",
            "You can now load the model via spacy.load('pt')\n"
          ],
          "name": "stdout"
        }
      ]
    },
    {
      "cell_type": "code",
      "metadata": {
        "id": "DelYAveq8yuX"
      },
      "source": [
        "import pandas as pd\n",
        "import string\n",
        "import spacy\n",
        "import random\n",
        "import seaborn as sns\n",
        "import numpy as np\n",
        "import re"
      ],
      "execution_count": null,
      "outputs": []
    },
    {
      "cell_type": "markdown",
      "metadata": {
        "id": "iE3VMD8t86ky"
      },
      "source": [
        "# Etapa 2: Carregamento das bases de dados\n",
        "\n",
        "- Link Kaggle: https://www.kaggle.com/augustop/portuguese-tweets-for-sentiment-analysis#TweetsNeutralHash.csv"
      ]
    },
    {
      "cell_type": "markdown",
      "metadata": {
        "id": "472HCiGNxsGm"
      },
      "source": [
        "## Base de treinamento\n",
        "\n",
        "- Negative label: 0\n",
        "- Positive label: 1"
      ]
    },
    {
      "cell_type": "code",
      "metadata": {
        "id": "jqsZesTIj1D1"
      },
      "source": [
        "base_treinamento = pd.read_csv('/content/Train50.csv', delimiter=';')"
      ],
      "execution_count": null,
      "outputs": []
    },
    {
      "cell_type": "code",
      "metadata": {
        "id": "kkNNr-fokG5Z",
        "colab": {
          "base_uri": "https://localhost:8080/",
          "height": 35
        },
        "outputId": "779e78ee-d6d5-4614-e55c-08d13b892e3c"
      },
      "source": [
        "base_treinamento.shape"
      ],
      "execution_count": null,
      "outputs": [
        {
          "output_type": "execute_result",
          "data": {
            "text/plain": [
              "(50000, 5)"
            ]
          },
          "metadata": {
            "tags": []
          },
          "execution_count": 6
        }
      ]
    },
    {
      "cell_type": "code",
      "metadata": {
        "id": "ian62Lo5kKXp",
        "colab": {
          "base_uri": "https://localhost:8080/",
          "height": 198
        },
        "outputId": "230e4d80-4c26-4ba8-eb11-6eb3cab45c17"
      },
      "source": [
        "base_treinamento.head()"
      ],
      "execution_count": null,
      "outputs": [
        {
          "output_type": "execute_result",
          "data": {
            "text/html": [
              "<div>\n",
              "<style scoped>\n",
              "    .dataframe tbody tr th:only-of-type {\n",
              "        vertical-align: middle;\n",
              "    }\n",
              "\n",
              "    .dataframe tbody tr th {\n",
              "        vertical-align: top;\n",
              "    }\n",
              "\n",
              "    .dataframe thead th {\n",
              "        text-align: right;\n",
              "    }\n",
              "</style>\n",
              "<table border=\"1\" class=\"dataframe\">\n",
              "  <thead>\n",
              "    <tr style=\"text-align: right;\">\n",
              "      <th></th>\n",
              "      <th>id</th>\n",
              "      <th>tweet_text</th>\n",
              "      <th>tweet_date</th>\n",
              "      <th>sentiment</th>\n",
              "      <th>query_used</th>\n",
              "    </tr>\n",
              "  </thead>\n",
              "  <tbody>\n",
              "    <tr>\n",
              "      <th>0</th>\n",
              "      <td>1050785521201541121</td>\n",
              "      <td>@Laranjito76 A pessoa certa para isso seria o ...</td>\n",
              "      <td>Fri Oct 12 16:29:25 +0000 2018</td>\n",
              "      <td>1</td>\n",
              "      <td>:)</td>\n",
              "    </tr>\n",
              "    <tr>\n",
              "      <th>1</th>\n",
              "      <td>1050785431955140608</td>\n",
              "      <td>@behin_d_curtain Para mim, é precisamente o co...</td>\n",
              "      <td>Fri Oct 12 16:29:04 +0000 2018</td>\n",
              "      <td>1</td>\n",
              "      <td>:)</td>\n",
              "    </tr>\n",
              "    <tr>\n",
              "      <th>2</th>\n",
              "      <td>1050785401248645120</td>\n",
              "      <td>Vou fazer um video hoje... estou pensando em f...</td>\n",
              "      <td>Fri Oct 12 16:28:56 +0000 2018</td>\n",
              "      <td>1</td>\n",
              "      <td>:)</td>\n",
              "    </tr>\n",
              "    <tr>\n",
              "      <th>3</th>\n",
              "      <td>1050785370982547461</td>\n",
              "      <td>aaaaaaaa amei tanto essas polaroids, nem sei e...</td>\n",
              "      <td>Fri Oct 12 16:28:49 +0000 2018</td>\n",
              "      <td>1</td>\n",
              "      <td>:)</td>\n",
              "    </tr>\n",
              "    <tr>\n",
              "      <th>4</th>\n",
              "      <td>1050785368902131713</td>\n",
              "      <td>Valoriza o coração do menininho que vc tem. El...</td>\n",
              "      <td>Fri Oct 12 16:28:49 +0000 2018</td>\n",
              "      <td>1</td>\n",
              "      <td>:)</td>\n",
              "    </tr>\n",
              "  </tbody>\n",
              "</table>\n",
              "</div>"
            ],
            "text/plain": [
              "                    id  ... query_used\n",
              "0  1050785521201541121  ...         :)\n",
              "1  1050785431955140608  ...         :)\n",
              "2  1050785401248645120  ...         :)\n",
              "3  1050785370982547461  ...         :)\n",
              "4  1050785368902131713  ...         :)\n",
              "\n",
              "[5 rows x 5 columns]"
            ]
          },
          "metadata": {
            "tags": []
          },
          "execution_count": 7
        }
      ]
    },
    {
      "cell_type": "code",
      "metadata": {
        "id": "xFrzQLCckhEW",
        "colab": {
          "base_uri": "https://localhost:8080/",
          "height": 198
        },
        "outputId": "caf34fb1-c67b-4c9f-d332-c9c6b5971237"
      },
      "source": [
        "base_treinamento.tail()"
      ],
      "execution_count": null,
      "outputs": [
        {
          "output_type": "execute_result",
          "data": {
            "text/html": [
              "<div>\n",
              "<style scoped>\n",
              "    .dataframe tbody tr th:only-of-type {\n",
              "        vertical-align: middle;\n",
              "    }\n",
              "\n",
              "    .dataframe tbody tr th {\n",
              "        vertical-align: top;\n",
              "    }\n",
              "\n",
              "    .dataframe thead th {\n",
              "        text-align: right;\n",
              "    }\n",
              "</style>\n",
              "<table border=\"1\" class=\"dataframe\">\n",
              "  <thead>\n",
              "    <tr style=\"text-align: right;\">\n",
              "      <th></th>\n",
              "      <th>id</th>\n",
              "      <th>tweet_text</th>\n",
              "      <th>tweet_date</th>\n",
              "      <th>sentiment</th>\n",
              "      <th>query_used</th>\n",
              "    </tr>\n",
              "  </thead>\n",
              "  <tbody>\n",
              "    <tr>\n",
              "      <th>49995</th>\n",
              "      <td>1046762827053232128</td>\n",
              "      <td>:( é tão lindo que dói https://t.co/GqnpgyWWxB</td>\n",
              "      <td>Mon Oct 01 14:04:40 +0000 2018</td>\n",
              "      <td>0</td>\n",
              "      <td>:(</td>\n",
              "    </tr>\n",
              "    <tr>\n",
              "      <th>49996</th>\n",
              "      <td>1046762813362966529</td>\n",
              "      <td>@veraluciarj Pois é.. tenho problema c/ \"coisa...</td>\n",
              "      <td>Mon Oct 01 14:04:37 +0000 2018</td>\n",
              "      <td>0</td>\n",
              "      <td>:(</td>\n",
              "    </tr>\n",
              "    <tr>\n",
              "      <th>49997</th>\n",
              "      <td>1046762806392082432</td>\n",
              "      <td>eu te amo tanto minja vidinha meu bem mais pre...</td>\n",
              "      <td>Mon Oct 01 14:04:35 +0000 2018</td>\n",
              "      <td>0</td>\n",
              "      <td>:(</td>\n",
              "    </tr>\n",
              "    <tr>\n",
              "      <th>49998</th>\n",
              "      <td>1046762752071618560</td>\n",
              "      <td>@itsLary @jessboluda Pfvor :(</td>\n",
              "      <td>Mon Oct 01 14:04:22 +0000 2018</td>\n",
              "      <td>0</td>\n",
              "      <td>:(</td>\n",
              "    </tr>\n",
              "    <tr>\n",
              "      <th>49999</th>\n",
              "      <td>1046762735340584962</td>\n",
              "      <td>@Renk_lol Passa ano Entra ano Eu nao desisto d...</td>\n",
              "      <td>Mon Oct 01 14:04:18 +0000 2018</td>\n",
              "      <td>0</td>\n",
              "      <td>:(</td>\n",
              "    </tr>\n",
              "  </tbody>\n",
              "</table>\n",
              "</div>"
            ],
            "text/plain": [
              "                        id  ... query_used\n",
              "49995  1046762827053232128  ...         :(\n",
              "49996  1046762813362966529  ...         :(\n",
              "49997  1046762806392082432  ...         :(\n",
              "49998  1046762752071618560  ...         :(\n",
              "49999  1046762735340584962  ...         :(\n",
              "\n",
              "[5 rows x 5 columns]"
            ]
          },
          "metadata": {
            "tags": []
          },
          "execution_count": 8
        }
      ]
    },
    {
      "cell_type": "code",
      "metadata": {
        "id": "IVVwuPGhkm5h",
        "colab": {
          "base_uri": "https://localhost:8080/",
          "height": 279
        },
        "outputId": "a30669c1-4413-4cda-b973-84138cc4d8b3"
      },
      "source": [
        "sns.countplot(base_treinamento['sentiment'], label = 'Contagem');"
      ],
      "execution_count": null,
      "outputs": [
        {
          "output_type": "display_data",
          "data": {
            "image/png": "[encoded data removed]",
            "text/plain": [
              "<Figure size 432x288 with 1 Axes>"
            ]
          },
          "metadata": {
            "tags": []
          }
        }
      ]
    },
    {
      "cell_type": "code",
      "metadata": {
        "id": "-xTh-gqelMWn"
      },
      "source": [
        "base_treinamento.drop(['id', 'tweet_date', 'query_used'], axis = 1, inplace=True)"
      ],
      "execution_count": null,
      "outputs": []
    },
    {
      "cell_type": "code",
      "metadata": {
        "id": "82hWS5cklVZ_",
        "colab": {
          "base_uri": "https://localhost:8080/",
          "height": 198
        },
        "outputId": "58827dc8-2b32-4606-d283-fe57545e08dd"
      },
      "source": [
        "base_treinamento.head()"
      ],
      "execution_count": null,
      "outputs": [
        {
          "output_type": "execute_result",
          "data": {
            "text/html": [
              "<div>\n",
              "<style scoped>\n",
              "    .dataframe tbody tr th:only-of-type {\n",
              "        vertical-align: middle;\n",
              "    }\n",
              "\n",
              "    .dataframe tbody tr th {\n",
              "        vertical-align: top;\n",
              "    }\n",
              "\n",
              "    .dataframe thead th {\n",
              "        text-align: right;\n",
              "    }\n",
              "</style>\n",
              "<table border=\"1\" class=\"dataframe\">\n",
              "  <thead>\n",
              "    <tr style=\"text-align: right;\">\n",
              "      <th></th>\n",
              "      <th>tweet_text</th>\n",
              "      <th>sentiment</th>\n",
              "    </tr>\n",
              "  </thead>\n",
              "  <tbody>\n",
              "    <tr>\n",
              "      <th>0</th>\n",
              "      <td>@Laranjito76 A pessoa certa para isso seria o ...</td>\n",
              "      <td>1</td>\n",
              "    </tr>\n",
              "    <tr>\n",
              "      <th>1</th>\n",
              "      <td>@behin_d_curtain Para mim, é precisamente o co...</td>\n",
              "      <td>1</td>\n",
              "    </tr>\n",
              "    <tr>\n",
              "      <th>2</th>\n",
              "      <td>Vou fazer um video hoje... estou pensando em f...</td>\n",
              "      <td>1</td>\n",
              "    </tr>\n",
              "    <tr>\n",
              "      <th>3</th>\n",
              "      <td>aaaaaaaa amei tanto essas polaroids, nem sei e...</td>\n",
              "      <td>1</td>\n",
              "    </tr>\n",
              "    <tr>\n",
              "      <th>4</th>\n",
              "      <td>Valoriza o coração do menininho que vc tem. El...</td>\n",
              "      <td>1</td>\n",
              "    </tr>\n",
              "  </tbody>\n",
              "</table>\n",
              "</div>"
            ],
            "text/plain": [
              "                                          tweet_text  sentiment\n",
              "0  @Laranjito76 A pessoa certa para isso seria o ...          1\n",
              "1  @behin_d_curtain Para mim, é precisamente o co...          1\n",
              "2  Vou fazer um video hoje... estou pensando em f...          1\n",
              "3  aaaaaaaa amei tanto essas polaroids, nem sei e...          1\n",
              "4  Valoriza o coração do menininho que vc tem. El...          1"
            ]
          },
          "metadata": {
            "tags": []
          },
          "execution_count": 12
        }
      ]
    },
    {
      "cell_type": "code",
      "metadata": {
        "id": "dfMcmaval-7w",
        "colab": {
          "base_uri": "https://localhost:8080/",
          "height": 270
        },
        "outputId": "3fd59c17-d0dd-4f23-ebba-7d3f2ffb929f"
      },
      "source": [
        "sns.heatmap(pd.isnull(base_treinamento));"
      ],
      "execution_count": null,
      "outputs": [
        {
          "output_type": "display_data",
          "data": {
            "image/png": "[encoded data removed]",
            "text/plain": [
              "<Figure size 432x288 with 2 Axes>"
            ]
          },
          "metadata": {
            "tags": []
          }
        }
      ]
    },
    {
      "cell_type": "markdown",
      "metadata": {
        "id": "KwANq9uCx-jV"
      },
      "source": [
        "## Base de teste"
      ]
    },
    {
      "cell_type": "code",
      "metadata": {
        "id": "PllVVG-IlYkC"
      },
      "source": [
        "base_teste = pd.read_csv('/content/Test.csv', delimiter=';')"
      ],
      "execution_count": null,
      "outputs": []
    },
    {
      "cell_type": "code",
      "metadata": {
        "id": "yeiX7jb-lfdE",
        "colab": {
          "base_uri": "https://localhost:8080/",
          "height": 198
        },
        "outputId": "1e1e5f6c-3fdc-4b72-eebe-b1ac4c7bb761"
      },
      "source": [
        "base_teste.head()"
      ],
      "execution_count": null,
      "outputs": [
        {
          "output_type": "execute_result",
          "data": {
            "text/html": [
              "<div>\n",
              "<style scoped>\n",
              "    .dataframe tbody tr th:only-of-type {\n",
              "        vertical-align: middle;\n",
              "    }\n",
              "\n",
              "    .dataframe tbody tr th {\n",
              "        vertical-align: top;\n",
              "    }\n",
              "\n",
              "    .dataframe thead th {\n",
              "        text-align: right;\n",
              "    }\n",
              "</style>\n",
              "<table border=\"1\" class=\"dataframe\">\n",
              "  <thead>\n",
              "    <tr style=\"text-align: right;\">\n",
              "      <th></th>\n",
              "      <th>id</th>\n",
              "      <th>tweet_text</th>\n",
              "      <th>tweet_date</th>\n",
              "      <th>sentiment</th>\n",
              "      <th>query_used</th>\n",
              "    </tr>\n",
              "  </thead>\n",
              "  <tbody>\n",
              "    <tr>\n",
              "      <th>0</th>\n",
              "      <td>1029536486021099522</td>\n",
              "      <td>@Gazo1a Nossa! Muito obrigada :)</td>\n",
              "      <td>Wed Aug 15 01:13:20 +0000 2018</td>\n",
              "      <td>1</td>\n",
              "      <td>:)</td>\n",
              "    </tr>\n",
              "    <tr>\n",
              "      <th>1</th>\n",
              "      <td>1029536496368406528</td>\n",
              "      <td>@BerzGamer vai pa puta que te pariu :)</td>\n",
              "      <td>Wed Aug 15 01:13:23 +0000 2018</td>\n",
              "      <td>1</td>\n",
              "      <td>:)</td>\n",
              "    </tr>\n",
              "    <tr>\n",
              "      <th>2</th>\n",
              "      <td>1029536531655131137</td>\n",
              "      <td>QUER MAIS DESCONTOS? (14/08) ⭐⭐⭐⭐⭐ 🌐 Confira n...</td>\n",
              "      <td>Wed Aug 15 01:13:31 +0000 2018</td>\n",
              "      <td>1</td>\n",
              "      <td>:)</td>\n",
              "    </tr>\n",
              "    <tr>\n",
              "      <th>3</th>\n",
              "      <td>1029536560117678081</td>\n",
              "      <td>EU VOU PEGAR VCS, ME AJUDEM GALERA, PELO AMOR ...</td>\n",
              "      <td>Wed Aug 15 01:13:38 +0000 2018</td>\n",
              "      <td>1</td>\n",
              "      <td>:)</td>\n",
              "    </tr>\n",
              "    <tr>\n",
              "      <th>4</th>\n",
              "      <td>1029536605852377088</td>\n",
              "      <td>Estávamos em casa do Zé e eu estava a morrer d...</td>\n",
              "      <td>Wed Aug 15 01:13:49 +0000 2018</td>\n",
              "      <td>1</td>\n",
              "      <td>:)</td>\n",
              "    </tr>\n",
              "  </tbody>\n",
              "</table>\n",
              "</div>"
            ],
            "text/plain": [
              "                    id  ... query_used\n",
              "0  1029536486021099522  ...         :)\n",
              "1  1029536496368406528  ...         :)\n",
              "2  1029536531655131137  ...         :)\n",
              "3  1029536560117678081  ...         :)\n",
              "4  1029536605852377088  ...         :)\n",
              "\n",
              "[5 rows x 5 columns]"
            ]
          },
          "metadata": {
            "tags": []
          },
          "execution_count": 14
        }
      ]
    },
    {
      "cell_type": "code",
      "metadata": {
        "id": "Lr5tKcjPlkQy",
        "colab": {
          "base_uri": "https://localhost:8080/",
          "height": 35
        },
        "outputId": "47d6cf00-d561-460b-faec-8bc5bbf208d2"
      },
      "source": [
        "base_teste.shape"
      ],
      "execution_count": null,
      "outputs": [
        {
          "output_type": "execute_result",
          "data": {
            "text/plain": [
              "(5000, 5)"
            ]
          },
          "metadata": {
            "tags": []
          },
          "execution_count": 15
        }
      ]
    },
    {
      "cell_type": "code",
      "metadata": {
        "id": "uyU25iuZlnSP",
        "colab": {
          "base_uri": "https://localhost:8080/",
          "height": 279
        },
        "outputId": "a75a9b65-9dc5-4b42-a258-977655c1edcf"
      },
      "source": [
        "sns.countplot(base_teste['sentiment'], label='Contagem');"
      ],
      "execution_count": null,
      "outputs": [
        {
          "output_type": "display_data",
          "data": {
            "image/png": "[encoded data removed]",
            "text/plain": [
              "<Figure size 432x288 with 1 Axes>"
            ]
          },
          "metadata": {
            "tags": []
          }
        }
      ]
    },
    {
      "cell_type": "code",
      "metadata": {
        "id": "gPgCCOZslxXy"
      },
      "source": [
        "base_teste.drop(['id', 'tweet_date', 'query_used'], axis = 1, inplace=True)"
      ],
      "execution_count": null,
      "outputs": []
    },
    {
      "cell_type": "code",
      "metadata": {
        "id": "5evaWMpvl1kg",
        "colab": {
          "base_uri": "https://localhost:8080/",
          "height": 198
        },
        "outputId": "dfa8887b-ec40-4a5b-e233-f3ec19b3422f"
      },
      "source": [
        "base_teste.head()"
      ],
      "execution_count": null,
      "outputs": [
        {
          "output_type": "execute_result",
          "data": {
            "text/html": [
              "<div>\n",
              "<style scoped>\n",
              "    .dataframe tbody tr th:only-of-type {\n",
              "        vertical-align: middle;\n",
              "    }\n",
              "\n",
              "    .dataframe tbody tr th {\n",
              "        vertical-align: top;\n",
              "    }\n",
              "\n",
              "    .dataframe thead th {\n",
              "        text-align: right;\n",
              "    }\n",
              "</style>\n",
              "<table border=\"1\" class=\"dataframe\">\n",
              "  <thead>\n",
              "    <tr style=\"text-align: right;\">\n",
              "      <th></th>\n",
              "      <th>tweet_text</th>\n",
              "      <th>sentiment</th>\n",
              "    </tr>\n",
              "  </thead>\n",
              "  <tbody>\n",
              "    <tr>\n",
              "      <th>0</th>\n",
              "      <td>@Gazo1a Nossa! Muito obrigada :)</td>\n",
              "      <td>1</td>\n",
              "    </tr>\n",
              "    <tr>\n",
              "      <th>1</th>\n",
              "      <td>@BerzGamer vai pa puta que te pariu :)</td>\n",
              "      <td>1</td>\n",
              "    </tr>\n",
              "    <tr>\n",
              "      <th>2</th>\n",
              "      <td>QUER MAIS DESCONTOS? (14/08) ⭐⭐⭐⭐⭐ 🌐 Confira n...</td>\n",
              "      <td>1</td>\n",
              "    </tr>\n",
              "    <tr>\n",
              "      <th>3</th>\n",
              "      <td>EU VOU PEGAR VCS, ME AJUDEM GALERA, PELO AMOR ...</td>\n",
              "      <td>1</td>\n",
              "    </tr>\n",
              "    <tr>\n",
              "      <th>4</th>\n",
              "      <td>Estávamos em casa do Zé e eu estava a morrer d...</td>\n",
              "      <td>1</td>\n",
              "    </tr>\n",
              "  </tbody>\n",
              "</table>\n",
              "</div>"
            ],
            "text/plain": [
              "                                          tweet_text  sentiment\n",
              "0                   @Gazo1a Nossa! Muito obrigada :)          1\n",
              "1             @BerzGamer vai pa puta que te pariu :)          1\n",
              "2  QUER MAIS DESCONTOS? (14/08) ⭐⭐⭐⭐⭐ 🌐 Confira n...          1\n",
              "3  EU VOU PEGAR VCS, ME AJUDEM GALERA, PELO AMOR ...          1\n",
              "4  Estávamos em casa do Zé e eu estava a morrer d...          1"
            ]
          },
          "metadata": {
            "tags": []
          },
          "execution_count": 19
        }
      ]
    },
    {
      "cell_type": "code",
      "metadata": {
        "id": "FYE-KGRkmZcd",
        "colab": {
          "base_uri": "https://localhost:8080/",
          "height": 270
        },
        "outputId": "f89b2622-405e-46cf-9690-713c225ae0d9"
      },
      "source": [
        "sns.heatmap(pd.isnull(base_teste));"
      ],
      "execution_count": null,
      "outputs": [
        {
          "output_type": "display_data",
          "data": {
            "image/png": "[encoded data removed]",
            "text/plain": [
              "<Figure size 432x288 with 2 Axes>"
            ]
          },
          "metadata": {
            "tags": []
          }
        }
      ]
    },
    {
      "cell_type": "markdown",
      "metadata": {
        "id": "h36-8Ien-AQ1"
      },
      "source": [
        "# Etapa 3: Função para pré-processamento dos textos\n",
        "\n",
        "- Letras minúsculas\n",
        "- Nome do usuário (@)\n",
        "- URLs\n",
        "- Espaços em branco\n",
        "- Emoticons\n",
        "- Stop words\n",
        "- Lematização\n",
        "- Pontuações"
      ]
    },
    {
      "cell_type": "code",
      "metadata": {
        "id": "gOur6ftJnKuP",
        "colab": {
          "base_uri": "https://localhost:8080/",
          "height": 35
        },
        "outputId": "13686a5c-2cb7-4433-87ba-0514a160bd32"
      },
      "source": [
        "pln = spacy.load('pt')\n",
        "pln"
      ],
      "execution_count": null,
      "outputs": [
        {
          "output_type": "execute_result",
          "data": {
            "text/plain": [
              "<spacy.lang.pt.Portuguese at 0x7f5a5f5185f8>"
            ]
          },
          "metadata": {
            "tags": []
          },
          "execution_count": 22
        }
      ]
    },
    {
      "cell_type": "code",
      "metadata": {
        "id": "m8eGCSuHnSYM",
        "colab": {
          "base_uri": "https://localhost:8080/",
          "height": 35
        },
        "outputId": "8002a2f8-5dad-49ce-e8b6-8646afa6e2a6"
      },
      "source": [
        "base_treinamento['tweet_text'][1]"
      ],
      "execution_count": null,
      "outputs": [
        {
          "output_type": "execute_result",
          "data": {
            "text/plain": [
              "'@behin_d_curtain Para mim, é precisamente o contrário :) Vem a chuva e vem a boa disposição :)'"
            ]
          },
          "metadata": {
            "tags": []
          },
          "execution_count": 23
        }
      ]
    },
    {
      "cell_type": "code",
      "metadata": {
        "id": "z6-JRv8Ynayt"
      },
      "source": [
        "stop_words = spacy.lang.pt.stop_words.STOP_WORDS"
      ],
      "execution_count": null,
      "outputs": []
    },
    {
      "cell_type": "code",
      "metadata": {
        "id": "QqMa61Qwnj4c",
        "colab": {
          "base_uri": "https://localhost:8080/",
          "height": 55
        },
        "outputId": "a7a84d03-d2cd-4777-83a3-98a07ad9914e"
      },
      "source": [
        "print(stop_words)"
      ],
      "execution_count": null,
      "outputs": [
        {
          "output_type": "stream",
          "text": [
            "{'pelas', 'quando', 'ademais', 'apenas', 'partir', 'inclusive', 'nossa', 'obrigada', 'área', 'parece', 'antes', 'sua', 'tudo', 'num', 'onze', 'deste', 'aquele', 'novos', 'primeiro', 'cujo', 'foi', 'nesse', 'conhecido', 'ponto', 'sete', 'estes', 'sois', 'tu', 'sexta', 'vem', 'algumas', 'novas', 'todos', 'certeza', 'daquele', 'terceiro', 'no', 'ver', 'foram', 'está', 'por', 'acerca', 'longe', 'elas', 'sétima', 'pode', 'logo', 'duas', 'estiveram', 'uns', 'fazeis', 'atrás', 'estivestes', 'posso', 'segundo', 'número', 'apoio', 'quem', 'contra', 'tive', 'aquelas', 'menos', 'apontar', 'desse', 'dezassete', 'fim', 'vossos', 'tivemos', 'lado', 'inicio', 'valor', 'vós', 'vai', 'disso', 'grande', 'suas', 'dezanove', 'sistema', 'menor', 'isto', 'todas', 'estiveste', 'daquela', 'grupo', 'fazia', 'custa', 'fui', 'foste', 'teu', 'puderam', 'fora', 'maioria', 'esses', 'pôde', 'vosso', 'estas', 'maior', 'agora', 'tal', 'nosso', 'tiveram', 'nessa', 'iniciar', 'dos', 'com', 'somos', 'quinto', 'qualquer', 'coisa', 'próxima', 'poder', 'bom', 'ontem', 'possível', 'tentaram', 'oitavo', 'meus', 'geral', 'pegar', 'pontos', 'momento', 'outros', 'nesta', 'nossos', 'novo', 'como', 'possivelmente', 'tiveste', 'enquanto', 'vos', 'te', 'das', 'parte', 'vinte', 'tenho', 'eu', 'cedo', 'um', 'aqui', 'sempre', 'dois', 'estou', 'umas', 'cima', 'vossa', 'quero', 'do', 'fez', 'vêm', 'nem', 'cinco', 'tempo', 'fazemos', 'quinze', 'desta', 'lhe', 'mas', 'usa', 'seria', 'nas', 'sétimo', 'entre', 'oitava', 'depois', 'usar', 'desde', 'fomos', 'naquela', 'estão', 'nos', 'vários', 'às', 'terceira', 'assim', 'nossas', 'quieto', 'quais', 'seu', 'tem', 'cada', 'eles', 'tarde', 'mal', 'este', 'temos', 'quinta', 'essas', 'segunda', 'dá', 'vais', 'quatro', 'pelo', 'tais', 'somente', 'fazer', 'lá', 'ter', 'nove', 'seus', 'máximo', 'vez', 'forma', 'alguns', 'povo', 'diz', 'és', 'final', 'tentei', 'pois', 'pelos', 'fostes', 'veja', 'você', 'faço', 'esta', 'for', 'perto', 'portanto', 'pela', 'minhas', 'põe', 'conselho', 'além', 'meu', 'fazem', 'oito', 'bastante', 'próprio', 'ainda', 'tuas', 'falta', 'relação', 'talvez', 'então', 'certamente', 'que', 'sou', 'mais', 'faz', 'apoia', 'ligado', 'nuns', 'minha', 'comprida', 'direita', 'pouca', 'não', 'diante', 'é', 'próximo', 'tens', 'dezoito', 'mil', 'sem', 'meio', 'outras', 'isso', 'corrente', 'primeira', 'deve', 'lugar', 'onde', 'ambas', 'vossas', 'me', 'sabe', 'vão', 'estar', 'estava', 'muitos', 'dão', 'último', 'local', 'porque', 'teve', 'para', 'obrigado', 'quieta', 'as', 'porquanto', 'através', 'à', 'grandes', 'vocês', 'zero', 'na', 'naquele', 'quarto', 'dez', 'boa', 'algo', 'tentar', 'ele', 'nunca', 'essa', 'os', 'ora', 'também', 'teus', 'fará', 'esteve', 'nada', 'irá', 'ao', 'baixo', 'debaixo', 'dentro', 'exemplo', 'ir', 'numa', 'podem', 'sim', 'vinda', 'contudo', 'sobre', 'nível', 'se', 'nós', 'toda', 'esse', 'quê', 'quanto', 'aqueles', 'dizem', 'poderá', 'aos', 'cuja', 'de', 'sexto', 'até', 'quer', 'conhecida', 'neste', 'querem', 'mesmo', 'mês', 'ali', 'aquela', 'questão', 'treze', 'nova', 'seis', 'devem', 'dezasseis', 'qual', 'podia', 'saber', 'estará', 'vezes', 'fazes', 'já', 'favor', 'em', 'estivemos', 'ambos', 'bem', 'aquilo', 'tão', 'todo', 'estive', 'vindo', 'estás', 'ela', 'são', 'catorze', 'deverá', 'dizer', 'aí', 'era', 'tanto', 'cento', 'da', 'ou', 'uma', 'adeus', 'tendes', 'breve', 'têm', 'comprido', 'cá', 'embora', 'tanta', 'tivestes', 'meses', 'porquê', 'demais', 'tua', 'ser', 'pouco', 'dessa', 'nenhuma', 'caminho', 'quarta', 'vens', 'outra', 'des', 'põem', 'tipo', 'dar', 'estado', 'sob', 'porém', 'só', 'sei', 'tente', 'doze', 'após', 'números', 'posição', 'maiorias', 'muito', 'eventual', 'três'}\n"
          ],
          "name": "stdout"
        }
      ]
    },
    {
      "cell_type": "code",
      "metadata": {
        "id": "n1lFJDhJnoth",
        "colab": {
          "base_uri": "https://localhost:8080/",
          "height": 35
        },
        "outputId": "71880f81-00a0-48a7-91e6-e1faa42a0640"
      },
      "source": [
        "string.punctuation"
      ],
      "execution_count": null,
      "outputs": [
        {
          "output_type": "execute_result",
          "data": {
            "text/plain": [
              "'!\"#$%&\\'()*+,-./:;<=>?@[\\\\]^_`{|}~'"
            ]
          },
          "metadata": {
            "tags": []
          },
          "execution_count": 26
        }
      ]
    },
    {
      "cell_type": "code",
      "metadata": {
        "id": "rS9ldTSJnsMb"
      },
      "source": [
        "def preprocessamento(texto):\n",
        "  # Letras minúsculas\n",
        "  texto = texto.lower()\n",
        "\n",
        "  # Nome do usuário\n",
        "  texto = re.sub(r\"@[A-Za-z0-9$-_@.&+]+\", ' ', texto)\n",
        "\n",
        "  # URLs\n",
        "  texto = re.sub(r\"https?://[A-Za-z0-9./]+\", ' ', texto)\n",
        "\n",
        "  # Espaços em branco\n",
        "  texto = re.sub(r\" +\", ' ', texto)\n",
        "\n",
        "  # Emoticons\n",
        "  lista_emocoes = {':)': 'emocaopositiva',\n",
        "                   ':d': 'emocaopositiva',\n",
        "                   ':(': 'emocaonegativa'}\n",
        "  for emocao in lista_emocoes:\n",
        "    texto = texto.replace(emocao, lista_emocoes[emocao])\n",
        "\n",
        "  # Lematização\n",
        "  documento = pln(texto)\n",
        "\n",
        "  lista = []\n",
        "  for token in documento:\n",
        "    lista.append(token.lemma_)\n",
        "  \n",
        "  # Stop words e pontuações\n",
        "  lista = [palavra for palavra in lista if palavra not in stop_words and palavra not in string.punctuation]\n",
        "  lista = ' '.join([str(elemento) for elemento in lista if not elemento.isdigit()])\n",
        "  \n",
        "  return lista"
      ],
      "execution_count": null,
      "outputs": []
    },
    {
      "cell_type": "code",
      "metadata": {
        "id": "iIy-2X18n0G8",
        "colab": {
          "base_uri": "https://localhost:8080/",
          "height": 35
        },
        "outputId": "b264d07e-395b-49ed-8643-4c52cd119168"
      },
      "source": [
        "texto_teste = '@behin_d_curtain :D Para :( mim, http://www.iaexpert.com.br é precisamente o contrário :) Vem a chuva e vem a boa disposição :)'\n",
        "resultado = preprocessamento(texto_teste)\n",
        "resultado"
      ],
      "execution_count": null,
      "outputs": [
        {
          "output_type": "execute_result",
          "data": {
            "text/plain": [
              "'  emocaopositiva parir emocaonegativa mim precisamente o contrário emocaopositiva vir o chuva e vir o disposição emocaopositiva'"
            ]
          },
          "metadata": {
            "tags": []
          },
          "execution_count": 45
        }
      ]
    },
    {
      "cell_type": "markdown",
      "metadata": {
        "id": "DtL8DBPVOFoL"
      },
      "source": [
        "# Etapa 4: Pré-processamento da base de dados"
      ]
    },
    {
      "cell_type": "markdown",
      "metadata": {
        "id": "n7G5PSVUOOId"
      },
      "source": [
        "### Limpeza dos textos"
      ]
    },
    {
      "cell_type": "code",
      "metadata": {
        "id": "o3zrf-ytssZb",
        "colab": {
          "base_uri": "https://localhost:8080/",
          "height": 348
        },
        "outputId": "dc0b9286-fa5d-4f13-f29a-020a2067043b"
      },
      "source": [
        "base_treinamento.head(10)"
      ],
      "execution_count": null,
      "outputs": [
        {
          "output_type": "execute_result",
          "data": {
            "text/html": [
              "<div>\n",
              "<style scoped>\n",
              "    .dataframe tbody tr th:only-of-type {\n",
              "        vertical-align: middle;\n",
              "    }\n",
              "\n",
              "    .dataframe tbody tr th {\n",
              "        vertical-align: top;\n",
              "    }\n",
              "\n",
              "    .dataframe thead th {\n",
              "        text-align: right;\n",
              "    }\n",
              "</style>\n",
              "<table border=\"1\" class=\"dataframe\">\n",
              "  <thead>\n",
              "    <tr style=\"text-align: right;\">\n",
              "      <th></th>\n",
              "      <th>tweet_text</th>\n",
              "      <th>sentiment</th>\n",
              "    </tr>\n",
              "  </thead>\n",
              "  <tbody>\n",
              "    <tr>\n",
              "      <th>0</th>\n",
              "      <td>@Laranjito76 A pessoa certa para isso seria o ...</td>\n",
              "      <td>1</td>\n",
              "    </tr>\n",
              "    <tr>\n",
              "      <th>1</th>\n",
              "      <td>@behin_d_curtain Para mim, é precisamente o co...</td>\n",
              "      <td>1</td>\n",
              "    </tr>\n",
              "    <tr>\n",
              "      <th>2</th>\n",
              "      <td>Vou fazer um video hoje... estou pensando em f...</td>\n",
              "      <td>1</td>\n",
              "    </tr>\n",
              "    <tr>\n",
              "      <th>3</th>\n",
              "      <td>aaaaaaaa amei tanto essas polaroids, nem sei e...</td>\n",
              "      <td>1</td>\n",
              "    </tr>\n",
              "    <tr>\n",
              "      <th>4</th>\n",
              "      <td>Valoriza o coração do menininho que vc tem. El...</td>\n",
              "      <td>1</td>\n",
              "    </tr>\n",
              "    <tr>\n",
              "      <th>5</th>\n",
              "      <td>@KingJokerLeto mas amiga eu to aqui ainda :)</td>\n",
              "      <td>1</td>\n",
              "    </tr>\n",
              "    <tr>\n",
              "      <th>6</th>\n",
              "      <td>@RivasJairo Bravo, Jairo!!! :)))</td>\n",
              "      <td>1</td>\n",
              "    </tr>\n",
              "    <tr>\n",
              "      <th>7</th>\n",
              "      <td>@inquilinasls @Spotify socorro ksoaksosks acho...</td>\n",
              "      <td>1</td>\n",
              "    </tr>\n",
              "    <tr>\n",
              "      <th>8</th>\n",
              "      <td>@chimekarlla gosto muito de fazenda :) , mas m...</td>\n",
              "      <td>1</td>\n",
              "    </tr>\n",
              "    <tr>\n",
              "      <th>9</th>\n",
              "      <td>Amanha vou ver venom :D</td>\n",
              "      <td>1</td>\n",
              "    </tr>\n",
              "  </tbody>\n",
              "</table>\n",
              "</div>"
            ],
            "text/plain": [
              "                                          tweet_text  sentiment\n",
              "0  @Laranjito76 A pessoa certa para isso seria o ...          1\n",
              "1  @behin_d_curtain Para mim, é precisamente o co...          1\n",
              "2  Vou fazer um video hoje... estou pensando em f...          1\n",
              "3  aaaaaaaa amei tanto essas polaroids, nem sei e...          1\n",
              "4  Valoriza o coração do menininho que vc tem. El...          1\n",
              "5       @KingJokerLeto mas amiga eu to aqui ainda :)          1\n",
              "6                   @RivasJairo Bravo, Jairo!!! :)))          1\n",
              "7  @inquilinasls @Spotify socorro ksoaksosks acho...          1\n",
              "8  @chimekarlla gosto muito de fazenda :) , mas m...          1\n",
              "9                            Amanha vou ver venom :D          1"
            ]
          },
          "metadata": {
            "tags": []
          },
          "execution_count": 46
        }
      ]
    },
    {
      "cell_type": "code",
      "metadata": {
        "id": "SNSsbuMis0-d"
      },
      "source": [
        "base_treinamento['tweet_text'] = base_treinamento['tweet_text'].apply(preprocessamento)"
      ],
      "execution_count": null,
      "outputs": []
    },
    {
      "cell_type": "code",
      "metadata": {
        "id": "wR742NJLusfy",
        "colab": {
          "base_uri": "https://localhost:8080/",
          "height": 348
        },
        "outputId": "b2008923-7265-4a4d-9cff-28053e1359ee"
      },
      "source": [
        "base_treinamento.head(10)"
      ],
      "execution_count": null,
      "outputs": [
        {
          "output_type": "execute_result",
          "data": {
            "text/html": [
              "<div>\n",
              "<style scoped>\n",
              "    .dataframe tbody tr th:only-of-type {\n",
              "        vertical-align: middle;\n",
              "    }\n",
              "\n",
              "    .dataframe tbody tr th {\n",
              "        vertical-align: top;\n",
              "    }\n",
              "\n",
              "    .dataframe thead th {\n",
              "        text-align: right;\n",
              "    }\n",
              "</style>\n",
              "<table border=\"1\" class=\"dataframe\">\n",
              "  <thead>\n",
              "    <tr style=\"text-align: right;\">\n",
              "      <th></th>\n",
              "      <th>tweet_text</th>\n",
              "      <th>sentiment</th>\n",
              "    </tr>\n",
              "  </thead>\n",
              "  <tbody>\n",
              "    <tr>\n",
              "      <th>0</th>\n",
              "      <td>o pessoa certo parir seriar o valer e azeved...</td>\n",
              "      <td>1</td>\n",
              "    </tr>\n",
              "    <tr>\n",
              "      <th>1</th>\n",
              "      <td>parir mim precisamente o contrário emocaopos...</td>\n",
              "      <td>1</td>\n",
              "    </tr>\n",
              "    <tr>\n",
              "      <th>2</th>\n",
              "      <td>video hoje ... pensar falar sobrar o meter csg...</td>\n",
              "      <td>1</td>\n",
              "    </tr>\n",
              "    <tr>\n",
              "      <th>3</th>\n",
              "      <td>aaaaaaaa amar polaroids expressar o quantum to...</td>\n",
              "      <td>1</td>\n",
              "    </tr>\n",
              "    <tr>\n",
              "      <th>4</th>\n",
              "      <td>valorizar o coração menino vc diferente o sorr...</td>\n",
              "      <td>1</td>\n",
              "    </tr>\n",
              "    <tr>\n",
              "      <th>5</th>\n",
              "      <td>amigo to emocaopositiva</td>\n",
              "      <td>1</td>\n",
              "    </tr>\n",
              "    <tr>\n",
              "      <th>6</th>\n",
              "      <td>bravo jairo emocaopositiva</td>\n",
              "      <td>1</td>\n",
              "    </tr>\n",
              "    <tr>\n",
              "      <th>7</th>\n",
              "      <td>socorrer ksoaksosks achar to o caixa som :p</td>\n",
              "      <td>1</td>\n",
              "    </tr>\n",
              "    <tr>\n",
              "      <th>8</th>\n",
              "      <td>gostar fazenda emocaopositiva morrer medo ga...</td>\n",
              "      <td>1</td>\n",
              "    </tr>\n",
              "    <tr>\n",
              "      <th>9</th>\n",
              "      <td>amanhar venom emocaopositiva</td>\n",
              "      <td>1</td>\n",
              "    </tr>\n",
              "  </tbody>\n",
              "</table>\n",
              "</div>"
            ],
            "text/plain": [
              "                                          tweet_text  sentiment\n",
              "0    o pessoa certo parir seriar o valer e azeved...          1\n",
              "1    parir mim precisamente o contrário emocaopos...          1\n",
              "2  video hoje ... pensar falar sobrar o meter csg...          1\n",
              "3  aaaaaaaa amar polaroids expressar o quantum to...          1\n",
              "4  valorizar o coração menino vc diferente o sorr...          1\n",
              "5                            amigo to emocaopositiva          1\n",
              "6                         bravo jairo emocaopositiva          1\n",
              "7        socorrer ksoaksosks achar to o caixa som :p          1\n",
              "8    gostar fazenda emocaopositiva morrer medo ga...          1\n",
              "9                       amanhar venom emocaopositiva          1"
            ]
          },
          "metadata": {
            "tags": []
          },
          "execution_count": 48
        }
      ]
    },
    {
      "cell_type": "code",
      "metadata": {
        "id": "DI1GvLX1uyr4"
      },
      "source": [
        "base_teste['tweet_text'] = base_teste['tweet_text'].apply(preprocessamento)"
      ],
      "execution_count": null,
      "outputs": []
    },
    {
      "cell_type": "code",
      "metadata": {
        "id": "jTGab2hXvGSr",
        "colab": {
          "base_uri": "https://localhost:8080/",
          "height": 348
        },
        "outputId": "c08f6fb8-ce56-4366-d1e5-a55c0f04be0c"
      },
      "source": [
        "base_teste.head(10)"
      ],
      "execution_count": null,
      "outputs": [
        {
          "output_type": "execute_result",
          "data": {
            "text/html": [
              "<div>\n",
              "<style scoped>\n",
              "    .dataframe tbody tr th:only-of-type {\n",
              "        vertical-align: middle;\n",
              "    }\n",
              "\n",
              "    .dataframe tbody tr th {\n",
              "        vertical-align: top;\n",
              "    }\n",
              "\n",
              "    .dataframe thead th {\n",
              "        text-align: right;\n",
              "    }\n",
              "</style>\n",
              "<table border=\"1\" class=\"dataframe\">\n",
              "  <thead>\n",
              "    <tr style=\"text-align: right;\">\n",
              "      <th></th>\n",
              "      <th>tweet_text</th>\n",
              "      <th>sentiment</th>\n",
              "    </tr>\n",
              "  </thead>\n",
              "  <tbody>\n",
              "    <tr>\n",
              "      <th>0</th>\n",
              "      <td>obrigar emocaopositiva</td>\n",
              "      <td>1</td>\n",
              "    </tr>\n",
              "    <tr>\n",
              "      <th>1</th>\n",
              "      <td>pa puta parir emocaopositiva</td>\n",
              "      <td>1</td>\n",
              "    </tr>\n",
              "    <tr>\n",
              "      <th>2</th>\n",
              "      <td>querer desconto 14/08 ⭐ ⭐ ⭐ ⭐ ⭐ 🌐 conferir o l...</td>\n",
              "      <td>1</td>\n",
              "    </tr>\n",
              "    <tr>\n",
              "      <th>3</th>\n",
              "      <td>vcs ajudar galera pelar amor butera emocaoposi...</td>\n",
              "      <td>1</td>\n",
              "    </tr>\n",
              "    <tr>\n",
              "      <th>4</th>\n",
              "      <td>casar zé e o morrer sono chegar o casar e fica...</td>\n",
              "      <td>1</td>\n",
              "    </tr>\n",
              "    <tr>\n",
              "      <th>5</th>\n",
              "      <td>preciso emocaopositiva</td>\n",
              "      <td>1</td>\n",
              "    </tr>\n",
              "    <tr>\n",
              "      <th>6</th>\n",
              "      <td>acaso adorar beijo e abraço hahahahaha bue f...</td>\n",
              "      <td>1</td>\n",
              "    </tr>\n",
              "    <tr>\n",
              "      <th>7</th>\n",
              "      <td>solteiro s emocaopositiva</td>\n",
              "      <td>1</td>\n",
              "    </tr>\n",
              "    <tr>\n",
              "      <th>8</th>\n",
              "      <td>lindeza cortador kit mário coleção bia cravol ...</td>\n",
              "      <td>1</td>\n",
              "    </tr>\n",
              "    <tr>\n",
              "      <th>9</th>\n",
              "      <td>claro emocaopositiva</td>\n",
              "      <td>1</td>\n",
              "    </tr>\n",
              "  </tbody>\n",
              "</table>\n",
              "</div>"
            ],
            "text/plain": [
              "                                          tweet_text  sentiment\n",
              "0                             obrigar emocaopositiva          1\n",
              "1                       pa puta parir emocaopositiva          1\n",
              "2  querer desconto 14/08 ⭐ ⭐ ⭐ ⭐ ⭐ 🌐 conferir o l...          1\n",
              "3  vcs ajudar galera pelar amor butera emocaoposi...          1\n",
              "4  casar zé e o morrer sono chegar o casar e fica...          1\n",
              "5                             preciso emocaopositiva          1\n",
              "6    acaso adorar beijo e abraço hahahahaha bue f...          1\n",
              "7                          solteiro s emocaopositiva          1\n",
              "8  lindeza cortador kit mário coleção bia cravol ...          1\n",
              "9                               claro emocaopositiva          1"
            ]
          },
          "metadata": {
            "tags": []
          },
          "execution_count": 51
        }
      ]
    },
    {
      "cell_type": "markdown",
      "metadata": {
        "id": "trA39YO4PcFp"
      },
      "source": [
        "### Tratamento da classe"
      ]
    },
    {
      "cell_type": "code",
      "metadata": {
        "id": "SPPY0MlIYoTR"
      },
      "source": [
        "exemplo_base_dados = [[\"este trabalho é agradável\", {\"POSITIVO\": True, \"NEGATIVO\": False}],\n",
        "                      [\"este lugar continua assustador\", {\"POSITIVO\": False, \"NEGATIVO\": True}]]"
      ],
      "execution_count": null,
      "outputs": []
    },
    {
      "cell_type": "code",
      "metadata": {
        "id": "TH31QeqEyrub"
      },
      "source": [
        "base_dados_treinamento_final = []\n",
        "for texto, emocao in zip(base_treinamento['tweet_text'], base_treinamento['sentiment']):\n",
        "  if emocao == 1:\n",
        "    dic = ({'POSITIVO': True, 'NEGATIVO': False})\n",
        "  elif emocao == 0:\n",
        "    dic = ({'POSITIVO': False, 'NEGATIVO': True})\n",
        "\n",
        "  base_dados_treinamento_final.append([texto, dic.copy()])"
      ],
      "execution_count": null,
      "outputs": []
    },
    {
      "cell_type": "code",
      "metadata": {
        "id": "kwFKyNZM2TFj",
        "colab": {
          "base_uri": "https://localhost:8080/",
          "height": 35
        },
        "outputId": "74559235-0b40-4a0a-d2f4-65c768d47ee8"
      },
      "source": [
        "len(base_dados_treinamento_final)"
      ],
      "execution_count": null,
      "outputs": [
        {
          "output_type": "execute_result",
          "data": {
            "text/plain": [
              "50000"
            ]
          },
          "metadata": {
            "tags": []
          },
          "execution_count": 54
        }
      ]
    },
    {
      "cell_type": "code",
      "metadata": {
        "id": "_3D9UkMI2W60",
        "colab": {
          "base_uri": "https://localhost:8080/",
          "height": 190
        },
        "outputId": "9a0c9b03-b5d5-449d-e9ba-f0fa723dd1e0"
      },
      "source": [
        "base_dados_treinamento_final[10:15]"
      ],
      "execution_count": null,
      "outputs": [
        {
          "output_type": "execute_result",
          "data": {
            "text/plain": [
              "[['simplesmente o deixar chatear querer muitooo e iludir emocaopositiva',\n",
              "  {'NEGATIVO': False, 'POSITIVO': True}],\n",
              " ['o comedir umar rotina e perfeitamente parir consolidar o escola condução :p',\n",
              "  {'NEGATIVO': False, 'POSITIVO': True}],\n",
              " ['amigar parecer apaixonar vc — recíproco emocaopositiva',\n",
              "  {'NEGATIVO': False, 'POSITIVO': True}],\n",
              " ['  gajar bacano aleijar esperar e o silvar feliz emocaopositiva',\n",
              "  {'NEGATIVO': False, 'POSITIVO': True}],\n",
              " ['tou o video cabra bebé emocaopositiva',\n",
              "  {'NEGATIVO': False, 'POSITIVO': True}]]"
            ]
          },
          "metadata": {
            "tags": []
          },
          "execution_count": 55
        }
      ]
    },
    {
      "cell_type": "code",
      "metadata": {
        "id": "E8C-_9AB2fEM",
        "colab": {
          "base_uri": "https://localhost:8080/",
          "height": 190
        },
        "outputId": "12697360-8be9-4160-be60-75f37c8bde7f"
      },
      "source": [
        "base_dados_treinamento_final[45000:45005]"
      ],
      "execution_count": null,
      "outputs": [
        {
          "output_type": "execute_result",
          "data": {
            "text/plain": [
              "[['o menino pijama listrar o filmar triste mundo estruturar nenhum pra assistir rever e to pensar n emocaonegativa',\n",
              "  {'NEGATIVO': True, 'POSITIVO': False}],\n",
              " ['pra o vídeo luísa raiz o poliana infelizmente o twitter tá ruim amanhã postar emocaonegativa asaventurasdepoliana099',\n",
              "  {'NEGATIVO': True, 'POSITIVO': False}],\n",
              " ['to crise abstinência strangers emocaonegativa — tbm :/ to',\n",
              "  {'NEGATIVO': True, 'POSITIVO': False}],\n",
              " ['  esquecer olhar pra pagar o mensalidade turma pro cursar querer emocaonegativa',\n",
              "  {'NEGATIVO': True, 'POSITIVO': False}],\n",
              " ['querer comer doce comer montar hoje emocaonegativa maldição',\n",
              "  {'NEGATIVO': True, 'POSITIVO': False}]]"
            ]
          },
          "metadata": {
            "tags": []
          },
          "execution_count": 56
        }
      ]
    },
    {
      "cell_type": "markdown",
      "metadata": {
        "id": "5mc19ZByUNsu"
      },
      "source": [
        "# Etapa 5: Criação do classificador"
      ]
    },
    {
      "cell_type": "code",
      "metadata": {
        "id": "YnZ1orji7Iv8"
      },
      "source": [
        "modelo = spacy.blank('pt')\n",
        "categorias = modelo.create_pipe(\"textcat\")\n",
        "categorias.add_label(\"POSITIVO\")\n",
        "categorias.add_label(\"NEGATIVO\")\n",
        "modelo.add_pipe(categorias)\n",
        "historico = []"
      ],
      "execution_count": null,
      "outputs": []
    },
    {
      "cell_type": "code",
      "metadata": {
        "id": "3jlGvLEz764Y",
        "colab": {
          "base_uri": "https://localhost:8080/",
          "height": 86
        },
        "outputId": "17d5a771-dea6-40e9-b602-6485600fd2e0"
      },
      "source": [
        "modelo.begin_training()\n",
        "for epoca in range(20):\n",
        "  random.shuffle(base_dados_treinamento_final)\n",
        "  losses = {}\n",
        "  for batch in spacy.util.minibatch(base_dados_treinamento_final, 512):\n",
        "    textos = [modelo(texto) for texto, entities in batch]\n",
        "    annotations = [{'cats': entities} for texto, entities in batch]\n",
        "    modelo.update(textos, annotations, losses=losses)\n",
        "    historico.append(losses)\n",
        "  if epoca % 5 == 0:\n",
        "    print(losses)"
      ],
      "execution_count": null,
      "outputs": [
        {
          "output_type": "stream",
          "text": [
            "{'textcat': 6.120001351450632e-05}\n",
            "{'textcat': 1.9376749894328693e-06}\n",
            "{'textcat': 1.5766498444799715e-06}\n",
            "{'textcat': 7.258126600087622e-07}\n"
          ],
          "name": "stdout"
        }
      ]
    },
    {
      "cell_type": "code",
      "metadata": {
        "id": "wSe-tDsCAciN"
      },
      "source": [
        "historico_loss = []\n",
        "for i in historico:\n",
        "  historico_loss.append(i.get('textcat'))"
      ],
      "execution_count": null,
      "outputs": []
    },
    {
      "cell_type": "code",
      "metadata": {
        "id": "ShJhtbYtAr50",
        "colab": {
          "base_uri": "https://localhost:8080/",
          "height": 52
        },
        "outputId": "711dcefb-df48-48fb-af4b-534dec9a005f"
      },
      "source": [
        "historico_loss = np.array(historico_loss)\n",
        "historico_loss"
      ],
      "execution_count": null,
      "outputs": [
        {
          "output_type": "execute_result",
          "data": {
            "text/plain": [
              "array([6.12000135e-05, 6.12000135e-05, 6.12000135e-05, ...,\n",
              "       2.55656181e-07, 2.55656181e-07, 2.55656181e-07])"
            ]
          },
          "metadata": {
            "tags": []
          },
          "execution_count": 60
        }
      ]
    },
    {
      "cell_type": "code",
      "metadata": {
        "id": "6lEL-QoBA0KI",
        "colab": {
          "base_uri": "https://localhost:8080/",
          "height": 312
        },
        "outputId": "bffe131c-b38e-4e6c-cc7a-fc3d118bf42f"
      },
      "source": [
        "import matplotlib.pyplot as plt\n",
        "plt.plot(historico_loss)\n",
        "plt.title('Progressão do erro')\n",
        "plt.xlabel('Batches')\n",
        "plt.ylabel('Erro')"
      ],
      "execution_count": null,
      "outputs": [
        {
          "output_type": "execute_result",
          "data": {
            "text/plain": [
              "Text(0, 0.5, 'Erro')"
            ]
          },
          "metadata": {
            "tags": []
          },
          "execution_count": 62
        },
        {
          "output_type": "display_data",
          "data": {
            "image/png": "[encoded data removed]",
            "text/plain": [
              "<Figure size 432x288 with 1 Axes>"
            ]
          },
          "metadata": {
            "tags": []
          }
        }
      ]
    },
    {
      "cell_type": "code",
      "metadata": {
        "id": "amNE8xy_BPSF"
      },
      "source": [
        "modelo.to_disk(\"modelo\")"
      ],
      "execution_count": null,
      "outputs": []
    },
    {
      "cell_type": "markdown",
      "metadata": {
        "id": "ePMk8G0Dl6wg"
      },
      "source": [
        "# Etapa 6: Testes com uma frase"
      ]
    },
    {
      "cell_type": "code",
      "metadata": {
        "id": "W-7DO-DoAyPU",
        "colab": {
          "base_uri": "https://localhost:8080/",
          "height": 35
        },
        "outputId": "6783ff2d-5da2-4c01-8494-eb54376be2c1"
      },
      "source": [
        "modelo_carregado = spacy.load('modelo')\n",
        "modelo_carregado"
      ],
      "execution_count": null,
      "outputs": [
        {
          "output_type": "execute_result",
          "data": {
            "text/plain": [
              "<spacy.lang.pt.Portuguese at 0x7f5a57630940>"
            ]
          },
          "metadata": {
            "tags": []
          },
          "execution_count": 64
        }
      ]
    },
    {
      "cell_type": "markdown",
      "metadata": {
        "id": "RZxpVOP4wJT9"
      },
      "source": [
        "## Texto positivo"
      ]
    },
    {
      "cell_type": "code",
      "metadata": {
        "id": "fGB9HS7BBEK2",
        "colab": {
          "base_uri": "https://localhost:8080/",
          "height": 35
        },
        "outputId": "2a1e6b96-64c7-473a-8db1-a2332d09ed9c"
      },
      "source": [
        "texto_positivo = base_teste['tweet_text'][21]\n",
        "texto_positivo"
      ],
      "execution_count": null,
      "outputs": [
        {
          "output_type": "execute_result",
          "data": {
            "text/plain": [
              "'  ficar feliz q recíproco emocaopositiva'"
            ]
          },
          "metadata": {
            "tags": []
          },
          "execution_count": 66
        }
      ]
    },
    {
      "cell_type": "code",
      "metadata": {
        "id": "NRJW5li7Bpij",
        "colab": {
          "base_uri": "https://localhost:8080/",
          "height": 35
        },
        "outputId": "c47e00eb-5d1c-4654-de59-875eaa3bd906"
      },
      "source": [
        "previsao = modelo_carregado(texto_positivo)\n",
        "previsao"
      ],
      "execution_count": null,
      "outputs": [
        {
          "output_type": "execute_result",
          "data": {
            "text/plain": [
              "  ficar feliz q recíproco emocaopositiva"
            ]
          },
          "metadata": {
            "tags": []
          },
          "execution_count": 67
        }
      ]
    },
    {
      "cell_type": "code",
      "metadata": {
        "id": "_XtuIsoMBuz8",
        "colab": {
          "base_uri": "https://localhost:8080/",
          "height": 35
        },
        "outputId": "032686e3-ecf8-4c9a-c5a4-6e3eefa97c65"
      },
      "source": [
        "previsao.cats"
      ],
      "execution_count": null,
      "outputs": [
        {
          "output_type": "execute_result",
          "data": {
            "text/plain": [
              "{'NEGATIVO': 0.0005359608330763876, 'POSITIVO': 0.9996969699859619}"
            ]
          },
          "metadata": {
            "tags": []
          },
          "execution_count": 68
        }
      ]
    },
    {
      "cell_type": "code",
      "metadata": {
        "id": "wKdZht7PB1cJ",
        "colab": {
          "base_uri": "https://localhost:8080/",
          "height": 35
        },
        "outputId": "72829a2d-62c8-43d9-ba4d-abfc71f63619"
      },
      "source": [
        "texto_positivo = 'eu gosto muito de você'\n",
        "texto_positivo = preprocessamento(texto_positivo)\n",
        "texto_positivo"
      ],
      "execution_count": null,
      "outputs": [
        {
          "output_type": "execute_result",
          "data": {
            "text/plain": [
              "'gostar'"
            ]
          },
          "metadata": {
            "tags": []
          },
          "execution_count": 69
        }
      ]
    },
    {
      "cell_type": "code",
      "metadata": {
        "id": "GFDF7coVCC4c",
        "colab": {
          "base_uri": "https://localhost:8080/",
          "height": 35
        },
        "outputId": "5a8feced-4588-4565-8f85-0426b922badd"
      },
      "source": [
        "modelo_carregado(texto_positivo).cats"
      ],
      "execution_count": null,
      "outputs": [
        {
          "output_type": "execute_result",
          "data": {
            "text/plain": [
              "{'NEGATIVO': 0.30838680267333984, 'POSITIVO': 0.8977084755897522}"
            ]
          },
          "metadata": {
            "tags": []
          },
          "execution_count": 70
        }
      ]
    },
    {
      "cell_type": "markdown",
      "metadata": {
        "id": "eavhsiJ4weg6"
      },
      "source": [
        "## Texto negativo"
      ]
    },
    {
      "cell_type": "code",
      "metadata": {
        "id": "Luyzv_ZcCY9p",
        "colab": {
          "base_uri": "https://localhost:8080/",
          "height": 35
        },
        "outputId": "7bc4922a-e5a7-402c-f3b2-e72746daf62e"
      },
      "source": [
        "base_teste['tweet_text'][4000]"
      ],
      "execution_count": null,
      "outputs": [
        {
          "output_type": "execute_result",
          "data": {
            "text/plain": [
              "'tô triste filmar mulan o mushu emocaonegativa'"
            ]
          },
          "metadata": {
            "tags": []
          },
          "execution_count": 72
        }
      ]
    },
    {
      "cell_type": "code",
      "metadata": {
        "id": "GgpAm0JFCggN",
        "colab": {
          "base_uri": "https://localhost:8080/",
          "height": 35
        },
        "outputId": "ed0c89ff-7246-44d9-f145-58e7811efb3b"
      },
      "source": [
        "texto_negativo = base_teste['tweet_text'][4000]\n",
        "previsao = modelo_carregado(texto_negativo)\n",
        "previsao.cats"
      ],
      "execution_count": null,
      "outputs": [
        {
          "output_type": "execute_result",
          "data": {
            "text/plain": [
              "{'NEGATIVO': 0.9989765882492065, 'POSITIVO': 0.000842371373437345}"
            ]
          },
          "metadata": {
            "tags": []
          },
          "execution_count": 73
        }
      ]
    },
    {
      "cell_type": "markdown",
      "metadata": {
        "id": "KhF2vtEsnlpM"
      },
      "source": [
        "# Etapa 7: Avaliação do modelo"
      ]
    },
    {
      "cell_type": "markdown",
      "metadata": {
        "id": "sJzwpVWNACFi"
      },
      "source": [
        "## Avaliação na base de treinamento\n"
      ]
    },
    {
      "cell_type": "code",
      "metadata": {
        "id": "6NoTHRADDZ0Z"
      },
      "source": [
        "previsoes = []\n",
        "for texto in base_treinamento['tweet_text']:\n",
        "  previsao = modelo_carregado(texto)\n",
        "  previsoes.append(previsao.cats)"
      ],
      "execution_count": null,
      "outputs": []
    },
    {
      "cell_type": "code",
      "metadata": {
        "id": "8lRO94OuDvLZ",
        "colab": {
          "base_uri": "https://localhost:8080/",
          "height": 1000
        },
        "outputId": "23e89371-7179-4117-f220-108128cf49e8"
      },
      "source": [
        "previsoes"
      ],
      "execution_count": null,
      "outputs": [
        {
          "output_type": "execute_result",
          "data": {
            "text/plain": [
              "[{'NEGATIVO': 0.000555679842364043, 'POSITIVO': 0.9997026324272156},\n",
              " {'NEGATIVO': 0.0008373232558369637, 'POSITIVO': 0.9997205138206482},\n",
              " {'NEGATIVO': 0.0006859713466838002, 'POSITIVO': 0.9997077584266663},\n",
              " {'NEGATIVO': 0.000508811033796519, 'POSITIVO': 0.9995720982551575},\n",
              " {'NEGATIVO': 0.0004193139902781695, 'POSITIVO': 0.9995723366737366},\n",
              " {'NEGATIVO': 0.0008047428564168513, 'POSITIVO': 0.9996887445449829},\n",
              " {'NEGATIVO': 0.0006678317440673709, 'POSITIVO': 0.9996962547302246},\n",
              " {'NEGATIVO': 0.00044293105020187795, 'POSITIVO': 0.9995916485786438},\n",
              " {'NEGATIVO': 0.0014879266964271665, 'POSITIVO': 0.9986950755119324},\n",
              " {'NEGATIVO': 0.0006742776022292674, 'POSITIVO': 0.9996894598007202},\n",
              " {'NEGATIVO': 0.0006598394247703254, 'POSITIVO': 0.9997170567512512},\n",
              " {'NEGATIVO': 0.0004081104416400194, 'POSITIVO': 0.9993226528167725},\n",
              " {'NEGATIVO': 0.0005326570826582611, 'POSITIVO': 0.9996994733810425},\n",
              " {'NEGATIVO': 0.0007735080434940755, 'POSITIVO': 0.9997400641441345},\n",
              " {'NEGATIVO': 0.0007108403369784355, 'POSITIVO': 0.9997215867042542},\n",
              " {'NEGATIVO': 0.0006667537381872535, 'POSITIVO': 0.9995855689048767},\n",
              " {'NEGATIVO': 0.000591759686358273, 'POSITIVO': 0.9996693134307861},\n",
              " {'NEGATIVO': 0.00044603762216866016, 'POSITIVO': 0.9994599223136902},\n",
              " {'NEGATIVO': 0.0005419584340415895, 'POSITIVO': 0.9990569949150085},\n",
              " {'NEGATIVO': 0.00029773099231533706, 'POSITIVO': 0.9992744326591492},\n",
              " {'NEGATIVO': 0.0004849096294492483, 'POSITIVO': 0.999657154083252},\n",
              " {'NEGATIVO': 0.0006502024480141699, 'POSITIVO': 0.9997087121009827},\n",
              " {'NEGATIVO': 0.0006576940650120378, 'POSITIVO': 0.9997139573097229},\n",
              " {'NEGATIVO': 0.0005800660001114011, 'POSITIVO': 0.9996507167816162},\n",
              " {'NEGATIVO': 0.0006494855042546988, 'POSITIVO': 0.9996631145477295},\n",
              " {'NEGATIVO': 0.0005810415605083108, 'POSITIVO': 0.9997351765632629},\n",
              " {'NEGATIVO': 0.00039005334838293493, 'POSITIVO': 0.9989075660705566},\n",
              " {'NEGATIVO': 0.0017942717531695962, 'POSITIVO': 0.9992533326148987},\n",
              " {'NEGATIVO': 0.0012520886957645416, 'POSITIVO': 0.9998132586479187},\n",
              " {'NEGATIVO': 0.0007619162206538022, 'POSITIVO': 0.9994024038314819},\n",
              " {'NEGATIVO': 0.0005680791800841689, 'POSITIVO': 0.9996488094329834},\n",
              " {'NEGATIVO': 0.0004978321376256645, 'POSITIVO': 0.9995991587638855},\n",
              " {'NEGATIVO': 0.0008928311872296035, 'POSITIVO': 0.9997429251670837},\n",
              " {'NEGATIVO': 0.0006642633816227317, 'POSITIVO': 0.9996711015701294},\n",
              " {'NEGATIVO': 0.0005257035954855382, 'POSITIVO': 0.9996246099472046},\n",
              " {'NEGATIVO': 0.0010697840480133891, 'POSITIVO': 0.9987490177154541},\n",
              " {'NEGATIVO': 0.0005593173555098474, 'POSITIVO': 0.9997385144233704},\n",
              " {'NEGATIVO': 0.0011242053005844355, 'POSITIVO': 0.9998292922973633},\n",
              " {'NEGATIVO': 0.0004329623479861766, 'POSITIVO': 0.9995504021644592},\n",
              " {'NEGATIVO': 0.0019748443737626076, 'POSITIVO': 0.9958245754241943},\n",
              " {'NEGATIVO': 0.0015053479000926018, 'POSITIVO': 0.9993788003921509},\n",
              " {'NEGATIVO': 0.00044313102262094617, 'POSITIVO': 0.999616265296936},\n",
              " {'NEGATIVO': 0.0007259421981871128, 'POSITIVO': 0.9989169836044312},\n",
              " {'NEGATIVO': 0.0006122388294897974, 'POSITIVO': 0.9996070265769958},\n",
              " {'NEGATIVO': 0.0011974176159128547, 'POSITIVO': 0.9973220229148865},\n",
              " {'NEGATIVO': 0.001448133960366249, 'POSITIVO': 0.9988270401954651},\n",
              " {'NEGATIVO': 0.0005890754400752485, 'POSITIVO': 0.9996817111968994},\n",
              " {'NEGATIVO': 0.0006550067919306457, 'POSITIVO': 0.9996825456619263},\n",
              " {'NEGATIVO': 0.0007368788355961442, 'POSITIVO': 0.9997419714927673},\n",
              " {'NEGATIVO': 0.0005934428190812469, 'POSITIVO': 0.9996885061264038},\n",
              " {'NEGATIVO': 0.0023998806718736887, 'POSITIVO': 0.9995449185371399},\n",
              " {'NEGATIVO': 0.0005327533581294119, 'POSITIVO': 0.9996778964996338},\n",
              " {'NEGATIVO': 0.0006735428469255567, 'POSITIVO': 0.999761164188385},\n",
              " {'NEGATIVO': 0.0013788602082058787, 'POSITIVO': 0.9967061877250671},\n",
              " {'NEGATIVO': 0.0006086485227569938, 'POSITIVO': 0.9996858835220337},\n",
              " {'NEGATIVO': 0.0003992717247456312, 'POSITIVO': 0.9995288848876953},\n",
              " {'NEGATIVO': 0.0006876502302475274, 'POSITIVO': 0.999723494052887},\n",
              " {'NEGATIVO': 0.0005523744039237499, 'POSITIVO': 0.9995879530906677},\n",
              " {'NEGATIVO': 0.0006240606890060008, 'POSITIVO': 0.999695897102356},\n",
              " {'NEGATIVO': 0.0005343525554053485, 'POSITIVO': 0.9996973276138306},\n",
              " {'NEGATIVO': 0.00045457365922629833, 'POSITIVO': 0.9996411800384521},\n",
              " {'NEGATIVO': 0.0006170395063236356, 'POSITIVO': 0.9996988773345947},\n",
              " {'NEGATIVO': 0.0006581922643817961, 'POSITIVO': 0.999278724193573},\n",
              " {'NEGATIVO': 0.0004021023341920227, 'POSITIVO': 0.9996656179428101},\n",
              " {'NEGATIVO': 0.000979902339167893, 'POSITIVO': 0.998823344707489},\n",
              " {'NEGATIVO': 0.00048646220238879323, 'POSITIVO': 0.9996155500411987},\n",
              " {'NEGATIVO': 0.0007415529107674956, 'POSITIVO': 0.9997503161430359},\n",
              " {'NEGATIVO': 0.0005259449244476855, 'POSITIVO': 0.9996110796928406},\n",
              " {'NEGATIVO': 0.0006453751702792943, 'POSITIVO': 0.9996678829193115},\n",
              " {'NEGATIVO': 0.0006648479611612856, 'POSITIVO': 0.9997082352638245},\n",
              " {'NEGATIVO': 0.0006057508871890604, 'POSITIVO': 0.9997370839118958},\n",
              " {'NEGATIVO': 0.0006545334472320974, 'POSITIVO': 0.9996762275695801},\n",
              " {'NEGATIVO': 0.0005151004297658801, 'POSITIVO': 0.9995291233062744},\n",
              " {'NEGATIVO': 0.0005467411247082055, 'POSITIVO': 0.9996757507324219},\n",
              " {'NEGATIVO': 0.0006313541671261191, 'POSITIVO': 0.9995972514152527},\n",
              " {'NEGATIVO': 0.0006581922643817961, 'POSITIVO': 0.999278724193573},\n",
              " {'NEGATIVO': 0.0005594503600150347, 'POSITIVO': 0.9995653033256531},\n",
              " {'NEGATIVO': 0.0005340480129234493, 'POSITIVO': 0.999541163444519},\n",
              " {'NEGATIVO': 0.0010047019459307194, 'POSITIVO': 0.9997232556343079},\n",
              " {'NEGATIVO': 0.0009215776226483285, 'POSITIVO': 0.9994408488273621},\n",
              " {'NEGATIVO': 0.0005846184212714434, 'POSITIVO': 0.9996401071548462},\n",
              " {'NEGATIVO': 0.0006292177713476121, 'POSITIVO': 0.9997492432594299},\n",
              " {'NEGATIVO': 0.0005103179719299078, 'POSITIVO': 0.9996157884597778},\n",
              " {'NEGATIVO': 0.0005593000678345561, 'POSITIVO': 0.9996908903121948},\n",
              " {'NEGATIVO': 0.0005914706853218377, 'POSITIVO': 0.999648928642273},\n",
              " {'NEGATIVO': 0.0004859338514506817, 'POSITIVO': 0.99944669008255},\n",
              " {'NEGATIVO': 0.0009095181594602764, 'POSITIVO': 0.9997527003288269},\n",
              " {'NEGATIVO': 0.00046117286547087133, 'POSITIVO': 0.9990224838256836},\n",
              " {'NEGATIVO': 0.006479036528617144, 'POSITIVO': 0.9996535778045654},\n",
              " {'NEGATIVO': 0.0007860673358663917, 'POSITIVO': 0.9997369647026062},\n",
              " {'NEGATIVO': 0.0013579761143773794, 'POSITIVO': 0.9997138381004333},\n",
              " {'NEGATIVO': 0.0005577968549914658, 'POSITIVO': 0.9996523857116699},\n",
              " {'NEGATIVO': 0.0009360424592159688, 'POSITIVO': 0.999583899974823},\n",
              " {'NEGATIVO': 0.0004050037241540849, 'POSITIVO': 0.9993941783905029},\n",
              " {'NEGATIVO': 0.0005452556069940329, 'POSITIVO': 0.9995867609977722},\n",
              " {'NEGATIVO': 0.001859369920566678, 'POSITIVO': 0.999350368976593},\n",
              " {'NEGATIVO': 0.0005906932638026774, 'POSITIVO': 0.9994075298309326},\n",
              " {'NEGATIVO': 0.0007963515818119049, 'POSITIVO': 0.9997051358222961},\n",
              " {'NEGATIVO': 0.0008429823792539537, 'POSITIVO': 0.999744713306427},\n",
              " {'NEGATIVO': 0.00047539413208141923, 'POSITIVO': 0.9996091723442078},\n",
              " {'NEGATIVO': 0.002731648739427328, 'POSITIVO': 0.9942737221717834},\n",
              " {'NEGATIVO': 0.000376371928723529, 'POSITIVO': 0.9995649456977844},\n",
              " {'NEGATIVO': 0.0005928853643126786, 'POSITIVO': 0.9996925592422485},\n",
              " {'NEGATIVO': 0.0005371196893975139, 'POSITIVO': 0.9996331930160522},\n",
              " {'NEGATIVO': 0.0006526305223815143, 'POSITIVO': 0.9994215965270996},\n",
              " {'NEGATIVO': 0.0006218235357664526, 'POSITIVO': 0.9996455907821655},\n",
              " {'NEGATIVO': 0.0006592654972337186, 'POSITIVO': 0.9993681311607361},\n",
              " {'NEGATIVO': 0.0005041848053224385, 'POSITIVO': 0.9996246099472046},\n",
              " {'NEGATIVO': 0.0007916420581750572, 'POSITIVO': 0.9997608065605164},\n",
              " {'NEGATIVO': 0.0005336814210750163, 'POSITIVO': 0.9994075298309326},\n",
              " {'NEGATIVO': 0.00035219392157159746, 'POSITIVO': 0.9994920492172241},\n",
              " {'NEGATIVO': 0.0006853427621535957, 'POSITIVO': 0.9992215633392334},\n",
              " {'NEGATIVO': 0.0020123885478824377, 'POSITIVO': 0.9994426369667053},\n",
              " {'NEGATIVO': 0.0008373695891350508, 'POSITIVO': 0.9997887015342712},\n",
              " {'NEGATIVO': 0.0007021242054179311, 'POSITIVO': 0.9996973276138306},\n",
              " {'NEGATIVO': 0.007874921895563602, 'POSITIVO': 0.9987391829490662},\n",
              " {'NEGATIVO': 0.0005075978697277606, 'POSITIVO': 0.9996628761291504},\n",
              " {'NEGATIVO': 0.00047420201008208096, 'POSITIVO': 0.9995602965354919},\n",
              " {'NEGATIVO': 0.0004245475574862212, 'POSITIVO': 0.9996563196182251},\n",
              " {'NEGATIVO': 0.00047934975009411573, 'POSITIVO': 0.9979352951049805},\n",
              " {'NEGATIVO': 0.0006102048791944981, 'POSITIVO': 0.9996891021728516},\n",
              " {'NEGATIVO': 0.00042349539580754936, 'POSITIVO': 0.9995135068893433},\n",
              " {'NEGATIVO': 0.0004841106419917196, 'POSITIVO': 0.9996589422225952},\n",
              " {'NEGATIVO': 0.0009494586265645921, 'POSITIVO': 0.9992399215698242},\n",
              " {'NEGATIVO': 0.0031447741203010082, 'POSITIVO': 0.9964730143547058},\n",
              " {'NEGATIVO': 0.000607342051807791, 'POSITIVO': 0.9997074007987976},\n",
              " {'NEGATIVO': 0.0004919949569739401, 'POSITIVO': 0.9994468092918396},\n",
              " {'NEGATIVO': 0.0006047753849998116, 'POSITIVO': 0.9997411370277405},\n",
              " {'NEGATIVO': 0.0006350577459670603, 'POSITIVO': 0.9996699094772339},\n",
              " {'NEGATIVO': 0.0005639421287924051, 'POSITIVO': 0.9996148347854614},\n",
              " {'NEGATIVO': 0.0007611930486746132, 'POSITIVO': 0.9997476935386658},\n",
              " {'NEGATIVO': 0.00057095882948488, 'POSITIVO': 0.9996857643127441},\n",
              " {'NEGATIVO': 0.0006242843228392303, 'POSITIVO': 0.999651312828064},\n",
              " {'NEGATIVO': 0.00044201803393661976, 'POSITIVO': 0.9996247291564941},\n",
              " {'NEGATIVO': 0.0004929234855808318, 'POSITIVO': 0.999596893787384},\n",
              " {'NEGATIVO': 0.0006508890655823052, 'POSITIVO': 0.9997157454490662},\n",
              " {'NEGATIVO': 0.0006281661917455494, 'POSITIVO': 0.9997119307518005},\n",
              " {'NEGATIVO': 0.00031751362257637084, 'POSITIVO': 0.9994797110557556},\n",
              " {'NEGATIVO': 0.0005672789411619306, 'POSITIVO': 0.9996551275253296},\n",
              " {'NEGATIVO': 0.00074701604899019, 'POSITIVO': 0.9996516704559326},\n",
              " {'NEGATIVO': 0.0007802206673659384, 'POSITIVO': 0.9997542500495911},\n",
              " {'NEGATIVO': 0.0005913345376029611, 'POSITIVO': 0.9996732473373413},\n",
              " {'NEGATIVO': 0.0006729362066835165, 'POSITIVO': 0.9997060894966125},\n",
              " {'NEGATIVO': 0.00046475164708681405, 'POSITIVO': 0.999586284160614},\n",
              " {'NEGATIVO': 0.0006804097210988402, 'POSITIVO': 0.9996870756149292},\n",
              " {'NEGATIVO': 0.0004636715166270733, 'POSITIVO': 0.9996592998504639},\n",
              " {'NEGATIVO': 0.00046852434752509, 'POSITIVO': 0.999584972858429},\n",
              " {'NEGATIVO': 0.0019247641321271658, 'POSITIVO': 0.9991718530654907},\n",
              " {'NEGATIVO': 0.00040597471524961293, 'POSITIVO': 0.9995307922363281},\n",
              " {'NEGATIVO': 0.0005664763157255948, 'POSITIVO': 0.9996458292007446},\n",
              " {'NEGATIVO': 0.0007333540706895292, 'POSITIVO': 0.9997054934501648},\n",
              " {'NEGATIVO': 0.0055064610205590725, 'POSITIVO': 0.9966729879379272},\n",
              " {'NEGATIVO': 0.0008776613976806402, 'POSITIVO': 0.9997459053993225},\n",
              " {'NEGATIVO': 0.0006517429137602448, 'POSITIVO': 0.9981881976127625},\n",
              " {'NEGATIVO': 0.0010383515618741512, 'POSITIVO': 0.9996325969696045},\n",
              " {'NEGATIVO': 0.0006143401842564344, 'POSITIVO': 0.9996813535690308},\n",
              " {'NEGATIVO': 0.011693114414811134, 'POSITIVO': 0.9927714467048645},\n",
              " {'NEGATIVO': 0.000578699226025492, 'POSITIVO': 0.999605119228363},\n",
              " {'NEGATIVO': 0.01415809616446495, 'POSITIVO': 0.9962297081947327},\n",
              " {'NEGATIVO': 0.0006328403251245618, 'POSITIVO': 0.9997019171714783},\n",
              " {'NEGATIVO': 0.000484317890368402, 'POSITIVO': 0.999605119228363},\n",
              " {'NEGATIVO': 0.0019319831626489758, 'POSITIVO': 0.9997681975364685},\n",
              " {'NEGATIVO': 0.00082097586710006, 'POSITIVO': 0.9997662901878357},\n",
              " {'NEGATIVO': 0.0008746455423533916, 'POSITIVO': 0.9997246861457825},\n",
              " {'NEGATIVO': 0.001148220500908792, 'POSITIVO': 0.9987891316413879},\n",
              " {'NEGATIVO': 0.000592544733081013, 'POSITIVO': 0.9996330738067627},\n",
              " {'NEGATIVO': 0.0006216291803866625, 'POSITIVO': 0.9996088147163391},\n",
              " {'NEGATIVO': 0.0005357881891541183, 'POSITIVO': 0.9993032217025757},\n",
              " {'NEGATIVO': 0.0006341448170132935, 'POSITIVO': 0.999666690826416},\n",
              " {'NEGATIVO': 0.0005128910997882485, 'POSITIVO': 0.999521017074585},\n",
              " {'NEGATIVO': 0.0015039874706417322, 'POSITIVO': 0.9994049072265625},\n",
              " {'NEGATIVO': 0.00048338944907300174, 'POSITIVO': 0.9996511936187744},\n",
              " {'NEGATIVO': 0.0004333961405791342, 'POSITIVO': 0.9985998272895813},\n",
              " {'NEGATIVO': 0.0005330172134563327, 'POSITIVO': 0.9996272325515747},\n",
              " {'NEGATIVO': 0.000631799572147429, 'POSITIVO': 0.999605119228363},\n",
              " {'NEGATIVO': 0.0006322995759546757, 'POSITIVO': 0.9995939135551453},\n",
              " {'NEGATIVO': 0.0006420347490347922, 'POSITIVO': 0.9996682405471802},\n",
              " {'NEGATIVO': 0.00034972120192833245, 'POSITIVO': 0.9994210004806519},\n",
              " {'NEGATIVO': 0.0006640450446866453, 'POSITIVO': 0.9997506737709045},\n",
              " {'NEGATIVO': 0.0005534081137739122, 'POSITIVO': 0.9995136260986328},\n",
              " {'NEGATIVO': 0.0005500008119270205, 'POSITIVO': 0.9995593428611755},\n",
              " {'NEGATIVO': 0.0005313348956406116, 'POSITIVO': 0.9997413754463196},\n",
              " {'NEGATIVO': 0.0005655087297782302, 'POSITIVO': 0.9996366500854492},\n",
              " {'NEGATIVO': 0.0005441990215331316, 'POSITIVO': 0.9996127486228943},\n",
              " {'NEGATIVO': 0.000506735173985362, 'POSITIVO': 0.9996728897094727},\n",
              " {'NEGATIVO': 0.00047691029612906277, 'POSITIVO': 0.9995816349983215},\n",
              " {'NEGATIVO': 0.0006347074522636831, 'POSITIVO': 0.999645471572876},\n",
              " {'NEGATIVO': 0.0006603389047086239, 'POSITIVO': 0.9996448755264282},\n",
              " {'NEGATIVO': 0.0005700770998373628, 'POSITIVO': 0.9996126294136047},\n",
              " {'NEGATIVO': 0.0006065229536034167, 'POSITIVO': 0.9994138479232788},\n",
              " {'NEGATIVO': 0.0007234862423501909, 'POSITIVO': 0.9997269511222839},\n",
              " {'NEGATIVO': 0.0004036477766931057, 'POSITIVO': 0.9992998838424683},\n",
              " {'NEGATIVO': 0.0005941527779214084, 'POSITIVO': 0.9995941519737244},\n",
              " {'NEGATIVO': 0.0004084459214936942, 'POSITIVO': 0.9995504021644592},\n",
              " {'NEGATIVO': 0.0004838241438847035, 'POSITIVO': 0.999659538269043},\n",
              " {'NEGATIVO': 0.0006597060710191727, 'POSITIVO': 0.9997019171714783},\n",
              " {'NEGATIVO': 0.0009272387251257896, 'POSITIVO': 0.9997462630271912},\n",
              " {'NEGATIVO': 0.0006221071816980839, 'POSITIVO': 0.9996473789215088},\n",
              " {'NEGATIVO': 0.0009919003350660205, 'POSITIVO': 0.9997809529304504},\n",
              " {'NEGATIVO': 0.0005142769659869373, 'POSITIVO': 0.9996628761291504},\n",
              " {'NEGATIVO': 0.0007876501767896116, 'POSITIVO': 0.9997439980506897},\n",
              " {'NEGATIVO': 0.0008059265674091876, 'POSITIVO': 0.9968602657318115},\n",
              " {'NEGATIVO': 0.0006700719823129475, 'POSITIVO': 0.9995729327201843},\n",
              " {'NEGATIVO': 0.0005084668518975377, 'POSITIVO': 0.9996695518493652},\n",
              " {'NEGATIVO': 0.0006090622628107667, 'POSITIVO': 0.9997187256813049},\n",
              " {'NEGATIVO': 0.0002933068317361176, 'POSITIVO': 0.9992672801017761},\n",
              " {'NEGATIVO': 0.0006075944984331727, 'POSITIVO': 0.9996849298477173},\n",
              " {'NEGATIVO': 0.000478607602417469, 'POSITIVO': 0.9996610879898071},\n",
              " {'NEGATIVO': 0.0009713757317513227, 'POSITIVO': 0.9988148212432861},\n",
              " {'NEGATIVO': 0.0005388126010075212, 'POSITIVO': 0.9996840953826904},\n",
              " {'NEGATIVO': 0.00039162285975180566, 'POSITIVO': 0.9995854496955872},\n",
              " {'NEGATIVO': 0.00043581187492236495, 'POSITIVO': 0.9995203018188477},\n",
              " {'NEGATIVO': 0.0004706741019617766, 'POSITIVO': 0.9994994401931763},\n",
              " {'NEGATIVO': 0.002015907084569335, 'POSITIVO': 0.9992837309837341},\n",
              " {'NEGATIVO': 0.0007512258016504347, 'POSITIVO': 0.9997126460075378},\n",
              " {'NEGATIVO': 0.0022171237505972385, 'POSITIVO': 0.998963475227356},\n",
              " {'NEGATIVO': 0.0004899243940599263, 'POSITIVO': 0.9996362924575806},\n",
              " {'NEGATIVO': 0.0005098359542898834, 'POSITIVO': 0.9996548891067505},\n",
              " {'NEGATIVO': 0.027216551825404167, 'POSITIVO': 0.9792441725730896},\n",
              " {'NEGATIVO': 0.0006857448606751859, 'POSITIVO': 0.999679446220398},\n",
              " {'NEGATIVO': 0.0005958561087027192, 'POSITIVO': 0.9996871948242188},\n",
              " {'NEGATIVO': 0.0006544040516018867, 'POSITIVO': 0.9996509552001953},\n",
              " {'NEGATIVO': 0.0009686683188192546, 'POSITIVO': 0.9992130994796753},\n",
              " {'NEGATIVO': 0.0006276416243053973, 'POSITIVO': 0.9997565150260925},\n",
              " {'NEGATIVO': 0.0005246390937827528, 'POSITIVO': 0.9997214674949646},\n",
              " {'NEGATIVO': 0.0005524989101104438, 'POSITIVO': 0.999715268611908},\n",
              " {'NEGATIVO': 0.0009597541647963226, 'POSITIVO': 0.999736487865448},\n",
              " {'NEGATIVO': 0.0006007149931974709, 'POSITIVO': 0.9996722936630249},\n",
              " {'NEGATIVO': 0.000651007576379925, 'POSITIVO': 0.9987106323242188},\n",
              " {'NEGATIVO': 0.0006402614526450634, 'POSITIVO': 0.9996486902236938},\n",
              " {'NEGATIVO': 0.0005183553439565003, 'POSITIVO': 0.9997114539146423},\n",
              " {'NEGATIVO': 0.0006497607682831585, 'POSITIVO': 0.9996660947799683},\n",
              " {'NEGATIVO': 0.0005037419032305479, 'POSITIVO': 0.9994558691978455},\n",
              " {'NEGATIVO': 0.0004591380711644888, 'POSITIVO': 0.9996040463447571},\n",
              " {'NEGATIVO': 0.0007221224368549883, 'POSITIVO': 0.9997642636299133},\n",
              " {'NEGATIVO': 0.000428824860136956, 'POSITIVO': 0.999541163444519},\n",
              " {'NEGATIVO': 0.0008850687881931663, 'POSITIVO': 0.9997573494911194},\n",
              " {'NEGATIVO': 0.0005834492039866745, 'POSITIVO': 0.9995638728141785},\n",
              " {'NEGATIVO': 0.000737718481104821, 'POSITIVO': 0.9997056126594543},\n",
              " {'NEGATIVO': 0.0006963982013985515, 'POSITIVO': 0.9978260397911072},\n",
              " {'NEGATIVO': 0.0023220067378133535, 'POSITIVO': 0.9995880722999573},\n",
              " {'NEGATIVO': 0.0005020746029913425, 'POSITIVO': 0.9995915293693542},\n",
              " {'NEGATIVO': 0.0005695114959962666, 'POSITIVO': 0.9996782541275024},\n",
              " {'NEGATIVO': 0.001885276404209435, 'POSITIVO': 0.9964602589607239},\n",
              " {'NEGATIVO': 0.0006240606890060008, 'POSITIVO': 0.999695897102356},\n",
              " {'NEGATIVO': 0.0005418628570623696, 'POSITIVO': 0.9996654987335205},\n",
              " {'NEGATIVO': 0.002888572635129094, 'POSITIVO': 0.9987395405769348},\n",
              " {'NEGATIVO': 0.0006001507281325758, 'POSITIVO': 0.9997360110282898},\n",
              " {'NEGATIVO': 0.0007935775211080909, 'POSITIVO': 0.9996894598007202},\n",
              " {'NEGATIVO': 0.0005110562196932733, 'POSITIVO': 0.9996165037155151},\n",
              " {'NEGATIVO': 0.00048662262270227075, 'POSITIVO': 0.9996781349182129},\n",
              " {'NEGATIVO': 0.0006709439330734313, 'POSITIVO': 0.9996053576469421},\n",
              " {'NEGATIVO': 0.00040325545705854893, 'POSITIVO': 0.9992473125457764},\n",
              " {'NEGATIVO': 0.0005219632876105607, 'POSITIVO': 0.9995724558830261},\n",
              " {'NEGATIVO': 0.003606216749176383, 'POSITIVO': 0.9996129870414734},\n",
              " {'NEGATIVO': 0.0006240606890060008, 'POSITIVO': 0.999695897102356},\n",
              " {'NEGATIVO': 0.0007253378280438483, 'POSITIVO': 0.9997047781944275},\n",
              " {'NEGATIVO': 0.0005518008256331086, 'POSITIVO': 0.9996378421783447},\n",
              " {'NEGATIVO': 0.0020456723868846893, 'POSITIVO': 0.9992796778678894},\n",
              " {'NEGATIVO': 0.0006010345532558858, 'POSITIVO': 0.9996912479400635},\n",
              " {'NEGATIVO': 0.0005192143144086003, 'POSITIVO': 0.999523401260376},\n",
              " {'NEGATIVO': 0.0005992259248159826, 'POSITIVO': 0.9996927976608276},\n",
              " {'NEGATIVO': 0.0009253188036382198, 'POSITIVO': 0.9997033476829529},\n",
              " {'NEGATIVO': 0.0006292177713476121, 'POSITIVO': 0.9997492432594299},\n",
              " {'NEGATIVO': 0.0006248173885978758, 'POSITIVO': 0.9997424483299255},\n",
              " {'NEGATIVO': 0.0007712359074503183, 'POSITIVO': 0.9997499585151672},\n",
              " {'NEGATIVO': 0.0005030955071561038, 'POSITIVO': 0.9995817542076111},\n",
              " {'NEGATIVO': 0.0005838327342644334, 'POSITIVO': 0.9996566772460938},\n",
              " {'NEGATIVO': 0.0005250973626971245, 'POSITIVO': 0.9985387325286865},\n",
              " {'NEGATIVO': 0.0019529233686625957, 'POSITIVO': 0.9975056052207947},\n",
              " {'NEGATIVO': 0.0015871699433773756, 'POSITIVO': 0.999414324760437},\n",
              " {'NEGATIVO': 0.0005482612759806216, 'POSITIVO': 0.9997172951698303},\n",
              " {'NEGATIVO': 0.0006292177713476121, 'POSITIVO': 0.9997492432594299},\n",
              " {'NEGATIVO': 0.0006996724987402558, 'POSITIVO': 0.9995156526565552},\n",
              " {'NEGATIVO': 0.0005474922945722938, 'POSITIVO': 0.9995527863502502},\n",
              " {'NEGATIVO': 0.0028895672876387835, 'POSITIVO': 0.9987457990646362},\n",
              " {'NEGATIVO': 0.00044932228047400713, 'POSITIVO': 0.9996015429496765},\n",
              " {'NEGATIVO': 0.0006375450757332146, 'POSITIVO': 0.9997490048408508},\n",
              " {'NEGATIVO': 0.0006009755306877196, 'POSITIVO': 0.9996086955070496},\n",
              " {'NEGATIVO': 0.0006998772150836885, 'POSITIVO': 0.9978010058403015},\n",
              " {'NEGATIVO': 0.0007144809933379292, 'POSITIVO': 0.9996485710144043},\n",
              " {'NEGATIVO': 0.0005799313657917082, 'POSITIVO': 0.9996544122695923},\n",
              " {'NEGATIVO': 0.0007394901476800442, 'POSITIVO': 0.999705970287323},\n",
              " {'NEGATIVO': 0.000802010647021234, 'POSITIVO': 0.9996519088745117},\n",
              " {'NEGATIVO': 0.00045444455463439226, 'POSITIVO': 0.9995916485786438},\n",
              " {'NEGATIVO': 0.004113850183784962, 'POSITIVO': 0.9974969029426575},\n",
              " {'NEGATIVO': 0.0008213361143134534, 'POSITIVO': 0.9988973140716553},\n",
              " {'NEGATIVO': 0.0009407022153027356, 'POSITIVO': 0.9997197985649109},\n",
              " {'NEGATIVO': 0.0004275191167835146, 'POSITIVO': 0.9995891451835632},\n",
              " {'NEGATIVO': 0.0008862810209393501, 'POSITIVO': 0.999727189540863},\n",
              " {'NEGATIVO': 0.0004757082788273692, 'POSITIVO': 0.9996254444122314},\n",
              " {'NEGATIVO': 0.0006550067919306457, 'POSITIVO': 0.9996825456619263},\n",
              " {'NEGATIVO': 0.0006466077174991369, 'POSITIVO': 0.9997389912605286},\n",
              " {'NEGATIVO': 0.0006112491246312857, 'POSITIVO': 0.999688982963562},\n",
              " {'NEGATIVO': 0.0006721427198499441, 'POSITIVO': 0.9997053742408752},\n",
              " {'NEGATIVO': 0.0024824868887662888, 'POSITIVO': 0.9979429841041565},\n",
              " {'NEGATIVO': 0.0010377868311479688, 'POSITIVO': 0.9980520009994507},\n",
              " {'NEGATIVO': 0.0006471613305620849, 'POSITIVO': 0.999588668346405},\n",
              " {'NEGATIVO': 0.0005412132595665753, 'POSITIVO': 0.9996476173400879},\n",
              " {'NEGATIVO': 0.0006323031848296523, 'POSITIVO': 0.9996868371963501},\n",
              " {'NEGATIVO': 0.0008012658217921853, 'POSITIVO': 0.9985472559928894},\n",
              " {'NEGATIVO': 0.0007440757472068071, 'POSITIVO': 0.9993341565132141},\n",
              " {'NEGATIVO': 0.00065206503495574, 'POSITIVO': 0.9996743202209473},\n",
              " {'NEGATIVO': 0.00048728339606896043, 'POSITIVO': 0.9996567964553833},\n",
              " {'NEGATIVO': 0.00048253918066620827, 'POSITIVO': 0.9995898604393005},\n",
              " {'NEGATIVO': 0.0007754955440759659, 'POSITIVO': 0.999733030796051},\n",
              " {'NEGATIVO': 0.0006550067919306457, 'POSITIVO': 0.9996825456619263},\n",
              " {'NEGATIVO': 0.0006292177713476121, 'POSITIVO': 0.9997492432594299},\n",
              " {'NEGATIVO': 0.0005870741442777216, 'POSITIVO': 0.9996815919876099},\n",
              " {'NEGATIVO': 0.0005276249721646309, 'POSITIVO': 0.9996719360351562},\n",
              " {'NEGATIVO': 0.0003935836721211672, 'POSITIVO': 0.9995425939559937},\n",
              " {'NEGATIVO': 0.0004884136142209172, 'POSITIVO': 0.9996755123138428},\n",
              " {'NEGATIVO': 0.0040646386332809925, 'POSITIVO': 0.9985401630401611},\n",
              " {'NEGATIVO': 0.0005801926017738879, 'POSITIVO': 0.9996480941772461},\n",
              " {'NEGATIVO': 0.0006345546571537852, 'POSITIVO': 0.9996097683906555},\n",
              " {'NEGATIVO': 0.0005479018436744809, 'POSITIVO': 0.9996304512023926},\n",
              " {'NEGATIVO': 0.0006192906876094639, 'POSITIVO': 0.9997161030769348},\n",
              " {'NEGATIVO': 0.0009608750697225332, 'POSITIVO': 0.999527096748352},\n",
              " {'NEGATIVO': 0.000463875534478575, 'POSITIVO': 0.9995830655097961},\n",
              " {'NEGATIVO': 0.0006548351375386119, 'POSITIVO': 0.9995787739753723},\n",
              " {'NEGATIVO': 0.000602537882514298, 'POSITIVO': 0.9996564388275146},\n",
              " {'NEGATIVO': 0.0012074048863723874, 'POSITIVO': 0.9990472197532654},\n",
              " {'NEGATIVO': 0.0004902179352939129, 'POSITIVO': 0.9996517896652222},\n",
              " {'NEGATIVO': 0.0005266412044875324, 'POSITIVO': 0.9996474981307983},\n",
              " {'NEGATIVO': 0.0004222690768074244, 'POSITIVO': 0.9995138645172119},\n",
              " {'NEGATIVO': 0.00045150209916755557, 'POSITIVO': 0.9996174573898315},\n",
              " {'NEGATIVO': 0.00042216424481011927, 'POSITIVO': 0.9995961785316467},\n",
              " {'NEGATIVO': 0.0005083308788016438, 'POSITIVO': 0.9996864795684814},\n",
              " {'NEGATIVO': 0.0005799932987429202, 'POSITIVO': 0.9996764659881592},\n",
              " {'NEGATIVO': 0.0004738055285997689, 'POSITIVO': 0.9995957016944885},\n",
              " {'NEGATIVO': 0.0005462910630740225, 'POSITIVO': 0.9997004270553589},\n",
              " {'NEGATIVO': 0.0005306812236085534, 'POSITIVO': 0.9996127486228943},\n",
              " {'NEGATIVO': 0.0007476056925952435, 'POSITIVO': 0.9997201561927795},\n",
              " {'NEGATIVO': 0.0010495460592210293, 'POSITIVO': 0.9997897744178772},\n",
              " {'NEGATIVO': 0.0036834371276199818, 'POSITIVO': 0.9996484518051147},\n",
              " {'NEGATIVO': 0.000794916704762727, 'POSITIVO': 0.999731719493866},\n",
              " {'NEGATIVO': 0.0005725919036194682, 'POSITIVO': 0.9996464252471924},\n",
              " {'NEGATIVO': 0.000443110300693661, 'POSITIVO': 0.9996715784072876},\n",
              " {'NEGATIVO': 0.0005190062220208347, 'POSITIVO': 0.9996476173400879},\n",
              " {'NEGATIVO': 0.0007367138168774545, 'POSITIVO': 0.9995431900024414},\n",
              " {'NEGATIVO': 0.00043322163401171565, 'POSITIVO': 0.9995354413986206},\n",
              " {'NEGATIVO': 0.0009473468526266515, 'POSITIVO': 0.9992963075637817},\n",
              " {'NEGATIVO': 0.0005668303347192705, 'POSITIVO': 0.9997197985649109},\n",
              " {'NEGATIVO': 0.0006781652919016778, 'POSITIVO': 0.9996694326400757},\n",
              " {'NEGATIVO': 0.0005904337740503252, 'POSITIVO': 0.9996839761734009},\n",
              " {'NEGATIVO': 0.0007548850262537599, 'POSITIVO': 0.9995573163032532},\n",
              " {'NEGATIVO': 0.0010274216765537858, 'POSITIVO': 0.9998317956924438},\n",
              " {'NEGATIVO': 0.0005215512937866151, 'POSITIVO': 0.9996950626373291},\n",
              " {'NEGATIVO': 0.00030979394796304405, 'POSITIVO': 0.9995406866073608},\n",
              " {'NEGATIVO': 0.0013098545605316758, 'POSITIVO': 0.9998220801353455},\n",
              " {'NEGATIVO': 0.0004611994663719088, 'POSITIVO': 0.9995843768119812},\n",
              " {'NEGATIVO': 0.0018886270700022578, 'POSITIVO': 0.9986670017242432},\n",
              " {'NEGATIVO': 0.00048273862921632826, 'POSITIVO': 0.9992376565933228},\n",
              " {'NEGATIVO': 0.0005681498441845179, 'POSITIVO': 0.9996366500854492},\n",
              " {'NEGATIVO': 0.0005865048733539879, 'POSITIVO': 0.9997337460517883},\n",
              " {'NEGATIVO': 0.003373603569343686, 'POSITIVO': 0.9998787641525269},\n",
              " {'NEGATIVO': 0.0004215887747704983, 'POSITIVO': 0.9995933175086975},\n",
              " {'NEGATIVO': 0.0005038758390583098, 'POSITIVO': 0.9996331930160522},\n",
              " {'NEGATIVO': 0.0003782289568334818, 'POSITIVO': 0.9994926452636719},\n",
              " {'NEGATIVO': 0.0005933789070695639, 'POSITIVO': 0.9996558427810669},\n",
              " {'NEGATIVO': 0.0004258186090737581, 'POSITIVO': 0.9993236064910889},\n",
              " {'NEGATIVO': 0.0005903608980588615, 'POSITIVO': 0.9997534155845642},\n",
              " {'NEGATIVO': 0.0022343602031469345, 'POSITIVO': 0.9980534315109253},\n",
              " {'NEGATIVO': 0.0017738380702212453, 'POSITIVO': 0.9991717338562012},\n",
              " {'NEGATIVO': 0.0010383169865235686, 'POSITIVO': 0.9996744394302368},\n",
              " {'NEGATIVO': 0.0006044305046088994, 'POSITIVO': 0.9997170567512512},\n",
              " {'NEGATIVO': 0.0003676426422316581, 'POSITIVO': 0.9996222257614136},\n",
              " {'NEGATIVO': 0.00045722239883616567, 'POSITIVO': 0.999601423740387},\n",
              " {'NEGATIVO': 0.0005337327602319419, 'POSITIVO': 0.9996852874755859},\n",
              " {'NEGATIVO': 0.001725144567899406, 'POSITIVO': 0.9995627999305725},\n",
              " {'NEGATIVO': 0.0007647309685125947, 'POSITIVO': 0.999685525894165},\n",
              " {'NEGATIVO': 0.0005755539750680327, 'POSITIVO': 0.9996979236602783},\n",
              " {'NEGATIVO': 0.0016712658107280731, 'POSITIVO': 0.9987605810165405},\n",
              " {'NEGATIVO': 0.0004838241438847035, 'POSITIVO': 0.999659538269043},\n",
              " {'NEGATIVO': 0.001194555894471705, 'POSITIVO': 0.999221682548523},\n",
              " {'NEGATIVO': 0.0007661515264771879, 'POSITIVO': 0.9997406601905823},\n",
              " {'NEGATIVO': 0.000716556329280138, 'POSITIVO': 0.9996733665466309},\n",
              " {'NEGATIVO': 0.0008006403804756701, 'POSITIVO': 0.9997397065162659},\n",
              " {'NEGATIVO': 0.0007014935254119337, 'POSITIVO': 0.9996923208236694},\n",
              " {'NEGATIVO': 0.0003477435384411365, 'POSITIVO': 0.9995391368865967},\n",
              " {'NEGATIVO': 0.000637647754047066, 'POSITIVO': 0.9997144341468811},\n",
              " {'NEGATIVO': 0.0007209403556771576, 'POSITIVO': 0.9996612071990967},\n",
              " {'NEGATIVO': 0.0005654618726111948, 'POSITIVO': 0.9995872378349304},\n",
              " {'NEGATIVO': 0.00048588126082904637, 'POSITIVO': 0.9996464252471924},\n",
              " {'NEGATIVO': 0.0004149516753386706, 'POSITIVO': 0.9995179176330566},\n",
              " {'NEGATIVO': 0.0010607909644022584, 'POSITIVO': 0.9997711777687073},\n",
              " {'NEGATIVO': 0.0006567789823748171, 'POSITIVO': 0.9996522665023804},\n",
              " {'NEGATIVO': 0.0006292177713476121, 'POSITIVO': 0.9997492432594299},\n",
              " {'NEGATIVO': 0.0009701216476969421, 'POSITIVO': 0.9997684359550476},\n",
              " {'NEGATIVO': 0.0006292177713476121, 'POSITIVO': 0.9997492432594299},\n",
              " {'NEGATIVO': 0.0012459850404411554, 'POSITIVO': 0.9998138546943665},\n",
              " {'NEGATIVO': 0.0006353401695378125, 'POSITIVO': 0.9996727705001831},\n",
              " {'NEGATIVO': 0.0004448609834071249, 'POSITIVO': 0.9995146989822388},\n",
              " {'NEGATIVO': 0.000871234864462167, 'POSITIVO': 0.9996912479400635},\n",
              " {'NEGATIVO': 0.0011655482230708003, 'POSITIVO': 0.9997391104698181},\n",
              " {'NEGATIVO': 0.0003224684624001384, 'POSITIVO': 0.9994866847991943},\n",
              " {'NEGATIVO': 0.0004693101509474218, 'POSITIVO': 0.9994475245475769},\n",
              " {'NEGATIVO': 0.0004921663785353303, 'POSITIVO': 0.9996645450592041},\n",
              " {'NEGATIVO': 0.0006260700756683946, 'POSITIVO': 0.9996461868286133},\n",
              " {'NEGATIVO': 0.0004333346150815487, 'POSITIVO': 0.9996565580368042},\n",
              " {'NEGATIVO': 0.0004168144369032234, 'POSITIVO': 0.9985992312431335},\n",
              " {'NEGATIVO': 0.0005863835685886443, 'POSITIVO': 0.9996192455291748},\n",
              " {'NEGATIVO': 0.0007643240387551486, 'POSITIVO': 0.9997085928916931},\n",
              " {'NEGATIVO': 0.000730931933503598, 'POSITIVO': 0.9996474981307983},\n",
              " {'NEGATIVO': 0.0004352766554802656, 'POSITIVO': 0.9993519186973572},\n",
              " {'NEGATIVO': 0.0007745506591163576, 'POSITIVO': 0.9996933937072754},\n",
              " {'NEGATIVO': 0.0023411400616168976, 'POSITIVO': 0.9996836185455322},\n",
              " {'NEGATIVO': 0.0012163526844233274, 'POSITIVO': 0.9987896084785461},\n",
              " {'NEGATIVO': 0.0006714470800943673, 'POSITIVO': 0.9996851682662964},\n",
              " {'NEGATIVO': 0.0007532598683610559, 'POSITIVO': 0.9996887445449829},\n",
              " {'NEGATIVO': 0.0006292177713476121, 'POSITIVO': 0.9997492432594299},\n",
              " {'NEGATIVO': 0.0006232897285372019, 'POSITIVO': 0.9997153878211975},\n",
              " {'NEGATIVO': 0.00080245325807482, 'POSITIVO': 0.9997665286064148},\n",
              " {'NEGATIVO': 0.0005053813802078366, 'POSITIVO': 0.9996567964553833},\n",
              " {'NEGATIVO': 0.002031973097473383, 'POSITIVO': 0.999567449092865},\n",
              " {'NEGATIVO': 0.0005385337863117456, 'POSITIVO': 0.9997239708900452},\n",
              " {'NEGATIVO': 0.0007108668214641511, 'POSITIVO': 0.9996973276138306},\n",
              " {'NEGATIVO': 0.0005724235088564456, 'POSITIVO': 0.999450147151947},\n",
              " {'NEGATIVO': 0.0006319763488136232, 'POSITIVO': 0.9997348189353943},\n",
              " {'NEGATIVO': 0.0023148772306740284, 'POSITIVO': 0.9983794689178467},\n",
              " {'NEGATIVO': 0.02688971720635891, 'POSITIVO': 0.9928041100502014},\n",
              " {'NEGATIVO': 0.0006333970231935382, 'POSITIVO': 0.9997329115867615},\n",
              " {'NEGATIVO': 0.0006151000852696598, 'POSITIVO': 0.9996127486228943},\n",
              " {'NEGATIVO': 0.0005528719048015773, 'POSITIVO': 0.9996190071105957},\n",
              " {'NEGATIVO': 0.0004842714697588235, 'POSITIVO': 0.9995623230934143},\n",
              " {'NEGATIVO': 0.00131052581127733, 'POSITIVO': 0.9991881251335144},\n",
              " {'NEGATIVO': 0.0005651757819578052, 'POSITIVO': 0.999708354473114},\n",
              " {'NEGATIVO': 0.0008303278009407222, 'POSITIVO': 0.9996426105499268},\n",
              " {'NEGATIVO': 0.0005993930390104651, 'POSITIVO': 0.9995719790458679},\n",
              " {'NEGATIVO': 0.00047456350876018405, 'POSITIVO': 0.9996256828308105},\n",
              " {'NEGATIVO': 0.0007994347251951694, 'POSITIVO': 0.9996563196182251},\n",
              " {'NEGATIVO': 0.000643623061478138, 'POSITIVO': 0.9997137188911438},\n",
              " {'NEGATIVO': 0.0006883777095936239, 'POSITIVO': 0.9997076392173767},\n",
              " {'NEGATIVO': 0.0004738274437841028, 'POSITIVO': 0.9995588660240173},\n",
              " {'NEGATIVO': 0.0005369170103222132, 'POSITIVO': 0.9995996356010437},\n",
              " {'NEGATIVO': 0.0006538893794640899, 'POSITIVO': 0.9996463060379028},\n",
              " {'NEGATIVO': 0.0005513100768439472, 'POSITIVO': 0.9996863603591919},\n",
              " {'NEGATIVO': 0.001602116390131414, 'POSITIVO': 0.9992485642433167},\n",
              " {'NEGATIVO': 0.0005497277597896755, 'POSITIVO': 0.9995858073234558},\n",
              " {'NEGATIVO': 0.000984413898549974, 'POSITIVO': 0.9997532963752747},\n",
              " {'NEGATIVO': 0.0004838241438847035, 'POSITIVO': 0.999659538269043},\n",
              " {'NEGATIVO': 0.0007525409455411136, 'POSITIVO': 0.9997051358222961},\n",
              " {'NEGATIVO': 0.0007808178779669106, 'POSITIVO': 0.9997286200523376},\n",
              " {'NEGATIVO': 0.0008676336728967726, 'POSITIVO': 0.9997350573539734},\n",
              " {'NEGATIVO': 0.0004677895631175488, 'POSITIVO': 0.9995518326759338},\n",
              " {'NEGATIVO': 0.0006337656523101032, 'POSITIVO': 0.9997074007987976},\n",
              " {'NEGATIVO': 0.00027751296875067055, 'POSITIVO': 0.9982865452766418},\n",
              " {'NEGATIVO': 0.0011193334357813, 'POSITIVO': 0.986491322517395},\n",
              " {'NEGATIVO': 0.0014573190128430724, 'POSITIVO': 0.9992417097091675},\n",
              " {'NEGATIVO': 0.0004894711310043931, 'POSITIVO': 0.9995724558830261},\n",
              " {'NEGATIVO': 0.0008447027648799121, 'POSITIVO': 0.99974125623703},\n",
              " {'NEGATIVO': 0.0014413889730349183, 'POSITIVO': 0.999208390712738},\n",
              " {'NEGATIVO': 0.0003032514068763703, 'POSITIVO': 0.9995057582855225},\n",
              " {'NEGATIVO': 0.0007099659997038543, 'POSITIVO': 0.9997238516807556},\n",
              " {'NEGATIVO': 0.0007541893282905221, 'POSITIVO': 0.9997565150260925},\n",
              " {'NEGATIVO': 0.0007254251977428794, 'POSITIVO': 0.999763548374176},\n",
              " {'NEGATIVO': 0.0017865151166915894, 'POSITIVO': 0.9989047050476074},\n",
              " {'NEGATIVO': 0.0006581922643817961, 'POSITIVO': 0.999278724193573},\n",
              " {'NEGATIVO': 0.0023429561406373978, 'POSITIVO': 0.9968481659889221},\n",
              " {'NEGATIVO': 0.0005011403700336814, 'POSITIVO': 0.9995861649513245},\n",
              " {'NEGATIVO': 0.0037934337742626667, 'POSITIVO': 0.9974226951599121},\n",
              " {'NEGATIVO': 0.0006947065703570843, 'POSITIVO': 0.9997040629386902},\n",
              " {'NEGATIVO': 0.0007760267471894622, 'POSITIVO': 0.9997439980506897},\n",
              " {'NEGATIVO': 0.00044405070366337895, 'POSITIVO': 0.9994681477546692},\n",
              " {'NEGATIVO': 0.0004227373283356428, 'POSITIVO': 0.999560534954071},\n",
              " {'NEGATIVO': 0.0006095480057410896, 'POSITIVO': 0.9997319579124451},\n",
              " {'NEGATIVO': 0.0005700847250409424, 'POSITIVO': 0.9993434548377991},\n",
              " {'NEGATIVO': 0.0009754211059771478, 'POSITIVO': 0.999468982219696},\n",
              " {'NEGATIVO': 0.0006403313018381596, 'POSITIVO': 0.9996705055236816},\n",
              " {'NEGATIVO': 0.00047595708747394383, 'POSITIVO': 0.9995113611221313},\n",
              " {'NEGATIVO': 0.0006709513254463673, 'POSITIVO': 0.9997106194496155},\n",
              " {'NEGATIVO': 0.0005053004715591669, 'POSITIVO': 0.9994086027145386},\n",
              " {'NEGATIVO': 0.0004731387016363442, 'POSITIVO': 0.9996090531349182},\n",
              " {'NEGATIVO': 0.001127538038417697, 'POSITIVO': 0.9998095631599426},\n",
              " {'NEGATIVO': 0.00040597471524961293, 'POSITIVO': 0.9995307922363281},\n",
              " {'NEGATIVO': 0.00046407413901761174, 'POSITIVO': 0.9996181726455688},\n",
              " {'NEGATIVO': 0.0025148726999759674, 'POSITIVO': 0.9992334842681885},\n",
              " {'NEGATIVO': 0.0005122532602399588, 'POSITIVO': 0.9996739625930786},\n",
              " {'NEGATIVO': 0.0004581482207868248, 'POSITIVO': 0.9996739625930786},\n",
              " {'NEGATIVO': 0.0015132128028199077, 'POSITIVO': 0.9996861219406128},\n",
              " {'NEGATIVO': 0.0006531055551022291, 'POSITIVO': 0.9996578693389893},\n",
              " {'NEGATIVO': 0.0005407661665230989, 'POSITIVO': 0.9979950189590454},\n",
              " {'NEGATIVO': 0.00047784243361093104, 'POSITIVO': 0.9995680451393127},\n",
              " {'NEGATIVO': 0.00048440374666824937, 'POSITIVO': 0.9994932413101196},\n",
              " {'NEGATIVO': 0.0007823428604751825, 'POSITIVO': 0.9997430443763733},\n",
              " {'NEGATIVO': 0.0006689879228360951, 'POSITIVO': 0.9996368885040283},\n",
              " {'NEGATIVO': 0.0006581922643817961, 'POSITIVO': 0.999278724193573},\n",
              " {'NEGATIVO': 0.0004961569793522358, 'POSITIVO': 0.9996777772903442},\n",
              " {'NEGATIVO': 0.00040867162169888616, 'POSITIVO': 0.9993423819541931},\n",
              " {'NEGATIVO': 0.00046281376853585243, 'POSITIVO': 0.9996554851531982},\n",
              " {'NEGATIVO': 0.0008567598415538669, 'POSITIVO': 0.9997382760047913},\n",
              " {'NEGATIVO': 0.001588621293194592, 'POSITIVO': 0.9974755644798279},\n",
              " {'NEGATIVO': 0.0005752498400397599, 'POSITIVO': 0.9997568726539612},\n",
              " {'NEGATIVO': 0.0006005913601256907, 'POSITIVO': 0.9996116757392883},\n",
              " {'NEGATIVO': 0.0006720767123624682, 'POSITIVO': 0.9996640682220459},\n",
              " {'NEGATIVO': 0.0025679082609713078, 'POSITIVO': 0.9994345307350159},\n",
              " {'NEGATIVO': 0.00048478852841071784, 'POSITIVO': 0.9994572997093201},\n",
              " {'NEGATIVO': 0.0006961394101381302, 'POSITIVO': 0.9995991587638855},\n",
              " {'NEGATIVO': 0.0004760482406709343, 'POSITIVO': 0.9993564486503601},\n",
              " {'NEGATIVO': 0.015363531187176704, 'POSITIVO': 0.9989901185035706},\n",
              " {'NEGATIVO': 0.002079168101772666, 'POSITIVO': 0.9987825751304626},\n",
              " {'NEGATIVO': 0.0008457977091893554, 'POSITIVO': 0.999789297580719},\n",
              " {'NEGATIVO': 0.0005051877815276384, 'POSITIVO': 0.9996614456176758},\n",
              " {'NEGATIVO': 0.00039801347884349525, 'POSITIVO': 0.9995741248130798},\n",
              " {'NEGATIVO': 0.00039801347884349525, 'POSITIVO': 0.9995741248130798},\n",
              " {'NEGATIVO': 0.0006426481413654983, 'POSITIVO': 0.9997335076332092},\n",
              " {'NEGATIVO': 0.00039801347884349525, 'POSITIVO': 0.9995741248130798},\n",
              " {'NEGATIVO': 0.00047080600052140653, 'POSITIVO': 0.9996352195739746},\n",
              " {'NEGATIVO': 0.00039801347884349525, 'POSITIVO': 0.9995741248130798},\n",
              " {'NEGATIVO': 0.00041623011929914355, 'POSITIVO': 0.9995670914649963},\n",
              " {'NEGATIVO': 0.0006306276773102582, 'POSITIVO': 0.9996997117996216},\n",
              " {'NEGATIVO': 0.001507156528532505, 'POSITIVO': 0.9996806383132935},\n",
              " {'NEGATIVO': 0.0007519915234297514, 'POSITIVO': 0.9997299313545227},\n",
              " {'NEGATIVO': 0.0004760201263707131, 'POSITIVO': 0.9993670582771301},\n",
              " {'NEGATIVO': 0.010445899330079556, 'POSITIVO': 0.9993793964385986},\n",
              " {'NEGATIVO': 0.0006011241930536926, 'POSITIVO': 0.9987402558326721},\n",
              " {'NEGATIVO': 0.00047525251284241676, 'POSITIVO': 0.9995703101158142},\n",
              " {'NEGATIVO': 0.0005393135943450034, 'POSITIVO': 0.9994335770606995},\n",
              " {'NEGATIVO': 0.00033488974440842867, 'POSITIVO': 0.9991689920425415},\n",
              " {'NEGATIVO': 0.001103603164665401, 'POSITIVO': 0.9991519451141357},\n",
              " {'NEGATIVO': 0.0005475045763887465, 'POSITIVO': 0.9996110796928406},\n",
              " {'NEGATIVO': 0.0008383443346247077, 'POSITIVO': 0.9990069270133972},\n",
              " {'NEGATIVO': 0.0007474226295016706, 'POSITIVO': 0.9996775388717651},\n",
              " {'NEGATIVO': 0.0005358824273571372, 'POSITIVO': 0.9996497631072998},\n",
              " {'NEGATIVO': 0.00040887485374696553, 'POSITIVO': 0.9994107484817505},\n",
              " {'NEGATIVO': 0.0005316053866408765, 'POSITIVO': 0.9996598958969116},\n",
              " {'NEGATIVO': 0.0005293732974678278, 'POSITIVO': 0.9997190833091736},\n",
              " {'NEGATIVO': 0.0003917128487955779, 'POSITIVO': 0.9995537400245667},\n",
              " {'NEGATIVO': 0.0006292177713476121, 'POSITIVO': 0.9997492432594299},\n",
              " {'NEGATIVO': 0.0007369561353698373, 'POSITIVO': 0.9936302304267883},\n",
              " {'NEGATIVO': 0.00048539196723140776, 'POSITIVO': 0.9996702671051025},\n",
              " {'NEGATIVO': 0.0010085136163979769, 'POSITIVO': 0.9994242191314697},\n",
              " {'NEGATIVO': 0.0006240606890060008, 'POSITIVO': 0.999695897102356},\n",
              " {'NEGATIVO': 0.0006007619667798281, 'POSITIVO': 0.9996669292449951},\n",
              " {'NEGATIVO': 0.0007395708234980702, 'POSITIVO': 0.9997506737709045},\n",
              " {'NEGATIVO': 0.0005987680633552372, 'POSITIVO': 0.9997084736824036},\n",
              " {'NEGATIVO': 0.0012136740842834115, 'POSITIVO': 0.9992305040359497},\n",
              " {'NEGATIVO': 0.0009327142033725977, 'POSITIVO': 0.9997512698173523},\n",
              " {'NEGATIVO': 0.0011453119805082679, 'POSITIVO': 0.9975078105926514},\n",
              " {'NEGATIVO': 0.000579638232011348, 'POSITIVO': 0.9996551275253296},\n",
              " {'NEGATIVO': 0.0015527501236647367, 'POSITIVO': 0.9995951056480408},\n",
              " {'NEGATIVO': 0.0005549430497922003, 'POSITIVO': 0.9996147155761719},\n",
              " {'NEGATIVO': 0.0007451262790709734, 'POSITIVO': 0.9997356534004211},\n",
              " {'NEGATIVO': 0.004079462960362434, 'POSITIVO': 0.9990811347961426},\n",
              " {'NEGATIVO': 0.0006265311967581511, 'POSITIVO': 0.999700665473938},\n",
              " {'NEGATIVO': 0.00047901610378175974, 'POSITIVO': 0.9996023774147034},\n",
              " {'NEGATIVO': 0.0006107716471888125, 'POSITIVO': 0.9988445043563843},\n",
              " {'NEGATIVO': 0.00047446019016206264, 'POSITIVO': 0.999691367149353},\n",
              " {'NEGATIVO': 0.0004978202632628381, 'POSITIVO': 0.9996036887168884},\n",
              " {'NEGATIVO': 0.0005569973145611584, 'POSITIVO': 0.9996789693832397},\n",
              " {'NEGATIVO': 0.00039234315045177937, 'POSITIVO': 0.9995771050453186},\n",
              " {'NEGATIVO': 0.001241104444488883, 'POSITIVO': 0.9989420771598816},\n",
              " {'NEGATIVO': 0.0004954197793267667, 'POSITIVO': 0.999383807182312},\n",
              " {'NEGATIVO': 0.0007220797124318779, 'POSITIVO': 0.9996998310089111},\n",
              " {'NEGATIVO': 0.0006631836295127869, 'POSITIVO': 0.9997112154960632},\n",
              " {'NEGATIVO': 0.01224859431385994, 'POSITIVO': 0.9927991628646851},\n",
              " {'NEGATIVO': 0.0017508716555312276, 'POSITIVO': 0.9984355568885803},\n",
              " {'NEGATIVO': 0.0006590079283341765, 'POSITIVO': 0.9996405839920044},\n",
              " {'NEGATIVO': 0.0005137314437888563, 'POSITIVO': 0.999651312828064},\n",
              " {'NEGATIVO': 0.0007197009981609881, 'POSITIVO': 0.9997034668922424},\n",
              " {'NEGATIVO': 0.0007497500628232956, 'POSITIVO': 0.9997298121452332},\n",
              " {'NEGATIVO': 0.0005254193092696369, 'POSITIVO': 0.9996551275253296},\n",
              " {'NEGATIVO': 0.0006193270091898739, 'POSITIVO': 0.9996458292007446},\n",
              " {'NEGATIVO': 0.0008026390569284558, 'POSITIVO': 0.9952930808067322},\n",
              " {'NEGATIVO': 0.0006768519524484873, 'POSITIVO': 0.9996829032897949},\n",
              " {'NEGATIVO': 0.0013527940027415752, 'POSITIVO': 0.9997504353523254},\n",
              " {'NEGATIVO': 0.000695614842697978, 'POSITIVO': 0.999701201915741},\n",
              " {'NEGATIVO': 0.0005437020445242524, 'POSITIVO': 0.9996064305305481},\n",
              " {'NEGATIVO': 0.0007139286608435214, 'POSITIVO': 0.9997610449790955},\n",
              " {'NEGATIVO': 0.0006195244495756924, 'POSITIVO': 0.9996645450592041},\n",
              " {'NEGATIVO': 0.0005172428791411221, 'POSITIVO': 0.9995483756065369},\n",
              " {'NEGATIVO': 0.0014546257443726063, 'POSITIVO': 0.9978673458099365},\n",
              " {'NEGATIVO': 0.0005514861550182104, 'POSITIVO': 0.9996881484985352},\n",
              " {'NEGATIVO': 0.0004589747986756265, 'POSITIVO': 0.9996457099914551},\n",
              " {'NEGATIVO': 0.0006269271834753454, 'POSITIVO': 0.9995052814483643},\n",
              " {'NEGATIVO': 0.0004680239362642169, 'POSITIVO': 0.9995620846748352},\n",
              " {'NEGATIVO': 0.0004371410177554935, 'POSITIVO': 0.9996775388717651},\n",
              " {'NEGATIVO': 0.0007507745758630335, 'POSITIVO': 0.9997361302375793},\n",
              " {'NEGATIVO': 0.0005455103237181902, 'POSITIVO': 0.9996840953826904},\n",
              " {'NEGATIVO': 0.0005272006965242326, 'POSITIVO': 0.9996789693832397},\n",
              " {'NEGATIVO': 0.0004716149705927819, 'POSITIVO': 0.999636173248291},\n",
              " {'NEGATIVO': 0.0007663059514015913, 'POSITIVO': 0.9997113347053528},\n",
              " {'NEGATIVO': 0.0008722877828404307, 'POSITIVO': 0.9997416138648987},\n",
              " {'NEGATIVO': 0.0005627265200018883, 'POSITIVO': 0.9996906518936157},\n",
              " {'NEGATIVO': 0.0007189966272562742, 'POSITIVO': 0.9997813105583191},\n",
              " {'NEGATIVO': 0.0004916848265565932, 'POSITIVO': 0.9996024966239929},\n",
              " {'NEGATIVO': 0.000543639063835144, 'POSITIVO': 0.9995672106742859},\n",
              " {'NEGATIVO': 0.0004223796131554991, 'POSITIVO': 0.9982185959815979},\n",
              " {'NEGATIVO': 0.0004901009378954768, 'POSITIVO': 0.9995731711387634},\n",
              " {'NEGATIVO': 0.0008132070070132613, 'POSITIVO': 0.9997255206108093},\n",
              " {'NEGATIVO': 0.0009082828182727098, 'POSITIVO': 0.9997580647468567},\n",
              " {'NEGATIVO': 0.0007213469361886382, 'POSITIVO': 0.9997079968452454},\n",
              " {'NEGATIVO': 0.0015361425466835499, 'POSITIVO': 0.9986625909805298},\n",
              " {'NEGATIVO': 0.000686821062117815, 'POSITIVO': 0.9995655417442322},\n",
              " {'NEGATIVO': 0.0007689129561185837, 'POSITIVO': 0.9997424483299255},\n",
              " {'NEGATIVO': 0.0012361252447590232, 'POSITIVO': 0.9998229146003723},\n",
              " {'NEGATIVO': 0.00048196178977377713, 'POSITIVO': 0.9996638298034668},\n",
              " {'NEGATIVO': 0.0006172326975502074, 'POSITIVO': 0.9996602535247803},\n",
              " {'NEGATIVO': 0.0005480502150021493, 'POSITIVO': 0.9997299313545227},\n",
              " {'NEGATIVO': 0.0004339666629675776, 'POSITIVO': 0.9996472597122192},\n",
              " {'NEGATIVO': 0.0008994978270493448, 'POSITIVO': 0.9997194409370422},\n",
              " {'NEGATIVO': 0.0005440941895358264, 'POSITIVO': 0.9996354579925537},\n",
              " {'NEGATIVO': 0.0007422312046401203, 'POSITIVO': 0.9997487664222717},\n",
              " {'NEGATIVO': 0.0006720037199556828, 'POSITIVO': 0.9997068047523499},\n",
              " {'NEGATIVO': 0.00044040699140168726, 'POSITIVO': 0.9995915293693542},\n",
              " {'NEGATIVO': 0.0006183803197927773, 'POSITIVO': 0.9997103810310364},\n",
              " {'NEGATIVO': 0.0005014375783503056, 'POSITIVO': 0.9995344877243042},\n",
              " {'NEGATIVO': 0.0006441083969548345, 'POSITIVO': 0.9997026324272156},\n",
              " {'NEGATIVO': 0.0007230899063870311, 'POSITIVO': 0.9996256828308105},\n",
              " {'NEGATIVO': 0.0005158453132025898, 'POSITIVO': 0.9996597766876221},\n",
              " {'NEGATIVO': 0.0005057189846411347, 'POSITIVO': 0.9995823502540588},\n",
              " {'NEGATIVO': 0.0005153921665623784, 'POSITIVO': 0.9996243715286255},\n",
              " {'NEGATIVO': 0.0011207429924979806, 'POSITIVO': 0.998913049697876},\n",
              " {'NEGATIVO': 0.0005586274201050401, 'POSITIVO': 0.999664306640625},\n",
              " {'NEGATIVO': 0.000661428552120924, 'POSITIVO': 0.9997020363807678},\n",
              " {'NEGATIVO': 0.0006607669638469815, 'POSITIVO': 0.9995343685150146},\n",
              " {'NEGATIVO': 0.0014974744990468025, 'POSITIVO': 0.9995630383491516},\n",
              " {'NEGATIVO': 0.0007207363960333169, 'POSITIVO': 0.9988208413124084},\n",
              " {'NEGATIVO': 0.0008168626227416098, 'POSITIVO': 0.9997703433036804},\n",
              " {'NEGATIVO': 0.0007181573892012239, 'POSITIVO': 0.9996931552886963},\n",
              " {'NEGATIVO': 0.0005359746282920241, 'POSITIVO': 0.9996242523193359},\n",
              " {'NEGATIVO': 0.00045962363947182894, 'POSITIVO': 0.999687910079956},\n",
              " {'NEGATIVO': 0.0006224953685887158, 'POSITIVO': 0.999757707118988},\n",
              " {'NEGATIVO': 0.006919109728187323, 'POSITIVO': 0.999460756778717},\n",
              " {'NEGATIVO': 0.0003448447969276458, 'POSITIVO': 0.9994101524353027},\n",
              " {'NEGATIVO': 0.000623210973571986, 'POSITIVO': 0.9996788501739502},\n",
              " {'NEGATIVO': 0.0006760869873687625, 'POSITIVO': 0.9996834993362427},\n",
              " {'NEGATIVO': 0.0008726007072255015, 'POSITIVO': 0.9993460774421692},\n",
              " {'NEGATIVO': 0.0005411505699157715, 'POSITIVO': 0.9997158646583557},\n",
              " {'NEGATIVO': 0.0006753866910003126, 'POSITIVO': 0.9997159838676453},\n",
              " {'NEGATIVO': 0.0006074193515814841, 'POSITIVO': 0.9996904134750366},\n",
              " {'NEGATIVO': 0.0004616903606802225, 'POSITIVO': 0.999491810798645},\n",
              " {'NEGATIVO': 0.0005370544386096299, 'POSITIVO': 0.9997103810310364},\n",
              " {'NEGATIVO': 0.0013918443582952023, 'POSITIVO': 0.9996343851089478},\n",
              " {'NEGATIVO': 0.0005310928681865335, 'POSITIVO': 0.9996551275253296},\n",
              " {'NEGATIVO': 0.00045453879283741117, 'POSITIVO': 0.9996174573898315},\n",
              " {'NEGATIVO': 0.0006279171793721616, 'POSITIVO': 0.9995961785316467},\n",
              " {'NEGATIVO': 0.0004675058298744261, 'POSITIVO': 0.9996065497398376},\n",
              " {'NEGATIVO': 0.001347274868749082, 'POSITIVO': 0.9983682036399841},\n",
              " {'NEGATIVO': 0.0009593642898835242, 'POSITIVO': 0.9993041753768921},\n",
              " {'NEGATIVO': 0.0007323421305045485, 'POSITIVO': 0.9996873140335083},\n",
              " {'NEGATIVO': 0.0006740386015735567, 'POSITIVO': 0.9997119307518005},\n",
              " {'NEGATIVO': 0.0006261047092266381, 'POSITIVO': 0.9997292160987854},\n",
              " {'NEGATIVO': 0.0004907555994577706, 'POSITIVO': 0.9995260238647461},\n",
              " {'NEGATIVO': 0.0032715005800127983, 'POSITIVO': 0.9966104626655579},\n",
              " {'NEGATIVO': 0.0004964997642673552, 'POSITIVO': 0.999614953994751},\n",
              " {'NEGATIVO': 0.0005439731176011264, 'POSITIVO': 0.9982311129570007},\n",
              " {'NEGATIVO': 0.0005220008897595108, 'POSITIVO': 0.9996834993362427},\n",
              " {'NEGATIVO': 0.0005042049451731145, 'POSITIVO': 0.9996374845504761},\n",
              " {'NEGATIVO': 0.0004568497242871672, 'POSITIVO': 0.9996629953384399},\n",
              " {'NEGATIVO': 0.0005773439770564437, 'POSITIVO': 0.9996780157089233},\n",
              " {'NEGATIVO': 0.0006292177713476121, 'POSITIVO': 0.9997492432594299},\n",
              " {'NEGATIVO': 0.00086741748964414, 'POSITIVO': 0.9997544884681702},\n",
              " {'NEGATIVO': 0.00047229990013875067, 'POSITIVO': 0.999609649181366},\n",
              " {'NEGATIVO': 0.0007809570524841547, 'POSITIVO': 0.9997325539588928},\n",
              " {'NEGATIVO': 0.0008490611216984689, 'POSITIVO': 0.9997435212135315},\n",
              " {'NEGATIVO': 0.0006900829030200839, 'POSITIVO': 0.9997108578681946},\n",
              " {'NEGATIVO': 0.00045016451622359455, 'POSITIVO': 0.9995757937431335},\n",
              " {'NEGATIVO': 0.0015917320270091295, 'POSITIVO': 0.9979526996612549},\n",
              " {'NEGATIVO': 0.00048532162327319384, 'POSITIVO': 0.9996113181114197},\n",
              " {'NEGATIVO': 0.000493647123221308, 'POSITIVO': 0.9996612071990967},\n",
              " {'NEGATIVO': 0.0005645326455123723, 'POSITIVO': 0.999638557434082},\n",
              " {'NEGATIVO': 0.0008378732018172741, 'POSITIVO': 0.9997592568397522},\n",
              " {'NEGATIVO': 0.0007863041246309876, 'POSITIVO': 0.9997641444206238},\n",
              " {'NEGATIVO': 0.002417683368548751, 'POSITIVO': 0.9992281198501587},\n",
              " {'NEGATIVO': 0.0009314007475040853, 'POSITIVO': 0.9997074007987976},\n",
              " {'NEGATIVO': 0.0007729321951046586, 'POSITIVO': 0.9996415376663208},\n",
              " {'NEGATIVO': 0.0006775063229724765, 'POSITIVO': 0.9986504912376404},\n",
              " {'NEGATIVO': 0.012714901007711887, 'POSITIVO': 0.9944642186164856},\n",
              " {'NEGATIVO': 0.0022857992444187403, 'POSITIVO': 0.9969602227210999},\n",
              " {'NEGATIVO': 0.0006741483812220395, 'POSITIVO': 0.9997257590293884},\n",
              " {'NEGATIVO': 0.0007624737336300313, 'POSITIVO': 0.9997435212135315},\n",
              " {'NEGATIVO': 0.0006550067919306457, 'POSITIVO': 0.9996825456619263},\n",
              " {'NEGATIVO': 0.002261630492284894, 'POSITIVO': 0.9990925788879395},\n",
              " {'NEGATIVO': 0.0005270547117106616, 'POSITIVO': 0.9997023940086365},\n",
              " {'NEGATIVO': 0.0004838241438847035, 'POSITIVO': 0.999659538269043},\n",
              " {'NEGATIVO': 0.0006653696182183921, 'POSITIVO': 0.9997199177742004},\n",
              " {'NEGATIVO': 0.0009938845178112388, 'POSITIVO': 0.9977793097496033},\n",
              " {'NEGATIVO': 0.0028151965234428644, 'POSITIVO': 0.9965658783912659},\n",
              " {'NEGATIVO': 0.0007237948593683541, 'POSITIVO': 0.999680757522583},\n",
              " {'NEGATIVO': 0.00131052581127733, 'POSITIVO': 0.9991881251335144},\n",
              " {'NEGATIVO': 0.0006018821150064468, 'POSITIVO': 0.9996955394744873},\n",
              " {'NEGATIVO': 0.0008156352560035884, 'POSITIVO': 0.9997132420539856},\n",
              " {'NEGATIVO': 0.0018347681034356356, 'POSITIVO': 0.9992114305496216},\n",
              " {'NEGATIVO': 0.0004108007706236094, 'POSITIVO': 0.9995324611663818},\n",
              " {'NEGATIVO': 0.0006653696182183921, 'POSITIVO': 0.9997199177742004},\n",
              " {'NEGATIVO': 0.0006240606890060008, 'POSITIVO': 0.999695897102356},\n",
              " {'NEGATIVO': 0.0007774382829666138, 'POSITIVO': 0.9997395873069763},\n",
              " {'NEGATIVO': 0.0005670202663168311, 'POSITIVO': 0.9995754361152649},\n",
              " {'NEGATIVO': 0.000659545767121017, 'POSITIVO': 0.9996121525764465},\n",
              " {'NEGATIVO': 0.0010472169378772378, 'POSITIVO': 0.9996434450149536},\n",
              " {'NEGATIVO': 0.0009771134937182069, 'POSITIVO': 0.998771607875824},\n",
              " {'NEGATIVO': 0.0008317611645907164, 'POSITIVO': 0.9997645020484924},\n",
              " {'NEGATIVO': 0.0008609715732745826, 'POSITIVO': 0.9997156262397766},\n",
              " {'NEGATIVO': 0.013790933415293694, 'POSITIVO': 0.9944708347320557},\n",
              " {'NEGATIVO': 0.0003267162828706205, 'POSITIVO': 0.9994901418685913},\n",
              " {'NEGATIVO': 0.0007236245437525213, 'POSITIVO': 0.9997287392616272},\n",
              " {'NEGATIVO': 0.00042729140841402113, 'POSITIVO': 0.9995704293251038},\n",
              " {'NEGATIVO': 0.0005186446942389011, 'POSITIVO': 0.9997019171714783},\n",
              " {'NEGATIVO': 0.0009037911659106612, 'POSITIVO': 0.9996922016143799},\n",
              " {'NEGATIVO': 0.0009373552165925503, 'POSITIVO': 0.9997113347053528},\n",
              " {'NEGATIVO': 0.000779912166763097, 'POSITIVO': 0.9997158646583557},\n",
              " {'NEGATIVO': 0.0005787659902125597, 'POSITIVO': 0.9915589094161987},\n",
              " {'NEGATIVO': 0.0005099059198983014, 'POSITIVO': 0.999482274055481},\n",
              " {'NEGATIVO': 0.0004711027431767434, 'POSITIVO': 0.9995404481887817},\n",
              " {'NEGATIVO': 0.0006583136855624616, 'POSITIVO': 0.9996681213378906},\n",
              " {'NEGATIVO': 0.0004838241438847035, 'POSITIVO': 0.999659538269043},\n",
              " {'NEGATIVO': 0.0009622121579013765, 'POSITIVO': 0.9996967315673828},\n",
              " {'NEGATIVO': 0.0012059921864420176, 'POSITIVO': 0.9993185997009277},\n",
              " {'NEGATIVO': 0.0011312131537124515, 'POSITIVO': 0.9972330927848816},\n",
              " {'NEGATIVO': 0.00035155724617652595, 'POSITIVO': 0.9995595812797546},\n",
              " {'NEGATIVO': 0.0005013517802581191, 'POSITIVO': 0.9966932535171509},\n",
              " {'NEGATIVO': 0.005460514687001705, 'POSITIVO': 0.9990631937980652},\n",
              " {'NEGATIVO': 0.0005025435821153224, 'POSITIVO': 0.9996175765991211},\n",
              " {'NEGATIVO': 0.0007420261390507221, 'POSITIVO': 0.9997488856315613},\n",
              " {'NEGATIVO': 0.0006219983915798366, 'POSITIVO': 0.9996079802513123},\n",
              " {'NEGATIVO': 0.036586690694093704, 'POSITIVO': 0.9825598001480103},\n",
              " {'NEGATIVO': 0.0005522217252291739, 'POSITIVO': 0.9996134638786316},\n",
              " {'NEGATIVO': 0.0014444325352087617, 'POSITIVO': 0.9990122318267822},\n",
              " {'NEGATIVO': 0.0005900140968151391, 'POSITIVO': 0.9996978044509888},\n",
              " {'NEGATIVO': 0.001287031569518149, 'POSITIVO': 0.9985839128494263},\n",
              " {'NEGATIVO': 0.0005334767047315836, 'POSITIVO': 0.9996165037155151},\n",
              " {'NEGATIVO': 0.00042500472045503557, 'POSITIVO': 0.9995961785316467},\n",
              " {'NEGATIVO': 0.0006324719288386405, 'POSITIVO': 0.9996864795684814},\n",
              " {'NEGATIVO': 0.0005237689474597573, 'POSITIVO': 0.9996371269226074},\n",
              " {'NEGATIVO': 0.0005739715415984392, 'POSITIVO': 0.9997090697288513},\n",
              " {'NEGATIVO': 0.004691003821790218, 'POSITIVO': 0.9993895292282104},\n",
              " {'NEGATIVO': 0.0006344437715597451, 'POSITIVO': 0.9996064305305481},\n",
              " {'NEGATIVO': 0.0006550067919306457, 'POSITIVO': 0.9996825456619263},\n",
              " {'NEGATIVO': 0.0004905877285636961, 'POSITIVO': 0.9996600151062012},\n",
              " {'NEGATIVO': 0.002506428863853216, 'POSITIVO': 0.9941771030426025},\n",
              " {'NEGATIVO': 0.0006875614635646343, 'POSITIVO': 0.9995583891868591},\n",
              " {'NEGATIVO': 0.0005225733621045947, 'POSITIVO': 0.9997014403343201},\n",
              " {'NEGATIVO': 0.0017892707837745547, 'POSITIVO': 0.9995294809341431},\n",
              " {'NEGATIVO': 0.0005379848298616707, 'POSITIVO': 0.9996229410171509},\n",
              " {'NEGATIVO': 0.0004739324504043907, 'POSITIVO': 0.9996365308761597},\n",
              " {'NEGATIVO': 0.0012573441490530968, 'POSITIVO': 0.9997588992118835},\n",
              " {'NEGATIVO': 0.0009516353602521122, 'POSITIVO': 0.9997977614402771},\n",
              " {'NEGATIVO': 0.0003371020429767668, 'POSITIVO': 0.9994248151779175},\n",
              " {'NEGATIVO': 0.0005193575634621084, 'POSITIVO': 0.9996362924575806},\n",
              " {'NEGATIVO': 0.0006125651416368783, 'POSITIVO': 0.9996970891952515},\n",
              " {'NEGATIVO': 0.0007767232600599527, 'POSITIVO': 0.9997300505638123},\n",
              " {'NEGATIVO': 0.0008338879561051726, 'POSITIVO': 0.999757707118988},\n",
              " {'NEGATIVO': 0.001126355491578579, 'POSITIVO': 0.9991335272789001},\n",
              " {'NEGATIVO': 0.0017680393066257238, 'POSITIVO': 0.9981334805488586},\n",
              " {'NEGATIVO': 0.0005990409408695996, 'POSITIVO': 0.9996883869171143},\n",
              " {'NEGATIVO': 0.0005473686615005136, 'POSITIVO': 0.999691367149353},\n",
              " {'NEGATIVO': 0.0012263363460078835, 'POSITIVO': 0.9989376664161682},\n",
              " {'NEGATIVO': 0.0003944487252738327, 'POSITIVO': 0.9996426105499268},\n",
              " {'NEGATIVO': 0.0007901768549345434, 'POSITIVO': 0.99871826171875},\n",
              " {'NEGATIVO': 0.0005313116125762463, 'POSITIVO': 0.9996519088745117},\n",
              " {'NEGATIVO': 0.0015152358682826161, 'POSITIVO': 0.9996829032897949},\n",
              " {'NEGATIVO': 0.001392939011566341, 'POSITIVO': 0.9998059868812561},\n",
              " {'NEGATIVO': 0.0006219990318641067, 'POSITIVO': 0.9997069239616394},\n",
              " {'NEGATIVO': 0.0008217380964197218, 'POSITIVO': 0.9980047345161438},\n",
              " {'NEGATIVO': 0.001674704602919519, 'POSITIVO': 0.9994056224822998},\n",
              " {'NEGATIVO': 0.0007879526820033789, 'POSITIVO': 0.9996874332427979},\n",
              " {'NEGATIVO': 0.0003828194458037615, 'POSITIVO': 0.9995427131652832},\n",
              " {'NEGATIVO': 0.0009347479208372533, 'POSITIVO': 0.9993963241577148},\n",
              " {'NEGATIVO': 0.0029552713967859745, 'POSITIVO': 0.9992634654045105},\n",
              " {'NEGATIVO': 0.0009210470016114414, 'POSITIVO': 0.9995119571685791},\n",
              " {'NEGATIVO': 0.0007996347267180681, 'POSITIVO': 0.999761164188385},\n",
              " {'NEGATIVO': 0.0007242416613735259, 'POSITIVO': 0.9996720552444458},\n",
              " {'NEGATIVO': 0.000522286572959274, 'POSITIVO': 0.9993682503700256},\n",
              " {'NEGATIVO': 0.0012764709535986185, 'POSITIVO': 0.99977046251297},\n",
              " {'NEGATIVO': 0.0006823373842053115, 'POSITIVO': 0.9997084736824036},\n",
              " {'NEGATIVO': 0.0015088573563843966, 'POSITIVO': 0.9995216131210327},\n",
              " {'NEGATIVO': 0.0021213172003626823, 'POSITIVO': 0.9993020296096802},\n",
              " {'NEGATIVO': 0.0006145466468296945, 'POSITIVO': 0.9996689558029175},\n",
              " {'NEGATIVO': 0.0005353025044314563, 'POSITIVO': 0.9995923638343811},\n",
              " {'NEGATIVO': 0.0006942631443962455, 'POSITIVO': 0.9997174143791199},\n",
              " {'NEGATIVO': 0.0005701409536413848, 'POSITIVO': 0.9996408224105835},\n",
              " {'NEGATIVO': 0.0006488334620371461, 'POSITIVO': 0.9994437098503113},\n",
              " {'NEGATIVO': 0.0008855989435687661, 'POSITIVO': 0.9986864924430847},\n",
              " {'NEGATIVO': 0.000798220164142549, 'POSITIVO': 0.9997434020042419},\n",
              " {'NEGATIVO': 0.0007036374299786985, 'POSITIVO': 0.9997231364250183},\n",
              " {'NEGATIVO': 0.001242185477167368, 'POSITIVO': 0.998629093170166},\n",
              " {'NEGATIVO': 0.0004993843613192439, 'POSITIVO': 0.9995701909065247},\n",
              " {'NEGATIVO': 0.0004945721011608839, 'POSITIVO': 0.9996508359909058},\n",
              " {'NEGATIVO': 0.0006127896485850215, 'POSITIVO': 0.9996825456619263},\n",
              " {'NEGATIVO': 0.0005550467758439481, 'POSITIVO': 0.9996047616004944},\n",
              " {'NEGATIVO': 0.0019990059081465006, 'POSITIVO': 0.9989688396453857},\n",
              " {'NEGATIVO': 0.0005723242647945881, 'POSITIVO': 0.9995916485786438},\n",
              " {'NEGATIVO': 0.0008500280673615634, 'POSITIVO': 0.9990025162696838},\n",
              " {'NEGATIVO': 0.0005735247978009284, 'POSITIVO': 0.9996261596679688},\n",
              " {'NEGATIVO': 0.0003625154204200953, 'POSITIVO': 0.9995719790458679},\n",
              " {'NEGATIVO': 0.0006033446989022195, 'POSITIVO': 0.9997153878211975},\n",
              " {'NEGATIVO': 0.0005151861114427447, 'POSITIVO': 0.9996057152748108},\n",
              " {'NEGATIVO': 0.0007769005605950952, 'POSITIVO': 0.9997238516807556},\n",
              " {'NEGATIVO': 0.0007894461159594357, 'POSITIVO': 0.9997245669364929},\n",
              " {'NEGATIVO': 0.000767747696954757, 'POSITIVO': 0.9977793097496033},\n",
              " {'NEGATIVO': 0.0005080681294202805, 'POSITIVO': 0.9996182918548584},\n",
              " {'NEGATIVO': 0.0006308429292403162, 'POSITIVO': 0.9977599382400513},\n",
              " {'NEGATIVO': 0.0007894381997175515, 'POSITIVO': 0.9985491633415222},\n",
              " {'NEGATIVO': 0.00047100934898480773, 'POSITIVO': 0.9995718598365784},\n",
              " {'NEGATIVO': 0.000673993956297636, 'POSITIVO': 0.9997395873069763},\n",
              " {'NEGATIVO': 0.0005467070150189102, 'POSITIVO': 0.999640703201294},\n",
              " {'NEGATIVO': 0.0006410332280211151, 'POSITIVO': 0.9995524287223816},\n",
              " {'NEGATIVO': 0.0004801761533599347, 'POSITIVO': 0.9996315240859985},\n",
              " {'NEGATIVO': 0.0006846341420896351, 'POSITIVO': 0.9996784925460815},\n",
              " {'NEGATIVO': 0.0004954166943207383, 'POSITIVO': 0.9996291399002075},\n",
              " {'NEGATIVO': 0.0007753289537504315, 'POSITIVO': 0.9992619156837463},\n",
              " {'NEGATIVO': 0.000728578248526901, 'POSITIVO': 0.9988732933998108},\n",
              " {'NEGATIVO': 0.0006913998513482511, 'POSITIVO': 0.9996693134307861},\n",
              " {'NEGATIVO': 0.00047103941324166954, 'POSITIVO': 0.9996938705444336},\n",
              " {'NEGATIVO': 0.0008811295847408473, 'POSITIVO': 0.9996925592422485},\n",
              " {'NEGATIVO': 0.0007940317154861987, 'POSITIVO': 0.9997612833976746},\n",
              " {'NEGATIVO': 0.0016055576270446181, 'POSITIVO': 0.9957365989685059},\n",
              " {'NEGATIVO': 0.0008401276427321136, 'POSITIVO': 0.9985787868499756},\n",
              " {'NEGATIVO': 0.0007389663369394839, 'POSITIVO': 0.9996680021286011},\n",
              " {'NEGATIVO': 0.0006529048550873995, 'POSITIVO': 0.9996715784072876},\n",
              " {'NEGATIVO': 0.0006841175490990281, 'POSITIVO': 0.9997419714927673},\n",
              " {'NEGATIVO': 0.0005292746354825795, 'POSITIVO': 0.9996371269226074},\n",
              " {'NEGATIVO': 0.00040163821540772915, 'POSITIVO': 0.9996166229248047},\n",
              " {'NEGATIVO': 0.0005312774446792901, 'POSITIVO': 0.9993237257003784},\n",
              " {'NEGATIVO': 0.0005828975117765367, 'POSITIVO': 0.9997368454933167},\n",
              " {'NEGATIVO': 0.00046623035450465977, 'POSITIVO': 0.9996480941772461},\n",
              " {'NEGATIVO': 0.0006485342746600509, 'POSITIVO': 0.999691367149353},\n",
              " {'NEGATIVO': 0.000854881014674902, 'POSITIVO': 0.9990257024765015},\n",
              " {'NEGATIVO': 0.0007129744626581669, 'POSITIVO': 0.9996670484542847},\n",
              " {'NEGATIVO': 0.0008591632940806448, 'POSITIVO': 0.9997631907463074},\n",
              " {'NEGATIVO': 0.0008172180969268084, 'POSITIVO': 0.9988085031509399},\n",
              " {'NEGATIVO': 0.0012934511760249734, 'POSITIVO': 0.9994298815727234},\n",
              " {'NEGATIVO': 0.0006861962610855699, 'POSITIVO': 0.9997439980506897},\n",
              " {'NEGATIVO': 0.0010095200268551707, 'POSITIVO': 0.9992520213127136},\n",
              " {'NEGATIVO': 0.0006292177713476121, 'POSITIVO': 0.9997492432594299},\n",
              " {'NEGATIVO': 0.0007669437327422202, 'POSITIVO': 0.9997221827507019},\n",
              " {'NEGATIVO': 0.0006615814054384828, 'POSITIVO': 0.9996466636657715},\n",
              " {'NEGATIVO': 0.0010682736756280065, 'POSITIVO': 0.9996862411499023},\n",
              " {'NEGATIVO': 0.0007551299640908837, 'POSITIVO': 0.9997005462646484},\n",
              " {'NEGATIVO': 0.00046762396232225, 'POSITIVO': 0.9987050294876099},\n",
              " {'NEGATIVO': 0.0014325161464512348, 'POSITIVO': 0.9994837045669556},\n",
              " {'NEGATIVO': 0.0007055444293655455, 'POSITIVO': 0.9997351765632629},\n",
              " {'NEGATIVO': 0.00043322163401171565, 'POSITIVO': 0.9995354413986206},\n",
              " {'NEGATIVO': 0.0037755013909190893, 'POSITIVO': 0.9993519186973572},\n",
              " {'NEGATIVO': 0.0006691122543998063, 'POSITIVO': 0.9997242093086243},\n",
              " {'NEGATIVO': 0.0014289048267528415, 'POSITIVO': 0.9992212057113647},\n",
              " {'NEGATIVO': 0.0005063370917923748, 'POSITIVO': 0.9995900988578796},\n",
              " {'NEGATIVO': 0.0005593173555098474, 'POSITIVO': 0.9997385144233704},\n",
              " {'NEGATIVO': 0.0005356587353162467, 'POSITIVO': 0.9996300935745239},\n",
              " {'NEGATIVO': 0.0006346959271468222, 'POSITIVO': 0.9996966123580933},\n",
              " {'NEGATIVO': 0.00042494983063079417, 'POSITIVO': 0.9996100068092346},\n",
              " {'NEGATIVO': 0.0005124583840370178, 'POSITIVO': 0.9996610879898071},\n",
              " {'NEGATIVO': 0.0006075635319575667, 'POSITIVO': 0.9996054768562317},\n",
              " {'NEGATIVO': 0.0006498715956695378, 'POSITIVO': 0.9997422099113464},\n",
              " {'NEGATIVO': 0.003014254616573453, 'POSITIVO': 0.9941164255142212},\n",
              " {'NEGATIVO': 0.003580911783501506, 'POSITIVO': 0.9994943141937256},\n",
              " {'NEGATIVO': 0.0004404649662319571, 'POSITIVO': 0.9996329545974731},\n",
              " {'NEGATIVO': 0.00041182650602422655, 'POSITIVO': 0.9996024966239929},\n",
              " {'NEGATIVO': 0.0022492934949696064, 'POSITIVO': 0.9994663596153259},\n",
              " {'NEGATIVO': 0.0006324538844637573, 'POSITIVO': 0.9997057318687439},\n",
              " {'NEGATIVO': 0.0004649313341360539, 'POSITIVO': 0.999620795249939},\n",
              " {'NEGATIVO': 0.0017551039345562458, 'POSITIVO': 0.9987356066703796},\n",
              " {'NEGATIVO': 0.0007493842858821154, 'POSITIVO': 0.9996721744537354},\n",
              " {'NEGATIVO': 0.0014607649063691497, 'POSITIVO': 0.9988068342208862},\n",
              " {'NEGATIVO': 0.0004884161753579974, 'POSITIVO': 0.9995874762535095},\n",
              " {'NEGATIVO': 0.00044719927245751023, 'POSITIVO': 0.9996142387390137},\n",
              " {'NEGATIVO': 0.0005425416748039424, 'POSITIVO': 0.999664306640625},\n",
              " {'NEGATIVO': 0.0004421670164447278, 'POSITIVO': 0.9996169805526733},\n",
              " {'NEGATIVO': 0.0006421916768886149, 'POSITIVO': 0.9996887445449829},\n",
              " {'NEGATIVO': 0.0008051770273596048, 'POSITIVO': 0.9987488985061646},\n",
              " {'NEGATIVO': 0.000941055070143193, 'POSITIVO': 0.9998071789741516},\n",
              " {'NEGATIVO': 0.0003435240942053497, 'POSITIVO': 0.9994468092918396},\n",
              " {'NEGATIVO': 0.0005702667986042798, 'POSITIVO': 0.9996782541275024},\n",
              " {'NEGATIVO': 0.0008157188422046602, 'POSITIVO': 0.998624324798584},\n",
              " {'NEGATIVO': 0.000994957867078483, 'POSITIVO': 0.9998032450675964},\n",
              " {'NEGATIVO': 0.00044802765478380024, 'POSITIVO': 0.999459445476532},\n",
              " {'NEGATIVO': 0.0005128910997882485, 'POSITIVO': 0.999521017074585},\n",
              " {'NEGATIVO': 0.0007277895347215235, 'POSITIVO': 0.9996840953826904},\n",
              " {'NEGATIVO': 0.0018121119355782866, 'POSITIVO': 0.9995793700218201},\n",
              " {'NEGATIVO': 0.0005551314097829163, 'POSITIVO': 0.9996658563613892},\n",
              " {'NEGATIVO': 0.0005843627150170505, 'POSITIVO': 0.9996547698974609},\n",
              " {'NEGATIVO': 0.0009672214509919286, 'POSITIVO': 0.9997538924217224},\n",
              " {'NEGATIVO': 0.0019485570956021547, 'POSITIVO': 0.9990869760513306},\n",
              " {'NEGATIVO': 0.000726419675629586, 'POSITIVO': 0.9997591376304626},\n",
              " {'NEGATIVO': 0.0005817586206831038, 'POSITIVO': 0.9997082352638245},\n",
              " {'NEGATIVO': 0.0005518907564692199, 'POSITIVO': 0.9996381998062134},\n",
              " {'NEGATIVO': 0.0006735110655426979, 'POSITIVO': 0.999666690826416},\n",
              " {'NEGATIVO': 0.000623210973571986, 'POSITIVO': 0.9996788501739502},\n",
              " {'NEGATIVO': 0.0007085297256708145, 'POSITIVO': 0.9997305274009705},\n",
              " {'NEGATIVO': 0.00039510693750344217, 'POSITIVO': 0.9994215965270996},\n",
              " {'NEGATIVO': 0.0005920177791267633, 'POSITIVO': 0.9996962547302246},\n",
              " {'NEGATIVO': 0.001047103782184422, 'POSITIVO': 0.9983202815055847},\n",
              " {'NEGATIVO': 0.00039898158865980804, 'POSITIVO': 0.9996269941329956},\n",
              " {'NEGATIVO': 0.000589182716794312, 'POSITIVO': 0.9996497631072998},\n",
              " {'NEGATIVO': 0.0005592035595327616, 'POSITIVO': 0.999630331993103},\n",
              " {'NEGATIVO': 0.0005942366551607847, 'POSITIVO': 0.9995935559272766},\n",
              " {'NEGATIVO': 0.0005657953443005681, 'POSITIVO': 0.9996830224990845},\n",
              " {'NEGATIVO': 0.000692643690854311, 'POSITIVO': 0.9997420907020569},\n",
              " {'NEGATIVO': 0.011396280489861965, 'POSITIVO': 0.9923916459083557},\n",
              " {'NEGATIVO': 0.0004485374374780804, 'POSITIVO': 0.99959796667099},\n",
              " {'NEGATIVO': 0.000501236820127815, 'POSITIVO': 0.9995542168617249},\n",
              " {'NEGATIVO': 0.0006081205792725086, 'POSITIVO': 0.9996455907821655},\n",
              " {'NEGATIVO': 0.00247756065800786, 'POSITIVO': 0.9988160133361816},\n",
              " {'NEGATIVO': 0.0006946042994968593, 'POSITIVO': 0.9996217489242554},\n",
              " {'NEGATIVO': 0.0006475738482549787, 'POSITIVO': 0.9996829032897949},\n",
              " {'NEGATIVO': 0.0007959013455547392, 'POSITIVO': 0.999653697013855},\n",
              " {'NEGATIVO': 0.0013275152305141091, 'POSITIVO': 0.9982360601425171},\n",
              " {'NEGATIVO': 0.0015931930392980576, 'POSITIVO': 0.9960720539093018},\n",
              " {'NEGATIVO': 0.0005698196473531425, 'POSITIVO': 0.9995319843292236},\n",
              " {'NEGATIVO': 0.0008938666433095932, 'POSITIVO': 0.9997890591621399},\n",
              " {'NEGATIVO': 0.0012136659352108836, 'POSITIVO': 0.9986314177513123},\n",
              " {'NEGATIVO': 0.003872568253427744, 'POSITIVO': 0.9965649247169495},\n",
              " {'NEGATIVO': 0.003084643743932247, 'POSITIVO': 0.9992454051971436},\n",
              " {'NEGATIVO': 0.0007598769152536988, 'POSITIVO': 0.9997220635414124},\n",
              " {'NEGATIVO': 0.0005893256166018546, 'POSITIVO': 0.9996522665023804},\n",
              " {'NEGATIVO': 0.0005382764502428472, 'POSITIVO': 0.9996843338012695},\n",
              " {'NEGATIVO': 0.0006054596742615104, 'POSITIVO': 0.9994404911994934},\n",
              " {'NEGATIVO': 0.000754085835069418, 'POSITIVO': 0.9997286200523376},\n",
              " {'NEGATIVO': 0.000926188484299928, 'POSITIVO': 0.9997314810752869},\n",
              " {'NEGATIVO': 0.0006114807329140604, 'POSITIVO': 0.9995617270469666},\n",
              " {'NEGATIVO': 0.0005414523766376078, 'POSITIVO': 0.999646782875061},\n",
              " {'NEGATIVO': 0.0006971379043534398, 'POSITIVO': 0.9996949434280396},\n",
              " {'NEGATIVO': 0.0005715131410397589, 'POSITIVO': 0.9997344613075256},\n",
              " {'NEGATIVO': 0.0005739606567658484, 'POSITIVO': 0.9995456337928772},\n",
              " {'NEGATIVO': 0.0007150521269068122, 'POSITIVO': 0.9996981620788574},\n",
              " {'NEGATIVO': 0.0005525160231627524, 'POSITIVO': 0.9997010827064514},\n",
              " {'NEGATIVO': 0.0004685383755713701, 'POSITIVO': 0.9995823502540588},\n",
              " {'NEGATIVO': 0.000655070471111685, 'POSITIVO': 0.9997535347938538},\n",
              " {'NEGATIVO': 0.00040614642784930766, 'POSITIVO': 0.9996598958969116},\n",
              " {'NEGATIVO': 0.0005105104064568877, 'POSITIVO': 0.9995915293693542},\n",
              " {'NEGATIVO': 0.02519858628511429, 'POSITIVO': 0.9989393353462219},\n",
              " {'NEGATIVO': 0.0004080143407918513, 'POSITIVO': 0.9996071457862854},\n",
              " {'NEGATIVO': 0.0005761420470662415, 'POSITIVO': 0.9996553659439087},\n",
              " {'NEGATIVO': 0.0006292177713476121, 'POSITIVO': 0.9997492432594299},\n",
              " {'NEGATIVO': 0.0005229832604527473, 'POSITIVO': 0.9996960163116455},\n",
              " {'NEGATIVO': 0.0026113817002624273, 'POSITIVO': 0.9993183612823486},\n",
              " {'NEGATIVO': 0.0005420710076577961, 'POSITIVO': 0.9997108578681946},\n",
              " {'NEGATIVO': 0.0005547548062168062, 'POSITIVO': 0.9997144341468811},\n",
              " {'NEGATIVO': 0.0005851234891451895, 'POSITIVO': 0.9996935129165649},\n",
              " {'NEGATIVO': 0.0004923921078443527, 'POSITIVO': 0.9996453523635864},\n",
              " {'NEGATIVO': 0.0005742424400523305, 'POSITIVO': 0.9996743202209473},\n",
              " {'NEGATIVO': 0.0008323978399857879, 'POSITIVO': 0.9997491240501404},\n",
              " {'NEGATIVO': 0.0007856700103729963, 'POSITIVO': 0.9997373223304749},\n",
              " {'NEGATIVO': 0.0014935091603547335, 'POSITIVO': 0.9986172914505005},\n",
              " {'NEGATIVO': 0.00230162194930017, 'POSITIVO': 0.9911298751831055},\n",
              " {'NEGATIVO': 0.0006550067919306457, 'POSITIVO': 0.9996825456619263},\n",
              " {'NEGATIVO': 0.0005033852066844702, 'POSITIVO': 0.9997171759605408},\n",
              " {'NEGATIVO': 0.0005589589709416032, 'POSITIVO': 0.999603807926178},\n",
              " {'NEGATIVO': 0.0008172417874448001, 'POSITIVO': 0.9996931552886963},\n",
              " {'NEGATIVO': 0.0006049887160770595, 'POSITIVO': 0.998646080493927},\n",
              " {'NEGATIVO': 0.0009225194226019084, 'POSITIVO': 0.9996746778488159},\n",
              " {'NEGATIVO': 0.00047060722135938704, 'POSITIVO': 0.9996488094329834},\n",
              " {'NEGATIVO': 0.00045635702554136515, 'POSITIVO': 0.9989588260650635},\n",
              " {'NEGATIVO': 0.0007875856827013195, 'POSITIVO': 0.9991511106491089},\n",
              " {'NEGATIVO': 0.0007628382300026715, 'POSITIVO': 0.9996975660324097},\n",
              " {'NEGATIVO': 0.0005004353006370366, 'POSITIVO': 0.99964439868927},\n",
              " {'NEGATIVO': 0.0005883146077394485, 'POSITIVO': 0.9986525177955627},\n",
              " {'NEGATIVO': 0.0004729096544906497, 'POSITIVO': 0.9996355772018433},\n",
              " {'NEGATIVO': 0.0005506292218342423, 'POSITIVO': 0.9995622038841248},\n",
              " {'NEGATIVO': 0.0007074521854519844, 'POSITIVO': 0.9996299743652344},\n",
              " {'NEGATIVO': 0.000590006762649864, 'POSITIVO': 0.9996819496154785},\n",
              " {'NEGATIVO': 0.0006866385228931904, 'POSITIVO': 0.9997081160545349},\n",
              " {'NEGATIVO': 0.0005983798182569444, 'POSITIVO': 0.9997132420539856},\n",
              " {'NEGATIVO': 0.000686858082190156, 'POSITIVO': 0.9997362494468689},\n",
              " {'NEGATIVO': 0.0005204507615417242, 'POSITIVO': 0.9996275901794434},\n",
              " {'NEGATIVO': 0.0008541932911612093, 'POSITIVO': 0.9997666478157043},\n",
              " {'NEGATIVO': 0.00057123729493469, 'POSITIVO': 0.999642014503479},\n",
              " {'NEGATIVO': 0.0006550067919306457, 'POSITIVO': 0.9996825456619263},\n",
              " {'NEGATIVO': 0.000590469513554126, 'POSITIVO': 0.9997088313102722},\n",
              " {'NEGATIVO': 0.0007930906722322106, 'POSITIVO': 0.9983920454978943},\n",
              " {'NEGATIVO': 0.0018501987215131521, 'POSITIVO': 0.9996393918991089},\n",
              " {'NEGATIVO': 0.0004907881375402212, 'POSITIVO': 0.9996039271354675},\n",
              " {'NEGATIVO': 0.000685426639392972, 'POSITIVO': 0.9996563196182251},\n",
              " {'NEGATIVO': 0.0005887193256057799, 'POSITIVO': 0.999670147895813},\n",
              " {'NEGATIVO': 0.0009684464312158525, 'POSITIVO': 0.9991556406021118},\n",
              " {'NEGATIVO': 0.001963530434295535, 'POSITIVO': 0.9993863105773926},\n",
              " {'NEGATIVO': 0.0007813877309672534, 'POSITIVO': 0.9995249509811401},\n",
              " {'NEGATIVO': 0.001443710527382791, 'POSITIVO': 0.9979089498519897},\n",
              " {'NEGATIVO': 0.0006581922643817961, 'POSITIVO': 0.999278724193573},\n",
              " {'NEGATIVO': 0.0005761557840742171, 'POSITIVO': 0.9996672868728638},\n",
              " {'NEGATIVO': 0.0007503736997023225, 'POSITIVO': 0.9997081160545349},\n",
              " {'NEGATIVO': 0.0005231288378126919, 'POSITIVO': 0.9994033575057983},\n",
              " {'NEGATIVO': 0.0003736354992724955, 'POSITIVO': 0.9995728135108948},\n",
              " {'NEGATIVO': 0.0008248667581938207, 'POSITIVO': 0.9997114539146423},\n",
              " {'NEGATIVO': 0.0006292177713476121, 'POSITIVO': 0.9997492432594299},\n",
              " {'NEGATIVO': 0.0006240606890060008, 'POSITIVO': 0.999695897102356},\n",
              " {'NEGATIVO': 0.00043742425623349845, 'POSITIVO': 0.999525785446167},\n",
              " {'NEGATIVO': 0.0021344968117773533, 'POSITIVO': 0.9989338517189026},\n",
              " {'NEGATIVO': 0.0006368406466208398, 'POSITIVO': 0.9996939897537231},\n",
              " {'NEGATIVO': 0.0004211982886772603, 'POSITIVO': 0.999583899974823},\n",
              " {'NEGATIVO': 0.0006751659093424678, 'POSITIVO': 0.9997848868370056},\n",
              " {'NEGATIVO': 0.000517982232850045, 'POSITIVO': 0.9985658526420593},\n",
              " {'NEGATIVO': 0.0005032125045545399, 'POSITIVO': 0.9996834993362427},\n",
              " {'NEGATIVO': 0.0005294744623824954, 'POSITIVO': 0.9996274709701538},\n",
              " {'NEGATIVO': 0.0006571943522430956, 'POSITIVO': 0.9997128844261169},\n",
              " {'NEGATIVO': 0.0003954409621655941, 'POSITIVO': 0.9991795420646667},\n",
              " {'NEGATIVO': 0.0007045355741865933, 'POSITIVO': 0.9996981620788574},\n",
              " {'NEGATIVO': 0.0006164731457829475, 'POSITIVO': 0.9996927976608276},\n",
              " {'NEGATIVO': 0.0006885405164211988, 'POSITIVO': 0.9996912479400635},\n",
              " {'NEGATIVO': 0.0006020160508342087, 'POSITIVO': 0.999659538269043},\n",
              " {'NEGATIVO': 0.000677896139677614, 'POSITIVO': 0.9996182918548584},\n",
              " {'NEGATIVO': 0.0008237298461608589, 'POSITIVO': 0.9997079968452454},\n",
              " {'NEGATIVO': 0.000534624035935849, 'POSITIVO': 0.999661922454834},\n",
              " {'NEGATIVO': 0.0007817682926543057, 'POSITIVO': 0.9991229176521301},\n",
              " {'NEGATIVO': 0.0011715088039636612, 'POSITIVO': 0.9995064735412598},\n",
              " {'NEGATIVO': 0.0005582215380854905, 'POSITIVO': 0.9996211528778076},\n",
              " {'NEGATIVO': 0.000549890217371285, 'POSITIVO': 0.9985811710357666},\n",
              " {'NEGATIVO': 0.0006156191229820251, 'POSITIVO': 0.999589741230011},\n",
              " {'NEGATIVO': 0.0005937675596214831, 'POSITIVO': 0.9997298121452332},\n",
              " ...]"
            ]
          },
          "metadata": {
            "tags": []
          },
          "execution_count": 75
        }
      ]
    },
    {
      "cell_type": "code",
      "metadata": {
        "id": "YXTXMXAgEDMR"
      },
      "source": [
        "previsoes_final = []\n",
        "for previsao in previsoes:\n",
        "  if previsao['POSITIVO'] > previsao['NEGATIVO']:\n",
        "    previsoes_final.append(1)\n",
        "  else:\n",
        "    previsoes_final.append(0)\n",
        "\n",
        "previsoes_final = np.array(previsoes_final)"
      ],
      "execution_count": null,
      "outputs": []
    },
    {
      "cell_type": "code",
      "metadata": {
        "id": "ilep1MZKEVyg",
        "colab": {
          "base_uri": "https://localhost:8080/",
          "height": 35
        },
        "outputId": "3521c8b5-42bb-4ea5-bbd2-097b2e6b665e"
      },
      "source": [
        "previsoes_final"
      ],
      "execution_count": null,
      "outputs": [
        {
          "output_type": "execute_result",
          "data": {
            "text/plain": [
              "array([1, 1, 1, ..., 0, 0, 0])"
            ]
          },
          "metadata": {
            "tags": []
          },
          "execution_count": 77
        }
      ]
    },
    {
      "cell_type": "code",
      "metadata": {
        "id": "3bbnP269EaYs",
        "colab": {
          "base_uri": "https://localhost:8080/",
          "height": 35
        },
        "outputId": "d1dfff16-6b76-4f16-f102-eb4531938432"
      },
      "source": [
        "respostas_reais = base_treinamento['sentiment'].values\n",
        "respostas_reais"
      ],
      "execution_count": null,
      "outputs": [
        {
          "output_type": "execute_result",
          "data": {
            "text/plain": [
              "array([1, 1, 1, ..., 0, 0, 0])"
            ]
          },
          "metadata": {
            "tags": []
          },
          "execution_count": 78
        }
      ]
    },
    {
      "cell_type": "code",
      "metadata": {
        "id": "7dM1nOQtEo6p",
        "colab": {
          "base_uri": "https://localhost:8080/",
          "height": 35
        },
        "outputId": "e783c841-9575-4014-8542-4f9397acb52d"
      },
      "source": [
        "from sklearn.metrics import confusion_matrix, accuracy_score\n",
        "accuracy_score(respostas_reais, previsoes_final)"
      ],
      "execution_count": null,
      "outputs": [
        {
          "output_type": "execute_result",
          "data": {
            "text/plain": [
              "0.99964"
            ]
          },
          "metadata": {
            "tags": []
          },
          "execution_count": 79
        }
      ]
    },
    {
      "cell_type": "code",
      "metadata": {
        "id": "UuI8nXdAE-Nw",
        "colab": {
          "base_uri": "https://localhost:8080/",
          "height": 52
        },
        "outputId": "15442ac2-d6ce-4a2f-b31b-de71b22a8d18"
      },
      "source": [
        "cm = confusion_matrix(respostas_reais, previsoes_final)\n",
        "cm"
      ],
      "execution_count": null,
      "outputs": [
        {
          "output_type": "execute_result",
          "data": {
            "text/plain": [
              "array([[24982,    18],\n",
              "       [    0, 25000]])"
            ]
          },
          "metadata": {
            "tags": []
          },
          "execution_count": 80
        }
      ]
    },
    {
      "cell_type": "code",
      "metadata": {
        "id": "ws7BgykmyWQG",
        "colab": {
          "base_uri": "https://localhost:8080/",
          "height": 286
        },
        "outputId": "1257571d-6370-4555-c4e2-82f4f110c8ff"
      },
      "source": [
        "sns.heatmap(cm, annot=True)"
      ],
      "execution_count": null,
      "outputs": [
        {
          "output_type": "execute_result",
          "data": {
            "text/plain": [
              "<matplotlib.axes._subplots.AxesSubplot at 0x7f5a5311b710>"
            ]
          },
          "metadata": {
            "tags": []
          },
          "execution_count": 81
        },
        {
          "output_type": "display_data",
          "data": {
            "image/png": "[encoded data removed]",
            "text/plain": [
              "<Figure size 432x288 with 2 Axes>"
            ]
          },
          "metadata": {
            "tags": []
          }
        }
      ]
    },
    {
      "cell_type": "markdown",
      "metadata": {
        "id": "HmLjfVrZAE2T"
      },
      "source": [
        "## Avaliação na base de teste"
      ]
    },
    {
      "cell_type": "code",
      "metadata": {
        "id": "AwmnAwRcF1sD"
      },
      "source": [
        "previsoes = []\n",
        "for texto in base_teste['tweet_text']:\n",
        "  previsao = modelo_carregado(texto)\n",
        "  previsoes.append(previsao.cats)"
      ],
      "execution_count": null,
      "outputs": []
    },
    {
      "cell_type": "code",
      "metadata": {
        "id": "Y7MpSvS4F8xv"
      },
      "source": [
        "previsoes_final = []\n",
        "for previsao in previsoes:\n",
        "  if previsao['POSITIVO'] > previsao['NEGATIVO']:\n",
        "    previsoes_final.append(1)\n",
        "  else:\n",
        "    previsoes_final.append(0)\n",
        "\n",
        "previsoes_final = np.array(previsoes_final)"
      ],
      "execution_count": null,
      "outputs": []
    },
    {
      "cell_type": "code",
      "metadata": {
        "id": "rgoCy1SXGEkw"
      },
      "source": [
        "respostas_reais = base_teste['sentiment'].values"
      ],
      "execution_count": null,
      "outputs": []
    },
    {
      "cell_type": "code",
      "metadata": {
        "id": "HbpqmtMlGJ0T",
        "colab": {
          "base_uri": "https://localhost:8080/",
          "height": 35
        },
        "outputId": "997469fe-32bf-4212-ac20-1b7af8174f95"
      },
      "source": [
        "accuracy_score(respostas_reais, previsoes_final)"
      ],
      "execution_count": null,
      "outputs": [
        {
          "output_type": "execute_result",
          "data": {
            "text/plain": [
              "0.9972"
            ]
          },
          "metadata": {
            "tags": []
          },
          "execution_count": 85
        }
      ]
    },
    {
      "cell_type": "code",
      "metadata": {
        "id": "noYdfAJ0GQAF",
        "colab": {
          "base_uri": "https://localhost:8080/",
          "height": 52
        },
        "outputId": "9e9eb29e-b00e-4433-bfcb-f1ee1e6899be"
      },
      "source": [
        "cm = confusion_matrix(respostas_reais, previsoes_final)\n",
        "cm"
      ],
      "execution_count": null,
      "outputs": [
        {
          "output_type": "execute_result",
          "data": {
            "text/plain": [
              "array([[2493,    7],\n",
              "       [   7, 2493]])"
            ]
          },
          "metadata": {
            "tags": []
          },
          "execution_count": 86
        }
      ]
    },
    {
      "cell_type": "code",
      "metadata": {
        "id": "WCe0F3G8zQkW",
        "colab": {
          "base_uri": "https://localhost:8080/",
          "height": 282
        },
        "outputId": "f7a3ffb4-ddc3-4900-c020-1fa9c79e7946"
      },
      "source": [
        "sns.heatmap(cm, annot=True)"
      ],
      "execution_count": null,
      "outputs": [
        {
          "output_type": "execute_result",
          "data": {
            "text/plain": [
              "<matplotlib.axes._subplots.AxesSubplot at 0x7f5a530bc518>"
            ]
          },
          "metadata": {
            "tags": []
          },
          "execution_count": 87
        },
        {
          "output_type": "display_data",
          "data": {
            "image/png": "[encoded data removed]",
            "text/plain": [
              "<Figure size 432x288 with 2 Axes>"
            ]
          },
          "metadata": {
            "tags": []
          }
        }
      ]
    }
  ]
}