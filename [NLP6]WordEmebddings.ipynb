{
  "nbformat": 4,
  "nbformat_minor": 0,
  "metadata": {
    "colab": {
      "name": "[NLP6]WordEmebddings.ipynb",
      "provenance": [],
      "authorship_tag": "ABX9TyNuwo3GKszEroK8QlesobJ+",
      "include_colab_link": true
    },
    "kernelspec": {
      "name": "python3",
      "display_name": "Python 3"
    },
    "language_info": {
      "name": "python"
    }
  },
  "cells": [
    {
      "cell_type": "markdown",
      "metadata": {
        "id": "view-in-github",
        "colab_type": "text"
      },
      "source": [
        "<a href=\"https://colab.research.google.com/github/tvaditya/intro_ds_and_ml/blob/main/%5BNLP6%5DWordEmebddings.ipynb\" target=\"_parent\"><img src=\"https://colab.research.google.com/assets/colab-badge.svg\" alt=\"Open In Colab\"/></a>"
      ]
    },
    {
      "cell_type": "code",
      "execution_count": 2,
      "metadata": {
        "id": "DmjkMOVaKJ-x"
      },
      "outputs": [],
      "source": [
        "import torch\n",
        "import torch.nn as nn\n",
        "import torch.nn.functional as F\n",
        "import torch.optim as optim\n"
      ]
    },
    {
      "cell_type": "code",
      "source": [
        "word_to_idx = {\"I\": 0, \"love\": 1, \"eating\":2, \"and\":3, \"sleeping\":4}\n",
        "embeddings = nn.Embedding(5, 7)    # 5 words in vocab, embedding size is 7\n",
        "word_index = torch.tensor([word_to_idx[\"love\"]])\n",
        "print(word_index)\n"
      ],
      "metadata": {
        "colab": {
          "base_uri": "https://localhost:8080/"
        },
        "id": "_WTjtoI2OHsN",
        "outputId": "7dbe9e1c-8548-43a5-921f-a9c50521d904"
      },
      "execution_count": 3,
      "outputs": [
        {
          "output_type": "stream",
          "name": "stdout",
          "text": [
            "tensor([1])\n"
          ]
        }
      ]
    },
    {
      "cell_type": "code",
      "source": [
        "love = embeddings(word_index)\n",
        "print(love)\n",
        "print(love.shape)"
      ],
      "metadata": {
        "colab": {
          "base_uri": "https://localhost:8080/"
        },
        "id": "93bxb2xLOSPK",
        "outputId": "7ce736e7-a62d-4eef-fc18-0d06f2e987a7"
      },
      "execution_count": 4,
      "outputs": [
        {
          "output_type": "stream",
          "name": "stdout",
          "text": [
            "tensor([[ 0.3543, -1.8150, -0.3814, -0.5924, -2.0484,  0.2436,  0.0745]],\n",
            "       grad_fn=<EmbeddingBackward0>)\n",
            "torch.Size([1, 7])\n"
          ]
        }
      ]
    },
    {
      "cell_type": "code",
      "source": [
        "all_ind = torch.tensor([w for w in range(5)], dtype = torch.long)\n",
        "all_words = embeddings(all_ind)\n",
        "print(all_ind)\n",
        "print(all_words)\n",
        "print(all_words.shape)\n",
        "\n"
      ],
      "metadata": {
        "colab": {
          "base_uri": "https://localhost:8080/"
        },
        "id": "NtrKG9eaOVqD",
        "outputId": "8e187e0f-e555-434c-dde8-6f2b96ce2ceb"
      },
      "execution_count": 5,
      "outputs": [
        {
          "output_type": "stream",
          "name": "stdout",
          "text": [
            "tensor([0, 1, 2, 3, 4])\n",
            "tensor([[-1.2729,  0.2622,  0.3793,  1.6928, -0.4182, -0.6380, -0.1551],\n",
            "        [ 0.3543, -1.8150, -0.3814, -0.5924, -2.0484,  0.2436,  0.0745],\n",
            "        [-0.8729,  0.1625, -0.4501,  0.9907,  0.5966,  0.4121,  1.2168],\n",
            "        [ 0.6266,  0.7605, -0.0757,  0.4142,  1.6269, -0.3233, -1.2775],\n",
            "        [ 0.9509, -0.7878,  0.0454, -0.1881,  1.0582, -1.2233,  1.0552]],\n",
            "       grad_fn=<EmbeddingBackward0>)\n",
            "torch.Size([5, 7])\n"
          ]
        }
      ]
    },
    {
      "cell_type": "code",
      "source": [
        "# Tem as funções de similaridade nessa lib e em outras que voces podem usar para ver."
      ],
      "metadata": {
        "id": "weQ_3sZJOkcF"
      },
      "execution_count": null,
      "outputs": []
    }
  ]
}