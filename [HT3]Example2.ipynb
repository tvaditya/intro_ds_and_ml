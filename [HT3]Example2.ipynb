{
  "cells": [
    {
      "cell_type": "markdown",
      "metadata": {
        "id": "view-in-github",
        "colab_type": "text"
      },
      "source": [
        "<a href=\"https://colab.research.google.com/github/tvaditya/intro_ds_and_ml/blob/main/%5BHT3%5DExample2.ipynb\" target=\"_parent\"><img src=\"https://colab.research.google.com/assets/colab-badge.svg\" alt=\"Open In Colab\"/></a>"
      ]
    },
    {
      "cell_type": "markdown",
      "metadata": {
        "id": "O6r6FBcX1Ib4"
      },
      "source": [
        "# Election Scenario\n",
        "\n",
        "* Candidate A won the state by an average of 4% points, however they lost District 29 to candidate B by 22%, making it a significant outlier. \n",
        "* The final results for the distrct are 39% Candidate A, 61% Candidate B. \n",
        "* You are tasked to investigate this to determine if it is worth a thorough follow-up.\n",
        "* You call a a hundred members of the general public who reported as voting. 48 out of the 100 reported voting for Candidate A. \n",
        "* What do you report?"
      ]
    },
    {
      "cell_type": "code",
      "execution_count": null,
      "metadata": {
        "id": "OnUkvHsC1Ib9"
      },
      "outputs": [],
      "source": [
        "import numpy as np\n",
        "import matplotlib.pyplot as plt\n",
        "from scipy.stats import norm"
      ]
    },
    {
      "cell_type": "markdown",
      "metadata": {
        "id": "G25smGKo1IcA"
      },
      "source": [
        "But what question are we actually wanting to answer? Maybe this is a good one:\n",
        "\n",
        "*What is the chance that more than Candidate A got more votes than reported?*\n",
        "\n",
        "Or to put this another way: \n",
        "* Null Hypothesis - 39% of votes went to Candidate A and 61% to Candidate B\n",
        "* Alternative Hypothesis - >39% of votes went to Candidate A and <61% to Candidate B"
      ]
    },
    {
      "cell_type": "code",
      "execution_count": null,
      "metadata": {
        "colab": {
          "base_uri": "https://localhost:8080/",
          "height": 265
        },
        "id": "hc2W_Mli1IcB",
        "outputId": "0523844c-e546-45fb-d0e9-28dad9711c53"
      },
      "outputs": [
        {
          "output_type": "display_data",
          "data": {
            "image/png": "[encoded data removed]",
            "text/plain": [
              "<Figure size 432x288 with 1 Axes>"
            ]
          },
          "metadata": {
            "needs_background": "light"
          }
        }
      ],
      "source": [
        "sigma = np.sqrt(0.39 * 0.61 / 100)\n",
        "reported = 0.39\n",
        "sample = 0.48\n",
        "\n",
        "xs = np.linspace(0, 1, 500)\n",
        "ps = norm.pdf(xs, sample, sigma)\n",
        "plt.plot(xs, ps, label=\"Underlying sample probability\")\n",
        "plt.axvline(reported, ls=\"--\", label=\"Reported Proportion\")\n",
        "plt.fill_between(xs, ps, 0, alpha=0.2, where=xs>=reported, label=\"prob\")\n",
        "plt.legend();"
      ]
    },
    {
      "cell_type": "markdown",
      "metadata": {
        "id": "tghvqQV11IcC"
      },
      "source": [
        "All the above plot tells us is that things might indeed look fishy. But lets look into the CDF for specifics and then quantify the probability."
      ]
    },
    {
      "cell_type": "code",
      "execution_count": null,
      "metadata": {
        "colab": {
          "base_uri": "https://localhost:8080/"
        },
        "id": "A3aW91i61IcD",
        "outputId": "299763ca-2ed7-4042-801a-e153e9a2216c"
      },
      "outputs": [
        {
          "output_type": "stream",
          "name": "stdout",
          "text": [
            "There is a 96.7% chance that Candidate A would have received more votes\n"
          ]
        }
      ],
      "source": [
        "prob_more = norm.sf(reported, sample, sigma)\n",
        "print(f\"There is a {100 * prob_more:.1f}% chance that Candidate A would have received more votes\")"
      ]
    },
    {
      "cell_type": "markdown",
      "metadata": {
        "id": "e6RVY6lA1IcE"
      },
      "source": [
        "If we want to phrase this in terms of z-scores for a one-tail test and checking if we have a p-value of < 0.05"
      ]
    },
    {
      "cell_type": "code",
      "execution_count": null,
      "metadata": {
        "colab": {
          "base_uri": "https://localhost:8080/"
        },
        "id": "pLhl2OHB1IcF",
        "outputId": "856d80c9-be76-427e-d5b7-1bf4e2424c72"
      },
      "outputs": [
        {
          "output_type": "stream",
          "name": "stdout",
          "text": [
            "1.845 is larger than 1.645, so we are significant\n",
            "Have p-value 0.033\n"
          ]
        }
      ],
      "source": [
        "z_score = (sample - reported) / sigma\n",
        "z_score_needed_for_significance = norm.ppf(0.95)\n",
        "print(f\"{z_score:.3f} is larger than {z_score_needed_for_significance:.3f}, so we are significant\")\n",
        "print(f\"Have p-value {norm.sf(sample, reported, sigma):.3f}\")"
      ]
    },
    {
      "cell_type": "markdown",
      "metadata": {
        "id": "D-FrG-u_1IcG"
      },
      "source": [
        "So what does this mean? We should probably tell our supervisors that this is a significant result (p < 0.05) and warrants a deeper investigation.\n",
        "\n",
        "Follow up: What if instead of asking *What is the chance that more than Candidate A got more votes than reported?*, we instead asked *What is the chance that more than Candidate A got a significantly different amount of votes than reported?*\n",
        "\n",
        "Ie we now move from the one-tail case to the two-tailed? Let's continue assuming someone has asked if it meets $p = 0.05$ criteria"
      ]
    },
    {
      "cell_type": "code",
      "execution_count": null,
      "metadata": {
        "colab": {
          "base_uri": "https://localhost:8080/",
          "height": 265
        },
        "id": "RDAUTGjD1IcH",
        "outputId": "47d8ea0b-5208-4526-e6d1-5cb04936b50b"
      },
      "outputs": [
        {
          "output_type": "display_data",
          "data": {
            "image/png": "[encoded data removed]",
            "text/plain": [
              "<Figure size 432x288 with 1 Axes>"
            ]
          },
          "metadata": {
            "needs_background": "light"
          }
        }
      ],
      "source": [
        "xs = np.linspace(0, 1, 500)\n",
        "ps = norm.pdf(xs, reported, sigma)\n",
        "\n",
        "plt.plot(xs, ps, label=\"Proportion uncert\")\n",
        "plt.axvline(sample, ls=\"--\", label=\"Sample\")\n",
        "limits = norm.ppf([0.025, 0.975], reported, sigma)\n",
        "plt.fill_between(xs, ps, 0, alpha=0.2, where=(xs<limits[0])|(xs>limits[1]), label=\"Significant\")\n",
        "plt.legend(loc=2)\n",
        "plt.xlim(0.2, 0.65);"
      ]
    },
    {
      "cell_type": "markdown",
      "metadata": {
        "id": "vqNE0LNZ1IcJ"
      },
      "source": [
        "So it looks like it's not $p<0.05$ significant for the two-tailed case. Or more formally:"
      ]
    },
    {
      "cell_type": "code",
      "execution_count": null,
      "metadata": {
        "colab": {
          "base_uri": "https://localhost:8080/"
        },
        "id": "IuOR_jjt1IcJ",
        "outputId": "cd38a8ca-8475-4cbe-cb6d-1e010c96664e"
      },
      "outputs": [
        {
          "output_type": "stream",
          "name": "stdout",
          "text": [
            "1.845 is less than 1.960, so we aren't significant\n",
            "0.065 is > 0.05\n"
          ]
        }
      ],
      "source": [
        "# Using z-scores\n",
        "z_score = (sample - reported) / sigma\n",
        "z_score_needed_for_significance = norm.ppf(0.975)\n",
        "print(f\"{z_score:.3f} is less than {z_score_needed_for_significance:.3f}, so we aren't significant\")\n",
        "\n",
        "# Using p-values\n",
        "p_value_two_tailed = 2 * norm.sf(z_score)\n",
        "print(f\"{p_value_two_tailed:.3f} is > 0.05\")"
      ]
    },
    {
      "cell_type": "code",
      "execution_count": null,
      "metadata": {
        "id": "7x-S9Wd21IcK"
      },
      "outputs": [],
      "source": [
        ""
      ]
    }
  ],
  "metadata": {
    "kernelspec": {
      "display_name": "Python 3",
      "language": "python",
      "name": "python3"
    },
    "language_info": {
      "codemirror_mode": {
        "name": "ipython",
        "version": 3
      },
      "file_extension": ".py",
      "mimetype": "text/x-python",
      "name": "python",
      "nbconvert_exporter": "python",
      "pygments_lexer": "ipython3",
      "version": "3.6.8"
    },
    "colab": {
      "name": "[HT3]Example2.ipynb",
      "provenance": [],
      "include_colab_link": true
    }
  },
  "nbformat": 4,
  "nbformat_minor": 0
}