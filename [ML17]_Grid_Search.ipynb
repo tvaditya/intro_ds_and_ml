{
  "nbformat": 4,
  "nbformat_minor": 0,
  "metadata": {
    "colab": {
      "name": "[ML17] Grid Search.ipynb",
      "provenance": [],
      "include_colab_link": true
    },
    "kernelspec": {
      "name": "python3",
      "display_name": "Python 3"
    }
  },
  "cells": [
    {
      "cell_type": "markdown",
      "metadata": {
        "id": "view-in-github",
        "colab_type": "text"
      },
      "source": [
        "<a href=\"https://colab.research.google.com/github/tvaditya/intro_ds_and_ml/blob/main/%5BML17%5D_Grid_Search.ipynb\" target=\"_parent\"><img src=\"https://colab.research.google.com/assets/colab-badge.svg\" alt=\"Open In Colab\"/></a>"
      ]
    },
    {
      "cell_type": "markdown",
      "metadata": {
        "id": "ksWyf0umtPGH"
      },
      "source": [
        "\n"
      ]
    },
    {
      "cell_type": "markdown",
      "metadata": {
        "id": "co9IDgIytZ1c"
      },
      "source": [
        "# Grid Search\n",
        "\n",
        "O Grid Search é uma técnica de otimização de hyper-parâmetros que nos ajuda a encontrar os melhores parâmetros para o nosso modelo.\n",
        "\n",
        "<center><img src=\"https://blogs.sas.com/content/subconsciousmusings/files/2016/09/patricks-hyperparameter-grid-search.png\" width=\"60%\"></center>\n",
        "\n",
        "\n",
        "Basicamente, ele testa diferentes combinações de parâmetros, retendo os melhores resultados para cada um deles, retornando a melhor combinação possível de parâmetros para aquele conjunto de dados específico.\n",
        "\n",
        "Essa é uma forma muito direta e eficiente de melhorar os resultados dos nossos modelos.\n",
        "\n"
      ]
    },
    {
      "cell_type": "code",
      "metadata": {
        "id": "PmQVl6ryvnds"
      },
      "source": [
        "# importar os pacotes necessários\n",
        "import pandas as pd\n",
        "import matplotlib.pyplot as plt\n",
        "from sklearn.model_selection import train_test_split\n",
        "from sklearn.preprocessing import StandardScaler\n",
        "from sklearn.metrics import classification_report\n",
        "from sklearn.metrics import confusion_matrix\n",
        "from sklearn.metrics import classification_report\n",
        "import numpy as np\n",
        "\n",
        "# garantir replicabilidade\n",
        "np.random.seed(42)\n",
        "\n",
        "# importar o arquivo\n",
        "df = pd.read_csv(\"http://dl.dropboxusercontent.com/s/6d91j46mkcdj4qv/heart-disease-clean.csv?dl=1\")"
      ],
      "execution_count": null,
      "outputs": []
    },
    {
      "cell_type": "code",
      "metadata": {
        "id": "VOotj1ppwhE8",
        "colab": {
          "base_uri": "https://localhost:8080/",
          "height": 254
        },
        "outputId": "e69a8c3f-b8dd-4a6b-aa1a-962a823e37d4"
      },
      "source": [
        "# 1. escolher e importar um modelo\n",
        "from sklearn.linear_model import LogisticRegression\n",
        "from sklearn.model_selection import GridSearchCV\n",
        "\n",
        "# 2. Instanciar e escolher os hyperparameters\n",
        "model = LogisticRegression()\n",
        "\n",
        "# 3. Separar os dados entre feature matrix e target vector \n",
        "X = df.drop('num', axis=1)\n",
        "y = df['num']\n",
        "\n",
        "# 3.1 Dividir o dataset entre treino e teste\n",
        "X_train, X_test, y_train, y_test = train_test_split(X, y)\n",
        "\n",
        "# 3.2 Padronizar os dados de treino\n",
        "scaler = StandardScaler().fit(X_train)\n",
        "X_train_transformed = scaler.transform(X_train)\n",
        "\n",
        "# 4. Grid Search\n",
        "parameters = {\n",
        "    'C': [0.001,0.01,0.1,1,10,100,1000],\n",
        "    }\n",
        "\n",
        "clf = GridSearchCV(model, parameters)\n",
        "clf.fit(X_train_transformed, y_train)"
      ],
      "execution_count": null,
      "outputs": [
        {
          "output_type": "execute_result",
          "data": {
            "text/plain": [
              "GridSearchCV(cv=None, error_score=nan,\n",
              "             estimator=LogisticRegression(C=1.0, class_weight=None, dual=False,\n",
              "                                          fit_intercept=True,\n",
              "                                          intercept_scaling=1, l1_ratio=None,\n",
              "                                          max_iter=100, multi_class='auto',\n",
              "                                          n_jobs=None, penalty='l2',\n",
              "                                          random_state=None, solver='lbfgs',\n",
              "                                          tol=0.0001, verbose=0,\n",
              "                                          warm_start=False),\n",
              "             iid='deprecated', n_jobs=None,\n",
              "             param_grid={'C': [0.001, 0.01, 0.1, 1, 10, 100, 1000]},\n",
              "             pre_dispatch='2*n_jobs', refit=True, return_train_score=False,\n",
              "             scoring=None, verbose=0)"
            ]
          },
          "metadata": {
            "tags": []
          },
          "execution_count": 2
        }
      ]
    },
    {
      "cell_type": "code",
      "metadata": {
        "id": "besHHZPTprwH",
        "colab": {
          "base_uri": "https://localhost:8080/",
          "height": 35
        },
        "outputId": "944faa0b-210f-40e4-bb73-9823d1131caa"
      },
      "source": [
        "# ver melhor parâmetro\n",
        "print(clf.best_params_)"
      ],
      "execution_count": null,
      "outputs": [
        {
          "output_type": "stream",
          "text": [
            "{'C': 1}\n"
          ],
          "name": "stdout"
        }
      ]
    },
    {
      "cell_type": "code",
      "metadata": {
        "id": "8TpaE6q_qyVD",
        "colab": {
          "base_uri": "https://localhost:8080/",
          "height": 35
        },
        "outputId": "dce37d70-6edc-4b63-c02b-fb3522a0393d"
      },
      "source": [
        "print(\"Melhor: {} usando {}\".format(clf.best_score_, clf.best_params_))"
      ],
      "execution_count": null,
      "outputs": [
        {
          "output_type": "stream",
          "text": [
            "Melhor: 0.8371014492753623 usando {'C': 1}\n"
          ],
          "name": "stdout"
        }
      ]
    },
    {
      "cell_type": "code",
      "metadata": {
        "id": "Y1vWeXOaqChK",
        "colab": {
          "base_uri": "https://localhost:8080/",
          "height": 145
        },
        "outputId": "113ed5db-b057-48dc-c93e-539cfdd23f31"
      },
      "source": [
        "# ver todos parâmetros testados\n",
        "means = clf.cv_results_['mean_test_score']\n",
        "stds = clf.cv_results_['std_test_score']\n",
        "\n",
        "for mean, std, params in zip(means, stds, clf.cv_results_['params']):\n",
        "        print(\"%0.3f (+/-%0.03f) for %r\"\n",
        "              % (mean, std * 2, params))"
      ],
      "execution_count": null,
      "outputs": [
        {
          "output_type": "stream",
          "text": [
            "0.692 (+/-0.061) for {'C': 0.001}\n",
            "0.833 (+/-0.036) for {'C': 0.01}\n",
            "0.828 (+/-0.034) for {'C': 0.1}\n",
            "0.837 (+/-0.043) for {'C': 1}\n",
            "0.824 (+/-0.026) for {'C': 10}\n",
            "0.819 (+/-0.015) for {'C': 100}\n",
            "0.819 (+/-0.015) for {'C': 1000}\n"
          ],
          "name": "stdout"
        }
      ]
    },
    {
      "cell_type": "code",
      "metadata": {
        "id": "cOSFGWR2qYMp",
        "colab": {
          "base_uri": "https://localhost:8080/",
          "height": 635
        },
        "outputId": "d4e7e012-d4fc-4c05-bca2-fbc57d3519a7"
      },
      "source": [
        "# resultados armazenados\n",
        "clf.cv_results_"
      ],
      "execution_count": null,
      "outputs": [
        {
          "output_type": "execute_result",
          "data": {
            "text/plain": [
              "{'mean_fit_time': array([0.00299916, 0.00281725, 0.00301232, 0.00349321, 0.00349994,\n",
              "        0.0034595 , 0.00355053]),\n",
              " 'mean_score_time': array([0.00042896, 0.00039682, 0.00040989, 0.00041175, 0.00039253,\n",
              "        0.00039449, 0.00040197]),\n",
              " 'mean_test_score': array([0.69169082, 0.83256039, 0.82811594, 0.83710145, 0.82386473,\n",
              "        0.81942029, 0.81942029]),\n",
              " 'param_C': masked_array(data=[0.001, 0.01, 0.1, 1, 10, 100, 1000],\n",
              "              mask=[False, False, False, False, False, False, False],\n",
              "        fill_value='?',\n",
              "             dtype=object),\n",
              " 'params': [{'C': 0.001},\n",
              "  {'C': 0.01},\n",
              "  {'C': 0.1},\n",
              "  {'C': 1},\n",
              "  {'C': 10},\n",
              "  {'C': 100},\n",
              "  {'C': 1000}],\n",
              " 'rank_test_score': array([7, 2, 3, 1, 4, 5, 5], dtype=int32),\n",
              " 'split0_test_score': array([0.7173913 , 0.84782609, 0.84782609, 0.80434783, 0.80434783,\n",
              "        0.80434783, 0.80434783]),\n",
              " 'split1_test_score': array([0.65217391, 0.82608696, 0.82608696, 0.84782609, 0.82608696,\n",
              "        0.82608696, 0.82608696]),\n",
              " 'split2_test_score': array([0.68888889, 0.8       , 0.8       , 0.82222222, 0.82222222,\n",
              "        0.82222222, 0.82222222]),\n",
              " 'split3_test_score': array([0.66666667, 0.84444444, 0.84444444, 0.84444444, 0.84444444,\n",
              "        0.82222222, 0.82222222]),\n",
              " 'split4_test_score': array([0.73333333, 0.84444444, 0.82222222, 0.86666667, 0.82222222,\n",
              "        0.82222222, 0.82222222]),\n",
              " 'std_fit_time': array([2.23011830e-04, 1.78975643e-04, 3.16232838e-04, 2.21532180e-04,\n",
              "        8.32356650e-05, 1.43602137e-04, 1.11896217e-04]),\n",
              " 'std_score_time': array([6.68649825e-05, 1.82987463e-05, 1.88054081e-05, 1.40985839e-05,\n",
              "        1.14506464e-05, 1.75813941e-05, 6.05226397e-06]),\n",
              " 'std_test_score': array([0.03029937, 0.01798659, 0.0172306 , 0.0216205 , 0.01276533,\n",
              "        0.00768344, 0.00768344])}"
            ]
          },
          "metadata": {
            "tags": []
          },
          "execution_count": 6
        }
      ]
    },
    {
      "cell_type": "code",
      "metadata": {
        "id": "lri6clzUqmdI"
      },
      "source": [
        ""
      ],
      "execution_count": null,
      "outputs": []
    }
  ]
}