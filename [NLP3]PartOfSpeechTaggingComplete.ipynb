{
  "nbformat": 4,
  "nbformat_minor": 0,
  "metadata": {
    "colab": {
      "name": "[NLP3]PartOfSpeechTaggingComplete.ipynb",
      "provenance": [],
      "collapsed_sections": [],
      "include_colab_link": true
    },
    "kernelspec": {
      "name": "python3",
      "display_name": "Python 3"
    },
    "language_info": {
      "name": "python"
    }
  },
  "cells": [
    {
      "cell_type": "markdown",
      "metadata": {
        "id": "view-in-github",
        "colab_type": "text"
      },
      "source": [
        "<a href=\"https://colab.research.google.com/github/tvaditya/intro_ds_and_ml/blob/main/%5BNLP3%5DPartOfSpeechTaggingComplete.ipynb\" target=\"_parent\"><img src=\"https://colab.research.google.com/assets/colab-badge.svg\" alt=\"Open In Colab\"/></a>"
      ]
    },
    {
      "cell_type": "markdown",
      "metadata": {
        "id": "r31rYsMHGIpW"
      },
      "source": [
        "#<font color='#00d8d6'> Part of Speech Tagging<br>\n",
        "<font color='#05c46b' >NLTK Taggers<br>This package contains classes for part-of-speech tagging, or simply “tagging”.<br>A “tag” specifies some property of a token, such as its part of speech. <br>An Off-the-self tagger is available for English <br>\n",
        "<font color='#00d8d6'>Functions: <br>punkt is used for tokenising sentences <br> averaged_perceptron_tagger is used for tagging words with their parts of speech (POS)."
      ]
    },
    {
      "cell_type": "code",
      "metadata": {
        "colab": {
          "base_uri": "https://localhost:8080/"
        },
        "id": "xqr2LdXHcme0",
        "outputId": "9cc548b4-f54b-440a-90b3-67707e1653c6"
      },
      "source": [
        "import nltk\n",
        "nltk.download('punkt')\n",
        "nltk.download('averaged_perceptron_tagger')"
      ],
      "execution_count": 1,
      "outputs": [
        {
          "output_type": "stream",
          "name": "stdout",
          "text": [
            "[nltk_data] Downloading package punkt to /root/nltk_data...\n",
            "[nltk_data]   Unzipping tokenizers/punkt.zip.\n",
            "[nltk_data] Downloading package averaged_perceptron_tagger to\n",
            "[nltk_data]     /root/nltk_data...\n",
            "[nltk_data]   Unzipping taggers/averaged_perceptron_tagger.zip.\n"
          ]
        },
        {
          "output_type": "execute_result",
          "data": {
            "text/plain": [
              "True"
            ]
          },
          "metadata": {},
          "execution_count": 1
        }
      ]
    },
    {
      "cell_type": "code",
      "metadata": {
        "id": "NeBBzm0Icuba"
      },
      "source": [
        "sentence = \"The small boy ate the pancakes from the restaurant\""
      ],
      "execution_count": 2,
      "outputs": []
    },
    {
      "cell_type": "markdown",
      "metadata": {
        "id": "Xcj3DMKZJyo-"
      },
      "source": [
        "<font color='#00d8d6'>tokenize"
      ]
    },
    {
      "cell_type": "code",
      "metadata": {
        "id": "DVIX2UFrJvlF",
        "colab": {
          "base_uri": "https://localhost:8080/"
        },
        "outputId": "7ce8c10e-e9d8-4428-be8c-0211eda79634"
      },
      "source": [
        "token = nltk.word_tokenize(sentence)\n",
        "print(token)"
      ],
      "execution_count": 3,
      "outputs": [
        {
          "output_type": "stream",
          "name": "stdout",
          "text": [
            "['The', 'small', 'boy', 'ate', 'the', 'pancakes', 'from', 'the', 'restaurant']\n"
          ]
        }
      ]
    },
    {
      "cell_type": "markdown",
      "metadata": {
        "id": "wgBRvE9_KHpJ"
      },
      "source": [
        "<font color='#00d8d6'> POS Tagging"
      ]
    },
    {
      "cell_type": "code",
      "metadata": {
        "id": "POxCgpcnKAN0",
        "colab": {
          "base_uri": "https://localhost:8080/"
        },
        "outputId": "0b746669-5122-4de6-98d4-23e5da999c6f"
      },
      "source": [
        "tags = nltk.pos_tag(token)\n",
        "print(tags)"
      ],
      "execution_count": 4,
      "outputs": [
        {
          "output_type": "stream",
          "name": "stdout",
          "text": [
            "[('The', 'DT'), ('small', 'JJ'), ('boy', 'NN'), ('ate', 'VBP'), ('the', 'DT'), ('pancakes', 'NNS'), ('from', 'IN'), ('the', 'DT'), ('restaurant', 'NN')]\n"
          ]
        }
      ]
    },
    {
      "cell_type": "code",
      "source": [
        " # https://www.nltk.org/book/ch05.html"
      ],
      "metadata": {
        "id": "mlFqIlb1LErg"
      },
      "execution_count": null,
      "outputs": []
    },
    {
      "cell_type": "code",
      "source": [
        "# Vejam com o Spacy como fazer pos_tagging em PT-BR"
      ],
      "metadata": {
        "id": "bwZh3fF1LTTZ"
      },
      "execution_count": 5,
      "outputs": []
    },
    {
      "cell_type": "markdown",
      "metadata": {
        "id": "f6zytdUfGtmS"
      },
      "source": [
        "[IBM Watson Resource For Part Of Speech](https://www.ibm.com/docs/en/wca/3.5.0?topic=analytics-part-speech-tag-sets)"
      ]
    }
  ]
}