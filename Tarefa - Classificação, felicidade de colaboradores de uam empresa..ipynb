{
 "cells": [
  {
   "cell_type": "code",
   "execution_count": 1,
   "id": "572f1d61",
   "metadata": {},
   "outputs": [],
   "source": [
    "import pandas as pd"
   ]
  },
  {
   "cell_type": "code",
   "execution_count": 3,
   "id": "b7ad0b05",
   "metadata": {},
   "outputs": [],
   "source": [
    "df = pd.read_csv('felicidade_pessoas_dm.csv')"
   ]
  },
  {
   "cell_type": "code",
   "execution_count": 4,
   "id": "800880c6",
   "metadata": {},
   "outputs": [
    {
     "data": {
      "text/html": [
       "<div>\n",
       "<style scoped>\n",
       "    .dataframe tbody tr th:only-of-type {\n",
       "        vertical-align: middle;\n",
       "    }\n",
       "\n",
       "    .dataframe tbody tr th {\n",
       "        vertical-align: top;\n",
       "    }\n",
       "\n",
       "    .dataframe thead th {\n",
       "        text-align: right;\n",
       "    }\n",
       "</style>\n",
       "<table border=\"1\" class=\"dataframe\">\n",
       "  <thead>\n",
       "    <tr style=\"text-align: right;\">\n",
       "      <th></th>\n",
       "      <th>Idade</th>\n",
       "      <th>Felicidade</th>\n",
       "      <th>ViagemNegocios</th>\n",
       "      <th>TaxaDiaria</th>\n",
       "      <th>Area</th>\n",
       "      <th>DistanciaDaEmpresa</th>\n",
       "      <th>Educacao</th>\n",
       "      <th>AreaDeEducacao</th>\n",
       "      <th>ContagemFuncionario</th>\n",
       "      <th>NumeroCadastroFuncionario</th>\n",
       "      <th>...</th>\n",
       "      <th>SatisfacaoRelacionamento</th>\n",
       "      <th>HorasPadrao</th>\n",
       "      <th>NivelAcoesEmpresa</th>\n",
       "      <th>TotalDeAnosTranalhados</th>\n",
       "      <th>TempoDeTreino</th>\n",
       "      <th>BalancoVidaTrabalho</th>\n",
       "      <th>AnosNaEmpresa</th>\n",
       "      <th>TempoNaAtualFuncao</th>\n",
       "      <th>AnosDesdeUltimaPromocao</th>\n",
       "      <th>AnosComOmesmoGerente</th>\n",
       "    </tr>\n",
       "  </thead>\n",
       "  <tbody>\n",
       "    <tr>\n",
       "      <th>0</th>\n",
       "      <td>41</td>\n",
       "      <td>Não</td>\n",
       "      <td>Raramente</td>\n",
       "      <td>1102</td>\n",
       "      <td>Vendas</td>\n",
       "      <td>1</td>\n",
       "      <td>2</td>\n",
       "      <td>Ciencias Financeiras</td>\n",
       "      <td>1</td>\n",
       "      <td>1</td>\n",
       "      <td>...</td>\n",
       "      <td>1</td>\n",
       "      <td>80</td>\n",
       "      <td>0</td>\n",
       "      <td>8</td>\n",
       "      <td>0</td>\n",
       "      <td>1</td>\n",
       "      <td>6</td>\n",
       "      <td>4</td>\n",
       "      <td>0</td>\n",
       "      <td>5</td>\n",
       "    </tr>\n",
       "    <tr>\n",
       "      <th>1</th>\n",
       "      <td>49</td>\n",
       "      <td>Sim</td>\n",
       "      <td>Frequentemente</td>\n",
       "      <td>279</td>\n",
       "      <td>R&amp;D</td>\n",
       "      <td>8</td>\n",
       "      <td>1</td>\n",
       "      <td>Ciencias Financeiras</td>\n",
       "      <td>1</td>\n",
       "      <td>2</td>\n",
       "      <td>...</td>\n",
       "      <td>4</td>\n",
       "      <td>80</td>\n",
       "      <td>1</td>\n",
       "      <td>10</td>\n",
       "      <td>3</td>\n",
       "      <td>3</td>\n",
       "      <td>10</td>\n",
       "      <td>7</td>\n",
       "      <td>1</td>\n",
       "      <td>7</td>\n",
       "    </tr>\n",
       "    <tr>\n",
       "      <th>2</th>\n",
       "      <td>37</td>\n",
       "      <td>Não</td>\n",
       "      <td>Raramente</td>\n",
       "      <td>1373</td>\n",
       "      <td>R&amp;D</td>\n",
       "      <td>2</td>\n",
       "      <td>2</td>\n",
       "      <td>Outros</td>\n",
       "      <td>1</td>\n",
       "      <td>4</td>\n",
       "      <td>...</td>\n",
       "      <td>2</td>\n",
       "      <td>80</td>\n",
       "      <td>0</td>\n",
       "      <td>7</td>\n",
       "      <td>3</td>\n",
       "      <td>3</td>\n",
       "      <td>0</td>\n",
       "      <td>0</td>\n",
       "      <td>0</td>\n",
       "      <td>0</td>\n",
       "    </tr>\n",
       "    <tr>\n",
       "      <th>3</th>\n",
       "      <td>33</td>\n",
       "      <td>Sim</td>\n",
       "      <td>Frequentemente</td>\n",
       "      <td>1392</td>\n",
       "      <td>R&amp;D</td>\n",
       "      <td>3</td>\n",
       "      <td>4</td>\n",
       "      <td>Ciencias Financeiras</td>\n",
       "      <td>1</td>\n",
       "      <td>5</td>\n",
       "      <td>...</td>\n",
       "      <td>3</td>\n",
       "      <td>80</td>\n",
       "      <td>0</td>\n",
       "      <td>8</td>\n",
       "      <td>3</td>\n",
       "      <td>3</td>\n",
       "      <td>8</td>\n",
       "      <td>7</td>\n",
       "      <td>3</td>\n",
       "      <td>0</td>\n",
       "    </tr>\n",
       "    <tr>\n",
       "      <th>4</th>\n",
       "      <td>27</td>\n",
       "      <td>Sim</td>\n",
       "      <td>Raramente</td>\n",
       "      <td>591</td>\n",
       "      <td>R&amp;D</td>\n",
       "      <td>2</td>\n",
       "      <td>1</td>\n",
       "      <td>Computacao</td>\n",
       "      <td>1</td>\n",
       "      <td>7</td>\n",
       "      <td>...</td>\n",
       "      <td>4</td>\n",
       "      <td>80</td>\n",
       "      <td>1</td>\n",
       "      <td>6</td>\n",
       "      <td>3</td>\n",
       "      <td>3</td>\n",
       "      <td>2</td>\n",
       "      <td>2</td>\n",
       "      <td>2</td>\n",
       "      <td>2</td>\n",
       "    </tr>\n",
       "  </tbody>\n",
       "</table>\n",
       "<p>5 rows × 35 columns</p>\n",
       "</div>"
      ],
      "text/plain": [
       "   Idade Felicidade  ViagemNegocios  TaxaDiaria    Area  DistanciaDaEmpresa  \\\n",
       "0     41        Não       Raramente        1102  Vendas                   1   \n",
       "1     49        Sim  Frequentemente         279     R&D                   8   \n",
       "2     37        Não       Raramente        1373     R&D                   2   \n",
       "3     33        Sim  Frequentemente        1392     R&D                   3   \n",
       "4     27        Sim       Raramente         591     R&D                   2   \n",
       "\n",
       "   Educacao        AreaDeEducacao  ContagemFuncionario  \\\n",
       "0         2  Ciencias Financeiras                    1   \n",
       "1         1  Ciencias Financeiras                    1   \n",
       "2         2                Outros                    1   \n",
       "3         4  Ciencias Financeiras                    1   \n",
       "4         1            Computacao                    1   \n",
       "\n",
       "   NumeroCadastroFuncionario  ...  SatisfacaoRelacionamento HorasPadrao  \\\n",
       "0                          1  ...                         1          80   \n",
       "1                          2  ...                         4          80   \n",
       "2                          4  ...                         2          80   \n",
       "3                          5  ...                         3          80   \n",
       "4                          7  ...                         4          80   \n",
       "\n",
       "   NivelAcoesEmpresa  TotalDeAnosTranalhados  TempoDeTreino  \\\n",
       "0                  0                       8              0   \n",
       "1                  1                      10              3   \n",
       "2                  0                       7              3   \n",
       "3                  0                       8              3   \n",
       "4                  1                       6              3   \n",
       "\n",
       "  BalancoVidaTrabalho  AnosNaEmpresa TempoNaAtualFuncao  \\\n",
       "0                   1              6                  4   \n",
       "1                   3             10                  7   \n",
       "2                   3              0                  0   \n",
       "3                   3              8                  7   \n",
       "4                   3              2                  2   \n",
       "\n",
       "   AnosDesdeUltimaPromocao  AnosComOmesmoGerente  \n",
       "0                        0                     5  \n",
       "1                        1                     7  \n",
       "2                        0                     0  \n",
       "3                        3                     0  \n",
       "4                        2                     2  \n",
       "\n",
       "[5 rows x 35 columns]"
      ]
     },
     "execution_count": 4,
     "metadata": {},
     "output_type": "execute_result"
    }
   ],
   "source": [
    "df.head()"
   ]
  },
  {
   "cell_type": "code",
   "execution_count": 5,
   "id": "5a4a3489",
   "metadata": {},
   "outputs": [
    {
     "data": {
      "text/plain": [
       "Index(['Idade', 'Felicidade', 'ViagemNegocios', 'TaxaDiaria', 'Area',\n",
       "       'DistanciaDaEmpresa', 'Educacao', 'AreaDeEducacao',\n",
       "       'ContagemFuncionario', 'NumeroCadastroFuncionario',\n",
       "       'SatisfacaoFuncionario', 'Genero', 'ValorHora', 'EnvolvimentoEmprego',\n",
       "       'NivelEmprego', 'FuncaoEmprego', 'SatisfacaoEmprego', 'EstadoConjugal',\n",
       "       'Salario', 'TaxaMensal', 'NumeroDeEmpresasTrabalhadas', 'AcimaDe18anos',\n",
       "       'HoraExtra', 'PercentAumentoSalario', 'TaxaPerformance',\n",
       "       'SatisfacaoRelacionamento', 'HorasPadrao', 'NivelAcoesEmpresa',\n",
       "       'TotalDeAnosTranalhados', 'TempoDeTreino', 'BalancoVidaTrabalho',\n",
       "       'AnosNaEmpresa', 'TempoNaAtualFuncao', 'AnosDesdeUltimaPromocao',\n",
       "       'AnosComOmesmoGerente'],\n",
       "      dtype='object')"
      ]
     },
     "execution_count": 5,
     "metadata": {},
     "output_type": "execute_result"
    }
   ],
   "source": [
    "df.columns\n"
   ]
  },
  {
   "cell_type": "markdown",
   "id": "0578816f",
   "metadata": {},
   "source": [
    "#1 - Razão de entenderem os motivos que deixam uma pessoa feliz no trabalho \n",
    "#2- Colocar as suas hipoteses\n",
    "#3 - Explicar o algoritmo usado Regressão Logistica\n",
    "#4 - Como pegar só colunas numericas e não numericas \n",
    "#5 - Confirmar se as suas hipoteses foram validas\n",
    "#6 - Gerar as metricas, a matriz de confusão e classification e usar eles para defender as metricas.\n",
    "#7- Conclusões gerais\n",
    "*** Obs Podem alterar o nome do notebook "
   ]
  },
  {
   "cell_type": "markdown",
   "id": "066c954a",
   "metadata": {},
   "source": [
    "Organização\n",
    "1 Lider( Ajudar aonde for mais necessario)\n",
    "2 Notebook ( parte tecnica )\n",
    "3 e 4 pesquisar como é algoritmo, como pegar so colunas numericas, tratamento dos dados, tratamento de variveis categoricas\n",
    "5 para fazer a parte de texto"
   ]
  },
  {
   "cell_type": "code",
   "execution_count": null,
   "id": "fd115a11",
   "metadata": {},
   "outputs": [],
   "source": []
  },
  {
   "cell_type": "code",
   "execution_count": null,
   "id": "e01a12f6",
   "metadata": {},
   "outputs": [],
   "source": []
  },
  {
   "cell_type": "code",
   "execution_count": null,
   "id": "cb8cb1cc",
   "metadata": {},
   "outputs": [],
   "source": []
  },
  {
   "cell_type": "code",
   "execution_count": null,
   "id": "0b7dfa2a",
   "metadata": {},
   "outputs": [],
   "source": []
  },
  {
   "cell_type": "code",
   "execution_count": null,
   "id": "ba5ae6fd",
   "metadata": {},
   "outputs": [],
   "source": []
  },
  {
   "cell_type": "code",
   "execution_count": null,
   "id": "6894e2ed",
   "metadata": {},
   "outputs": [],
   "source": []
  },
  {
   "cell_type": "code",
   "execution_count": null,
   "id": "3362fecb",
   "metadata": {},
   "outputs": [],
   "source": []
  },
  {
   "cell_type": "code",
   "execution_count": null,
   "id": "e9a0c86b",
   "metadata": {},
   "outputs": [],
   "source": []
  },
  {
   "cell_type": "code",
   "execution_count": null,
   "id": "6d9fc148",
   "metadata": {},
   "outputs": [],
   "source": []
  },
  {
   "cell_type": "code",
   "execution_count": null,
   "id": "81def21b",
   "metadata": {},
   "outputs": [],
   "source": []
  },
  {
   "cell_type": "code",
   "execution_count": null,
   "id": "4f416096",
   "metadata": {},
   "outputs": [],
   "source": []
  },
  {
   "cell_type": "code",
   "execution_count": null,
   "id": "74f2524e",
   "metadata": {},
   "outputs": [],
   "source": []
  },
  {
   "cell_type": "code",
   "execution_count": null,
   "id": "6cd988fd",
   "metadata": {},
   "outputs": [],
   "source": []
  },
  {
   "cell_type": "code",
   "execution_count": null,
   "id": "323d8fe6",
   "metadata": {},
   "outputs": [],
   "source": []
  },
  {
   "cell_type": "code",
   "execution_count": null,
   "id": "c5fa6f88",
   "metadata": {},
   "outputs": [],
   "source": []
  },
  {
   "cell_type": "code",
   "execution_count": null,
   "id": "bf0aa32a",
   "metadata": {},
   "outputs": [],
   "source": []
  },
  {
   "cell_type": "code",
   "execution_count": null,
   "id": "95fab8b7",
   "metadata": {},
   "outputs": [],
   "source": [
    "\n",
    "\n",
    "\n",
    "\n"
   ]
  },
  {
   "cell_type": "code",
   "execution_count": null,
   "id": "49c3a8e0",
   "metadata": {},
   "outputs": [],
   "source": []
  },
  {
   "cell_type": "code",
   "execution_count": null,
   "id": "dcfed61b",
   "metadata": {},
   "outputs": [],
   "source": []
  },
  {
   "cell_type": "code",
   "execution_count": null,
   "id": "13dd0f0a",
   "metadata": {},
   "outputs": [],
   "source": []
  },
  {
   "cell_type": "code",
   "execution_count": null,
   "id": "1a49ce1c",
   "metadata": {},
   "outputs": [],
   "source": [
    "\n"
   ]
  },
  {
   "cell_type": "code",
   "execution_count": null,
   "id": "38bb3592",
   "metadata": {},
   "outputs": [],
   "source": []
  },
  {
   "cell_type": "code",
   "execution_count": null,
   "id": "058ad655",
   "metadata": {},
   "outputs": [],
   "source": []
  },
  {
   "cell_type": "code",
   "execution_count": null,
   "id": "84623d0e",
   "metadata": {},
   "outputs": [],
   "source": []
  },
  {
   "cell_type": "code",
   "execution_count": null,
   "id": "567e9e9c",
   "metadata": {},
   "outputs": [],
   "source": []
  },
  {
   "cell_type": "code",
   "execution_count": null,
   "id": "2b7397c1",
   "metadata": {},
   "outputs": [],
   "source": []
  },
  {
   "cell_type": "code",
   "execution_count": null,
   "id": "c5645777",
   "metadata": {},
   "outputs": [],
   "source": []
  },
  {
   "cell_type": "code",
   "execution_count": null,
   "id": "a08bc2d8",
   "metadata": {},
   "outputs": [],
   "source": []
  },
  {
   "cell_type": "code",
   "execution_count": null,
   "id": "cfb07e4a",
   "metadata": {},
   "outputs": [],
   "source": []
  },
  {
   "cell_type": "code",
   "execution_count": null,
   "id": "34ce91d5",
   "metadata": {},
   "outputs": [],
   "source": []
  },
  {
   "cell_type": "code",
   "execution_count": null,
   "id": "ae23cf2e",
   "metadata": {},
   "outputs": [],
   "source": []
  },
  {
   "cell_type": "code",
   "execution_count": null,
   "id": "078477fe",
   "metadata": {},
   "outputs": [],
   "source": []
  }
 ],
 "metadata": {
  "kernelspec": {
   "display_name": "Python 3 (ipykernel)",
   "language": "python",
   "name": "python3"
  },
  "language_info": {
   "codemirror_mode": {
    "name": "ipython",
    "version": 3
   },
   "file_extension": ".py",
   "mimetype": "text/x-python",
   "name": "python",
   "nbconvert_exporter": "python",
   "pygments_lexer": "ipython3",
   "version": "3.9.7"
  }
 },
 "nbformat": 4,
 "nbformat_minor": 5
}
