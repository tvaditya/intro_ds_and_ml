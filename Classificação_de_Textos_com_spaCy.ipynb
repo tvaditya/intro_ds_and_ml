{
  "nbformat": 4,
  "nbformat_minor": 0,
  "metadata": {
    "colab": {
      "name": "Classificação de Textos com spaCy.ipynb",
      "provenance": [],
      "collapsed_sections": [],
      "include_colab_link": true
    },
    "kernelspec": {
      "name": "python3",
      "display_name": "Python 3"
    },
    "accelerator": "GPU"
  },
  "cells": [
    {
      "cell_type": "markdown",
      "metadata": {
        "id": "view-in-github",
        "colab_type": "text"
      },
      "source": [
        "<a href=\"https://colab.research.google.com/github/tvaditya/intro_ds_and_ml/blob/main/Classifica%C3%A7%C3%A3o_de_Textos_com_spaCy.ipynb\" target=\"_parent\"><img src=\"https://colab.research.google.com/assets/colab-badge.svg\" alt=\"Open In Colab\"/></a>"
      ]
    },
    {
      "cell_type": "markdown",
      "metadata": {
        "id": "AGgw36kc8udU"
      },
      "source": [
        "# Classificação de textos com spaCy"
      ]
    },
    {
      "cell_type": "markdown",
      "metadata": {
        "id": "JtJGnXGi8zt9"
      },
      "source": [
        "# Etapa 1: Importação e instalação das bibliotecas"
      ]
    },
    {
      "cell_type": "code",
      "metadata": {
        "id": "Xh86jT1k_299",
        "colab": {
          "base_uri": "https://localhost:8080/"
        },
        "outputId": "8c5f19e8-9575-4000-e86b-873bcba8959c"
      },
      "source": [
        "!pip install spacy==2.2.3"
      ],
      "execution_count": null,
      "outputs": [
        {
          "output_type": "stream",
          "name": "stdout",
          "text": [
            "Collecting spacy==2.2.3\n",
            "  Downloading spacy-2.2.3-cp37-cp37m-manylinux1_x86_64.whl (10.4 MB)\n",
            "\u001b[K     |████████████████████████████████| 10.4 MB 5.1 MB/s \n",
            "\u001b[?25hRequirement already satisfied: numpy>=1.15.0 in /usr/local/lib/python3.7/dist-packages (from spacy==2.2.3) (1.19.5)\n",
            "Requirement already satisfied: catalogue<1.1.0,>=0.0.7 in /usr/local/lib/python3.7/dist-packages (from spacy==2.2.3) (1.0.0)\n",
            "Requirement already satisfied: preshed<3.1.0,>=3.0.2 in /usr/local/lib/python3.7/dist-packages (from spacy==2.2.3) (3.0.6)\n",
            "Requirement already satisfied: cymem<2.1.0,>=2.0.2 in /usr/local/lib/python3.7/dist-packages (from spacy==2.2.3) (2.0.6)\n",
            "Requirement already satisfied: wasabi<1.1.0,>=0.4.0 in /usr/local/lib/python3.7/dist-packages (from spacy==2.2.3) (0.8.2)\n",
            "Collecting thinc<7.4.0,>=7.3.0\n",
            "  Downloading thinc-7.3.1-cp37-cp37m-manylinux1_x86_64.whl (2.2 MB)\n",
            "\u001b[K     |████████████████████████████████| 2.2 MB 33.2 MB/s \n",
            "\u001b[?25hRequirement already satisfied: setuptools in /usr/local/lib/python3.7/dist-packages (from spacy==2.2.3) (57.4.0)\n",
            "Requirement already satisfied: murmurhash<1.1.0,>=0.28.0 in /usr/local/lib/python3.7/dist-packages (from spacy==2.2.3) (1.0.6)\n",
            "Requirement already satisfied: plac<1.2.0,>=0.9.6 in /usr/local/lib/python3.7/dist-packages (from spacy==2.2.3) (1.1.3)\n",
            "Requirement already satisfied: requests<3.0.0,>=2.13.0 in /usr/local/lib/python3.7/dist-packages (from spacy==2.2.3) (2.23.0)\n",
            "Requirement already satisfied: blis<0.5.0,>=0.4.0 in /usr/local/lib/python3.7/dist-packages (from spacy==2.2.3) (0.4.1)\n",
            "Requirement already satisfied: srsly<1.1.0,>=0.1.0 in /usr/local/lib/python3.7/dist-packages (from spacy==2.2.3) (1.0.5)\n",
            "Requirement already satisfied: importlib-metadata>=0.20 in /usr/local/lib/python3.7/dist-packages (from catalogue<1.1.0,>=0.0.7->spacy==2.2.3) (4.8.2)\n",
            "Requirement already satisfied: zipp>=0.5 in /usr/local/lib/python3.7/dist-packages (from importlib-metadata>=0.20->catalogue<1.1.0,>=0.0.7->spacy==2.2.3) (3.6.0)\n",
            "Requirement already satisfied: typing-extensions>=3.6.4 in /usr/local/lib/python3.7/dist-packages (from importlib-metadata>=0.20->catalogue<1.1.0,>=0.0.7->spacy==2.2.3) (3.10.0.2)\n",
            "Requirement already satisfied: chardet<4,>=3.0.2 in /usr/local/lib/python3.7/dist-packages (from requests<3.0.0,>=2.13.0->spacy==2.2.3) (3.0.4)\n",
            "Requirement already satisfied: idna<3,>=2.5 in /usr/local/lib/python3.7/dist-packages (from requests<3.0.0,>=2.13.0->spacy==2.2.3) (2.10)\n",
            "Requirement already satisfied: certifi>=2017.4.17 in /usr/local/lib/python3.7/dist-packages (from requests<3.0.0,>=2.13.0->spacy==2.2.3) (2021.10.8)\n",
            "Requirement already satisfied: urllib3!=1.25.0,!=1.25.1,<1.26,>=1.21.1 in /usr/local/lib/python3.7/dist-packages (from requests<3.0.0,>=2.13.0->spacy==2.2.3) (1.24.3)\n",
            "Requirement already satisfied: tqdm<5.0.0,>=4.10.0 in /usr/local/lib/python3.7/dist-packages (from thinc<7.4.0,>=7.3.0->spacy==2.2.3) (4.62.3)\n",
            "Installing collected packages: thinc, spacy\n",
            "  Attempting uninstall: thinc\n",
            "    Found existing installation: thinc 7.4.0\n",
            "    Uninstalling thinc-7.4.0:\n",
            "      Successfully uninstalled thinc-7.4.0\n",
            "  Attempting uninstall: spacy\n",
            "    Found existing installation: spacy 2.2.4\n",
            "    Uninstalling spacy-2.2.4:\n",
            "      Successfully uninstalled spacy-2.2.4\n",
            "Successfully installed spacy-2.2.3 thinc-7.3.1\n"
          ]
        }
      ]
    },
    {
      "cell_type": "code",
      "metadata": {
        "id": "T1ZYK4Svri9a",
        "colab": {
          "base_uri": "https://localhost:8080/",
          "height": 35
        },
        "outputId": "acbfbaa8-d5bf-482c-9a9b-1b8af4f7e1c1"
      },
      "source": [
        "import spacy\n",
        "spacy.__version__"
      ],
      "execution_count": null,
      "outputs": [
        {
          "output_type": "execute_result",
          "data": {
            "application/vnd.google.colaboratory.intrinsic+json": {
              "type": "string"
            },
            "text/plain": [
              "'2.2.3'"
            ]
          },
          "metadata": {},
          "execution_count": 3
        }
      ]
    },
    {
      "cell_type": "code",
      "metadata": {
        "id": "BbXiQKovAAy_",
        "colab": {
          "base_uri": "https://localhost:8080/"
        },
        "outputId": "6b7248eb-57fc-49d4-ba53-b9c4f1511682"
      },
      "source": [
        "!python3 -m spacy download pt"
      ],
      "execution_count": null,
      "outputs": [
        {
          "output_type": "stream",
          "name": "stdout",
          "text": [
            "Collecting pt_core_news_sm==2.2.5\n",
            "  Downloading https://github.com/explosion/spacy-models/releases/download/pt_core_news_sm-2.2.5/pt_core_news_sm-2.2.5.tar.gz (21.2 MB)\n",
            "\u001b[K     |████████████████████████████████| 21.2 MB 1.3 MB/s \n",
            "\u001b[?25hRequirement already satisfied: spacy>=2.2.2 in /usr/local/lib/python3.7/dist-packages (from pt_core_news_sm==2.2.5) (2.2.3)\n",
            "Requirement already satisfied: wasabi<1.1.0,>=0.4.0 in /usr/local/lib/python3.7/dist-packages (from spacy>=2.2.2->pt_core_news_sm==2.2.5) (0.8.2)\n",
            "Requirement already satisfied: murmurhash<1.1.0,>=0.28.0 in /usr/local/lib/python3.7/dist-packages (from spacy>=2.2.2->pt_core_news_sm==2.2.5) (1.0.6)\n",
            "Requirement already satisfied: preshed<3.1.0,>=3.0.2 in /usr/local/lib/python3.7/dist-packages (from spacy>=2.2.2->pt_core_news_sm==2.2.5) (3.0.6)\n",
            "Requirement already satisfied: plac<1.2.0,>=0.9.6 in /usr/local/lib/python3.7/dist-packages (from spacy>=2.2.2->pt_core_news_sm==2.2.5) (1.1.3)\n",
            "Requirement already satisfied: cymem<2.1.0,>=2.0.2 in /usr/local/lib/python3.7/dist-packages (from spacy>=2.2.2->pt_core_news_sm==2.2.5) (2.0.6)\n",
            "Requirement already satisfied: catalogue<1.1.0,>=0.0.7 in /usr/local/lib/python3.7/dist-packages (from spacy>=2.2.2->pt_core_news_sm==2.2.5) (1.0.0)\n",
            "Requirement already satisfied: setuptools in /usr/local/lib/python3.7/dist-packages (from spacy>=2.2.2->pt_core_news_sm==2.2.5) (57.4.0)\n",
            "Requirement already satisfied: thinc<7.4.0,>=7.3.0 in /usr/local/lib/python3.7/dist-packages (from spacy>=2.2.2->pt_core_news_sm==2.2.5) (7.3.1)\n",
            "Requirement already satisfied: blis<0.5.0,>=0.4.0 in /usr/local/lib/python3.7/dist-packages (from spacy>=2.2.2->pt_core_news_sm==2.2.5) (0.4.1)\n",
            "Requirement already satisfied: srsly<1.1.0,>=0.1.0 in /usr/local/lib/python3.7/dist-packages (from spacy>=2.2.2->pt_core_news_sm==2.2.5) (1.0.5)\n",
            "Requirement already satisfied: requests<3.0.0,>=2.13.0 in /usr/local/lib/python3.7/dist-packages (from spacy>=2.2.2->pt_core_news_sm==2.2.5) (2.23.0)\n",
            "Requirement already satisfied: numpy>=1.15.0 in /usr/local/lib/python3.7/dist-packages (from spacy>=2.2.2->pt_core_news_sm==2.2.5) (1.19.5)\n",
            "Requirement already satisfied: importlib-metadata>=0.20 in /usr/local/lib/python3.7/dist-packages (from catalogue<1.1.0,>=0.0.7->spacy>=2.2.2->pt_core_news_sm==2.2.5) (4.8.2)\n",
            "Requirement already satisfied: typing-extensions>=3.6.4 in /usr/local/lib/python3.7/dist-packages (from importlib-metadata>=0.20->catalogue<1.1.0,>=0.0.7->spacy>=2.2.2->pt_core_news_sm==2.2.5) (3.10.0.2)\n",
            "Requirement already satisfied: zipp>=0.5 in /usr/local/lib/python3.7/dist-packages (from importlib-metadata>=0.20->catalogue<1.1.0,>=0.0.7->spacy>=2.2.2->pt_core_news_sm==2.2.5) (3.6.0)\n",
            "Requirement already satisfied: certifi>=2017.4.17 in /usr/local/lib/python3.7/dist-packages (from requests<3.0.0,>=2.13.0->spacy>=2.2.2->pt_core_news_sm==2.2.5) (2021.10.8)\n",
            "Requirement already satisfied: chardet<4,>=3.0.2 in /usr/local/lib/python3.7/dist-packages (from requests<3.0.0,>=2.13.0->spacy>=2.2.2->pt_core_news_sm==2.2.5) (3.0.4)\n",
            "Requirement already satisfied: urllib3!=1.25.0,!=1.25.1,<1.26,>=1.21.1 in /usr/local/lib/python3.7/dist-packages (from requests<3.0.0,>=2.13.0->spacy>=2.2.2->pt_core_news_sm==2.2.5) (1.24.3)\n",
            "Requirement already satisfied: idna<3,>=2.5 in /usr/local/lib/python3.7/dist-packages (from requests<3.0.0,>=2.13.0->spacy>=2.2.2->pt_core_news_sm==2.2.5) (2.10)\n",
            "Requirement already satisfied: tqdm<5.0.0,>=4.10.0 in /usr/local/lib/python3.7/dist-packages (from thinc<7.4.0,>=7.3.0->spacy>=2.2.2->pt_core_news_sm==2.2.5) (4.62.3)\n",
            "Building wheels for collected packages: pt-core-news-sm\n",
            "  Building wheel for pt-core-news-sm (setup.py) ... \u001b[?25l\u001b[?25hdone\n",
            "  Created wheel for pt-core-news-sm: filename=pt_core_news_sm-2.2.5-py3-none-any.whl size=21186282 sha256=4dcacf7b7639c5a2d9661b92dcca29044fc767869db31d26ff684f9c9b0cb809\n",
            "  Stored in directory: /tmp/pip-ephem-wheel-cache-47iv90vy/wheels/c3/f9/0c/5c014a36941a00f5df5fc0756cb961d7c457a978e697a6ce3b\n",
            "Successfully built pt-core-news-sm\n",
            "Installing collected packages: pt-core-news-sm\n",
            "Successfully installed pt-core-news-sm-2.2.5\n",
            "\u001b[38;5;2m✔ Download and installation successful\u001b[0m\n",
            "You can now load the model via spacy.load('pt_core_news_sm')\n",
            "\u001b[38;5;2m✔ Linking successful\u001b[0m\n",
            "/usr/local/lib/python3.7/dist-packages/pt_core_news_sm -->\n",
            "/usr/local/lib/python3.7/dist-packages/spacy/data/pt\n",
            "You can now load the model via spacy.load('pt')\n"
          ]
        }
      ]
    },
    {
      "cell_type": "code",
      "metadata": {
        "id": "DelYAveq8yuX"
      },
      "source": [
        "import pandas as pd\n",
        "import string\n",
        "import spacy\n",
        "import random\n",
        "import seaborn as sns\n",
        "import numpy as np"
      ],
      "execution_count": null,
      "outputs": []
    },
    {
      "cell_type": "code",
      "metadata": {
        "colab": {
          "base_uri": "https://localhost:8080/"
        },
        "id": "ptvDoi5F4KoZ",
        "outputId": "3da7150a-fe92-499d-d688-e2b691de048a"
      },
      "source": [
        "from google.colab import drive\n",
        "drive.mount('/content/drive')"
      ],
      "execution_count": null,
      "outputs": [
        {
          "output_type": "stream",
          "name": "stdout",
          "text": [
            "Mounted at /content/drive\n"
          ]
        }
      ]
    },
    {
      "cell_type": "markdown",
      "metadata": {
        "id": "iE3VMD8t86ky"
      },
      "source": [
        "# Etapa 2: Carregamento da base de dados"
      ]
    },
    {
      "cell_type": "code",
      "metadata": {
        "id": "zl8DBGBNsG-h"
      },
      "source": [
        "base_dados = pd.read_csv('/content/base_treinamento.txt', encoding = 'utf-8')"
      ],
      "execution_count": null,
      "outputs": []
    },
    {
      "cell_type": "code",
      "metadata": {
        "id": "SXVFCZ45tHK2",
        "colab": {
          "base_uri": "https://localhost:8080/"
        },
        "outputId": "83d76bbb-f1d2-4ee1-b0ac-d430c8e51bd7"
      },
      "source": [
        "base_dados.shape"
      ],
      "execution_count": null,
      "outputs": [
        {
          "output_type": "execute_result",
          "data": {
            "text/plain": [
              "(196, 2)"
            ]
          },
          "metadata": {},
          "execution_count": 9
        }
      ]
    },
    {
      "cell_type": "code",
      "metadata": {
        "id": "uEzrdS6LtLKN",
        "colab": {
          "base_uri": "https://localhost:8080/",
          "height": 206
        },
        "outputId": "a6fae6b8-a44e-46b2-cdb6-d8c9013a0c9a"
      },
      "source": [
        "base_dados.head()"
      ],
      "execution_count": null,
      "outputs": [
        {
          "output_type": "execute_result",
          "data": {
            "text/html": [
              "<div>\n",
              "<style scoped>\n",
              "    .dataframe tbody tr th:only-of-type {\n",
              "        vertical-align: middle;\n",
              "    }\n",
              "\n",
              "    .dataframe tbody tr th {\n",
              "        vertical-align: top;\n",
              "    }\n",
              "\n",
              "    .dataframe thead th {\n",
              "        text-align: right;\n",
              "    }\n",
              "</style>\n",
              "<table border=\"1\" class=\"dataframe\">\n",
              "  <thead>\n",
              "    <tr style=\"text-align: right;\">\n",
              "      <th></th>\n",
              "      <th>texto</th>\n",
              "      <th>emocao</th>\n",
              "    </tr>\n",
              "  </thead>\n",
              "  <tbody>\n",
              "    <tr>\n",
              "      <th>0</th>\n",
              "      <td>este trabalho é agradável</td>\n",
              "      <td>alegria</td>\n",
              "    </tr>\n",
              "    <tr>\n",
              "      <th>1</th>\n",
              "      <td>gosto de ficar no seu aconchego</td>\n",
              "      <td>alegria</td>\n",
              "    </tr>\n",
              "    <tr>\n",
              "      <th>2</th>\n",
              "      <td>fiz a adesão ao curso hoje</td>\n",
              "      <td>alegria</td>\n",
              "    </tr>\n",
              "    <tr>\n",
              "      <th>3</th>\n",
              "      <td>eu sou admirada por muitos</td>\n",
              "      <td>alegria</td>\n",
              "    </tr>\n",
              "    <tr>\n",
              "      <th>4</th>\n",
              "      <td>adoro como você</td>\n",
              "      <td>alegria</td>\n",
              "    </tr>\n",
              "  </tbody>\n",
              "</table>\n",
              "</div>"
            ],
            "text/plain": [
              "                             texto   emocao\n",
              "0        este trabalho é agradável  alegria\n",
              "1  gosto de ficar no seu aconchego  alegria\n",
              "2       fiz a adesão ao curso hoje  alegria\n",
              "3       eu sou admirada por muitos  alegria\n",
              "4                  adoro como você  alegria"
            ]
          },
          "metadata": {},
          "execution_count": 10
        }
      ]
    },
    {
      "cell_type": "code",
      "metadata": {
        "id": "g7mE74ILtPY3",
        "colab": {
          "base_uri": "https://localhost:8080/",
          "height": 206
        },
        "outputId": "21a92496-9dd9-4416-9308-adbf78451d2b"
      },
      "source": [
        "base_dados.tail()"
      ],
      "execution_count": null,
      "outputs": [
        {
          "output_type": "execute_result",
          "data": {
            "text/html": [
              "<div>\n",
              "<style scoped>\n",
              "    .dataframe tbody tr th:only-of-type {\n",
              "        vertical-align: middle;\n",
              "    }\n",
              "\n",
              "    .dataframe tbody tr th {\n",
              "        vertical-align: top;\n",
              "    }\n",
              "\n",
              "    .dataframe thead th {\n",
              "        text-align: right;\n",
              "    }\n",
              "</style>\n",
              "<table border=\"1\" class=\"dataframe\">\n",
              "  <thead>\n",
              "    <tr style=\"text-align: right;\">\n",
              "      <th></th>\n",
              "      <th>texto</th>\n",
              "      <th>emocao</th>\n",
              "    </tr>\n",
              "  </thead>\n",
              "  <tbody>\n",
              "    <tr>\n",
              "      <th>191</th>\n",
              "      <td>estou chocado e amedrontado com este assassina...</td>\n",
              "      <td>medo</td>\n",
              "    </tr>\n",
              "    <tr>\n",
              "      <th>192</th>\n",
              "      <td>é preciso afugenta com ímpeto este medo do inf...</td>\n",
              "      <td>medo</td>\n",
              "    </tr>\n",
              "    <tr>\n",
              "      <th>193</th>\n",
              "      <td>políticos usam suas forças para afugentar e am...</td>\n",
              "      <td>medo</td>\n",
              "    </tr>\n",
              "    <tr>\n",
              "      <th>194</th>\n",
              "      <td>o objetivo disso e apenas me amedrontar mais</td>\n",
              "      <td>medo</td>\n",
              "    </tr>\n",
              "    <tr>\n",
              "      <th>195</th>\n",
              "      <td>isso me apavora</td>\n",
              "      <td>medo</td>\n",
              "    </tr>\n",
              "  </tbody>\n",
              "</table>\n",
              "</div>"
            ],
            "text/plain": [
              "                                                 texto emocao\n",
              "191  estou chocado e amedrontado com este assassina...   medo\n",
              "192  é preciso afugenta com ímpeto este medo do inf...   medo\n",
              "193  políticos usam suas forças para afugentar e am...   medo\n",
              "194       o objetivo disso e apenas me amedrontar mais   medo\n",
              "195                                    isso me apavora   medo"
            ]
          },
          "metadata": {},
          "execution_count": 11
        }
      ]
    },
    {
      "cell_type": "code",
      "metadata": {
        "id": "IekRry3jtT53",
        "colab": {
          "base_uri": "https://localhost:8080/",
          "height": 334
        },
        "outputId": "a410e05c-ac72-43d6-97ca-26d857443539"
      },
      "source": [
        "sns.countplot(base_dados['emocao'], label = 'Contagem');"
      ],
      "execution_count": null,
      "outputs": [
        {
          "output_type": "stream",
          "name": "stderr",
          "text": [
            "/usr/local/lib/python3.7/dist-packages/seaborn/_decorators.py:43: FutureWarning: Pass the following variable as a keyword arg: x. From version 0.12, the only valid positional argument will be `data`, and passing other arguments without an explicit keyword will result in an error or misinterpretation.\n",
            "  FutureWarning\n"
          ]
        },
        {
          "output_type": "display_data",
          "data": {
            "image/png": "[encoded data removed]",
            "text/plain": [
              "<Figure size 432x288 with 1 Axes>"
            ]
          },
          "metadata": {
            "needs_background": "light"
          }
        }
      ]
    },
    {
      "cell_type": "markdown",
      "metadata": {
        "id": "h36-8Ien-AQ1"
      },
      "source": [
        "# Etapa 3: Função para pré-processamento dos textos"
      ]
    },
    {
      "cell_type": "code",
      "metadata": {
        "id": "a-qD0bc7uBrD",
        "colab": {
          "base_uri": "https://localhost:8080/",
          "height": 35
        },
        "outputId": "330716ee-b06a-445c-aa12-c9d5f65ef2a9"
      },
      "source": [
        "pontuacoes = string.punctuation\n",
        "pontuacoes"
      ],
      "execution_count": null,
      "outputs": [
        {
          "output_type": "execute_result",
          "data": {
            "application/vnd.google.colaboratory.intrinsic+json": {
              "type": "string"
            },
            "text/plain": [
              "'!\"#$%&\\'()*+,-./:;<=>?@[\\\\]^_`{|}~'"
            ]
          },
          "metadata": {},
          "execution_count": 13
        }
      ]
    },
    {
      "cell_type": "code",
      "metadata": {
        "id": "SowU2ch_uNoe"
      },
      "source": [
        "from spacy.lang.pt.stop_words import STOP_WORDS\n",
        "stop_words = STOP_WORDS"
      ],
      "execution_count": null,
      "outputs": []
    },
    {
      "cell_type": "code",
      "metadata": {
        "id": "UilhsfV1uWdo",
        "colab": {
          "base_uri": "https://localhost:8080/"
        },
        "outputId": "7fbfdf7b-b61f-48ca-f955-47663a2e0d28"
      },
      "source": [
        "print(stop_words)"
      ],
      "execution_count": null,
      "outputs": [
        {
          "output_type": "stream",
          "name": "stdout",
          "text": [
            "{'mil', 'desde', 'do', 'geral', 'você', 'vais', 'num', 'meu', 'duas', 'estado', 'quanto', 'tarde', 'doze', 'podia', 'quê', 'pelo', 'ademais', 'oito', 'próximo', 'vosso', 'vocês', 'às', 'área', 'cima', 'quinta', 'menor', 'isso', 'porém', 'tentar', 'eventual', 'eles', 'conhecida', 'uns', 'tem', 'adeus', 'meus', 'tais', 'após', 'somente', 'contra', 'fazes', 'tivemos', 'foi', 'uma', 'desse', 'portanto', 'poderá', 'mês', 'por', 'fostes', 'vem', 'sete', 'cento', 'ora', 'fomos', 'cedo', 'coisa', 'irá', 'novas', 'pôde', 'povo', 'primeiro', 'local', 'aos', 'agora', 'dezanove', 'toda', 'quando', 'fazemos', 'porquanto', 'tal', 'nem', 'quem', 'aquela', 'és', 'aquele', 'deve', 'oitavo', 'tentei', 'vinda', 'cá', 'tipo', 'vão', 'ainda', 'disso', 'maiorias', 'à', 'usa', 'parte', 'se', 'vindo', 'nova', 'devem', 'tiveram', 'seu', 'ver', 'usar', 'tenho', 'vossas', 'suas', 'diz', 'lado', 'dois', 'te', 'contudo', 'cujo', 'conhecido', 'aquelas', 'em', 'talvez', 'qual', 'estão', 'vinte', 'através', 'novo', 'longe', 'foste', 'posso', 'qualquer', 'ambos', 'certeza', 'fazeis', 'breve', 'nosso', 'outros', 'quero', 'dessa', 'bom', 'têm', 'para', 'umas', 'des', 'número', 'outra', 'todo', 'deverá', 'veja', 'possível', 'só', 'máximo', 'nunca', 'sim', 'primeira', 'enquanto', 'estás', 'nossa', 'ele', 'isto', 'embora', 'lá', 'no', 'vez', 'menos', 'estará', 'pelas', 'oitava', 'sistema', 'sexta', 'pegar', 'quarto', 'entre', 'apenas', 'corrente', 'dos', 'parece', 'meio', 'ali', 'pontos', 'desta', 'nossos', 'tanto', 'estivestes', 'falta', 'vêm', 'dez', 'vezes', 'sua', 'momento', 'esse', 'ela', 'terceiro', 'sem', 'todas', 'apontar', 'iniciar', 'mesmo', 'maioria', 'quinze', 'for', 'com', 'está', 'de', 'estive', 'nuns', 'algo', 'além', 'diante', 'numa', 'bem', 'dá', 'minha', 'relação', 'cinco', 'sétimo', 'questão', 'fazer', 'segundo', 'meses', 'não', 'me', 'favor', 'forma', 'comprida', 'bastante', 'terceira', 'grandes', 'logo', 'também', 'todos', 'três', 'caminho', 'faz', 'querem', 'seis', 'fez', 'estas', 'que', 'seus', 'tudo', 'tanta', 'deste', 'daquela', 'tivestes', 'pode', 'faço', 'mas', 'vossos', 'acerca', 'dentro', 'depois', 'quais', 'algumas', 'dizer', 'então', 'vos', 'sobre', 'sexto', 'vários', 'aquilo', 'podem', 'dezasseis', 'estava', 'somos', 'tens', 'tão', 'nos', 'naquela', 'ligado', 'estes', 'estivemos', 'próxima', 'daquele', 'é', 'possivelmente', 'ambas', 'obrigada', 'minhas', 'poder', 'dão', 'próprio', 'saber', 'fará', 'apoio', 'certamente', 'na', 'naquele', 'custa', 'conselho', 'esteve', 'nós', 'sétima', 'nossas', 'aqui', 'grupo', 'sob', 'tu', 'essa', 'este', 'perto', 'tuas', 'as', 'porquê', 'vens', 'da', 'maior', 'catorze', 'os', 'posição', 'aí', 'ao', 'fazem', 'teve', 'baixo', 'mais', 'fora', 'grande', 'ponto', 'apoia', 'fazia', 'inicio', 'nenhuma', 'neste', 'tiveste', 'lhe', 'tentaram', 'onde', 'nesse', 'muitos', 'vai', 'estiveram', 'números', 'cada', 'debaixo', 'outras', 'valor', 'põem', 'nada', 'cuja', 'sois', 'vós', 'das', 'partir', 'final', 'um', 'dar', 'boa', 'quieta', 'quatro', 'nesta', 'ou', 'sou', 'teus', 'tua', 'alguns', 'sei', 'treze', 'quinto', 'fim', 'quarta', 'lugar', 'aqueles', 'pelos', 'foram', 'nas', 'inclusive', 'sempre', 'essas', 'direita', 'tempo', 'tente', 'segunda', 'esta', 'zero', 'exemplo', 'teu', 'assim', 'tendes', 'estar', 'quieto', 'pois', 'atrás', 'novos', 'sabe', 'dizem', 'onze', 'ontem', 'seria', 'temos', 'obrigado', 'eu', 'tive', 'dezoito', 'quer', 'demais', 'pouco', 'estou', 'são', 'pela', 'puderam', 'vossa', 'elas', 'esses', 'muito', 'põe', 'ir', 'até', 'já', 'antes', 'ter', 'era', 'último', 'nível', 'como', 'nove', 'comprido', 'porque', 'dezassete', 'fui', 'nessa', 'ser', 'mal', 'pouca', 'estiveste'}\n"
          ]
        }
      ]
    },
    {
      "cell_type": "code",
      "metadata": {
        "id": "TCPSvh8buZlX",
        "colab": {
          "base_uri": "https://localhost:8080/"
        },
        "outputId": "b0f00374-8f47-443f-f7c2-f090bd8b40e4"
      },
      "source": [
        "len(stop_words)"
      ],
      "execution_count": null,
      "outputs": [
        {
          "output_type": "execute_result",
          "data": {
            "text/plain": [
              "413"
            ]
          },
          "metadata": {},
          "execution_count": 16
        }
      ]
    },
    {
      "cell_type": "code",
      "metadata": {
        "id": "QhF1_72Euc4o"
      },
      "source": [
        "pln = spacy.load('pt')"
      ],
      "execution_count": null,
      "outputs": []
    },
    {
      "cell_type": "code",
      "metadata": {
        "id": "BN8Bzd1Dug0v",
        "colab": {
          "base_uri": "https://localhost:8080/"
        },
        "outputId": "40844ec7-cec3-4daf-e83d-66c78b108462"
      },
      "source": [
        "pln"
      ],
      "execution_count": null,
      "outputs": [
        {
          "output_type": "execute_result",
          "data": {
            "text/plain": [
              "<spacy.lang.pt.Portuguese at 0x7f59d876df50>"
            ]
          },
          "metadata": {},
          "execution_count": 18
        }
      ]
    },
    {
      "cell_type": "code",
      "metadata": {
        "id": "RvCEW_Uqune8"
      },
      "source": [
        "def preprocessamento(texto):\n",
        "  texto = texto.lower()\n",
        "  documento = pln(texto)\n",
        "  \n",
        "  lista = []\n",
        "  for token in documento:\n",
        "    #lista.append(token.text)\n",
        "    lista.append(token.lemma_)\n",
        "\n",
        "  lista = [palavra for palavra in lista if palavra not in stop_words and palavra not in pontuacoes]\n",
        "  lista = ' '.join([str(elemento) for elemento in lista if not elemento.isdigit()])\n",
        "\n",
        "  return lista"
      ],
      "execution_count": null,
      "outputs": []
    },
    {
      "cell_type": "code",
      "metadata": {
        "id": "2_nIBBhYuqsr",
        "colab": {
          "base_uri": "https://localhost:8080/",
          "height": 35
        },
        "outputId": "9f998de1-8d85-48b5-b0a8-b176938b515a"
      },
      "source": [
        "teste = preprocessamento('Estou aPrendendo 1 10 23 processamento de linguagem natural, Curso em Curitiba')\n",
        "teste"
      ],
      "execution_count": null,
      "outputs": [
        {
          "output_type": "execute_result",
          "data": {
            "application/vnd.google.colaboratory.intrinsic+json": {
              "type": "string"
            },
            "text/plain": [
              "'aprender processamento linguagem natural cursar curitiba'"
            ]
          },
          "metadata": {},
          "execution_count": 20
        }
      ]
    },
    {
      "cell_type": "markdown",
      "metadata": {
        "id": "DtL8DBPVOFoL"
      },
      "source": [
        "# Etapa 4: Pré-processamento da base de dados"
      ]
    },
    {
      "cell_type": "markdown",
      "metadata": {
        "id": "n7G5PSVUOOId"
      },
      "source": [
        "### Limpeza dos textos"
      ]
    },
    {
      "cell_type": "code",
      "metadata": {
        "id": "hpwZrbUGw58L",
        "colab": {
          "base_uri": "https://localhost:8080/",
          "height": 363
        },
        "outputId": "6b100423-f6a8-4e1a-8aa2-8238010b1f7d"
      },
      "source": [
        "base_dados.head(10)"
      ],
      "execution_count": null,
      "outputs": [
        {
          "output_type": "execute_result",
          "data": {
            "text/html": [
              "<div>\n",
              "<style scoped>\n",
              "    .dataframe tbody tr th:only-of-type {\n",
              "        vertical-align: middle;\n",
              "    }\n",
              "\n",
              "    .dataframe tbody tr th {\n",
              "        vertical-align: top;\n",
              "    }\n",
              "\n",
              "    .dataframe thead th {\n",
              "        text-align: right;\n",
              "    }\n",
              "</style>\n",
              "<table border=\"1\" class=\"dataframe\">\n",
              "  <thead>\n",
              "    <tr style=\"text-align: right;\">\n",
              "      <th></th>\n",
              "      <th>texto</th>\n",
              "      <th>emocao</th>\n",
              "    </tr>\n",
              "  </thead>\n",
              "  <tbody>\n",
              "    <tr>\n",
              "      <th>0</th>\n",
              "      <td>este trabalho é agradável</td>\n",
              "      <td>alegria</td>\n",
              "    </tr>\n",
              "    <tr>\n",
              "      <th>1</th>\n",
              "      <td>gosto de ficar no seu aconchego</td>\n",
              "      <td>alegria</td>\n",
              "    </tr>\n",
              "    <tr>\n",
              "      <th>2</th>\n",
              "      <td>fiz a adesão ao curso hoje</td>\n",
              "      <td>alegria</td>\n",
              "    </tr>\n",
              "    <tr>\n",
              "      <th>3</th>\n",
              "      <td>eu sou admirada por muitos</td>\n",
              "      <td>alegria</td>\n",
              "    </tr>\n",
              "    <tr>\n",
              "      <th>4</th>\n",
              "      <td>adoro como você</td>\n",
              "      <td>alegria</td>\n",
              "    </tr>\n",
              "    <tr>\n",
              "      <th>5</th>\n",
              "      <td>adoro seu cabelo macio</td>\n",
              "      <td>alegria</td>\n",
              "    </tr>\n",
              "    <tr>\n",
              "      <th>6</th>\n",
              "      <td>adoro a cor dos seus olhos</td>\n",
              "      <td>alegria</td>\n",
              "    </tr>\n",
              "    <tr>\n",
              "      <th>7</th>\n",
              "      <td>somo tão amáveis um com o outro</td>\n",
              "      <td>alegria</td>\n",
              "    </tr>\n",
              "    <tr>\n",
              "      <th>8</th>\n",
              "      <td>sinto uma grande afeição por ele</td>\n",
              "      <td>alegria</td>\n",
              "    </tr>\n",
              "    <tr>\n",
              "      <th>9</th>\n",
              "      <td>quero agradar meus filhos</td>\n",
              "      <td>alegria</td>\n",
              "    </tr>\n",
              "  </tbody>\n",
              "</table>\n",
              "</div>"
            ],
            "text/plain": [
              "                              texto   emocao\n",
              "0         este trabalho é agradável  alegria\n",
              "1   gosto de ficar no seu aconchego  alegria\n",
              "2        fiz a adesão ao curso hoje  alegria\n",
              "3        eu sou admirada por muitos  alegria\n",
              "4                   adoro como você  alegria\n",
              "5            adoro seu cabelo macio  alegria\n",
              "6        adoro a cor dos seus olhos  alegria\n",
              "7   somo tão amáveis um com o outro  alegria\n",
              "8  sinto uma grande afeição por ele  alegria\n",
              "9         quero agradar meus filhos  alegria"
            ]
          },
          "metadata": {},
          "execution_count": 21
        }
      ]
    },
    {
      "cell_type": "code",
      "metadata": {
        "id": "Yg17ZY0LxHB-"
      },
      "source": [
        "base_dados['texto'] = base_dados['texto'].apply(preprocessamento)"
      ],
      "execution_count": null,
      "outputs": []
    },
    {
      "cell_type": "code",
      "metadata": {
        "id": "a-Rh0qZQxZ99",
        "colab": {
          "base_uri": "https://localhost:8080/",
          "height": 363
        },
        "outputId": "fafee994-7c76-46f5-8dfb-9411cef9e87d"
      },
      "source": [
        "base_dados.head(10)"
      ],
      "execution_count": null,
      "outputs": [
        {
          "output_type": "execute_result",
          "data": {
            "text/html": [
              "<div>\n",
              "<style scoped>\n",
              "    .dataframe tbody tr th:only-of-type {\n",
              "        vertical-align: middle;\n",
              "    }\n",
              "\n",
              "    .dataframe tbody tr th {\n",
              "        vertical-align: top;\n",
              "    }\n",
              "\n",
              "    .dataframe thead th {\n",
              "        text-align: right;\n",
              "    }\n",
              "</style>\n",
              "<table border=\"1\" class=\"dataframe\">\n",
              "  <thead>\n",
              "    <tr style=\"text-align: right;\">\n",
              "      <th></th>\n",
              "      <th>texto</th>\n",
              "      <th>emocao</th>\n",
              "    </tr>\n",
              "  </thead>\n",
              "  <tbody>\n",
              "    <tr>\n",
              "      <th>0</th>\n",
              "      <td>trabalhar agradável</td>\n",
              "      <td>alegria</td>\n",
              "    </tr>\n",
              "    <tr>\n",
              "      <th>1</th>\n",
              "      <td>gostar ficar o aconchegar</td>\n",
              "      <td>alegria</td>\n",
              "    </tr>\n",
              "    <tr>\n",
              "      <th>2</th>\n",
              "      <td>o adesão o o cursar hoje</td>\n",
              "      <td>alegria</td>\n",
              "    </tr>\n",
              "    <tr>\n",
              "      <th>3</th>\n",
              "      <td>admirar</td>\n",
              "      <td>alegria</td>\n",
              "    </tr>\n",
              "    <tr>\n",
              "      <th>4</th>\n",
              "      <td>adorar comer</td>\n",
              "      <td>alegria</td>\n",
              "    </tr>\n",
              "    <tr>\n",
              "      <th>5</th>\n",
              "      <td>adorar cabelar maciar</td>\n",
              "      <td>alegria</td>\n",
              "    </tr>\n",
              "    <tr>\n",
              "      <th>6</th>\n",
              "      <td>adorar o cor olho</td>\n",
              "      <td>alegria</td>\n",
              "    </tr>\n",
              "    <tr>\n",
              "      <th>7</th>\n",
              "      <td>somar amável o outro</td>\n",
              "      <td>alegria</td>\n",
              "    </tr>\n",
              "    <tr>\n",
              "      <th>8</th>\n",
              "      <td>sentir umar afeição</td>\n",
              "      <td>alegria</td>\n",
              "    </tr>\n",
              "    <tr>\n",
              "      <th>9</th>\n",
              "      <td>querer agradar filho</td>\n",
              "      <td>alegria</td>\n",
              "    </tr>\n",
              "  </tbody>\n",
              "</table>\n",
              "</div>"
            ],
            "text/plain": [
              "                       texto   emocao\n",
              "0        trabalhar agradável  alegria\n",
              "1  gostar ficar o aconchegar  alegria\n",
              "2   o adesão o o cursar hoje  alegria\n",
              "3                    admirar  alegria\n",
              "4               adorar comer  alegria\n",
              "5      adorar cabelar maciar  alegria\n",
              "6          adorar o cor olho  alegria\n",
              "7       somar amável o outro  alegria\n",
              "8        sentir umar afeição  alegria\n",
              "9       querer agradar filho  alegria"
            ]
          },
          "metadata": {},
          "execution_count": 23
        }
      ]
    },
    {
      "cell_type": "markdown",
      "metadata": {
        "id": "trA39YO4PcFp"
      },
      "source": [
        "### Tratamento da classe"
      ]
    },
    {
      "cell_type": "code",
      "metadata": {
        "id": "SPPY0MlIYoTR"
      },
      "source": [
        "exemplo_base_dados = [[\"este trabalho é agradável\", {\"ALEGRIA\": True, \"MEDO\": False}],\n",
        "                      [\"este lugar continua assustador\", {\"ALEGRIA\": False, \"MEDO\": True}]]"
      ],
      "execution_count": null,
      "outputs": []
    },
    {
      "cell_type": "code",
      "metadata": {
        "id": "u_2R-JWKyJ9c",
        "colab": {
          "base_uri": "https://localhost:8080/"
        },
        "outputId": "9e6847b3-f733-4849-f919-ca4e9318e717"
      },
      "source": [
        "type(exemplo_base_dados)"
      ],
      "execution_count": null,
      "outputs": [
        {
          "output_type": "execute_result",
          "data": {
            "text/plain": [
              "list"
            ]
          },
          "metadata": {},
          "execution_count": 25
        }
      ]
    },
    {
      "cell_type": "code",
      "metadata": {
        "id": "baZHkQZgyVNV",
        "colab": {
          "base_uri": "https://localhost:8080/"
        },
        "outputId": "1edeb5ed-f334-486e-adec-a44cd0fb2043"
      },
      "source": [
        "exemplo_base_dados[0]"
      ],
      "execution_count": null,
      "outputs": [
        {
          "output_type": "execute_result",
          "data": {
            "text/plain": [
              "['este trabalho é agradável', {'ALEGRIA': True, 'MEDO': False}]"
            ]
          },
          "metadata": {},
          "execution_count": 26
        }
      ]
    },
    {
      "cell_type": "code",
      "metadata": {
        "id": "BXVJt4BHyZsR",
        "colab": {
          "base_uri": "https://localhost:8080/",
          "height": 35
        },
        "outputId": "709b0c8e-11d1-43c7-f095-1dfbd479cef5"
      },
      "source": [
        "exemplo_base_dados[0][0]"
      ],
      "execution_count": null,
      "outputs": [
        {
          "output_type": "execute_result",
          "data": {
            "application/vnd.google.colaboratory.intrinsic+json": {
              "type": "string"
            },
            "text/plain": [
              "'este trabalho é agradável'"
            ]
          },
          "metadata": {},
          "execution_count": 27
        }
      ]
    },
    {
      "cell_type": "code",
      "metadata": {
        "id": "y_xMiJIGydyE",
        "colab": {
          "base_uri": "https://localhost:8080/"
        },
        "outputId": "8bbd74bd-5bf0-498d-99ec-f6371ad8190e"
      },
      "source": [
        "exemplo_base_dados[0][1]"
      ],
      "execution_count": null,
      "outputs": [
        {
          "output_type": "execute_result",
          "data": {
            "text/plain": [
              "{'ALEGRIA': True, 'MEDO': False}"
            ]
          },
          "metadata": {},
          "execution_count": 28
        }
      ]
    },
    {
      "cell_type": "code",
      "metadata": {
        "id": "fEWag1Glyg4M",
        "colab": {
          "base_uri": "https://localhost:8080/"
        },
        "outputId": "70d3405d-abdd-4c4b-9b3c-74e9ee2a1ab1"
      },
      "source": [
        "type(exemplo_base_dados[0][1])"
      ],
      "execution_count": null,
      "outputs": [
        {
          "output_type": "execute_result",
          "data": {
            "text/plain": [
              "dict"
            ]
          },
          "metadata": {},
          "execution_count": 29
        }
      ]
    },
    {
      "cell_type": "code",
      "metadata": {
        "id": "TH31QeqEyrub"
      },
      "source": [
        "base_dados_final = []\n",
        "for texto, emocao in zip(base_dados['texto'], base_dados['emocao']):\n",
        "  #print(texto, emocao)\n",
        "  if emocao == 'alegria':\n",
        "    dic = ({'ALEGRIA': True, 'MEDO': False})\n",
        "  elif emocao == 'medo':\n",
        "    dic = ({'ALEGRIA': False, 'MEDO': True})\n",
        "\n",
        "  base_dados_final.append([texto, dic.copy()])"
      ],
      "execution_count": null,
      "outputs": []
    },
    {
      "cell_type": "code",
      "metadata": {
        "id": "L-uCDjrazfyN",
        "colab": {
          "base_uri": "https://localhost:8080/"
        },
        "outputId": "968d5d14-e698-436a-fd30-b4b523a636f6"
      },
      "source": [
        "len(base_dados_final)"
      ],
      "execution_count": null,
      "outputs": [
        {
          "output_type": "execute_result",
          "data": {
            "text/plain": [
              "196"
            ]
          },
          "metadata": {},
          "execution_count": 31
        }
      ]
    },
    {
      "cell_type": "code",
      "metadata": {
        "id": "Nxl28cCezjjS",
        "colab": {
          "base_uri": "https://localhost:8080/"
        },
        "outputId": "34bcbeed-2747-4873-e88a-5d0e1a38bbf1"
      },
      "source": [
        "base_dados_final[0]"
      ],
      "execution_count": null,
      "outputs": [
        {
          "output_type": "execute_result",
          "data": {
            "text/plain": [
              "['trabalhar agradável', {'ALEGRIA': True, 'MEDO': False}]"
            ]
          },
          "metadata": {},
          "execution_count": 32
        }
      ]
    },
    {
      "cell_type": "code",
      "metadata": {
        "id": "LR_UPCX5zodw",
        "colab": {
          "base_uri": "https://localhost:8080/",
          "height": 35
        },
        "outputId": "5e9a9e04-2cf2-4150-d480-8bcc3a0c8996"
      },
      "source": [
        "base_dados_final[0][0]"
      ],
      "execution_count": null,
      "outputs": [
        {
          "output_type": "execute_result",
          "data": {
            "application/vnd.google.colaboratory.intrinsic+json": {
              "type": "string"
            },
            "text/plain": [
              "'trabalhar agradável'"
            ]
          },
          "metadata": {},
          "execution_count": 33
        }
      ]
    },
    {
      "cell_type": "code",
      "metadata": {
        "id": "-0M3jriRzrho",
        "colab": {
          "base_uri": "https://localhost:8080/"
        },
        "outputId": "b4f0c699-ae6f-4041-d0d0-c5817710915e"
      },
      "source": [
        "base_dados_final[0][1]"
      ],
      "execution_count": null,
      "outputs": [
        {
          "output_type": "execute_result",
          "data": {
            "text/plain": [
              "{'ALEGRIA': True, 'MEDO': False}"
            ]
          },
          "metadata": {},
          "execution_count": 34
        }
      ]
    },
    {
      "cell_type": "code",
      "metadata": {
        "id": "RcO2rX_Nzue-",
        "colab": {
          "base_uri": "https://localhost:8080/"
        },
        "outputId": "4f5a93a8-4a67-4699-ba4c-685865545ea2"
      },
      "source": [
        "type(base_dados_final[0][1])"
      ],
      "execution_count": null,
      "outputs": [
        {
          "output_type": "execute_result",
          "data": {
            "text/plain": [
              "dict"
            ]
          },
          "metadata": {},
          "execution_count": 35
        }
      ]
    },
    {
      "cell_type": "code",
      "metadata": {
        "id": "VoF9RsEFzySQ",
        "colab": {
          "base_uri": "https://localhost:8080/"
        },
        "outputId": "76c565a3-4ed2-4e7c-d7a6-302956508e2d"
      },
      "source": [
        "base_dados_final"
      ],
      "execution_count": null,
      "outputs": [
        {
          "output_type": "execute_result",
          "data": {
            "text/plain": [
              "[['trabalhar agradável', {'ALEGRIA': True, 'MEDO': False}],\n",
              " ['gostar ficar o aconchegar', {'ALEGRIA': True, 'MEDO': False}],\n",
              " ['o adesão o o cursar hoje', {'ALEGRIA': True, 'MEDO': False}],\n",
              " ['admirar', {'ALEGRIA': True, 'MEDO': False}],\n",
              " ['adorar comer', {'ALEGRIA': True, 'MEDO': False}],\n",
              " ['adorar cabelar maciar', {'ALEGRIA': True, 'MEDO': False}],\n",
              " ['adorar o cor olho', {'ALEGRIA': True, 'MEDO': False}],\n",
              " ['somar amável o outro', {'ALEGRIA': True, 'MEDO': False}],\n",
              " ['sentir umar afeição', {'ALEGRIA': True, 'MEDO': False}],\n",
              " ['querer agradar filho', {'ALEGRIA': True, 'MEDO': False}],\n",
              " ['sentir completamente amar', {'ALEGRIA': True, 'MEDO': False}],\n",
              " ['amar', {'ALEGRIA': True, 'MEDO': False}],\n",
              " ['alívio', {'ALEGRIA': True, 'MEDO': False}],\n",
              " ['o dor amenizar finalmente', {'ALEGRIA': True, 'MEDO': False}],\n",
              " ['achar apaixonar', {'ALEGRIA': True, 'MEDO': False}],\n",
              " ['amar maravilhoso', {'ALEGRIA': True, 'MEDO': False}],\n",
              " ['sentir animar', {'ALEGRIA': True, 'MEDO': False}],\n",
              " ['sentir hoje', {'ALEGRIA': True, 'MEDO': False}],\n",
              " ['comer o luar belo', {'ALEGRIA': True, 'MEDO': False}],\n",
              " ['o dia bonito', {'ALEGRIA': True, 'MEDO': False}],\n",
              " ['comer afortunar', {'ALEGRIA': True, 'MEDO': False}],\n",
              " ['o maravilhar mundo', {'ALEGRIA': True, 'MEDO': False}],\n",
              " ['receber caro hoje colega', {'ALEGRIA': True, 'MEDO': False}],\n",
              " ['sentir reconfortar hoje', {'ALEGRIA': True, 'MEDO': False}],\n",
              " ['o amigo', {'ALEGRIA': True, 'MEDO': False}],\n",
              " ['contentar o resultar teste', {'ALEGRIA': True, 'MEDO': False}],\n",
              " ['pintura brilhante', {'ALEGRIA': True, 'MEDO': False}],\n",
              " ['água abundância', {'ALEGRIA': True, 'MEDO': False}],\n",
              " ['roupar delicado', {'ALEGRIA': True, 'MEDO': False}],\n",
              " ['comediante', {'ALEGRIA': True, 'MEDO': False}],\n",
              " ['bondade o suar', {'ALEGRIA': True, 'MEDO': False}],\n",
              " ['o amor lindar', {'ALEGRIA': True, 'MEDO': False}],\n",
              " ['amizade durar parir', {'ALEGRIA': True, 'MEDO': False}],\n",
              " ['eufórico o notícia', {'ALEGRIA': True, 'MEDO': False}],\n",
              " ['realmente fiel o mim', {'ALEGRIA': True, 'MEDO': False}],\n",
              " ['umar festa parir comemorar aniversário', {'ALEGRIA': True, 'MEDO': False}],\n",
              " ['graça o deus enxergar o certar', {'ALEGRIA': True, 'MEDO': False}],\n",
              " ['o melhor escolher', {'ALEGRIA': True, 'MEDO': False}],\n",
              " ['o incrível belo', {'ALEGRIA': True, 'MEDO': False}],\n",
              " ['engraçar explicar', {'ALEGRIA': True, 'MEDO': False}],\n",
              " ['emocionante n', {'ALEGRIA': True, 'MEDO': False}],\n",
              " ['cativar pelar olhar', {'ALEGRIA': True, 'MEDO': False}],\n",
              " ['loucamente apaixonar', {'ALEGRIA': True, 'MEDO': False}],\n",
              " ['dúvida', {'ALEGRIA': True, 'MEDO': False}],\n",
              " ['rodear pelar abraçar', {'ALEGRIA': True, 'MEDO': False}],\n",
              " ['estrelo pelar caminhar', {'ALEGRIA': True, 'MEDO': False}],\n",
              " ['sentir o sol', {'ALEGRIA': True, 'MEDO': False}],\n",
              " ['sorrir orelhar o orelhar', {'ALEGRIA': True, 'MEDO': False}],\n",
              " ['valer o peno', {'ALEGRIA': True, 'MEDO': False}],\n",
              " ['finalmente colocar amor', {'ALEGRIA': True, 'MEDO': False}],\n",
              " ['nó dançar noite adentrar', {'ALEGRIA': True, 'MEDO': False}],\n",
              " ['amor brilhante', {'ALEGRIA': True, 'MEDO': False}],\n",
              " ['tocar coração durante o caminhar', {'ALEGRIA': True, 'MEDO': False}],\n",
              " ['suar amigo e companheiro', {'ALEGRIA': True, 'MEDO': False}],\n",
              " ['trazer voltar o vidar', {'ALEGRIA': True, 'MEDO': False}],\n",
              " ['e comer sonhar doce', {'ALEGRIA': True, 'MEDO': False}],\n",
              " ['adorar doce frutar', {'ALEGRIA': True, 'MEDO': False}],\n",
              " ['suco favorito', {'ALEGRIA': True, 'MEDO': False}],\n",
              " ['agradecido pelar ajudar', {'ALEGRIA': True, 'MEDO': False}],\n",
              " ['enorme prazer equipar', {'ALEGRIA': True, 'MEDO': False}],\n",
              " ['trabalhar equipar o melhor', {'ALEGRIA': True, 'MEDO': False}],\n",
              " ['sentir flutuar o ar', {'ALEGRIA': True, 'MEDO': False}],\n",
              " ['o brisa agradável hoje', {'ALEGRIA': True, 'MEDO': False}],\n",
              " ['ótimo e compatível', {'ALEGRIA': True, 'MEDO': False}],\n",
              " ['compatível o outro', {'ALEGRIA': True, 'MEDO': False}],\n",
              " ['o órgão compatível o paciente', {'ALEGRIA': True, 'MEDO': False}],\n",
              " ['contentar aceito o faculdade', {'ALEGRIA': True, 'MEDO': False}],\n",
              " ['aprovar o exame', {'ALEGRIA': True, 'MEDO': False}],\n",
              " ['beneficiar pelar empresar', {'ALEGRIA': True, 'MEDO': False}],\n",
              " ['cativante', {'ALEGRIA': True, 'MEDO': False}],\n",
              " ['contentar o apoiar', {'ALEGRIA': True, 'MEDO': False}],\n",
              " ['comer e confortável', {'ALEGRIA': True, 'MEDO': False}],\n",
              " ['e quentar n frio', {'ALEGRIA': True, 'MEDO': False}],\n",
              " ['elogiar e', {'ALEGRIA': True, 'MEDO': False}],\n",
              " ['chamar parir comemorar', {'ALEGRIA': True, 'MEDO': False}],\n",
              " ['desejável o suar presença apresentação', {'ALEGRIA': True, 'MEDO': False}],\n",
              " ['grato o', {'ALEGRIA': True, 'MEDO': False}],\n",
              " ['dedicar n', {'ALEGRIA': True, 'MEDO': False}],\n",
              " ['completamente apaixonar', {'ALEGRIA': True, 'MEDO': False}],\n",
              " ['agitar noite', {'ALEGRIA': True, 'MEDO': False}],\n",
              " ['significar parir mim', {'ALEGRIA': True, 'MEDO': False}],\n",
              " ['agir preconceito e julgamento', {'ALEGRIA': True, 'MEDO': False}],\n",
              " ['finalmente completar o coleção maravilhoso',\n",
              "  {'ALEGRIA': True, 'MEDO': False}],\n",
              " ['suar rei', {'ALEGRIA': True, 'MEDO': False}],\n",
              " ['satisfatoriamente anunciar o vencedor jogo',\n",
              "  {'ALEGRIA': True, 'MEDO': False}],\n",
              " ['atrair facilmente', {'ALEGRIA': True, 'MEDO': False}],\n",
              " ['rapaz e extremamente atraente', {'ALEGRIA': True, 'MEDO': False}],\n",
              " ['sinto-me vivo', {'ALEGRIA': True, 'MEDO': False}],\n",
              " ['sinto-me paz', {'ALEGRIA': True, 'MEDO': False}],\n",
              " ['lucrar', {'ALEGRIA': True, 'MEDO': False}],\n",
              " ['ordem', {'ALEGRIA': True, 'MEDO': False}],\n",
              " ['arrumar empregar junto', {'ALEGRIA': True, 'MEDO': False}],\n",
              " ['o arrumação terminar alívio', {'ALEGRIA': True, 'MEDO': False}],\n",
              " ['o câncer benigno', {'ALEGRIA': True, 'MEDO': False}],\n",
              " ['o amor abundante', {'ALEGRIA': True, 'MEDO': False}],\n",
              " ['caridoso natal', {'ALEGRIA': True, 'MEDO': False}],\n",
              " ['charme irar atrair o', {'ALEGRIA': True, 'MEDO': False}],\n",
              " ['comer charmoso querer', {'ALEGRIA': True, 'MEDO': False}],\n",
              " ['querido amigo', {'ALEGRIA': True, 'MEDO': False}],\n",
              " ['cuidadoso o sentimento', {'ALEGRIA': True, 'MEDO': False}],\n",
              " ['comover tamanho caridade', {'ALEGRIA': True, 'MEDO': False}],\n",
              " ['chá quentar e reconfortante', {'ALEGRIA': True, 'MEDO': False}],\n",
              " ['alegria', {'ALEGRIA': True, 'MEDO': False}],\n",
              " ['aplaudir o vencedor', {'ALEGRIA': True, 'MEDO': False}],\n",
              " ['palmar parir o aniversariante', {'ALEGRIA': True, 'MEDO': False}],\n",
              " ['desejar o', {'ALEGRIA': True, 'MEDO': False}],\n",
              " ['horar apreciar vinho', {'ALEGRIA': True, 'MEDO': False}],\n",
              " ['apreciar suar presença escola', {'ALEGRIA': True, 'MEDO': False}],\n",
              " ['ansiar trabalho', {'ALEGRIA': True, 'MEDO': False}],\n",
              " ['maravilhoso jogar amistoso', {'ALEGRIA': True, 'MEDO': False}],\n",
              " ['e ótimo o menimos apaziguar', {'ALEGRIA': True, 'MEDO': False}],\n",
              " ['concretizar finalmente sonhar', {'ALEGRIA': True, 'MEDO': False}],\n",
              " ['implorar matar', {'ALEGRIA': False, 'MEDO': True}],\n",
              " ['perigoso', {'ALEGRIA': False, 'MEDO': True}],\n",
              " ['segurar', {'ALEGRIA': False, 'MEDO': True}],\n",
              " ['correr pra', {'ALEGRIA': False, 'MEDO': True}],\n",
              " ['socorrer querer roubar o doce', {'ALEGRIA': False, 'MEDO': True}],\n",
              " ['caro perseguir', {'ALEGRIA': False, 'MEDO': True}],\n",
              " ['entrar perigoso', {'ALEGRIA': False, 'MEDO': True}],\n",
              " ['continuar assustador', {'ALEGRIA': False, 'MEDO': True}],\n",
              " ['o selva animar perigoso', {'ALEGRIA': False, 'MEDO': True}],\n",
              " ['avançar cautela', {'ALEGRIA': False, 'MEDO': True}],\n",
              " ['silencioso cuidar', {'ALEGRIA': False, 'MEDO': True}],\n",
              " ['deixe-me viver', {'ALEGRIA': False, 'MEDO': True}],\n",
              " ['ficar mesada tirar noto', {'ALEGRIA': False, 'MEDO': True}],\n",
              " ['parecer olho o vigiar', {'ALEGRIA': False, 'MEDO': True}],\n",
              " ['o sentença juiz negativo', {'ALEGRIA': False, 'MEDO': True}],\n",
              " ['missão arriscar', {'ALEGRIA': False, 'MEDO': True}],\n",
              " ['salvem-se', {'ALEGRIA': False, 'MEDO': True}],\n",
              " ['planar descobrir', {'ALEGRIA': False, 'MEDO': True}],\n",
              " ['culpar jurar', {'ALEGRIA': False, 'MEDO': True}],\n",
              " ['tomar cuidar o lobisomem', {'ALEGRIA': False, 'MEDO': True}],\n",
              " ['achar descobrir o verdade', {'ALEGRIA': False, 'MEDO': True}],\n",
              " ['deus desaparecer', {'ALEGRIA': False, 'MEDO': True}],\n",
              " ['tomar d', {'ALEGRIA': False, 'MEDO': True}],\n",
              " ['manter segredar descobrir ferrar', {'ALEGRIA': False, 'MEDO': True}],\n",
              " ['soltar inocentar', {'ALEGRIA': False, 'MEDO': True}],\n",
              " ['ouvir passo mim', {'ALEGRIA': False, 'MEDO': True}],\n",
              " ['pedir socorrer', {'ALEGRIA': False, 'MEDO': True}],\n",
              " ['cuidar o curvo o estrar', {'ALEGRIA': False, 'MEDO': True}],\n",
              " ['parecer perigoso', {'ALEGRIA': False, 'MEDO': True}],\n",
              " ['tremer medo', {'ALEGRIA': False, 'MEDO': True}],\n",
              " ['socorrer cair', {'ALEGRIA': False, 'MEDO': True}],\n",
              " ['o florestar negro perigoso', {'ALEGRIA': False, 'MEDO': True}],\n",
              " ['ouvir passo o direção', {'ALEGRIA': False, 'MEDO': True}],\n",
              " ['achar arriscar', {'ALEGRIA': False, 'MEDO': True}],\n",
              " ['voltar perigoso', {'ALEGRIA': False, 'MEDO': True}],\n",
              " ['fugir acabar morto', {'ALEGRIA': False, 'MEDO': True}],\n",
              " ['recear livrar d situação', {'ALEGRIA': False, 'MEDO': True}],\n",
              " ['socorrer armar', {'ALEGRIA': False, 'MEDO': True}],\n",
              " ['eis cuidar bater o postar', {'ALEGRIA': False, 'MEDO': True}],\n",
              " ['socorrer nó afundar', {'ALEGRIA': False, 'MEDO': True}],\n",
              " ['e sério cuidar armar', {'ALEGRIA': False, 'MEDO': True}],\n",
              " ['o tubarão atacar', {'ALEGRIA': False, 'MEDO': True}],\n",
              " ['sentir arrepio ficar o escuro', {'ALEGRIA': False, 'MEDO': True}],\n",
              " ['calmo o dinheiro', {'ALEGRIA': False, 'MEDO': True}],\n",
              " ['achar enganar', {'ALEGRIA': False, 'MEDO': True}],\n",
              " ['ligeiro fugir depressa', {'ALEGRIA': False, 'MEDO': True}],\n",
              " ['crocodilo selvagem vir parir', {'ALEGRIA': False, 'MEDO': True}],\n",
              " ['ficar o achar', {'ALEGRIA': False, 'MEDO': True}],\n",
              " ['fugir o tigre parecer faminto', {'ALEGRIA': False, 'MEDO': True}],\n",
              " ['sair precisar milagre', {'ALEGRIA': False, 'MEDO': True}],\n",
              " ['tirar mim socorrer', {'ALEGRIA': False, 'MEDO': True}],\n",
              " ['nadar afogar', {'ALEGRIA': False, 'MEDO': True}],\n",
              " ['e segurar', {'ALEGRIA': False, 'MEDO': True}],\n",
              " ['apanhar pai boletim', {'ALEGRIA': False, 'MEDO': True}],\n",
              " ['conseguir sair d', {'ALEGRIA': False, 'MEDO': True}],\n",
              " ['sair tardar assaltar', {'ALEGRIA': False, 'MEDO': True}],\n",
              " ['deixar', {'ALEGRIA': False, 'MEDO': True}],\n",
              " ['esperar largar', {'ALEGRIA': False, 'MEDO': True}],\n",
              " ['pelar suar segurança', {'ALEGRIA': False, 'MEDO': True}],\n",
              " ['entregar o dinheiro matar', {'ALEGRIA': False, 'MEDO': True}],\n",
              " ['levar o dinheiro', {'ALEGRIA': False, 'MEDO': True}],\n",
              " ['dirigir rápido', {'ALEGRIA': False, 'MEDO': True}],\n",
              " ['descobrir prender', {'ALEGRIA': False, 'MEDO': True}],\n",
              " ['esperar nenhum', {'ALEGRIA': False, 'MEDO': True}],\n",
              " ['afogar ajudar o sair água', {'ALEGRIA': False, 'MEDO': True}],\n",
              " ['o salvar', {'ALEGRIA': False, 'MEDO': True}],\n",
              " ['querer pensar o acontecer', {'ALEGRIA': False, 'MEDO': True}],\n",
              " ['n cidade umar desgraçar outro', {'ALEGRIA': False, 'MEDO': True}],\n",
              " ['alguém ligar assustar', {'ALEGRIA': False, 'MEDO': True}],\n",
              " ['remedio matar', {'ALEGRIA': False, 'MEDO': True}],\n",
              " ['confiar n cautela', {'ALEGRIA': False, 'MEDO': True}],\n",
              " ['cautela', {'ALEGRIA': False, 'MEDO': True}],\n",
              " ['descobrir deus', {'ALEGRIA': False, 'MEDO': True}],\n",
              " ['recear', {'ALEGRIA': False, 'MEDO': True}],\n",
              " ['o noite e perigoso', {'ALEGRIA': False, 'MEDO': True}],\n",
              " ['estremecer casar', {'ALEGRIA': False, 'MEDO': True}],\n",
              " ['olhar criatura mover monstruosamente', {'ALEGRIA': False, 'MEDO': True}],\n",
              " ['aguentar suspense', {'ALEGRIA': False, 'MEDO': True}],\n",
              " ['afugentar o cão', {'ALEGRIA': False, 'MEDO': True}],\n",
              " ['chocar e amedrontar assassinato brutal', {'ALEGRIA': False, 'MEDO': True}],\n",
              " ['precisar afugentar ímpeto medo infernar', {'ALEGRIA': False, 'MEDO': True}],\n",
              " ['político suar forçar parir afugentar e amedrontar o',\n",
              "  {'ALEGRIA': False, 'MEDO': True}],\n",
              " ['o objetivo d e amedrontar', {'ALEGRIA': False, 'MEDO': True}],\n",
              " ['apavorar', {'ALEGRIA': False, 'MEDO': True}]]"
            ]
          },
          "metadata": {},
          "execution_count": 36
        }
      ]
    },
    {
      "cell_type": "markdown",
      "metadata": {
        "id": "5mc19ZByUNsu"
      },
      "source": [
        "# Etapa 5: Criação do classificador"
      ]
    },
    {
      "cell_type": "code",
      "metadata": {
        "id": "YnZ1orji7Iv8"
      },
      "source": [
        "modelo = spacy.blank('pt')\n",
        "categorias = modelo.create_pipe(\"textcat\")\n",
        "categorias.add_label(\"ALEGRIA\")\n",
        "categorias.add_label(\"MEDO\")\n",
        "modelo.add_pipe(categorias)\n",
        "historico = []"
      ],
      "execution_count": null,
      "outputs": []
    },
    {
      "cell_type": "code",
      "metadata": {
        "id": "3jlGvLEz764Y",
        "colab": {
          "base_uri": "https://localhost:8080/"
        },
        "outputId": "ea7a397c-a014-444b-8294-c7eb2fb1c04a"
      },
      "source": [
        "modelo.begin_training()\n",
        "for epoca in range(1000):\n",
        "  random.shuffle(base_dados_final)\n",
        "  losses = {}\n",
        "  for batch in spacy.util.minibatch(base_dados_final, 30):\n",
        "    textos = [modelo(texto) for texto, entities in batch]\n",
        "    annotations = [{'cats': entities} for texto, entities in batch]\n",
        "    modelo.update(textos, annotations, losses=losses)\n",
        "  if epoca % 100 == 0:\n",
        "    print(losses)\n",
        "    historico.append(losses)"
      ],
      "execution_count": null,
      "outputs": [
        {
          "output_type": "stream",
          "name": "stdout",
          "text": [
            "{'textcat': 0.006443371064960957}\n",
            "{'textcat': 2.234816953716745e-07}\n",
            "{'textcat': 7.911278565586599e-08}\n",
            "{'textcat': 3.6010969317601393e-08}\n",
            "{'textcat': 2.3950690097862548e-08}\n",
            "{'textcat': 1.4111748936063151e-08}\n",
            "{'textcat': 7.670324514430504e-09}\n",
            "{'textcat': 7.000405005674892e-09}\n",
            "{'textcat': 5.1997472438891634e-09}\n",
            "{'textcat': 4.663395558601735e-09}\n"
          ]
        }
      ]
    },
    {
      "cell_type": "code",
      "metadata": {
        "id": "wSe-tDsCAciN"
      },
      "source": [
        "historico_loss = []\n",
        "for i in historico:\n",
        "  historico_loss.append(i.get('textcat'))"
      ],
      "execution_count": null,
      "outputs": []
    },
    {
      "cell_type": "code",
      "metadata": {
        "id": "ShJhtbYtAr50",
        "colab": {
          "base_uri": "https://localhost:8080/"
        },
        "outputId": "d8b99bc1-42bc-4578-a99c-f5c629e35bd8"
      },
      "source": [
        "historico_loss = np.array(historico_loss)\n",
        "historico_loss"
      ],
      "execution_count": null,
      "outputs": [
        {
          "output_type": "execute_result",
          "data": {
            "text/plain": [
              "array([6.44337106e-03, 2.23481695e-07, 7.91127857e-08, 3.60109693e-08,\n",
              "       2.39506901e-08, 1.41117489e-08, 7.67032451e-09, 7.00040501e-09,\n",
              "       5.19974724e-09, 4.66339556e-09])"
            ]
          },
          "metadata": {},
          "execution_count": 40
        }
      ]
    },
    {
      "cell_type": "code",
      "metadata": {
        "id": "6lEL-QoBA0KI",
        "colab": {
          "base_uri": "https://localhost:8080/",
          "height": 314
        },
        "outputId": "382d2d21-baba-426d-9631-a3df04817dff"
      },
      "source": [
        "import matplotlib.pyplot as plt\n",
        "plt.plot(historico_loss)\n",
        "plt.title('Progressão do erro')\n",
        "plt.xlabel('Épocas')\n",
        "plt.ylabel('Erro')"
      ],
      "execution_count": null,
      "outputs": [
        {
          "output_type": "execute_result",
          "data": {
            "text/plain": [
              "Text(0, 0.5, 'Erro')"
            ]
          },
          "metadata": {},
          "execution_count": 41
        },
        {
          "output_type": "display_data",
          "data": {
            "image/png": "[encoded data removed]",
            "text/plain": [
              "<Figure size 432x288 with 1 Axes>"
            ]
          },
          "metadata": {
            "needs_background": "light"
          }
        }
      ]
    },
    {
      "cell_type": "code",
      "metadata": {
        "id": "amNE8xy_BPSF"
      },
      "source": [
        "modelo.to_disk(\"modelo\")"
      ],
      "execution_count": null,
      "outputs": []
    },
    {
      "cell_type": "markdown",
      "metadata": {
        "id": "ePMk8G0Dl6wg"
      },
      "source": [
        "# Etapa 6: Testes com uma frase"
      ]
    },
    {
      "cell_type": "code",
      "metadata": {
        "id": "u9e-TlWNCFj8",
        "colab": {
          "base_uri": "https://localhost:8080/"
        },
        "outputId": "602953e1-63aa-48c5-e117-5b2e7ed02f03"
      },
      "source": [
        "modelo_carregado = spacy.load(\"modelo\")\n",
        "modelo_carregado"
      ],
      "execution_count": null,
      "outputs": [
        {
          "output_type": "execute_result",
          "data": {
            "text/plain": [
              "<spacy.lang.pt.Portuguese at 0x7f59d21a4d10>"
            ]
          },
          "metadata": {},
          "execution_count": 43
        }
      ]
    },
    {
      "cell_type": "code",
      "metadata": {
        "id": "vccrJddkCThv"
      },
      "source": [
        "texto_positivo = 'eu adoro cor dos seus olhos'"
      ],
      "execution_count": null,
      "outputs": []
    },
    {
      "cell_type": "code",
      "metadata": {
        "id": "AHUy4H_ECZyN",
        "colab": {
          "base_uri": "https://localhost:8080/",
          "height": 35
        },
        "outputId": "14e58666-9e39-4eae-bc29-d482c837d9a3"
      },
      "source": [
        "texto_positivo = preprocessamento(texto_positivo)\n",
        "texto_positivo"
      ],
      "execution_count": null,
      "outputs": [
        {
          "output_type": "execute_result",
          "data": {
            "application/vnd.google.colaboratory.intrinsic+json": {
              "type": "string"
            },
            "text/plain": [
              "'adorar cor olho'"
            ]
          },
          "metadata": {},
          "execution_count": 45
        }
      ]
    },
    {
      "cell_type": "code",
      "metadata": {
        "id": "B4iJh7D5Cjha",
        "colab": {
          "base_uri": "https://localhost:8080/"
        },
        "outputId": "5bbb5591-bf76-4a1f-bdd1-5f851fe06692"
      },
      "source": [
        "previsao = modelo_carregado(texto_positivo)\n",
        "previsao"
      ],
      "execution_count": null,
      "outputs": [
        {
          "output_type": "execute_result",
          "data": {
            "text/plain": [
              "adorar cor olho"
            ]
          },
          "metadata": {},
          "execution_count": 46
        }
      ]
    },
    {
      "cell_type": "code",
      "metadata": {
        "id": "wEvTU1fGCoX0",
        "colab": {
          "base_uri": "https://localhost:8080/"
        },
        "outputId": "54934f3d-ed7f-42e9-ce15-ade4be95267e"
      },
      "source": [
        "previsao.cats"
      ],
      "execution_count": null,
      "outputs": [
        {
          "output_type": "execute_result",
          "data": {
            "text/plain": [
              "{'ALEGRIA': 0.9993537068367004, 'MEDO': 0.000264675822108984}"
            ]
          },
          "metadata": {},
          "execution_count": 47
        }
      ]
    },
    {
      "cell_type": "code",
      "metadata": {
        "id": "jr2eRXXJCxWe",
        "colab": {
          "base_uri": "https://localhost:8080/"
        },
        "outputId": "d0fc300f-de93-4d5b-ab92-e74267c4c035"
      },
      "source": [
        "texto_negativo = 'estou com medo dele'\n",
        "previsao = modelo_carregado(preprocessamento(texto_negativo))\n",
        "previsao.cats"
      ],
      "execution_count": null,
      "outputs": [
        {
          "output_type": "execute_result",
          "data": {
            "text/plain": [
              "{'ALEGRIA': 0.025859346613287926, 'MEDO': 0.9902120232582092}"
            ]
          },
          "metadata": {},
          "execution_count": 48
        }
      ]
    },
    {
      "cell_type": "markdown",
      "metadata": {
        "id": "KhF2vtEsnlpM"
      },
      "source": [
        "# Etapa 7: Avaliação do modelo"
      ]
    },
    {
      "cell_type": "markdown",
      "metadata": {
        "id": "sJzwpVWNACFi"
      },
      "source": [
        "## Avaliação na base de treinamento\n"
      ]
    },
    {
      "cell_type": "code",
      "metadata": {
        "id": "6NoTHRADDZ0Z"
      },
      "source": [
        "previsoes = []\n",
        "for texto in base_dados['texto']:\n",
        "  #print(texto)\n",
        "  previsao = modelo_carregado(texto)\n",
        "  previsoes.append(previsao.cats)"
      ],
      "execution_count": null,
      "outputs": []
    },
    {
      "cell_type": "code",
      "metadata": {
        "id": "8lRO94OuDvLZ",
        "colab": {
          "base_uri": "https://localhost:8080/"
        },
        "outputId": "0c52f7b2-6ef1-49ad-e8b9-84e9e8f1faee"
      },
      "source": [
        "previsoes"
      ],
      "execution_count": null,
      "outputs": [
        {
          "output_type": "execute_result",
          "data": {
            "text/plain": [
              "[{'ALEGRIA': 0.999337375164032, 'MEDO': 0.00011844616528833285},\n",
              " {'ALEGRIA': 0.9993289709091187, 'MEDO': 0.0002555068058427423},\n",
              " {'ALEGRIA': 0.999230146408081, 'MEDO': 0.0004235664673615247},\n",
              " {'ALEGRIA': 0.9995577931404114, 'MEDO': 0.00021787073637824506},\n",
              " {'ALEGRIA': 0.9998824596405029, 'MEDO': 7.540371734648943e-05},\n",
              " {'ALEGRIA': 0.9994627833366394, 'MEDO': 0.000258297601249069},\n",
              " {'ALEGRIA': 0.9998086094856262, 'MEDO': 0.00014055207429919392},\n",
              " {'ALEGRIA': 0.9994378685951233, 'MEDO': 0.00012600426271092147},\n",
              " {'ALEGRIA': 0.9997155070304871, 'MEDO': 0.00014546506281476468},\n",
              " {'ALEGRIA': 0.9985944628715515, 'MEDO': 0.0009360664989799261},\n",
              " {'ALEGRIA': 0.9998700618743896, 'MEDO': 9.112681436818093e-05},\n",
              " {'ALEGRIA': 0.9993903636932373, 'MEDO': 0.0002728100516833365},\n",
              " {'ALEGRIA': 0.9998351335525513, 'MEDO': 0.00010388174996478483},\n",
              " {'ALEGRIA': 0.9995864033699036, 'MEDO': 0.00014065959840081632},\n",
              " {'ALEGRIA': 0.9980450868606567, 'MEDO': 0.0009690403821878135},\n",
              " {'ALEGRIA': 0.9995763897895813, 'MEDO': 6.073943950468674e-05},\n",
              " {'ALEGRIA': 0.9997608065605164, 'MEDO': 0.0004044005472678691},\n",
              " {'ALEGRIA': 0.9999215602874756, 'MEDO': 4.539786823443137e-05},\n",
              " {'ALEGRIA': 0.9995684027671814, 'MEDO': 0.0002491068735253066},\n",
              " {'ALEGRIA': 0.9992496371269226, 'MEDO': 0.0006227523554116488},\n",
              " {'ALEGRIA': 0.9998525381088257, 'MEDO': 6.732650217600167e-05},\n",
              " {'ALEGRIA': 0.9994101524353027, 'MEDO': 0.00045649794628843665},\n",
              " {'ALEGRIA': 0.9991819262504578, 'MEDO': 0.0003691325837280601},\n",
              " {'ALEGRIA': 0.999839186668396, 'MEDO': 0.0003353792417328805},\n",
              " {'ALEGRIA': 0.9995785355567932, 'MEDO': 0.00023519994283560663},\n",
              " {'ALEGRIA': 0.9995384216308594, 'MEDO': 0.00014107600145507604},\n",
              " {'ALEGRIA': 0.9996066689491272, 'MEDO': 0.00025249033933505416},\n",
              " {'ALEGRIA': 0.9998158812522888, 'MEDO': 4.539786823443137e-05},\n",
              " {'ALEGRIA': 0.9996102452278137, 'MEDO': 9.97745300992392e-05},\n",
              " {'ALEGRIA': 0.9997764229774475, 'MEDO': 0.00016716698883101344},\n",
              " {'ALEGRIA': 0.999563992023468, 'MEDO': 0.00024275417672470212},\n",
              " {'ALEGRIA': 0.9994175434112549, 'MEDO': 0.0004237277607899159},\n",
              " {'ALEGRIA': 0.9997225403785706, 'MEDO': 5.012952533434145e-05},\n",
              " {'ALEGRIA': 0.9996180534362793, 'MEDO': 0.0001705553731881082},\n",
              " {'ALEGRIA': 0.9998787641525269, 'MEDO': 6.729639426339418e-05},\n",
              " {'ALEGRIA': 0.9994732737541199, 'MEDO': 0.00023061333922669291},\n",
              " {'ALEGRIA': 0.9993001222610474, 'MEDO': 0.0004007080860901624},\n",
              " {'ALEGRIA': 0.9995404481887817, 'MEDO': 0.0003034414257854223},\n",
              " {'ALEGRIA': 0.9991807341575623, 'MEDO': 0.0003717694489751011},\n",
              " {'ALEGRIA': 0.9993550181388855, 'MEDO': 0.00031925045186653733},\n",
              " {'ALEGRIA': 0.9996623992919922, 'MEDO': 0.00010699432459659874},\n",
              " {'ALEGRIA': 0.9994148015975952, 'MEDO': 0.0001339568116236478},\n",
              " {'ALEGRIA': 0.9998495578765869, 'MEDO': 4.539786823443137e-05},\n",
              " {'ALEGRIA': 0.9992833733558655, 'MEDO': 0.0004892040742561221},\n",
              " {'ALEGRIA': 0.9995021820068359, 'MEDO': 0.00021865508460905403},\n",
              " {'ALEGRIA': 0.9995858073234558, 'MEDO': 0.00013999630755279213},\n",
              " {'ALEGRIA': 0.9998244643211365, 'MEDO': 0.00021078155259601772},\n",
              " {'ALEGRIA': 0.9995545744895935, 'MEDO': 9.10620074137114e-05},\n",
              " {'ALEGRIA': 0.9993842840194702, 'MEDO': 0.00018060242291539907},\n",
              " {'ALEGRIA': 0.9996765851974487, 'MEDO': 4.539786823443137e-05},\n",
              " {'ALEGRIA': 0.9991069436073303, 'MEDO': 0.0002459027455188334},\n",
              " {'ALEGRIA': 0.9998965263366699, 'MEDO': 0.00012597159366123378},\n",
              " {'ALEGRIA': 0.9992353916168213, 'MEDO': 8.933305798564106e-05},\n",
              " {'ALEGRIA': 0.9995620846748352, 'MEDO': 7.211136835394427e-05},\n",
              " {'ALEGRIA': 0.9988405108451843, 'MEDO': 0.00033678358886390924},\n",
              " {'ALEGRIA': 0.9997188448905945, 'MEDO': 0.00022383044415619224},\n",
              " {'ALEGRIA': 0.9997848868370056, 'MEDO': 6.769804167561233e-05},\n",
              " {'ALEGRIA': 0.9995026588439941, 'MEDO': 0.00030356846400536597},\n",
              " {'ALEGRIA': 0.9998348951339722, 'MEDO': 4.539786823443137e-05},\n",
              " {'ALEGRIA': 0.999639630317688, 'MEDO': 8.411666931351647e-05},\n",
              " {'ALEGRIA': 0.9990839958190918, 'MEDO': 0.0005657419096678495},\n",
              " {'ALEGRIA': 0.9998273253440857, 'MEDO': 0.00010523321543587372},\n",
              " {'ALEGRIA': 0.9991902709007263, 'MEDO': 0.0003398991539143026},\n",
              " {'ALEGRIA': 0.9994776844978333, 'MEDO': 0.00031735835364088416},\n",
              " {'ALEGRIA': 0.9996427297592163, 'MEDO': 8.340754720848054e-05},\n",
              " {'ALEGRIA': 0.9991570711135864, 'MEDO': 0.0002803528623189777},\n",
              " {'ALEGRIA': 0.999729335308075, 'MEDO': 7.80517584644258e-05},\n",
              " {'ALEGRIA': 0.9994906187057495, 'MEDO': 0.0001448553375666961},\n",
              " {'ALEGRIA': 0.9997146725654602, 'MEDO': 0.00016788998618721962},\n",
              " {'ALEGRIA': 0.9997250437736511, 'MEDO': 8.902233093976974e-05},\n",
              " {'ALEGRIA': 0.9997124075889587, 'MEDO': 0.000127285675262101},\n",
              " {'ALEGRIA': 0.9997820258140564, 'MEDO': 0.00023253780091181397},\n",
              " {'ALEGRIA': 0.9992226362228394, 'MEDO': 0.00033536533010192215},\n",
              " {'ALEGRIA': 0.999819815158844, 'MEDO': 0.0001783282496035099},\n",
              " {'ALEGRIA': 0.9996328353881836, 'MEDO': 5.7728557294467464e-05},\n",
              " {'ALEGRIA': 0.9987397789955139, 'MEDO': 0.0006506757345050573},\n",
              " {'ALEGRIA': 0.9997890591621399, 'MEDO': 9.961777686839923e-05},\n",
              " {'ALEGRIA': 0.9996017813682556, 'MEDO': 5.305984814185649e-05},\n",
              " {'ALEGRIA': 0.9998040795326233, 'MEDO': 4.539786823443137e-05},\n",
              " {'ALEGRIA': 0.9993554949760437, 'MEDO': 0.00011752552381949499},\n",
              " {'ALEGRIA': 0.9994198083877563, 'MEDO': 0.00043184301466681063},\n",
              " {'ALEGRIA': 0.9994300007820129, 'MEDO': 0.00010579171066638082},\n",
              " {'ALEGRIA': 0.9992940425872803, 'MEDO': 0.000285325018921867},\n",
              " {'ALEGRIA': 0.9992973804473877, 'MEDO': 0.00034100410994142294},\n",
              " {'ALEGRIA': 0.9998370409011841, 'MEDO': 0.0001740932057145983},\n",
              " {'ALEGRIA': 0.999779999256134, 'MEDO': 4.539786823443137e-05},\n",
              " {'ALEGRIA': 0.9994805455207825, 'MEDO': 0.0002536789688747376},\n",
              " {'ALEGRIA': 0.9996470212936401, 'MEDO': 0.00021217808534856886},\n",
              " {'ALEGRIA': 0.999488115310669, 'MEDO': 0.00023123181017581373},\n",
              " {'ALEGRIA': 0.9991133809089661, 'MEDO': 0.00022877786250319332},\n",
              " {'ALEGRIA': 0.9996066689491272, 'MEDO': 0.0002031569747487083},\n",
              " {'ALEGRIA': 0.9993464350700378, 'MEDO': 0.00014684235793538392},\n",
              " {'ALEGRIA': 0.9993875026702881, 'MEDO': 0.00048324704403057694},\n",
              " {'ALEGRIA': 0.9991075396537781, 'MEDO': 0.00022280200209934264},\n",
              " {'ALEGRIA': 0.9994397759437561, 'MEDO': 0.0005629384540952742},\n",
              " {'ALEGRIA': 0.9996678829193115, 'MEDO': 0.0001058196576195769},\n",
              " {'ALEGRIA': 0.9995993971824646, 'MEDO': 0.0002380393707426265},\n",
              " {'ALEGRIA': 0.9995285272598267, 'MEDO': 0.0001773263211362064},\n",
              " {'ALEGRIA': 0.9998903274536133, 'MEDO': 4.539786823443137e-05},\n",
              " {'ALEGRIA': 0.9995926022529602, 'MEDO': 0.0002653790288604796},\n",
              " {'ALEGRIA': 0.9996669292449951, 'MEDO': 5.927006350248121e-05},\n",
              " {'ALEGRIA': 0.9994074106216431, 'MEDO': 0.0003950157843064517},\n",
              " {'ALEGRIA': 0.9995018243789673, 'MEDO': 0.0003376897075213492},\n",
              " {'ALEGRIA': 0.999736487865448, 'MEDO': 0.00015122916374821216},\n",
              " {'ALEGRIA': 0.999182403087616, 'MEDO': 0.0006143032805994153},\n",
              " {'ALEGRIA': 0.9993531107902527, 'MEDO': 0.0004068471898790449},\n",
              " {'ALEGRIA': 0.9993354678153992, 'MEDO': 0.00034604337997734547},\n",
              " {'ALEGRIA': 0.9994617104530334, 'MEDO': 0.00015351336332969368},\n",
              " {'ALEGRIA': 0.9998632669448853, 'MEDO': 6.579590262845159e-05},\n",
              " {'ALEGRIA': 0.9992959499359131, 'MEDO': 0.0002183656906709075},\n",
              " {'ALEGRIA': 0.9994805455207825, 'MEDO': 0.0005940358969382942},\n",
              " {'ALEGRIA': 0.9997350573539734, 'MEDO': 4.539786823443137e-05},\n",
              " {'ALEGRIA': 0.0005764259840361774, 'MEDO': 0.9998177886009216},\n",
              " {'ALEGRIA': 0.0002864894922822714, 'MEDO': 0.9998738765716553},\n",
              " {'ALEGRIA': 0.0003420432622078806, 'MEDO': 0.9998693466186523},\n",
              " {'ALEGRIA': 0.0005259230965748429, 'MEDO': 0.9997656941413879},\n",
              " {'ALEGRIA': 0.00041753682307899, 'MEDO': 0.9996381998062134},\n",
              " {'ALEGRIA': 0.000756021705456078, 'MEDO': 0.9995377063751221},\n",
              " {'ALEGRIA': 0.00022924055519979447, 'MEDO': 0.9999545812606812},\n",
              " {'ALEGRIA': 0.0006117777666077018, 'MEDO': 0.9996832609176636},\n",
              " {'ALEGRIA': 0.0007899744086898863, 'MEDO': 0.9996139407157898},\n",
              " {'ALEGRIA': 0.0004906415124423802, 'MEDO': 0.9999179840087891},\n",
              " {'ALEGRIA': 0.0003521729668136686, 'MEDO': 0.9997349381446838},\n",
              " {'ALEGRIA': 0.0004276265681255609, 'MEDO': 0.9999545812606812},\n",
              " {'ALEGRIA': 0.0004466594837140292, 'MEDO': 0.9998362064361572},\n",
              " {'ALEGRIA': 0.000363852217560634, 'MEDO': 0.9996480941772461},\n",
              " {'ALEGRIA': 0.0006644543027505279, 'MEDO': 0.9998563528060913},\n",
              " {'ALEGRIA': 0.00024706771364435554, 'MEDO': 0.9998801946640015},\n",
              " {'ALEGRIA': 0.0005065046134404838, 'MEDO': 0.9996473789215088},\n",
              " {'ALEGRIA': 0.00019272483768872917, 'MEDO': 0.9998340606689453},\n",
              " {'ALEGRIA': 0.0007174931815825403, 'MEDO': 0.9995044469833374},\n",
              " {'ALEGRIA': 0.0003334310313221067, 'MEDO': 0.9999545812606812},\n",
              " {'ALEGRIA': 0.0010789119405671954, 'MEDO': 0.999173104763031},\n",
              " {'ALEGRIA': 0.0002557524712756276, 'MEDO': 0.9997572302818298},\n",
              " {'ALEGRIA': 0.00021791373728774488, 'MEDO': 0.9997708201408386},\n",
              " {'ALEGRIA': 0.000424536585342139, 'MEDO': 0.9998737573623657},\n",
              " {'ALEGRIA': 0.0006237695924937725, 'MEDO': 0.9997109770774841},\n",
              " {'ALEGRIA': 0.0002784145181067288, 'MEDO': 0.9998774528503418},\n",
              " {'ALEGRIA': 0.0004041018837597221, 'MEDO': 0.9998512268066406},\n",
              " {'ALEGRIA': 0.0004503795353230089, 'MEDO': 0.9996970891952515},\n",
              " {'ALEGRIA': 7.250246562762186e-05, 'MEDO': 0.9999535083770752},\n",
              " {'ALEGRIA': 0.0004320412699598819, 'MEDO': 0.9997666478157043},\n",
              " {'ALEGRIA': 0.0004335211415309459, 'MEDO': 0.9995410442352295},\n",
              " {'ALEGRIA': 0.00025047914823517203, 'MEDO': 0.9998301267623901},\n",
              " {'ALEGRIA': 0.00037183662061579525, 'MEDO': 0.9999080896377563},\n",
              " {'ALEGRIA': 0.000477499415865168, 'MEDO': 0.9997826218605042},\n",
              " {'ALEGRIA': 0.00040235056076198816, 'MEDO': 0.9998471736907959},\n",
              " {'ALEGRIA': 0.0006275639170780778, 'MEDO': 0.9995736479759216},\n",
              " {'ALEGRIA': 0.0005846153944730759, 'MEDO': 0.999818742275238},\n",
              " {'ALEGRIA': 0.00039466965245082974, 'MEDO': 0.9997507929801941},\n",
              " {'ALEGRIA': 0.00022222007100936025, 'MEDO': 0.9999545812606812},\n",
              " {'ALEGRIA': 0.0001814307033782825, 'MEDO': 0.9996343851089478},\n",
              " {'ALEGRIA': 0.00021500290313269943, 'MEDO': 0.9998145699501038},\n",
              " {'ALEGRIA': 0.0007631322951056063, 'MEDO': 0.9996490478515625},\n",
              " {'ALEGRIA': 0.0019216514192521572, 'MEDO': 0.998992383480072},\n",
              " {'ALEGRIA': 0.0008268467499874532, 'MEDO': 0.9994812607765198},\n",
              " {'ALEGRIA': 0.00045962585136294365, 'MEDO': 0.9996103644371033},\n",
              " {'ALEGRIA': 0.0006366728339344263, 'MEDO': 0.9996966123580933},\n",
              " {'ALEGRIA': 0.00015284250548575073, 'MEDO': 0.999923825263977},\n",
              " {'ALEGRIA': 0.0016985953552648425, 'MEDO': 0.9989031553268433},\n",
              " {'ALEGRIA': 0.00021580718748737127, 'MEDO': 0.9996778964996338},\n",
              " {'ALEGRIA': 0.0003673523897305131, 'MEDO': 0.999795138835907},\n",
              " {'ALEGRIA': 0.0001964319817489013, 'MEDO': 0.9998774528503418},\n",
              " {'ALEGRIA': 0.0002331816649530083, 'MEDO': 0.999874472618103},\n",
              " {'ALEGRIA': 0.00040720513788983226, 'MEDO': 0.9998793601989746},\n",
              " {'ALEGRIA': 0.000523729482665658, 'MEDO': 0.9995315074920654},\n",
              " {'ALEGRIA': 0.00039140266017057, 'MEDO': 0.9997861981391907},\n",
              " {'ALEGRIA': 0.0003283281112089753, 'MEDO': 0.9999545812606812},\n",
              " {'ALEGRIA': 0.0005814210162498057, 'MEDO': 0.9999094009399414},\n",
              " {'ALEGRIA': 0.0005799142527393997, 'MEDO': 0.9997612833976746},\n",
              " {'ALEGRIA': 0.0016905682859942317, 'MEDO': 0.9991576671600342},\n",
              " {'ALEGRIA': 0.00031453033443540335, 'MEDO': 0.9998409748077393},\n",
              " {'ALEGRIA': 0.0006564013310708106, 'MEDO': 0.9997963309288025},\n",
              " {'ALEGRIA': 0.0006703249528072774, 'MEDO': 0.9996265172958374},\n",
              " {'ALEGRIA': 0.00029827223625034094, 'MEDO': 0.9999545812606812},\n",
              " {'ALEGRIA': 0.00026486135902814567, 'MEDO': 0.9997634291648865},\n",
              " {'ALEGRIA': 0.0006059908191673458, 'MEDO': 0.9996846914291382},\n",
              " {'ALEGRIA': 0.002097067888826132, 'MEDO': 0.9989481568336487},\n",
              " {'ALEGRIA': 0.0013327960623428226, 'MEDO': 0.9993619322776794},\n",
              " {'ALEGRIA': 0.0007890429114922881, 'MEDO': 0.9995313882827759},\n",
              " {'ALEGRIA': 0.0002821744419634342, 'MEDO': 0.9998089671134949},\n",
              " {'ALEGRIA': 0.00028476546867750585, 'MEDO': 0.9998289346694946},\n",
              " {'ALEGRIA': 0.000346104905474931, 'MEDO': 0.9999545812606812},\n",
              " {'ALEGRIA': 0.00029711058596149087, 'MEDO': 0.9998313188552856},\n",
              " {'ALEGRIA': 0.00043103506322950125, 'MEDO': 0.999758780002594},\n",
              " {'ALEGRIA': 0.0007189578609541059, 'MEDO': 0.9997790455818176},\n",
              " {'ALEGRIA': 0.00020501588005572557, 'MEDO': 0.9999545812606812},\n",
              " {'ALEGRIA': 0.0007769072544761002, 'MEDO': 0.9994736313819885},\n",
              " {'ALEGRIA': 0.0006738448864780366, 'MEDO': 0.9994837045669556},\n",
              " {'ALEGRIA': 0.00015892524970695376, 'MEDO': 0.9998985528945923},\n",
              " {'ALEGRIA': 0.0008269078680314124, 'MEDO': 0.9997772574424744},\n",
              " {'ALEGRIA': 0.0006735402275808156, 'MEDO': 0.9998036026954651},\n",
              " {'ALEGRIA': 0.00025813363026827574, 'MEDO': 0.9999395608901978},\n",
              " {'ALEGRIA': 0.0005793396849185228, 'MEDO': 0.9996708631515503},\n",
              " {'ALEGRIA': 0.00024179140746127814, 'MEDO': 0.9999500513076782},\n",
              " {'ALEGRIA': 0.0004183946002740413, 'MEDO': 0.9996755123138428}]"
            ]
          },
          "metadata": {},
          "execution_count": 50
        }
      ]
    },
    {
      "cell_type": "code",
      "metadata": {
        "id": "YXTXMXAgEDMR"
      },
      "source": [
        "previsoes_final = []\n",
        "for previsao in previsoes:\n",
        "  if previsao['ALEGRIA'] > previsao['MEDO']:\n",
        "    previsoes_final.append('alegria')\n",
        "  else:\n",
        "    previsoes_final.append('medo')\n",
        "\n",
        "previsoes_final = np.array(previsoes_final)"
      ],
      "execution_count": null,
      "outputs": []
    },
    {
      "cell_type": "code",
      "metadata": {
        "id": "ilep1MZKEVyg",
        "colab": {
          "base_uri": "https://localhost:8080/"
        },
        "outputId": "6b358d81-2e8c-41de-875b-8d899a03fc10"
      },
      "source": [
        "previsoes_final"
      ],
      "execution_count": null,
      "outputs": [
        {
          "output_type": "execute_result",
          "data": {
            "text/plain": [
              "array(['alegria', 'alegria', 'alegria', 'alegria', 'alegria', 'alegria',\n",
              "       'alegria', 'alegria', 'alegria', 'alegria', 'alegria', 'alegria',\n",
              "       'alegria', 'alegria', 'alegria', 'alegria', 'alegria', 'alegria',\n",
              "       'alegria', 'alegria', 'alegria', 'alegria', 'alegria', 'alegria',\n",
              "       'alegria', 'alegria', 'alegria', 'alegria', 'alegria', 'alegria',\n",
              "       'alegria', 'alegria', 'alegria', 'alegria', 'alegria', 'alegria',\n",
              "       'alegria', 'alegria', 'alegria', 'alegria', 'alegria', 'alegria',\n",
              "       'alegria', 'alegria', 'alegria', 'alegria', 'alegria', 'alegria',\n",
              "       'alegria', 'alegria', 'alegria', 'alegria', 'alegria', 'alegria',\n",
              "       'alegria', 'alegria', 'alegria', 'alegria', 'alegria', 'alegria',\n",
              "       'alegria', 'alegria', 'alegria', 'alegria', 'alegria', 'alegria',\n",
              "       'alegria', 'alegria', 'alegria', 'alegria', 'alegria', 'alegria',\n",
              "       'alegria', 'alegria', 'alegria', 'alegria', 'alegria', 'alegria',\n",
              "       'alegria', 'alegria', 'alegria', 'alegria', 'alegria', 'alegria',\n",
              "       'alegria', 'alegria', 'alegria', 'alegria', 'alegria', 'alegria',\n",
              "       'alegria', 'alegria', 'alegria', 'alegria', 'alegria', 'alegria',\n",
              "       'alegria', 'alegria', 'alegria', 'alegria', 'alegria', 'alegria',\n",
              "       'alegria', 'alegria', 'alegria', 'alegria', 'alegria', 'alegria',\n",
              "       'alegria', 'alegria', 'alegria', 'alegria', 'medo', 'medo', 'medo',\n",
              "       'medo', 'medo', 'medo', 'medo', 'medo', 'medo', 'medo', 'medo',\n",
              "       'medo', 'medo', 'medo', 'medo', 'medo', 'medo', 'medo', 'medo',\n",
              "       'medo', 'medo', 'medo', 'medo', 'medo', 'medo', 'medo', 'medo',\n",
              "       'medo', 'medo', 'medo', 'medo', 'medo', 'medo', 'medo', 'medo',\n",
              "       'medo', 'medo', 'medo', 'medo', 'medo', 'medo', 'medo', 'medo',\n",
              "       'medo', 'medo', 'medo', 'medo', 'medo', 'medo', 'medo', 'medo',\n",
              "       'medo', 'medo', 'medo', 'medo', 'medo', 'medo', 'medo', 'medo',\n",
              "       'medo', 'medo', 'medo', 'medo', 'medo', 'medo', 'medo', 'medo',\n",
              "       'medo', 'medo', 'medo', 'medo', 'medo', 'medo', 'medo', 'medo',\n",
              "       'medo', 'medo', 'medo', 'medo', 'medo', 'medo', 'medo', 'medo',\n",
              "       'medo'], dtype='<U7')"
            ]
          },
          "metadata": {},
          "execution_count": 52
        }
      ]
    },
    {
      "cell_type": "code",
      "metadata": {
        "id": "3bbnP269EaYs",
        "colab": {
          "base_uri": "https://localhost:8080/"
        },
        "outputId": "7d8711b3-40d8-438b-e95f-851f1001d3ce"
      },
      "source": [
        "respostas_reais = base_dados['emocao'].values\n",
        "respostas_reais"
      ],
      "execution_count": null,
      "outputs": [
        {
          "output_type": "execute_result",
          "data": {
            "text/plain": [
              "array(['alegria', 'alegria', 'alegria', 'alegria', 'alegria', 'alegria',\n",
              "       'alegria', 'alegria', 'alegria', 'alegria', 'alegria', 'alegria',\n",
              "       'alegria', 'alegria', 'alegria', 'alegria', 'alegria', 'alegria',\n",
              "       'alegria', 'alegria', 'alegria', 'alegria', 'alegria', 'alegria',\n",
              "       'alegria', 'alegria', 'alegria', 'alegria', 'alegria', 'alegria',\n",
              "       'alegria', 'alegria', 'alegria', 'alegria', 'alegria', 'alegria',\n",
              "       'alegria', 'alegria', 'alegria', 'alegria', 'alegria', 'alegria',\n",
              "       'alegria', 'alegria', 'alegria', 'alegria', 'alegria', 'alegria',\n",
              "       'alegria', 'alegria', 'alegria', 'alegria', 'alegria', 'alegria',\n",
              "       'alegria', 'alegria', 'alegria', 'alegria', 'alegria', 'alegria',\n",
              "       'alegria', 'alegria', 'alegria', 'alegria', 'alegria', 'alegria',\n",
              "       'alegria', 'alegria', 'alegria', 'alegria', 'alegria', 'alegria',\n",
              "       'alegria', 'alegria', 'alegria', 'alegria', 'alegria', 'alegria',\n",
              "       'alegria', 'alegria', 'alegria', 'alegria', 'alegria', 'alegria',\n",
              "       'alegria', 'alegria', 'alegria', 'alegria', 'alegria', 'alegria',\n",
              "       'alegria', 'alegria', 'alegria', 'alegria', 'alegria', 'alegria',\n",
              "       'alegria', 'alegria', 'alegria', 'alegria', 'alegria', 'alegria',\n",
              "       'alegria', 'alegria', 'alegria', 'alegria', 'alegria', 'alegria',\n",
              "       'alegria', 'alegria', 'alegria', 'alegria', 'medo', 'medo', 'medo',\n",
              "       'medo', 'medo', 'medo', 'medo', 'medo', 'medo', 'medo', 'medo',\n",
              "       'medo', 'medo', 'medo', 'medo', 'medo', 'medo', 'medo', 'medo',\n",
              "       'medo', 'medo', 'medo', 'medo', 'medo', 'medo', 'medo', 'medo',\n",
              "       'medo', 'medo', 'medo', 'medo', 'medo', 'medo', 'medo', 'medo',\n",
              "       'medo', 'medo', 'medo', 'medo', 'medo', 'medo', 'medo', 'medo',\n",
              "       'medo', 'medo', 'medo', 'medo', 'medo', 'medo', 'medo', 'medo',\n",
              "       'medo', 'medo', 'medo', 'medo', 'medo', 'medo', 'medo', 'medo',\n",
              "       'medo', 'medo', 'medo', 'medo', 'medo', 'medo', 'medo', 'medo',\n",
              "       'medo', 'medo', 'medo', 'medo', 'medo', 'medo', 'medo', 'medo',\n",
              "       'medo', 'medo', 'medo', 'medo', 'medo', 'medo', 'medo', 'medo',\n",
              "       'medo'], dtype=object)"
            ]
          },
          "metadata": {},
          "execution_count": 53
        }
      ]
    },
    {
      "cell_type": "code",
      "metadata": {
        "id": "7dM1nOQtEo6p",
        "colab": {
          "base_uri": "https://localhost:8080/"
        },
        "outputId": "1a655f96-257c-4d65-8e25-f2ee486d313f"
      },
      "source": [
        "from sklearn.metrics import confusion_matrix, accuracy_score\n",
        "accuracy_score(respostas_reais, previsoes_final)"
      ],
      "execution_count": null,
      "outputs": [
        {
          "output_type": "execute_result",
          "data": {
            "text/plain": [
              "1.0"
            ]
          },
          "metadata": {},
          "execution_count": 54
        }
      ]
    },
    {
      "cell_type": "code",
      "metadata": {
        "id": "UuI8nXdAE-Nw",
        "colab": {
          "base_uri": "https://localhost:8080/"
        },
        "outputId": "66522c49-c00f-43e6-aac8-034e88261268"
      },
      "source": [
        "cm = confusion_matrix(respostas_reais, previsoes_final)\n",
        "cm"
      ],
      "execution_count": null,
      "outputs": [
        {
          "output_type": "execute_result",
          "data": {
            "text/plain": [
              "array([[112,   0],\n",
              "       [  0,  84]])"
            ]
          },
          "metadata": {},
          "execution_count": 55
        }
      ]
    },
    {
      "cell_type": "markdown",
      "metadata": {
        "id": "HmLjfVrZAE2T"
      },
      "source": [
        "## Avaliação na base de teste"
      ]
    },
    {
      "cell_type": "code",
      "metadata": {
        "id": "I3bLzl9gFVLz"
      },
      "source": [
        "base_dados_teste = pd.read_csv('/content/base_teste.txt', encoding = 'utf-8')"
      ],
      "execution_count": null,
      "outputs": []
    },
    {
      "cell_type": "code",
      "metadata": {
        "id": "SXregSmbFfgW",
        "colab": {
          "base_uri": "https://localhost:8080/",
          "height": 198
        },
        "outputId": "814d481c-89f3-4a76-8a02-ed6623f9694a"
      },
      "source": [
        "base_dados_teste.head()"
      ],
      "execution_count": null,
      "outputs": [
        {
          "output_type": "execute_result",
          "data": {
            "text/html": [
              "<div>\n",
              "<style scoped>\n",
              "    .dataframe tbody tr th:only-of-type {\n",
              "        vertical-align: middle;\n",
              "    }\n",
              "\n",
              "    .dataframe tbody tr th {\n",
              "        vertical-align: top;\n",
              "    }\n",
              "\n",
              "    .dataframe thead th {\n",
              "        text-align: right;\n",
              "    }\n",
              "</style>\n",
              "<table border=\"1\" class=\"dataframe\">\n",
              "  <thead>\n",
              "    <tr style=\"text-align: right;\">\n",
              "      <th></th>\n",
              "      <th>texto</th>\n",
              "      <th>emocao</th>\n",
              "    </tr>\n",
              "  </thead>\n",
              "  <tbody>\n",
              "    <tr>\n",
              "      <th>0</th>\n",
              "      <td>não precisei pagar o ingresso</td>\n",
              "      <td>alegria</td>\n",
              "    </tr>\n",
              "    <tr>\n",
              "      <th>1</th>\n",
              "      <td>se eu ajeitar tudo fica bem</td>\n",
              "      <td>alegria</td>\n",
              "    </tr>\n",
              "    <tr>\n",
              "      <th>2</th>\n",
              "      <td>minha fortuna ultrapassará a sua</td>\n",
              "      <td>alegria</td>\n",
              "    </tr>\n",
              "    <tr>\n",
              "      <th>3</th>\n",
              "      <td>sou muito afortunado</td>\n",
              "      <td>alegria</td>\n",
              "    </tr>\n",
              "    <tr>\n",
              "      <th>4</th>\n",
              "      <td>é benéfico para todos esta nova medida</td>\n",
              "      <td>alegria</td>\n",
              "    </tr>\n",
              "  </tbody>\n",
              "</table>\n",
              "</div>"
            ],
            "text/plain": [
              "                                    texto   emocao\n",
              "0           não precisei pagar o ingresso  alegria\n",
              "1             se eu ajeitar tudo fica bem  alegria\n",
              "2        minha fortuna ultrapassará a sua  alegria\n",
              "3                    sou muito afortunado  alegria\n",
              "4  é benéfico para todos esta nova medida  alegria"
            ]
          },
          "metadata": {
            "tags": []
          },
          "execution_count": 76
        }
      ]
    },
    {
      "cell_type": "code",
      "metadata": {
        "id": "qTvsYEmBFj6P"
      },
      "source": [
        "base_dados_teste['texto'] = base_dados_teste['texto'].apply(preprocessamento)"
      ],
      "execution_count": null,
      "outputs": []
    },
    {
      "cell_type": "code",
      "metadata": {
        "id": "QSP38LnPFrTl",
        "colab": {
          "base_uri": "https://localhost:8080/",
          "height": 198
        },
        "outputId": "b9afd58e-4bd6-4ce4-8380-4236e4bf5e45"
      },
      "source": [
        "base_dados_teste.head()"
      ],
      "execution_count": null,
      "outputs": [
        {
          "output_type": "execute_result",
          "data": {
            "text/html": [
              "<div>\n",
              "<style scoped>\n",
              "    .dataframe tbody tr th:only-of-type {\n",
              "        vertical-align: middle;\n",
              "    }\n",
              "\n",
              "    .dataframe tbody tr th {\n",
              "        vertical-align: top;\n",
              "    }\n",
              "\n",
              "    .dataframe thead th {\n",
              "        text-align: right;\n",
              "    }\n",
              "</style>\n",
              "<table border=\"1\" class=\"dataframe\">\n",
              "  <thead>\n",
              "    <tr style=\"text-align: right;\">\n",
              "      <th></th>\n",
              "      <th>texto</th>\n",
              "      <th>emocao</th>\n",
              "    </tr>\n",
              "  </thead>\n",
              "  <tbody>\n",
              "    <tr>\n",
              "      <th>0</th>\n",
              "      <td>precisar pagar o ingressar</td>\n",
              "      <td>alegria</td>\n",
              "    </tr>\n",
              "    <tr>\n",
              "      <th>1</th>\n",
              "      <td>ajeitar ficar</td>\n",
              "      <td>alegria</td>\n",
              "    </tr>\n",
              "    <tr>\n",
              "      <th>2</th>\n",
              "      <td>fortuna ultrapassar o suar</td>\n",
              "      <td>alegria</td>\n",
              "    </tr>\n",
              "    <tr>\n",
              "      <th>3</th>\n",
              "      <td>afortunar</td>\n",
              "      <td>alegria</td>\n",
              "    </tr>\n",
              "    <tr>\n",
              "      <th>4</th>\n",
              "      <td>benéfico parir medir</td>\n",
              "      <td>alegria</td>\n",
              "    </tr>\n",
              "  </tbody>\n",
              "</table>\n",
              "</div>"
            ],
            "text/plain": [
              "                        texto   emocao\n",
              "0  precisar pagar o ingressar  alegria\n",
              "1               ajeitar ficar  alegria\n",
              "2  fortuna ultrapassar o suar  alegria\n",
              "3                   afortunar  alegria\n",
              "4        benéfico parir medir  alegria"
            ]
          },
          "metadata": {
            "tags": []
          },
          "execution_count": 78
        }
      ]
    },
    {
      "cell_type": "code",
      "metadata": {
        "id": "AwmnAwRcF1sD"
      },
      "source": [
        "previsoes = []\n",
        "for texto in base_dados_teste['texto']:\n",
        "  #print(texto)\n",
        "  previsao = modelo_carregado(texto)\n",
        "  previsoes.append(previsao.cats)"
      ],
      "execution_count": null,
      "outputs": []
    },
    {
      "cell_type": "code",
      "metadata": {
        "id": "Y7MpSvS4F8xv"
      },
      "source": [
        "previsoes_final = []\n",
        "for previsao in previsoes:\n",
        "  if previsao['ALEGRIA'] > previsao['MEDO']:\n",
        "    previsoes_final.append('alegria')\n",
        "  else:\n",
        "    previsoes_final.append('medo')\n",
        "\n",
        "previsoes_final = np.array(previsoes_final)"
      ],
      "execution_count": null,
      "outputs": []
    },
    {
      "cell_type": "code",
      "metadata": {
        "id": "rgoCy1SXGEkw"
      },
      "source": [
        "respostas_reais = base_dados_teste['emocao'].values"
      ],
      "execution_count": null,
      "outputs": []
    },
    {
      "cell_type": "code",
      "metadata": {
        "id": "HbpqmtMlGJ0T",
        "colab": {
          "base_uri": "https://localhost:8080/",
          "height": 35
        },
        "outputId": "b02902a9-6fdb-44d7-f5da-05f00419e4d9"
      },
      "source": [
        "accuracy_score(respostas_reais, previsoes_final)"
      ],
      "execution_count": null,
      "outputs": [
        {
          "output_type": "execute_result",
          "data": {
            "text/plain": [
              "0.5714285714285714"
            ]
          },
          "metadata": {
            "tags": []
          },
          "execution_count": 82
        }
      ]
    },
    {
      "cell_type": "code",
      "metadata": {
        "id": "noYdfAJ0GQAF",
        "colab": {
          "base_uri": "https://localhost:8080/",
          "height": 52
        },
        "outputId": "b5f5e0db-1333-47b2-9170-3eb9d5c38415"
      },
      "source": [
        "cm = confusion_matrix(respostas_reais, previsoes_final)\n",
        "cm"
      ],
      "execution_count": null,
      "outputs": [
        {
          "output_type": "execute_result",
          "data": {
            "text/plain": [
              "array([[38, 10],\n",
              "       [26, 10]])"
            ]
          },
          "metadata": {
            "tags": []
          },
          "execution_count": 83
        }
      ]
    }
  ]
}