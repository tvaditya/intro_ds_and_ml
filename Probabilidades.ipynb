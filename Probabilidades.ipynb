{
  "cells": [
    {
      "cell_type": "markdown",
      "metadata": {
        "id": "view-in-github",
        "colab_type": "text"
      },
      "source": [
        "<a href=\"https://colab.research.google.com/github/tvaditya/intro_ds_and_ml/blob/main/Probabilidades.ipynb\" target=\"_parent\"><img src=\"https://colab.research.google.com/assets/colab-badge.svg\" alt=\"Open In Colab\"/></a>"
      ]
    },
    {
      "cell_type": "markdown",
      "id": "679ca162",
      "metadata": {
        "id": "679ca162"
      },
      "source": [
        "# Probabilidades\n",
        "\n",
        "Como medir a possbilidade de um evento qualquer ocorrer? É isso que a probabilidade responde.\n",
        "\n",
        "A probabilidade de um evento ou da possibilidade de algo ser verdade é a parte da matemática que descreve isso numericamente. Sendo este um número de 0 a 1 que indica o quão provável é a ocorrência do evento.\n",
        "\n",
        "Sendo assim, podemos dizer que:\n",
        "\n",
        "- Probabilidades variam de 0 a 1, de impossível ao certamente possível.\n",
        "- As probabilidades somam 1\n",
        "- Uma distribuição é uma função que relaciona uma entrada x com uma probabilidade p(x), para valores contínuos. (PDF)\n",
        "- Uma função de massa de probabilidades é quando temos o caso discreto. (PMF)"
      ]
    },
    {
      "cell_type": "markdown",
      "id": "b347f0d6",
      "metadata": {
        "id": "b347f0d6"
      },
      "source": [
        "## Distribuições de probabilidades\n",
        "\n",
        "Existem inumeras distribuições de probabilidades conhecidas, destas vamos falar aqui das mais famosas.\n",
        "\n",
        "- Distribuição uniforme\n",
        "    https://pt.wikipedia.org/wiki/Distribuição_uniforme\n",
        "    \n",
        "- Distribuição normal (Gaussiana)\n",
        "    https://pt.wikipedia.org/wiki/Distribuição_normal\n",
        "    \n",
        "- Distribuição binomial\n",
        "    https://pt.wikipedia.org/wiki/Distribuição_binomial\n",
        "    \n",
        "- Distribuição de Poisson\n",
        "    https://pt.wikipedia.org/wiki/Distribuição_de_Poisson\n",
        "    \n",
        "- Distribuição exponencial\n",
        "    https://pt.wikipedia.org/wiki/Distribuição_exponencial\n",
        "    \n",
        "- Distribuição de T-student\n",
        "    https://pt.wikipedia.org/wiki/Distribuição_t_de_Student\n",
        "    \n",
        "- Distribuição Log-Normal\n",
        "    https://pt.wikipedia.org/wiki/Distribuição_log-normal\n",
        "    \n",
        "- Distribuição Skew-Normal\n",
        "    https://en.wikipedia.org/wiki/Skew_normal_distribution\n",
        "\n",
        "Vamos entender melhor sobre eles e como utilizar."
      ]
    },
    {
      "cell_type": "code",
      "execution_count": 1,
      "id": "2e40e374",
      "metadata": {
        "id": "2e40e374"
      },
      "outputs": [],
      "source": [
        "# !pip install matplotlib\n",
        "import scipy.stats as st\n",
        "import matplotlib.pyplot as plt\n",
        "import numpy as np"
      ]
    },
    {
      "cell_type": "code",
      "execution_count": 2,
      "id": "be985a00",
      "metadata": {
        "id": "be985a00"
      },
      "outputs": [],
      "source": [
        "xs = np.linspace(-5, 10, 2000)\n",
        "ks = np.arange(50)"
      ]
    },
    {
      "cell_type": "code",
      "execution_count": 3,
      "id": "e80b83be",
      "metadata": {
        "id": "e80b83be",
        "outputId": "b724cea4-4ac6-4554-ca9e-a0570a32deec",
        "colab": {
          "base_uri": "https://localhost:8080/"
        }
      },
      "outputs": [
        {
          "output_type": "execute_result",
          "data": {
            "text/plain": [
              "array([-5.        , -4.99249625, -4.9849925 , ...,  9.9849925 ,\n",
              "        9.99249625, 10.        ])"
            ]
          },
          "metadata": {},
          "execution_count": 3
        }
      ],
      "source": [
        "xs"
      ]
    },
    {
      "cell_type": "code",
      "execution_count": 4,
      "id": "a2ca70a2",
      "metadata": {
        "id": "a2ca70a2",
        "outputId": "49ba5e57-6342-43d4-b317-96bce0675d50",
        "colab": {
          "base_uri": "https://localhost:8080/"
        }
      },
      "outputs": [
        {
          "output_type": "execute_result",
          "data": {
            "text/plain": [
              "array([ 0,  1,  2,  3,  4,  5,  6,  7,  8,  9, 10, 11, 12, 13, 14, 15, 16,\n",
              "       17, 18, 19, 20, 21, 22, 23, 24, 25, 26, 27, 28, 29, 30, 31, 32, 33,\n",
              "       34, 35, 36, 37, 38, 39, 40, 41, 42, 43, 44, 45, 46, 47, 48, 49])"
            ]
          },
          "metadata": {},
          "execution_count": 4
        }
      ],
      "source": [
        "ks"
      ]
    },
    {
      "cell_type": "markdown",
      "id": "f724f43b",
      "metadata": {
        "id": "f724f43b"
      },
      "source": [
        "## Distribuicões Discretas\n",
        "\n",
        "Vamos olhar o PMF da binomial e Poisson"
      ]
    },
    {
      "cell_type": "code",
      "execution_count": 5,
      "id": "169febbc",
      "metadata": {
        "id": "169febbc",
        "outputId": "d560c8b6-b9a9-446d-e121-5c4bbe652fdb",
        "colab": {
          "base_uri": "https://localhost:8080/",
          "height": 300
        }
      },
      "outputs": [
        {
          "output_type": "stream",
          "name": "stdout",
          "text": [
            "0.09851840993941652 é a probabilidade de ter 10 eventos 50 tentativas\n",
            "0.00022087848072126846 é a probabilidade de aumentar para 50\n"
          ]
        },
        {
          "output_type": "display_data",
          "data": {
            "image/png": "[encoded data removed]",
            "text/plain": [
              "<Figure size 432x288 with 1 Axes>"
            ]
          },
          "metadata": {
            "needs_background": "light"
          }
        }
      ],
      "source": [
        "pmf_binom = st.binom.pmf(ks, 50, 0.25)\n",
        "plt.bar(ks, pmf_binom, label=\"Binomial\", alpha=0.8)\n",
        "\n",
        "pmf_poisson = st.poisson.pmf(ks, 30)\n",
        "plt.bar(ks, pmf_poisson, label=\"Poisson\", alpha=0.8)\n",
        "plt.legend();\n",
        "\n",
        "\n",
        "print(f\"{st.binom.pmf(10, 50, 0.25)} é a probabilidade de ter 10 eventos 50 tentativas\")\n",
        "         \n",
        "       \n",
        "print(f\"{st.poisson.pmf(50, 30)} é a probabilidade de aumentar para 50\")"
      ]
    },
    {
      "cell_type": "code",
      "source": [
        "# Teste as pmf's com outros valores\n",
        "\n"
      ],
      "metadata": {
        "id": "H3KPqWt3jyZu"
      },
      "id": "H3KPqWt3jyZu",
      "execution_count": null,
      "outputs": []
    },
    {
      "cell_type": "markdown",
      "source": [
        "# Explica os resultados e as comparações"
      ],
      "metadata": {
        "id": "LBaPBnVUj7qJ"
      },
      "id": "LBaPBnVUj7qJ"
    },
    {
      "cell_type": "markdown",
      "id": "a1c5095d",
      "metadata": {
        "id": "a1c5095d"
      },
      "source": [
        "## Distribuiçoes contínuas\n",
        "\n",
        "Vamos desenhar o PDF das distribuiçoes contínuas"
      ]
    },
    {
      "cell_type": "code",
      "execution_count": 21,
      "id": "14a4f2c0",
      "metadata": {
        "id": "14a4f2c0",
        "outputId": "7e112562-2133-4fba-8482-4a243f16d6be",
        "colab": {
          "base_uri": "https://localhost:8080/",
          "height": 279
        }
      },
      "outputs": [
        {
          "output_type": "display_data",
          "data": {
            "image/png": "[encoded data removed]",
            "text/plain": [
              "<Figure size 432x288 with 1 Axes>"
            ]
          },
          "metadata": {
            "needs_background": "light"
          }
        }
      ],
      "source": [
        "# pdf_uniform = st.uniform.pdf(xs, -4, 10)\n",
        "# plt.plot(xs, pdf_uniform, label=\"Uniform(-4,6)\")\n",
        "\n",
        "# pdf_normal = st.norm.pdf(xs, loc=5, scale=2)\n",
        "# plt.plot(xs, pdf_normal, label=\"Normal(5, 2)\")\n",
        "\n",
        "pdf_exponential = st.expon.pdf(xs, loc=-2, scale=2)\n",
        "plt.plot(xs, pdf_exponential, label=\"Exponential(0.5)\")\n",
        "\n",
        "# pdf_studentt = st.t.pdf(xs, 1)\n",
        "# plt.plot(xs, pdf_studentt, label=\"Student-t(1)\")\n",
        "\n",
        "# pdf_lognorm = st.lognorm.pdf(xs, 1)\n",
        "# plt.plot(xs, pdf_lognorm, label=\"Lognorm(1)\")\n",
        "\n",
        "# pdf_skewnorm = st.skewnorm.pdf(xs, -6)\n",
        "# plt.plot(xs, pdf_skewnorm, label=\"Skewnorm(5)\")\n",
        "\n",
        "plt.legend()\n",
        "plt.ylabel(\"Prob\")\n",
        "plt.xlabel(\"x\");"
      ]
    },
    {
      "cell_type": "markdown",
      "id": "eb117143",
      "metadata": {
        "id": "eb117143"
      },
      "source": [
        "## Funcões de probabilidade e distribuiçoes discretas\n",
        "\n",
        "<p>Funcão densidade de probabilidade (PDF) - A probabilidade instantânea para um certo valor </p>\n",
        "<p>Função cumulativa de densidade (CDF) - A probabilidade total de de menos infinito até um valor, probabilidade acumualada.</p>\n",
        "Função de sobrevivencia - A probabilidade total de um vento até o infinito"
      ]
    },
    {
      "cell_type": "code",
      "execution_count": 25,
      "id": "96054e4d",
      "metadata": {
        "id": "96054e4d",
        "outputId": "71de595f-271e-4f46-e9df-9e1bb4239a9a",
        "colab": {
          "base_uri": "https://localhost:8080/",
          "height": 265
        }
      },
      "outputs": [
        {
          "output_type": "display_data",
          "data": {
            "image/png": "[encoded data removed]",
            "text/plain": [
              "<Figure size 432x288 with 1 Axes>"
            ]
          },
          "metadata": {
            "needs_background": "light"
          }
        }
      ],
      "source": [
        "cdf_binom = st.binom.cdf(ks, 50, 0.25)\n",
        "plt.bar(ks, cdf_binom, label=\"Binomial\", alpha=0.9)\n",
        "plt.legend();\n"
      ]
    },
    {
      "cell_type": "code",
      "execution_count": 26,
      "id": "97fb119d",
      "metadata": {
        "id": "97fb119d",
        "outputId": "96fc5008-dda7-4f1f-f0df-fb737fc3dd2a",
        "colab": {
          "base_uri": "https://localhost:8080/",
          "height": 265
        }
      },
      "outputs": [
        {
          "output_type": "display_data",
          "data": {
            "image/png": "[encoded data removed]",
            "text/plain": [
              "<Figure size 432x288 with 1 Axes>"
            ]
          },
          "metadata": {
            "needs_background": "light"
          }
        }
      ],
      "source": [
        "cdf_poisson = st.poisson.cdf(ks, 30)\n",
        "plt.bar(ks, cdf_poisson, label=\"Poisson\", alpha=0.8)\n",
        "plt.legend();"
      ]
    },
    {
      "cell_type": "markdown",
      "id": "bbb7c8a3",
      "metadata": {
        "id": "bbb7c8a3"
      },
      "source": [
        "Por fim, compare com os CDFs , os resultados que obtiveram"
      ]
    },
    {
      "cell_type": "code",
      "source": [
        ""
      ],
      "metadata": {
        "id": "4zUW1Q-FkN-r"
      },
      "id": "4zUW1Q-FkN-r",
      "execution_count": null,
      "outputs": []
    }
  ],
  "metadata": {
    "kernelspec": {
      "display_name": "Python 3 (ipykernel)",
      "language": "python",
      "name": "python3"
    },
    "language_info": {
      "codemirror_mode": {
        "name": "ipython",
        "version": 3
      },
      "file_extension": ".py",
      "mimetype": "text/x-python",
      "name": "python",
      "nbconvert_exporter": "python",
      "pygments_lexer": "ipython3",
      "version": "3.9.10"
    },
    "colab": {
      "name": "Probabilidades.ipynb",
      "provenance": [],
      "collapsed_sections": [],
      "include_colab_link": true
    }
  },
  "nbformat": 4,
  "nbformat_minor": 5
}