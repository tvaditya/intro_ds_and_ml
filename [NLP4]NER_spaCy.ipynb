{
  "nbformat": 4,
  "nbformat_minor": 0,
  "metadata": {
    "colab": {
      "name": "[NLP4]NER_spaCy.ipynb",
      "provenance": [],
      "collapsed_sections": [],
      "include_colab_link": true
    },
    "kernelspec": {
      "name": "python3",
      "display_name": "Python 3"
    }
  },
  "cells": [
    {
      "cell_type": "markdown",
      "metadata": {
        "id": "view-in-github",
        "colab_type": "text"
      },
      "source": [
        "<a href=\"https://colab.research.google.com/github/tvaditya/intro_ds_and_ml/blob/main/%5BNLP4%5DNER_spaCy.ipynb\" target=\"_parent\"><img src=\"https://colab.research.google.com/assets/colab-badge.svg\" alt=\"Open In Colab\"/></a>"
      ]
    },
    {
      "cell_type": "markdown",
      "metadata": {
        "id": "6gdXm-7b_5S9"
      },
      "source": [
        "<font color='#2ecc71'> Intro to Information Extraction<br>NER using spaCy<br>pipeline optimized for CPU. Components: tok2vec, tagger, parser, senter, ner, attribute_ruler, lemmatizer"
      ]
    },
    {
      "cell_type": "code",
      "metadata": {
        "id": "dpoJzfG0C_No"
      },
      "source": [
        "import spacy\n",
        "from spacy import displacy\n",
        "from collections import Counter\n",
        "import en_core_web_sm\n",
        "nlp = en_core_web_sm.load()\n"
      ],
      "execution_count": 12,
      "outputs": []
    },
    {
      "cell_type": "markdown",
      "metadata": {
        "id": "Z22HB0Wd7KUW"
      },
      "source": [
        "Nintendo Q3 profit rises 6% on Switch sales but misses estimates<br><font color='#2ecc71'>Nintendo Co Ltd 7974.T said on Thursday third-quarter operating profit rose 6%,driven by Switch console sales in the year-end shopping season, but the earnings fell below market expectations.Profit for the October-December quarter was 168.7 billion yen ($1.54 billion) versus 158.6 billion yen a year earlier.That compared with an average forecast of 175 billion yen from 10 analyst estimates compiled by Refinitiv.<br>[NASDAQ](https://www.nasdaq.com/articles/nintendo-q3-profit-rises-6-on-switch-sales-but-misses-estimates-2020-01-30)"
      ]
    },
    {
      "cell_type": "markdown",
      "metadata": {
        "id": "bwlHR_gFu1iy"
      },
      "source": [
        "The standard way to access entity annotations is the doc.ents property, which produces a sequence of Span objects. The entity type is accessible either as a hash value or as a string, using the attributes ent.label and ent.label_. The Span object acts as a sequence of tokens, so you can iterate over the entity or index into it."
      ]
    },
    {
      "cell_type": "code",
      "metadata": {
        "colab": {
          "base_uri": "https://localhost:8080/"
        },
        "id": "7VeAUZ9wDCmJ",
        "outputId": "7375961e-6527-4828-9f70-3024d736dfaf"
      },
      "source": [
        "doc = nlp('Nintendo Co Ltd 7974.T said on Thursday third-quarter operating profit rose 6%,driven by Switch console sales in the year-end shopping season, but the earnings fell below market expectations.Profit for the October-December quarter was 168.7 billion yen ($1.54 billion) versus 158.6 billion yen a year earlier.That compared with an average forecast of 175 billion yen from 10 analyst estimates compiled by Refinitiv.')\n",
        "ner=[(X.text, X.label_) for X in doc.ents] #Returns a tuple of named entity Span objects\n",
        "ner"
      ],
      "execution_count": 13,
      "outputs": [
        {
          "output_type": "execute_result",
          "data": {
            "text/plain": [
              "[('Nintendo Co Ltd', 'ORG'),\n",
              " ('Thursday third-quarter', 'DATE'),\n",
              " ('6%,driven', 'CARDINAL'),\n",
              " ('the year-end shopping season', 'DATE'),\n",
              " ('the October-December quarter', 'DATE'),\n",
              " ('168.7 billion yen', 'MONEY'),\n",
              " ('$1.54 billion', 'MONEY'),\n",
              " ('158.6 billion yen', 'MONEY'),\n",
              " ('a year earlier', 'DATE'),\n",
              " ('175 billion yen', 'MONEY'),\n",
              " ('10', 'CARDINAL'),\n",
              " ('Refinitiv', 'PERSON')]"
            ]
          },
          "metadata": {},
          "execution_count": 13
        }
      ]
    },
    {
      "cell_type": "markdown",
      "metadata": {
        "id": "3QxFG15FsJre"
      },
      "source": [
        "Token methods, specifically .label_ and .label <br>Tags are accessible through the .label_"
      ]
    },
    {
      "cell_type": "markdown",
      "metadata": {
        "id": "Eq10FDoQ54nz"
      },
      "source": [
        "<font color='#2ecc71'>\n",
        "*   ORG: Companies, agencies, institutions, etc.<br>\n",
        "*   Cardinal Number: a number that says how many of something there are<br>\n",
        "*  <font color='pink'> Incorrect: Refinitiv is not PERSONl it is ORG; Refinitiv is a global provider of financial market data and infrastructure<br> \n",
        "\n",
        "[spaCy annotation](https://spacy.io/api/annotation)\n",
        "\n",
        "\n"
      ]
    },
    {
      "cell_type": "code",
      "metadata": {
        "id": "DSv4p02pDI-6",
        "colab": {
          "base_uri": "https://localhost:8080/"
        },
        "outputId": "263576c3-e5dd-4db2-a7ca-7e085e881e2d"
      },
      "source": [
        "tag=[(X, X.ent_iob_, X.ent_type_) for X in doc]\n",
        "tag"
      ],
      "execution_count": 14,
      "outputs": [
        {
          "output_type": "execute_result",
          "data": {
            "text/plain": [
              "[(Nintendo, 'B', 'ORG'),\n",
              " (Co, 'I', 'ORG'),\n",
              " (Ltd, 'I', 'ORG'),\n",
              " (7974.T, 'O', ''),\n",
              " (said, 'O', ''),\n",
              " (on, 'O', ''),\n",
              " (Thursday, 'B', 'DATE'),\n",
              " (third, 'I', 'DATE'),\n",
              " (-, 'I', 'DATE'),\n",
              " (quarter, 'I', 'DATE'),\n",
              " (operating, 'O', ''),\n",
              " (profit, 'O', ''),\n",
              " (rose, 'O', ''),\n",
              " (6%,driven, 'B', 'CARDINAL'),\n",
              " (by, 'O', ''),\n",
              " (Switch, 'O', ''),\n",
              " (console, 'O', ''),\n",
              " (sales, 'O', ''),\n",
              " (in, 'O', ''),\n",
              " (the, 'B', 'DATE'),\n",
              " (year, 'I', 'DATE'),\n",
              " (-, 'I', 'DATE'),\n",
              " (end, 'I', 'DATE'),\n",
              " (shopping, 'I', 'DATE'),\n",
              " (season, 'I', 'DATE'),\n",
              " (,, 'O', ''),\n",
              " (but, 'O', ''),\n",
              " (the, 'O', ''),\n",
              " (earnings, 'O', ''),\n",
              " (fell, 'O', ''),\n",
              " (below, 'O', ''),\n",
              " (market, 'O', ''),\n",
              " (expectations, 'O', ''),\n",
              " (., 'O', ''),\n",
              " (Profit, 'O', ''),\n",
              " (for, 'O', ''),\n",
              " (the, 'B', 'DATE'),\n",
              " (October, 'I', 'DATE'),\n",
              " (-, 'I', 'DATE'),\n",
              " (December, 'I', 'DATE'),\n",
              " (quarter, 'I', 'DATE'),\n",
              " (was, 'O', ''),\n",
              " (168.7, 'B', 'MONEY'),\n",
              " (billion, 'I', 'MONEY'),\n",
              " (yen, 'I', 'MONEY'),\n",
              " ((, 'O', ''),\n",
              " ($, 'B', 'MONEY'),\n",
              " (1.54, 'I', 'MONEY'),\n",
              " (billion, 'I', 'MONEY'),\n",
              " (), 'O', ''),\n",
              " (versus, 'O', ''),\n",
              " (158.6, 'B', 'MONEY'),\n",
              " (billion, 'I', 'MONEY'),\n",
              " (yen, 'I', 'MONEY'),\n",
              " (a, 'B', 'DATE'),\n",
              " (year, 'I', 'DATE'),\n",
              " (earlier, 'I', 'DATE'),\n",
              " (., 'O', ''),\n",
              " (That, 'O', ''),\n",
              " (compared, 'O', ''),\n",
              " (with, 'O', ''),\n",
              " (an, 'O', ''),\n",
              " (average, 'O', ''),\n",
              " (forecast, 'O', ''),\n",
              " (of, 'O', ''),\n",
              " (175, 'B', 'MONEY'),\n",
              " (billion, 'I', 'MONEY'),\n",
              " (yen, 'I', 'MONEY'),\n",
              " (from, 'O', ''),\n",
              " (10, 'B', 'CARDINAL'),\n",
              " (analyst, 'O', ''),\n",
              " (estimates, 'O', ''),\n",
              " (compiled, 'O', ''),\n",
              " (by, 'O', ''),\n",
              " (Refinitiv, 'B', 'PERSON'),\n",
              " (., 'O', '')]"
            ]
          },
          "metadata": {},
          "execution_count": 14
        }
      ]
    },
    {
      "cell_type": "markdown",
      "metadata": {
        "id": "ZeoP-r9AxY7F"
      },
      "source": [
        "Attributes: \n",
        "Named entity type.\n",
        "<br> IOB code of named entity tag. “B” means the token begins an entity, “I” means it is inside an entity, “O” means it is outside an entity, and \"\" means no entity tag is set."
      ]
    },
    {
      "cell_type": "markdown",
      "metadata": {
        "id": "AXnp-GovnSS2"
      },
      "source": [
        "<font color='#2ecc71'> Add Refinitiv as an ORG<br>Another example, is the political party Labour<br>The Labour Party is a centre-left political party in the United Kingdom that has been described as an alliance of social democrats, democratic socialists and trade unionists. In all general elections since 1922, Labour has been either the governing party or the Official Opposition. "
      ]
    },
    {
      "cell_type": "code",
      "metadata": {
        "colab": {
          "base_uri": "https://localhost:8080/"
        },
        "id": "asxYVu27DKfR",
        "outputId": "b5a1f8a7-547b-4f58-ae13-0ab478b98ad9"
      },
      "source": [
        "doc = nlp('The Labour Party is a centre-left political party in the United Kingdom that has been described as an alliance of social democrats, democratic socialists and trade unionists. In all general elections since 1922, Labour has been either the governing party or the Official Opposition. ')\n",
        "ner=[(X.text, X.label_) for X in doc.ents]\n",
        "ner"
      ],
      "execution_count": 15,
      "outputs": [
        {
          "output_type": "execute_result",
          "data": {
            "text/plain": [
              "[('The Labour Party', 'ORG'),\n",
              " ('the United Kingdom', 'GPE'),\n",
              " ('social democrats', 'NORP'),\n",
              " ('democratic socialists', 'NORP'),\n",
              " ('1922', 'DATE'),\n",
              " ('Labour', 'ORG'),\n",
              " ('the Official Opposition', 'ORG')]"
            ]
          },
          "metadata": {},
          "execution_count": 15
        }
      ]
    },
    {
      "cell_type": "code",
      "metadata": {
        "colab": {
          "base_uri": "https://localhost:8080/"
        },
        "id": "GbeP6Q_OoTUp",
        "outputId": "4e180268-3c70-468d-cf40-40490bee4922"
      },
      "source": [
        "doc = nlp('Labour is a centre-left political party in the United Kingdom that has been described as an alliance of social democrats, democratic socialists and trade unionists. In all general elections since 1922, Labour has been either the governing party or the Official Opposition. ')\n",
        "ner=[(X.text, X.label_) for X in doc.ents]\n",
        "ner"
      ],
      "execution_count": 16,
      "outputs": [
        {
          "output_type": "execute_result",
          "data": {
            "text/plain": [
              "[('the United Kingdom', 'GPE'),\n",
              " ('social democrats', 'NORP'),\n",
              " ('democratic socialists', 'NORP'),\n",
              " ('1922', 'DATE'),\n",
              " ('Labour', 'ORG'),\n",
              " ('the Official Opposition', 'ORG')]"
            ]
          },
          "metadata": {},
          "execution_count": 16
        }
      ]
    },
    {
      "cell_type": "markdown",
      "metadata": {
        "id": "aqnZ9f4wEL5i"
      },
      "source": [
        "<font color='#00d2d3'><br>BeautifulSoup: Scrape html page<br>html5lib: Parse<br>convert to text<br>\n"
      ]
    },
    {
      "cell_type": "code",
      "metadata": {
        "id": "L1NNVNwBCxUB"
      },
      "source": [
        "\n"
      ],
      "execution_count": 16,
      "outputs": []
    },
    {
      "cell_type": "markdown",
      "metadata": {
        "id": "826P0U19HaUf"
      },
      "source": [
        " get_text - extract all the text from a page"
      ]
    },
    {
      "cell_type": "code",
      "metadata": {
        "id": "yazc3MlvHQhP"
      },
      "source": [
        "\n"
      ],
      "execution_count": 16,
      "outputs": []
    },
    {
      "cell_type": "code",
      "metadata": {
        "id": "sf4wxiVQDWPc"
      },
      "source": [
        ""
      ],
      "execution_count": 16,
      "outputs": []
    },
    {
      "cell_type": "code",
      "metadata": {
        "id": "75f824ZmDY_O"
      },
      "source": [
        ""
      ],
      "execution_count": 16,
      "outputs": []
    },
    {
      "cell_type": "code",
      "metadata": {
        "id": "sXhhavstDgbl"
      },
      "source": [
        ""
      ],
      "execution_count": 16,
      "outputs": []
    },
    {
      "cell_type": "markdown",
      "metadata": {
        "id": "g8lL9JUquQ3G"
      },
      "source": [
        "Using spaCy’s built-in displaCy visualizer"
      ]
    },
    {
      "cell_type": "code",
      "metadata": {
        "id": "1vio1PPzz03D"
      },
      "source": [
        ""
      ],
      "execution_count": 16,
      "outputs": []
    },
    {
      "cell_type": "code",
      "metadata": {
        "id": "ugyuowNdDd8s"
      },
      "source": [
        ""
      ],
      "execution_count": 16,
      "outputs": []
    },
    {
      "cell_type": "code",
      "metadata": {
        "id": "mom5rlTZDooz"
      },
      "source": [
        ""
      ],
      "execution_count": 16,
      "outputs": []
    }
  ]
}